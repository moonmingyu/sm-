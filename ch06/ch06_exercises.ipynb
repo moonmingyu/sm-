{
  "nbformat": 4,
  "nbformat_minor": 0,
  "metadata": {
    "colab": {
      "name": "ch06_exercises.ipynb",
      "provenance": [],
      "collapsed_sections": [],
      "toc_visible": true,
      "include_colab_link": true
    },
    "kernelspec": {
      "name": "python3",
      "display_name": "Python 3"
    }
  },
  "cells": [
    {
      "cell_type": "markdown",
      "metadata": {
        "id": "view-in-github",
        "colab_type": "text"
      },
      "source": [
        "<a href=\"https://colab.research.google.com/github/moonmingyu/sm-/blob/master/ch06/ch06_exercises.ipynb\" target=\"_parent\"><img src=\"https://colab.research.google.com/assets/colab-badge.svg\" alt=\"Open In Colab\"/></a>"
      ]
    },
    {
      "cell_type": "markdown",
      "metadata": {
        "id": "1PI4PW0pzhTM",
        "colab_type": "text"
      },
      "source": [
        "#**06-1 내가 프로그램을 만들 수 있을까?**"
      ]
    },
    {
      "cell_type": "code",
      "metadata": {
        "id": "n8vQepcGze7n",
        "colab_type": "code",
        "outputId": "9846b797-f414-48cb-8e00-a3c5a1c3d857",
        "colab": {
          "base_uri": "https://localhost:8080/",
          "height": 35
        }
      },
      "source": [
        "def GuGu(n):\n",
        "    result = []\n",
        "    i = 1\n",
        "    while i < 10:\n",
        "        result.append(n * i)\n",
        "        i = i + 1\n",
        "    return result\n",
        "\n",
        "print(GuGu(2))"
      ],
      "execution_count": 0,
      "outputs": [
        {
          "output_type": "stream",
          "text": [
            "[2, 4, 6, 8, 10, 12, 14, 16, 18]\n"
          ],
          "name": "stdout"
        }
      ]
    },
    {
      "cell_type": "code",
      "metadata": {
        "id": "4Dwer7RY0T5X",
        "colab_type": "code",
        "outputId": "94b601c9-fbdf-4491-d4bd-03ff72a1ae6e",
        "colab": {
          "base_uri": "https://localhost:8080/",
          "height": 35
        }
      },
      "source": [
        "def GuGu(n):\n",
        "  result = []\n",
        "  for i in range(1,10):\n",
        "    result.append(i*n)\n",
        "  return result\n",
        "\n",
        "print(GuGu(2))"
      ],
      "execution_count": 0,
      "outputs": [
        {
          "output_type": "stream",
          "text": [
            "[2, 4, 6, 8, 10, 12, 14, 16, 18]\n"
          ],
          "name": "stdout"
        }
      ]
    },
    {
      "cell_type": "code",
      "metadata": {
        "id": "NTatCAJF1pnt",
        "colab_type": "code",
        "outputId": "998ae974-71fa-495a-82e2-fbc5c01882ce",
        "colab": {
          "base_uri": "https://localhost:8080/",
          "height": 35
        }
      },
      "source": [
        "def GuGu(n):\n",
        "  return list(map(lambda x : x*n, range(1,10)))\n",
        "print(GuGu(2))"
      ],
      "execution_count": 0,
      "outputs": [
        {
          "output_type": "stream",
          "text": [
            "[2, 4, 6, 8, 10, 12, 14, 16, 18]\n"
          ],
          "name": "stdout"
        }
      ]
    },
    {
      "cell_type": "code",
      "metadata": {
        "id": "0yj4QGQ82M2A",
        "colab_type": "code",
        "outputId": "8fa35414-a25c-47a5-862e-d60102972ed7",
        "colab": {
          "base_uri": "https://localhost:8080/",
          "height": 35
        }
      },
      "source": [
        "def GuGu(n):\n",
        "  print([i*n for i in range(1,10)])\n",
        "GuGu(2)"
      ],
      "execution_count": 0,
      "outputs": [
        {
          "output_type": "stream",
          "text": [
            "[2, 4, 6, 8, 10, 12, 14, 16, 18]\n"
          ],
          "name": "stdout"
        }
      ]
    },
    {
      "cell_type": "markdown",
      "metadata": {
        "id": "rd9FREXF29ZN",
        "colab_type": "text"
      },
      "source": [
        "#**06-2 3과 5의 배수 합하기**"
      ]
    },
    {
      "cell_type": "code",
      "metadata": {
        "id": "s4zHFpu03uNs",
        "colab_type": "code",
        "outputId": "abe8931e-4733-4f1b-f5ea-af6063cae275",
        "colab": {
          "base_uri": "https://localhost:8080/",
          "height": 35
        }
      },
      "source": [
        "result = 0\n",
        "for n in range(1, 1000):\n",
        "    if n % 3 == 0 or n % 5 == 0: \n",
        "        result += n\n",
        "print(result)"
      ],
      "execution_count": 0,
      "outputs": [
        {
          "output_type": "stream",
          "text": [
            "233168\n"
          ],
          "name": "stdout"
        }
      ]
    },
    {
      "cell_type": "code",
      "metadata": {
        "id": "UQPA1GK02bCU",
        "colab_type": "code",
        "outputId": "3e9f50d3-5893-441d-b286-7a4762b78e8b",
        "colab": {
          "base_uri": "https://localhost:8080/",
          "height": 35
        }
      },
      "source": [
        "result = 0\n",
        "i = 1\n",
        "while i<1000:\n",
        "   if i % 3 == 0 or i % 5 == 0: \n",
        "      result += i\n",
        "   i+=1\n",
        "print(result)"
      ],
      "execution_count": 0,
      "outputs": [
        {
          "output_type": "stream",
          "text": [
            "233168\n"
          ],
          "name": "stdout"
        }
      ]
    },
    {
      "cell_type": "code",
      "metadata": {
        "id": "l4YKXyN831Pc",
        "colab_type": "code",
        "outputId": "9d017add-0f05-4453-e59c-ceafd942e4c1",
        "colab": {
          "base_uri": "https://localhost:8080/",
          "height": 35
        }
      },
      "source": [
        "sum([i for i in range(1,1000) if i%3==0 or i%5==0])"
      ],
      "execution_count": 0,
      "outputs": [
        {
          "output_type": "execute_result",
          "data": {
            "text/plain": [
              "233168"
            ]
          },
          "metadata": {
            "tags": []
          },
          "execution_count": 23
        }
      ]
    },
    {
      "cell_type": "code",
      "metadata": {
        "id": "T3XrvSq_5IDt",
        "colab_type": "code",
        "outputId": "5b0dc217-df4f-4e2f-a21a-0ff2e3ac52dd",
        "colab": {
          "base_uri": "https://localhost:8080/",
          "height": 35
        }
      },
      "source": [
        "sum(list(filter(lambda i: i%3==0 or i%5==0, range(1,1000)))) #filter로 i%3==0 or i%5==0일때만 걸러내서 저장한후 합한다"
      ],
      "execution_count": 0,
      "outputs": [
        {
          "output_type": "execute_result",
          "data": {
            "text/plain": [
              "233168"
            ]
          },
          "metadata": {
            "tags": []
          },
          "execution_count": 32
        }
      ]
    },
    {
      "cell_type": "markdown",
      "metadata": {
        "id": "BpSRIMoOEdSM",
        "colab_type": "text"
      },
      "source": [
        "#**06-3 게시판 페이징하기**"
      ]
    },
    {
      "cell_type": "markdown",
      "metadata": {
        "id": "_7nsssZBFEOb",
        "colab_type": "text"
      },
      "source": [
        "m = 게시물 총 건수  n = 페이지당 보여줄 게시물 수"
      ]
    },
    {
      "cell_type": "code",
      "metadata": {
        "id": "jls4dpSjEc90",
        "colab_type": "code",
        "outputId": "9adf427c-b343-49f4-c8d5-49930c7c638a",
        "colab": {
          "base_uri": "https://localhost:8080/",
          "height": 89
        }
      },
      "source": [
        "def getTotalPage(m, n):\n",
        "    if m % n == 0:\n",
        "        return m // n\n",
        "    else:\n",
        "        return m // n + 1\n",
        "\n",
        "print(getTotalPage(5, 10))\n",
        "print(getTotalPage(15, 10))\n",
        "print(getTotalPage(25, 10))\n",
        "print(getTotalPage(30, 10))"
      ],
      "execution_count": 0,
      "outputs": [
        {
          "output_type": "stream",
          "text": [
            "1\n",
            "2\n",
            "3\n",
            "3\n"
          ],
          "name": "stdout"
        }
      ]
    },
    {
      "cell_type": "code",
      "metadata": {
        "id": "QXkQ3JIPDNEU",
        "colab_type": "code",
        "outputId": "756c6d2c-2635-4819-f930-910332f43781",
        "colab": {
          "base_uri": "https://localhost:8080/",
          "height": 89
        }
      },
      "source": [
        "def getTotalPage(m, n):\n",
        "  if m<=n:\n",
        "    return 1\n",
        "  elif m%n==0:\n",
        "    return m//n\n",
        "  else :\n",
        "    return m//n+1\n",
        "\n",
        "print(getTotalPage(5, 10))\n",
        "print(getTotalPage(16, 8))\n",
        "print(getTotalPage(25, 8))\n",
        "print(getTotalPage(50, 7))"
      ],
      "execution_count": 0,
      "outputs": [
        {
          "output_type": "stream",
          "text": [
            "1\n",
            "2\n",
            "4\n",
            "8\n"
          ],
          "name": "stdout"
        }
      ]
    },
    {
      "cell_type": "markdown",
      "metadata": {
        "id": "efEzixrrG3Ml",
        "colab_type": "text"
      },
      "source": [
        "#**06-4 간단한 메모장 만들기**"
      ]
    },
    {
      "cell_type": "code",
      "metadata": {
        "id": "fvhG-v73G62z",
        "colab_type": "code",
        "colab": {}
      },
      "source": [
        "import sys\n",
        "\n",
        "option = sys.argv[1]\n",
        "\n",
        "if option == '-a':\n",
        "    memo = sys.argv[2]\n",
        "    f = open('memo.txt', 'a')\n",
        "    f.write(memo)\n",
        "    f.write('\\n')\n",
        "    f.close()\n",
        "elif option == '-v':\n",
        "    f = open('memo.txt')\n",
        "    memo = f.read()\n",
        "    f.close()\n",
        "    print(memo)"
      ],
      "execution_count": 0,
      "outputs": []
    },
    {
      "cell_type": "code",
      "metadata": {
        "id": "MRRGaGL7Jlrk",
        "colab_type": "code",
        "colab": {}
      },
      "source": [
        "run memo.py -a \"Life is too short\""
      ],
      "execution_count": 0,
      "outputs": []
    },
    {
      "cell_type": "code",
      "metadata": {
        "id": "3aEfszjDNzgk",
        "colab_type": "code",
        "outputId": "4f7fc438-c84b-41f9-c30b-03b7e56c6b9b",
        "colab": {
          "base_uri": "https://localhost:8080/",
          "height": 71
        }
      },
      "source": [
        "run memo.py -v "
      ],
      "execution_count": 0,
      "outputs": [
        {
          "output_type": "stream",
          "text": [
            "Life is too short\n",
            "Life is too short\n",
            "\n"
          ],
          "name": "stdout"
        }
      ]
    },
    {
      "cell_type": "code",
      "metadata": {
        "id": "swvJRER_X1Ic",
        "colab_type": "code",
        "colab": {}
      },
      "source": [
        "import sys\n",
        "\n",
        "option = sys.argv[1]\n",
        "\n",
        "if option == '-a':\n",
        "    memo = sys.argv[2]\n",
        "    with open('memo1.txt', 'a') as f:\n",
        "      f.write(memo)\n",
        "      f.write('\\n')\n",
        "elif option == '-v':\n",
        "    with open('memo1.txt') as f:\n",
        "      memo = f.read()\n",
        "      print(memo)"
      ],
      "execution_count": 0,
      "outputs": []
    },
    {
      "cell_type": "code",
      "metadata": {
        "id": "2k9KQ7mzYk-M",
        "colab_type": "code",
        "colab": {}
      },
      "source": [
        "run memo1.py -a \"Life is too short\""
      ],
      "execution_count": 0,
      "outputs": []
    },
    {
      "cell_type": "code",
      "metadata": {
        "id": "iafit0LNYx49",
        "colab_type": "code",
        "colab": {
          "base_uri": "https://localhost:8080/",
          "height": 71
        },
        "outputId": "05e06490-1617-4b36-b1d2-41ea88e81dca"
      },
      "source": [
        "run memo1.py -v"
      ],
      "execution_count": 98,
      "outputs": [
        {
          "output_type": "stream",
          "text": [
            "Life is too short\n",
            "Life is too short\n",
            "\n"
          ],
          "name": "stdout"
        }
      ]
    },
    {
      "cell_type": "markdown",
      "metadata": {
        "id": "ZHlFXeGrQ9W8",
        "colab_type": "text"
      },
      "source": [
        "#**06-5 탭을 4개의 공백으로 바꾸기**"
      ]
    },
    {
      "cell_type": "code",
      "metadata": {
        "id": "thojnv7jRNbj",
        "colab_type": "code",
        "colab": {}
      },
      "source": [
        "import sys\n",
        "\n",
        "src = sys.argv[1]\n",
        "dst = sys.argv[2]\n",
        "\n",
        "f = open(src)\n",
        "tab_content = f.read()\n",
        "f.close()\n",
        "\n",
        "space_content = tab_content.replace(\"/t\", \" \"*4)\n",
        "\n",
        "f = open(dst, 'w')\n",
        "f.write(space_content)\n",
        "f.close()"
      ],
      "execution_count": 0,
      "outputs": []
    },
    {
      "cell_type": "code",
      "metadata": {
        "id": "RDbty3AjRtnD",
        "colab_type": "code",
        "colab": {}
      },
      "source": [
        "run tabto4.py a.txt b.txt"
      ],
      "execution_count": 0,
      "outputs": []
    },
    {
      "cell_type": "code",
      "metadata": {
        "id": "ym34RaXXTpvE",
        "colab_type": "code",
        "colab": {
          "base_uri": "https://localhost:8080/",
          "height": 35
        },
        "outputId": "d2347883-05d6-4309-d68d-f608436af525"
      },
      "source": [
        "f= open(\"a.txt\",\"r\")\n",
        "print(f.read())\n",
        "f.close()"
      ],
      "execution_count": 50,
      "outputs": [
        {
          "output_type": "stream",
          "text": [
            "Life/tis/ttoo/tshort\n"
          ],
          "name": "stdout"
        }
      ]
    },
    {
      "cell_type": "code",
      "metadata": {
        "id": "uJSFwBw-T_HL",
        "colab_type": "code",
        "colab": {
          "base_uri": "https://localhost:8080/",
          "height": 35
        },
        "outputId": "9946afbf-e347-46f4-97a4-7d61b55ad4f9"
      },
      "source": [
        "f= open(\"b.txt\",\"r\")\n",
        "print(f.read())\n",
        "f.close()"
      ],
      "execution_count": 51,
      "outputs": [
        {
          "output_type": "stream",
          "text": [
            "Life    is    too    short\n"
          ],
          "name": "stdout"
        }
      ]
    },
    {
      "cell_type": "markdown",
      "metadata": {
        "id": "RRAhk1OgSLtL",
        "colab_type": "text"
      },
      "source": [
        "#**06-6 하위 디렉터리 검색하기**"
      ]
    },
    {
      "cell_type": "code",
      "metadata": {
        "id": "yW0lb0ySVjpM",
        "colab_type": "code",
        "colab": {
          "base_uri": "https://localhost:8080/",
          "height": 53
        },
        "outputId": "9146e920-52db-4ca0-a677-76fead13b40c"
      },
      "source": [
        "import os\n",
        "\n",
        "def search(dirname):\n",
        "    try:\n",
        "        filenames = os.listdir(dirname)\n",
        "        for filename in filenames:\n",
        "            full_filename = os.path.join(dirname, filename)\n",
        "            if os.path.isdir(full_filename):\n",
        "                search(full_filename)\n",
        "            else:\n",
        "                ext = os.path.splitext(full_filename)[-1]\n",
        "                if ext == '.py': \n",
        "                    print(full_filename)\n",
        "    except PermissionError:\n",
        "        pass\n",
        "\n",
        "search(\"/content\")"
      ],
      "execution_count": 54,
      "outputs": [
        {
          "output_type": "stream",
          "text": [
            "/content/tabto4.py\n",
            "/content/memo.py\n"
          ],
          "name": "stdout"
        }
      ]
    },
    {
      "cell_type": "code",
      "metadata": {
        "id": "j_3-rL_4Wkb3",
        "colab_type": "code",
        "colab": {
          "base_uri": "https://localhost:8080/",
          "height": 53
        },
        "outputId": "f2d523ca-79be-40b2-e26d-e06c1d2c7bbd"
      },
      "source": [
        "import os\n",
        "for (path,dir,files) in os.walk(\"/content\"):\n",
        "  for filename in files:\n",
        "    ext = os.path.splitext(filename)[-1]\n",
        "    if ext == '.py':\n",
        "      print(\"%s%s\" % (path, filename))"
      ],
      "execution_count": 55,
      "outputs": [
        {
          "output_type": "stream",
          "text": [
            "/contenttabto4.py\n",
            "/contentmemo.py\n"
          ],
          "name": "stdout"
        }
      ]
    }
  ]
}