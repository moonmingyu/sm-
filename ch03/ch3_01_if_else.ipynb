{
  "nbformat": 4,
  "nbformat_minor": 0,
  "metadata": {
    "colab": {
      "name": "ch3_01_if_else.ipynb",
      "provenance": [],
      "collapsed_sections": [],
      "include_colab_link": true
    },
    "kernelspec": {
      "name": "python3",
      "display_name": "Python 3"
    }
  },
  "cells": [
    {
      "cell_type": "markdown",
      "metadata": {
        "id": "view-in-github",
        "colab_type": "text"
      },
      "source": [
        "<a href=\"https://colab.research.google.com/github/moonmingyu/sm-/blob/master/ch03/ch3_01_if_else.ipynb\" target=\"_parent\"><img src=\"https://colab.research.google.com/assets/colab-badge.svg\" alt=\"Open In Colab\"/></a>"
      ]
    },
    {
      "cell_type": "markdown",
      "metadata": {
        "id": "dlgjJUv1KrEJ",
        "colab_type": "text"
      },
      "source": [
        "# if문은 어떻게 사용?"
      ]
    },
    {
      "cell_type": "code",
      "metadata": {
        "id": "9Y7osn2mKMrY",
        "colab_type": "code",
        "colab": {
          "base_uri": "https://localhost:8080/",
          "height": 35
        },
        "outputId": "6886de0e-d543-48da-f681-a702058178e7"
      },
      "source": [
        "money = True\n",
        "if money:\n",
        "    print(\"택시를 타고 가라\")\n",
        "else:\n",
        "    print(\"걸어 가라\")"
      ],
      "execution_count": 1,
      "outputs": [
        {
          "output_type": "stream",
          "text": [
            "택시를 타고 가라\n"
          ],
          "name": "stdout"
        }
      ]
    },
    {
      "cell_type": "markdown",
      "metadata": {
        "id": "stKxA-LpL1fB",
        "colab_type": "text"
      },
      "source": [
        "## if문의 기본 구조"
      ]
    },
    {
      "cell_type": "code",
      "metadata": {
        "id": "FU5H2YlRK7c8",
        "colab_type": "code",
        "colab": {
          "base_uri": "https://localhost:8080/",
          "height": 154
        },
        "outputId": "8047487e-d52d-47c1-e50d-721445f9c4f5"
      },
      "source": [
        "'''\n",
        "if 조건문:\n",
        "    수행할 문장1\n",
        "    수행할 문장2\n",
        "    ...\n",
        "else:\n",
        "    수행할 문장A\n",
        "    수행할 문장B\n",
        "    ...\n",
        "'''\n",
        "#조건문 다음에 콜론(:)을 잊지 말자!"
      ],
      "execution_count": 5,
      "outputs": [
        {
          "output_type": "error",
          "ename": "SyntaxError",
          "evalue": "ignored",
          "traceback": [
            "\u001b[0;36m  File \u001b[0;32m\"<ipython-input-5-fd647925ace0>\"\u001b[0;36m, line \u001b[0;32m11\u001b[0m\n\u001b[0;31m    '''\u001b[0m\n\u001b[0m       \n^\u001b[0m\n\u001b[0;31mSyntaxError\u001b[0m\u001b[0;31m:\u001b[0m unexpected EOF while parsing\n"
          ]
        }
      ]
    },
    {
      "cell_type": "markdown",
      "metadata": {
        "id": "gWuguxNmOG3v",
        "colab_type": "text"
      },
      "source": [
        "## 들여쓰기"
      ]
    },
    {
      "cell_type": "code",
      "metadata": {
        "id": "BYL5p8n8OBlL",
        "colab_type": "code",
        "colab": {
          "base_uri": "https://localhost:8080/",
          "height": 136
        },
        "outputId": "7d905b6e-7f2d-4e59-9405-e74f5b262a4f"
      },
      "source": [
        "# 예-1\n",
        "money = True\n",
        "if money:\n",
        "    print(\"택시를\")\n",
        "print(\"타고\")\n",
        "    print(\"가라\")\n",
        "# tap으로 indent 안맞춰주면 오류가 발생한다"
      ],
      "execution_count": 6,
      "outputs": [
        {
          "output_type": "error",
          "ename": "IndentationError",
          "evalue": "ignored",
          "traceback": [
            "\u001b[0;36m  File \u001b[0;32m\"<ipython-input-6-7195f48b78c4>\"\u001b[0;36m, line \u001b[0;32m5\u001b[0m\n\u001b[0;31m    print(\"가라\")\u001b[0m\n\u001b[0m    ^\u001b[0m\n\u001b[0;31mIndentationError\u001b[0m\u001b[0;31m:\u001b[0m unexpected indent\n"
          ]
        }
      ]
    },
    {
      "cell_type": "code",
      "metadata": {
        "id": "3Uj2tctKN--D",
        "colab_type": "code",
        "colab": {
          "base_uri": "https://localhost:8080/",
          "height": 71
        },
        "outputId": "71379775-0f8d-42a3-cba1-761635cffc26"
      },
      "source": [
        "money = True\n",
        "if money:\n",
        "    print(\"택시를\")\n",
        "    print(\"타고\")\n",
        "    print(\"가라\")"
      ],
      "execution_count": 8,
      "outputs": [
        {
          "output_type": "stream",
          "text": [
            "택시를\n",
            "타고\n",
            "가라\n"
          ],
          "name": "stdout"
        }
      ]
    },
    {
      "cell_type": "markdown",
      "metadata": {
        "id": "V3d-L-ajOtuO",
        "colab_type": "text"
      },
      "source": [
        "## 조건식:비교연산자"
      ]
    },
    {
      "cell_type": "code",
      "metadata": {
        "id": "eCxd2fCrORdK",
        "colab_type": "code",
        "colab": {
          "base_uri": "https://localhost:8080/",
          "height": 35
        },
        "outputId": "ee76b3ff-7b15-431d-a756-1adff55c75c9"
      },
      "source": [
        "# 비교연산자(<, >, ==, !=, >=, <=)를 쓰는 방법\n",
        "x=3\n",
        "y=2\n",
        "x>y"
      ],
      "execution_count": 9,
      "outputs": [
        {
          "output_type": "execute_result",
          "data": {
            "text/plain": [
              "True"
            ]
          },
          "metadata": {
            "tags": []
          },
          "execution_count": 9
        }
      ]
    },
    {
      "cell_type": "code",
      "metadata": {
        "id": "fDacUrVOOsPk",
        "colab_type": "code",
        "colab": {
          "base_uri": "https://localhost:8080/",
          "height": 35
        },
        "outputId": "cbdf42f3-6d35-4244-8576-3d9de2212b30"
      },
      "source": [
        "x<y"
      ],
      "execution_count": 13,
      "outputs": [
        {
          "output_type": "execute_result",
          "data": {
            "text/plain": [
              "False"
            ]
          },
          "metadata": {
            "tags": []
          },
          "execution_count": 13
        }
      ]
    },
    {
      "cell_type": "code",
      "metadata": {
        "id": "AaayXd6PO59J",
        "colab_type": "code",
        "colab": {
          "base_uri": "https://localhost:8080/",
          "height": 35
        },
        "outputId": "56b19cfb-3408-4010-e36c-a856f635c8cc"
      },
      "source": [
        "x==y"
      ],
      "execution_count": 11,
      "outputs": [
        {
          "output_type": "execute_result",
          "data": {
            "text/plain": [
              "False"
            ]
          },
          "metadata": {
            "tags": []
          },
          "execution_count": 11
        }
      ]
    },
    {
      "cell_type": "code",
      "metadata": {
        "id": "r7FKNcW5O6wZ",
        "colab_type": "code",
        "colab": {
          "base_uri": "https://localhost:8080/",
          "height": 35
        },
        "outputId": "e060ea2a-dedb-4e50-bed0-44df71ed03bc"
      },
      "source": [
        "x!=y"
      ],
      "execution_count": 12,
      "outputs": [
        {
          "output_type": "execute_result",
          "data": {
            "text/plain": [
              "True"
            ]
          },
          "metadata": {
            "tags": []
          },
          "execution_count": 12
        }
      ]
    },
    {
      "cell_type": "markdown",
      "metadata": {
        "id": "3Zolj9xhk5RH",
        "colab_type": "text"
      },
      "source": [
        "## 조건식만들기"
      ]
    },
    {
      "cell_type": "markdown",
      "metadata": {
        "id": "kauYwrC3lMvl",
        "colab_type": "text"
      },
      "source": [
        "### 예제"
      ]
    },
    {
      "cell_type": "markdown",
      "metadata": {
        "id": "_CmuMKCLk86N",
        "colab_type": "text"
      },
      "source": [
        "만약 3000원 이상의 돈을 가지고 있으면 택시를 타고 그렇지 않으면 걸어 가라."
      ]
    },
    {
      "cell_type": "code",
      "metadata": {
        "id": "4qBWHDYVOzMp",
        "colab_type": "code",
        "colab": {
          "base_uri": "https://localhost:8080/",
          "height": 35
        },
        "outputId": "824447a7-a960-4e03-9a0b-605bf4cfcdf5"
      },
      "source": [
        "money = 2000\n",
        "if money >= 3000:\n",
        "    print(\"택시를 타고 가라\")\n",
        "else:\n",
        "    print(\"걸어가라\")"
      ],
      "execution_count": 14,
      "outputs": [
        {
          "output_type": "stream",
          "text": [
            "걸어가라\n"
          ],
          "name": "stdout"
        }
      ]
    },
    {
      "cell_type": "markdown",
      "metadata": {
        "id": "Wu5jzP6glGjF",
        "colab_type": "text"
      },
      "source": [
        "### 복합조건식"
      ]
    },
    {
      "cell_type": "markdown",
      "metadata": {
        "id": "jEChFLprlTwt",
        "colab_type": "text"
      },
      "source": [
        "\n",
        "복합 조건식: or, and, not\n",
        "\n",
        "**연산자\t설명**\n",
        "\n",
        "x or y  :\tx와 y 둘중에 하나만 참이면 참이다\n",
        "\n",
        "x and y :\tx와 y 모두 참이어야 참이다\n",
        "\n",
        "not x\t  : x가 거짓이면 참이다\n",
        "\n",
        "or 복합 조건식 이용"
      ]
    },
    {
      "cell_type": "markdown",
      "metadata": {
        "id": "BPaUeLzrlnxW",
        "colab_type": "text"
      },
      "source": [
        "### 복합조건식 예제"
      ]
    },
    {
      "cell_type": "markdown",
      "metadata": {
        "id": "zlMbWbV-lyBl",
        "colab_type": "text"
      },
      "source": [
        "돈이 3000원 이상 있거나 카드가 있다면 택시를 타고 그렇지 않으면 걸어 가라."
      ]
    },
    {
      "cell_type": "code",
      "metadata": {
        "id": "UbXVoG-klCaQ",
        "colab_type": "code",
        "colab": {
          "base_uri": "https://localhost:8080/",
          "height": 35
        },
        "outputId": "7545e99f-b07e-4f30-df38-d6d7514c8e37"
      },
      "source": [
        "money = 2000\n",
        "card = True\n",
        "if money >= 3000 or card:\n",
        "    print(\"택시를 타고 가라\")\n",
        "else:\n",
        "    print(\"걸어가라\")"
      ],
      "execution_count": 15,
      "outputs": [
        {
          "output_type": "stream",
          "text": [
            "택시를 타고 가라\n"
          ],
          "name": "stdout"
        }
      ]
    },
    {
      "cell_type": "markdown",
      "metadata": {
        "id": "zsf-MJAxl6_2",
        "colab_type": "text"
      },
      "source": [
        "## 조건식 : in, not in"
      ]
    },
    {
      "cell_type": "markdown",
      "metadata": {
        "id": "13NBW25_mEY9",
        "colab_type": "text"
      },
      "source": [
        "   in\t         \n",
        "\n",
        "> x in 리스트\n",
        "\n",
        "> x in 튜플\n",
        "\n",
        "> x in 문자열\n",
        "\n",
        " not in   \n",
        "> x not in 리스트\n",
        "\n",
        "> x not in 튜플\n",
        "\n",
        "> x not in 문자열"
      ]
    },
    {
      "cell_type": "markdown",
      "metadata": {
        "id": "zY3rAY8km87_",
        "colab_type": "text"
      },
      "source": [
        "### list 예제"
      ]
    },
    {
      "cell_type": "code",
      "metadata": {
        "id": "xKk-egTolwTm",
        "colab_type": "code",
        "colab": {
          "base_uri": "https://localhost:8080/",
          "height": 35
        },
        "outputId": "6de03da8-5fa0-4350-f4a3-e3e74711cc8b"
      },
      "source": [
        "1 in [1, 2, 3]"
      ],
      "execution_count": 16,
      "outputs": [
        {
          "output_type": "execute_result",
          "data": {
            "text/plain": [
              "True"
            ]
          },
          "metadata": {
            "tags": []
          },
          "execution_count": 16
        }
      ]
    },
    {
      "cell_type": "code",
      "metadata": {
        "id": "WL7D0KXbnFDf",
        "colab_type": "code",
        "colab": {
          "base_uri": "https://localhost:8080/",
          "height": 35
        },
        "outputId": "66b246d1-0dbc-49f8-8fe5-c3749c4dd422"
      },
      "source": [
        "1 not in [1, 2, 3]          "
      ],
      "execution_count": 18,
      "outputs": [
        {
          "output_type": "execute_result",
          "data": {
            "text/plain": [
              "False"
            ]
          },
          "metadata": {
            "tags": []
          },
          "execution_count": 18
        }
      ]
    },
    {
      "cell_type": "markdown",
      "metadata": {
        "id": "Ko1tqmYknMJn",
        "colab_type": "text"
      },
      "source": [
        "### tuple"
      ]
    },
    {
      "cell_type": "code",
      "metadata": {
        "id": "9VlxXvmZnCyB",
        "colab_type": "code",
        "colab": {
          "base_uri": "https://localhost:8080/",
          "height": 35
        },
        "outputId": "d9b0aef3-056a-4847-985b-826986f130c0"
      },
      "source": [
        "'a' in ('a', 'b', 'c')"
      ],
      "execution_count": 19,
      "outputs": [
        {
          "output_type": "execute_result",
          "data": {
            "text/plain": [
              "True"
            ]
          },
          "metadata": {
            "tags": []
          },
          "execution_count": 19
        }
      ]
    },
    {
      "cell_type": "markdown",
      "metadata": {
        "id": "2QkPqNk9nUok",
        "colab_type": "text"
      },
      "source": [
        "### string"
      ]
    },
    {
      "cell_type": "code",
      "metadata": {
        "id": "W5kfZohBnSNq",
        "colab_type": "code",
        "colab": {
          "base_uri": "https://localhost:8080/",
          "height": 35
        },
        "outputId": "d9d4cb84-7bd9-4ee8-fc9d-5bd7342170d7"
      },
      "source": [
        "'j' not in 'python'"
      ],
      "execution_count": 20,
      "outputs": [
        {
          "output_type": "execute_result",
          "data": {
            "text/plain": [
              "True"
            ]
          },
          "metadata": {
            "tags": []
          },
          "execution_count": 20
        }
      ]
    },
    {
      "cell_type": "markdown",
      "metadata": {
        "id": "DuIMJkJfnipM",
        "colab_type": "text"
      },
      "source": [
        "### in을 이용한 코드  예제"
      ]
    },
    {
      "cell_type": "markdown",
      "metadata": {
        "id": "d_33l7Rpno0V",
        "colab_type": "text"
      },
      "source": [
        "만약 주머니에 돈이 있으면 택시를 타고, 없으면 걸어 가라."
      ]
    },
    {
      "cell_type": "code",
      "metadata": {
        "id": "nbMJ0tbJnXBQ",
        "colab_type": "code",
        "colab": {
          "base_uri": "https://localhost:8080/",
          "height": 35
        },
        "outputId": "7cd22a6b-6c7d-4ad1-9df7-cc90c3233fcd"
      },
      "source": [
        "pocket = ['paper', 'cellphone', 'money']\n",
        "if 'money' in pocket:\n",
        "    print(\"택시를 타고 가라\")\n",
        "else:\n",
        "    print(\"걸어가라\")"
      ],
      "execution_count": 21,
      "outputs": [
        {
          "output_type": "stream",
          "text": [
            "택시를 타고 가라\n"
          ],
          "name": "stdout"
        }
      ]
    },
    {
      "cell_type": "markdown",
      "metadata": {
        "id": "7hgOA_YBnu_s",
        "colab_type": "text"
      },
      "source": [
        "## 조건식: pass"
      ]
    },
    {
      "cell_type": "code",
      "metadata": {
        "id": "JZ6wTdYtnskO",
        "colab_type": "code",
        "colab": {}
      },
      "source": [
        "pocket = ['paper', 'cellphone', 'money']\n",
        "if 'money' in pocket:\n",
        "    # print(\"택시를 타고 가라\")\n",
        "    pass\n",
        "else:\n",
        "    print(\"걸어가라\")"
      ],
      "execution_count": 0,
      "outputs": []
    },
    {
      "cell_type": "markdown",
      "metadata": {
        "id": "5WvpLfDPoBIU",
        "colab_type": "text"
      },
      "source": [
        "## 다중 조건식: elif"
      ]
    },
    {
      "cell_type": "markdown",
      "metadata": {
        "id": "vmm8TEcfoIF0",
        "colab_type": "text"
      },
      "source": [
        "다양한 조건을 판단"
      ]
    },
    {
      "cell_type": "markdown",
      "metadata": {
        "id": "IJeRULX1oLjE",
        "colab_type": "text"
      },
      "source": [
        "### 예제"
      ]
    },
    {
      "cell_type": "markdown",
      "metadata": {
        "id": "aZzGm_ZvoQfc",
        "colab_type": "text"
      },
      "source": [
        "주머니에 돈이 있으면 택시를 타고, 주머니에 돈은 없지만 카드가 있으면 택시를 타고, 돈도 없고 카드도 없으면 걸어 가라."
      ]
    },
    {
      "cell_type": "code",
      "metadata": {
        "id": "QTjotbHon5_P",
        "colab_type": "code",
        "colab": {}
      },
      "source": [
        "pocket = ['paper', 'handphone']\n",
        "card = True\n",
        "if 'money' in pocket:\n",
        "    print(\"택시를 타고가라\")\n",
        "else:\n",
        "    if card:\n",
        "        print(\"택시를 타고가라\")\n",
        "    else:\n",
        "        print(\"걸어가라\")"
      ],
      "execution_count": 0,
      "outputs": []
    },
    {
      "cell_type": "markdown",
      "metadata": {
        "id": "gM8N8jWkoctk",
        "colab_type": "text"
      },
      "source": [
        "elif 이용한 코드"
      ]
    },
    {
      "cell_type": "code",
      "metadata": {
        "id": "hDgk6H1WoYUJ",
        "colab_type": "code",
        "colab": {}
      },
      "source": [
        "pocket = ['paper', 'handphone']\n",
        "card = True\n",
        "if 'money' in pocket:\n",
        "    print(\"택시를 타고가라\")\n",
        "elif card:\n",
        "    print(\"택시를 타고가라\")\n",
        "else:\n",
        "    print(\"걸어가라\")"
      ],
      "execution_count": 0,
      "outputs": []
    },
    {
      "cell_type": "markdown",
      "metadata": {
        "id": "V5WIoLgToj08",
        "colab_type": "text"
      },
      "source": [
        "## if문 한줄로 작성하기"
      ]
    },
    {
      "cell_type": "markdown",
      "metadata": {
        "id": "SVHGhUboo1i7",
        "colab_type": "text"
      },
      "source": [
        "조건부 표현식 (conditional expression)\n",
        "\n",
        "\n",
        "조건문이 참인 경우 if 조건문 else 조건문이 거짓인 경우"
      ]
    },
    {
      "cell_type": "code",
      "metadata": {
        "id": "Ejq3_uG2ogUz",
        "colab_type": "code",
        "colab": {}
      },
      "source": [
        "pocket = ['paper', 'cellphone', 'money']\n",
        "if 'money' in pocket:\n",
        "    pass\n",
        "else:\n",
        "    print(\"카드를 사용해라.\")"
      ],
      "execution_count": 0,
      "outputs": []
    },
    {
      "cell_type": "markdown",
      "metadata": {
        "id": "BYp7-nriosKj",
        "colab_type": "text"
      },
      "source": [
        "한줄코드"
      ]
    },
    {
      "cell_type": "code",
      "metadata": {
        "id": "r2HS1aCnorIX",
        "colab_type": "code",
        "colab": {}
      },
      "source": [
        "if 'money' in pocket: pass\n",
        "else: print(\"카드를 사용해라.\")"
      ],
      "execution_count": 0,
      "outputs": []
    },
    {
      "cell_type": "markdown",
      "metadata": {
        "id": "FgyVt_1gpNbN",
        "colab_type": "text"
      },
      "source": [
        "### ex2"
      ]
    },
    {
      "cell_type": "code",
      "metadata": {
        "id": "-vdre8ocowoG",
        "colab_type": "code",
        "colab": {
          "base_uri": "https://localhost:8080/",
          "height": 35
        },
        "outputId": "41a29445-4d15-4651-d9ed-f53e39e41459"
      },
      "source": [
        "score=80\n",
        "if score >= 60:\n",
        "    message = \"success\"\n",
        "else:\n",
        "    message = \"failure\"\n",
        "\n",
        "print(message)"
      ],
      "execution_count": 27,
      "outputs": [
        {
          "output_type": "stream",
          "text": [
            "success\n"
          ],
          "name": "stdout"
        }
      ]
    },
    {
      "cell_type": "markdown",
      "metadata": {
        "id": "Pa_8aL4opUrj",
        "colab_type": "text"
      },
      "source": [
        "한줄 코드\n",
        "\n",
        "한줄코드는 indent를 안맞춰줘도된다"
      ]
    },
    {
      "cell_type": "code",
      "metadata": {
        "id": "ncxkTD2ipSxB",
        "colab_type": "code",
        "colab": {
          "base_uri": "https://localhost:8080/",
          "height": 35
        },
        "outputId": "7a51a494-8b23-4e5b-c406-625decd4cd23"
      },
      "source": [
        "message = \"success\" if score >= 60 else \"failure\"\n",
        "print(message)"
      ],
      "execution_count": 28,
      "outputs": [
        {
          "output_type": "stream",
          "text": [
            "success\n"
          ],
          "name": "stdout"
        }
      ]
    }
  ]
}