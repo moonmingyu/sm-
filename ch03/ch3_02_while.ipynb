{
  "nbformat": 4,
  "nbformat_minor": 0,
  "metadata": {
    "colab": {
      "name": "ch3_02_while.ipynb",
      "provenance": [],
      "collapsed_sections": [],
      "include_colab_link": true
    },
    "kernelspec": {
      "name": "python3",
      "display_name": "Python 3"
    }
  },
  "cells": [
    {
      "cell_type": "markdown",
      "metadata": {
        "id": "view-in-github",
        "colab_type": "text"
      },
      "source": [
        "<a href=\"https://colab.research.google.com/github/moonmingyu/sm-/blob/master/ch03/ch3_02_while.ipynb\" target=\"_parent\"><img src=\"https://colab.research.google.com/assets/colab-badge.svg\" alt=\"Open In Colab\"/></a>"
      ]
    },
    {
      "cell_type": "markdown",
      "metadata": {
        "id": "B3IrdXBerudk",
        "colab_type": "text"
      },
      "source": [
        "# while 문은 어떻게 사용?"
      ]
    },
    {
      "cell_type": "markdown",
      "metadata": {
        "id": "X22oH6_HrySq",
        "colab_type": "text"
      },
      "source": [
        "반복해서 문장을 수행해야 할 경우 while문을 사용한다. \n",
        "그래서 while문을 반복문이라고도 부른다."
      ]
    },
    {
      "cell_type": "markdown",
      "metadata": {
        "id": "uDpw4dJ2r2xL",
        "colab_type": "text"
      },
      "source": [
        "## while문의 기본 구조"
      ]
    },
    {
      "cell_type": "markdown",
      "metadata": {
        "id": "4NUlyfsar_Ta",
        "colab_type": "text"
      },
      "source": [
        "while <조건문>:\n",
        "\n",
        "    <수행할 문장1>\n",
        "    \n",
        "    <수행할 문장2>\n",
        "    \n",
        "    <수행할 문장3>"
      ]
    },
    {
      "cell_type": "markdown",
      "metadata": {
        "id": "AkE4G2hKsFsj",
        "colab_type": "text"
      },
      "source": [
        "### 열 번 찍어 안 넘어가는 나무 없다\"는 속담을 파이썬 프로그램으로 반복 실행"
      ]
    },
    {
      "cell_type": "code",
      "metadata": {
        "id": "2LyKqXG8X5v4",
        "colab_type": "code",
        "colab": {}
      },
      "source": [
        "\n",
        "treeHit = 0\n",
        "while treeHit < 10:\n",
        "    treeHit = treeHit +1\n",
        "    print(\"나무를 %d번 찍었습니다.\" % treeHit)\n",
        "    if treeHit == 10:\n",
        "        print(\"나무 넘어갑니다.\")"
      ],
      "execution_count": 0,
      "outputs": []
    },
    {
      "cell_type": "markdown",
      "metadata": {
        "id": "mxRxrEuIsPa6",
        "colab_type": "text"
      },
      "source": [
        "### while문 만들기"
      ]
    },
    {
      "cell_type": "code",
      "metadata": {
        "id": "90_kEwnOsMFg",
        "colab_type": "code",
        "colab": {}
      },
      "source": [
        "prompt = \"\"\"\n",
        "1. Add\n",
        "2. Del\n",
        "3. List\n",
        "4. Quit\n",
        "Enter number: \"\"\"\n",
        "\n",
        "number = 0\n",
        "while number != 4:\n",
        "    print(prompt)\n",
        "    # number = int(input())\n"
      ],
      "execution_count": 0,
      "outputs": []
    },
    {
      "cell_type": "markdown",
      "metadata": {
        "id": "GbevOmL5sk-C",
        "colab_type": "text"
      },
      "source": [
        "### while문 강제로 빠져나가기"
      ]
    },
    {
      "cell_type": "markdown",
      "metadata": {
        "id": "cSkUNMGFsnpK",
        "colab_type": "text"
      },
      "source": [
        "커피 자판기 작동\n",
        "\n",
        "자판기가 제대로 작동하려면 커피가 얼마나 남았는지 항상 검사해야 한다. \n",
        " \n",
        "만약 커피가 떨어졌다면 판매를 중단하고 \"판매 중지\" 문구를 사용자에게 보여준다."
      ]
    },
    {
      "cell_type": "code",
      "metadata": {
        "id": "IOu7ZQLasd4K",
        "colab_type": "code",
        "colab": {
          "base_uri": "https://localhost:8080/",
          "height": 395
        },
        "outputId": "7e192e4f-0f63-4a19-c81e-553bf61c8100"
      },
      "source": [
        "coffee = 10\n",
        "money = 300\n",
        "while money:\n",
        "    print(\"돈을 받았으니 커피를 줍니다.\")\n",
        "    coffee = coffee -1\n",
        "    print(\"남은 커피의 양은 %d개입니다.\" % coffee)\n",
        "    if coffee == 0:\n",
        "        print(\"커피가 다 떨어졌습니다. 판매를 중지합니다.\")\n",
        "        break"
      ],
      "execution_count": 2,
      "outputs": [
        {
          "output_type": "stream",
          "text": [
            "돈을 받았으니 커피를 줍니다.\n",
            "남은 커피의 양은 9개입니다.\n",
            "돈을 받았으니 커피를 줍니다.\n",
            "남은 커피의 양은 8개입니다.\n",
            "돈을 받았으니 커피를 줍니다.\n",
            "남은 커피의 양은 7개입니다.\n",
            "돈을 받았으니 커피를 줍니다.\n",
            "남은 커피의 양은 6개입니다.\n",
            "돈을 받았으니 커피를 줍니다.\n",
            "남은 커피의 양은 5개입니다.\n",
            "돈을 받았으니 커피를 줍니다.\n",
            "남은 커피의 양은 4개입니다.\n",
            "돈을 받았으니 커피를 줍니다.\n",
            "남은 커피의 양은 3개입니다.\n",
            "돈을 받았으니 커피를 줍니다.\n",
            "남은 커피의 양은 2개입니다.\n",
            "돈을 받았으니 커피를 줍니다.\n",
            "남은 커피의 양은 1개입니다.\n",
            "돈을 받았으니 커피를 줍니다.\n",
            "남은 커피의 양은 0개입니다.\n",
            "커피가 다 떨어졌습니다. 판매를 중지합니다.\n"
          ],
          "name": "stdout"
        }
      ]
    },
    {
      "cell_type": "markdown",
      "metadata": {
        "id": "QiXWUhMYs_4C",
        "colab_type": "text"
      },
      "source": [
        "돈을 넣고 커피뽑아먹기"
      ]
    },
    {
      "cell_type": "code",
      "metadata": {
        "id": "L6AM-I3dswJp",
        "colab_type": "code",
        "colab": {}
      },
      "source": [
        "coffee = 10\n",
        "while True:\n",
        "    money = int(input(\"돈을 넣어 주세요: \"))\n",
        "    if money == 300:\n",
        "        print(\"커피를 줍니다.\")\n",
        "        coffee = coffee -1\n",
        "    elif money > 300:\n",
        "        print(\"거스름돈 %d를 주고 커피를 줍니다.\" % (money -300))\n",
        "        coffee = coffee -1\n",
        "    else:\n",
        "        print(\"돈을 다시 돌려주고 커피를 주지 않습니다.\")\n",
        "        print(\"남은 커피의 양은 %d개 입니다.\" % coffee)\n",
        "    if coffee == 0:\n",
        "        print(\"커피가 다 떨어졌습니다. 판매를 중지 합니다.\")\n",
        "        break"
      ],
      "execution_count": 0,
      "outputs": []
    },
    {
      "cell_type": "markdown",
      "metadata": {
        "id": "VqeBBuBhtF3r",
        "colab_type": "text"
      },
      "source": [
        "## while문의 맨 처음으로 돌아가기: continue"
      ]
    },
    {
      "cell_type": "markdown",
      "metadata": {
        "id": "XF8SYo-ntKLy",
        "colab_type": "text"
      },
      "source": [
        " while문을 빠져나가지 않고 while문의 맨 처음(조건문)으로 \n",
        " \n",
        " 다시 돌아가게 만들고 싶은 경우가 생기게 된다. \n",
        " \n",
        " 이때 사용하는 것이 바로 continue문이다.\n",
        "\n",
        " 1부터 10까지의 숫자 중에서 홀수만 출력하는 것을 while문을 사용해서 작성"
      ]
    },
    {
      "cell_type": "code",
      "metadata": {
        "id": "fIeQXoDEs4cQ",
        "colab_type": "code",
        "colab": {}
      },
      "source": [
        "a = 0\n",
        "while a < 10:\n",
        "    a = a + 1\n",
        "    if a % 2 == 0: continue\n",
        "    print(a)"
      ],
      "execution_count": 0,
      "outputs": []
    },
    {
      "cell_type": "markdown",
      "metadata": {
        "id": "djnyhNKDtR7C",
        "colab_type": "text"
      },
      "source": [
        "## while문의 무한 루프"
      ]
    },
    {
      "cell_type": "markdown",
      "metadata": {
        "id": "tScfXJyltWG6",
        "colab_type": "text"
      },
      "source": [
        "while True:\n",
        "\n",
        "> 수행할 문장1 \n",
        "\n",
        "> 수행할 문장2"
      ]
    },
    {
      "cell_type": "markdown",
      "metadata": {
        "id": "ahgSeidKtgux",
        "colab_type": "text"
      },
      "source": [
        "### 무한루프 코드예시 (ctrl C로 중지)"
      ]
    },
    {
      "cell_type": "code",
      "metadata": {
        "id": "fdi5OImqtQiq",
        "colab_type": "code",
        "colab": {}
      },
      "source": [
        "while True:\n",
        "    print(\"Ctrl+C를 눌러야 while문을 빠져나갈 수 있습니다.\")"
      ],
      "execution_count": 0,
      "outputs": []
    }
  ]
}