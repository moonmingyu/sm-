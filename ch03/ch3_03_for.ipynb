{
  "nbformat": 4,
  "nbformat_minor": 0,
  "metadata": {
    "colab": {
      "name": "ch3_03_for.ipynb",
      "provenance": [],
      "collapsed_sections": [],
      "include_colab_link": true
    },
    "kernelspec": {
      "name": "python3",
      "display_name": "Python 3"
    }
  },
  "cells": [
    {
      "cell_type": "markdown",
      "metadata": {
        "id": "view-in-github",
        "colab_type": "text"
      },
      "source": [
        "<a href=\"https://colab.research.google.com/github/moonmingyu/sm-/blob/master/ch03/ch3_03_for.ipynb\" target=\"_parent\"><img src=\"https://colab.research.google.com/assets/colab-badge.svg\" alt=\"Open In Colab\"/></a>"
      ]
    },
    {
      "cell_type": "markdown",
      "metadata": {
        "id": "LazjrWPpt417",
        "colab_type": "text"
      },
      "source": [
        "# for 문은 어떻게 사용?"
      ]
    },
    {
      "cell_type": "markdown",
      "metadata": {
        "id": "fc6T1yRDt7_y",
        "colab_type": "text"
      },
      "source": [
        "반복해서 문장을 수행해야 할 경우 for문을 사용한다. "
      ]
    },
    {
      "cell_type": "markdown",
      "metadata": {
        "id": "Adon4eypt-0S",
        "colab_type": "text"
      },
      "source": [
        "## for문의 기본 구조"
      ]
    },
    {
      "cell_type": "markdown",
      "metadata": {
        "id": "8e23NbPxuBfZ",
        "colab_type": "text"
      },
      "source": [
        "for 변수 in 리스트(또는 튜플, 문자열):\n",
        "   > 수행할 문장1\n",
        "   \n",
        "   > 수행할 문장2"
      ]
    },
    {
      "cell_type": "markdown",
      "metadata": {
        "id": "wgrh1hpuuKzC",
        "colab_type": "text"
      },
      "source": [
        "## 예제를 통해 for문 이해하기"
      ]
    },
    {
      "cell_type": "markdown",
      "metadata": {
        "id": "7YkRMglRuOLx",
        "colab_type": "text"
      },
      "source": [
        "### 1. 전형적인 for문"
      ]
    },
    {
      "cell_type": "code",
      "metadata": {
        "id": "DsYrDK5oYn2n",
        "colab_type": "code",
        "colab": {
          "base_uri": "https://localhost:8080/",
          "height": 71
        },
        "outputId": "ab9e814f-f05f-48c8-b1f7-e027614e24e4"
      },
      "source": [
        "test_list = ['one', 'two', 'three'] \n",
        "for i in test_list:\n",
        "    print(i)"
      ],
      "execution_count": 11,
      "outputs": [
        {
          "output_type": "stream",
          "text": [
            "one\n",
            "two\n",
            "three\n"
          ],
          "name": "stdout"
        }
      ]
    },
    {
      "cell_type": "markdown",
      "metadata": {
        "id": "bf84A_IguSK5",
        "colab_type": "text"
      },
      "source": [
        "### 2. 다양한 for문의 사용"
      ]
    },
    {
      "cell_type": "code",
      "metadata": {
        "id": "_ej6JPMdYolt",
        "colab_type": "code",
        "colab": {
          "base_uri": "https://localhost:8080/",
          "height": 71
        },
        "outputId": "c61e9020-818b-4c98-ed8a-49a0f22c9c88"
      },
      "source": [
        "a = [(1,2), (3,4), (5,6)]\n",
        "\n",
        "for (first, last) in a:\n",
        "    print(first + last)\n",
        "\n"
      ],
      "execution_count": 10,
      "outputs": [
        {
          "output_type": "stream",
          "text": [
            "3\n",
            "7\n",
            "11\n"
          ],
          "name": "stdout"
        }
      ]
    },
    {
      "cell_type": "markdown",
      "metadata": {
        "id": "QafdXn5PuWnB",
        "colab_type": "text"
      },
      "source": [
        "### 3. for문의 응용"
      ]
    },
    {
      "cell_type": "markdown",
      "metadata": {
        "id": "E6AL4Co-uZap",
        "colab_type": "text"
      },
      "source": [
        " \"총 5명의 학생이 시험을 보았는데 시험 점수가 60점이 넘으면 \n",
        " 합격이고 그렇지 않으면 불합격이다. \n",
        " 합격인지 불합격인지 결과를 보여 주시오.\""
      ]
    },
    {
      "cell_type": "code",
      "metadata": {
        "id": "-Yig8bGGYpVJ",
        "colab_type": "code",
        "colab": {
          "base_uri": "https://localhost:8080/",
          "height": 107
        },
        "outputId": "a360f082-56d0-4a25-b65f-9ba0f49bbac3"
      },
      "source": [
        "marks = [90, 25, 67, 45, 80]\n",
        "\n",
        "number = 0 \n",
        "for mark in marks: \n",
        "    number = number +1 \n",
        "    if mark >= 60: \n",
        "        print(\"%d번 학생은 합격입니다.\" % number)\n",
        "    else: \n",
        "        print(\"%d번 학생은 불합격입니다.\" % number)\n"
      ],
      "execution_count": 12,
      "outputs": [
        {
          "output_type": "stream",
          "text": [
            "1번 학생은 합격입니다.\n",
            "2번 학생은 불합격입니다.\n",
            "3번 학생은 합격입니다.\n",
            "4번 학생은 불합격입니다.\n",
            "5번 학생은 합격입니다.\n"
          ],
          "name": "stdout"
        }
      ]
    },
    {
      "cell_type": "markdown",
      "metadata": {
        "id": "K6UpVr88ue7p",
        "colab_type": "text"
      },
      "source": [
        "### for문과 continue"
      ]
    },
    {
      "cell_type": "markdown",
      "metadata": {
        "id": "fSn_D5-2ukoh",
        "colab_type": "text"
      },
      "source": [
        " for문 안의 문장을 수행하는 도중에 continue문을 만나면 \n",
        " for문의 처음으로 돌아가게 된다.\n",
        " 앞에서 for문 응용 예제를 그대로 사용해서 60점 이상인 사람에게는 \n",
        " 축하 메시지를 보내고 나머지 사람에게는 아무 메시지도 전하지 않는 \n",
        " 프로그램을 작성."
      ]
    },
    {
      "cell_type": "code",
      "metadata": {
        "id": "OJRZkOHxYqic",
        "colab_type": "code",
        "colab": {
          "base_uri": "https://localhost:8080/",
          "height": 71
        },
        "outputId": "1ac282b1-b3bc-47bb-e8a0-39c143da0c9f"
      },
      "source": [
        " marks = [90, 25, 67, 45, 80]\n",
        "\n",
        "number = 0 \n",
        "for mark in marks: \n",
        "    number = number +1 \n",
        "    if mark < 60:\n",
        "        continue \n",
        "    print(\"%d번 학생 축하합니다. 합격입니다. \" % number)"
      ],
      "execution_count": 13,
      "outputs": [
        {
          "output_type": "stream",
          "text": [
            "1번 학생 축하합니다. 합격입니다. \n",
            "3번 학생 축하합니다. 합격입니다. \n",
            "5번 학생 축하합니다. 합격입니다. \n"
          ],
          "name": "stdout"
        }
      ]
    },
    {
      "cell_type": "markdown",
      "metadata": {
        "id": "JvB5o9R2url5",
        "colab_type": "text"
      },
      "source": [
        "### for문과 함께 자주 사용하는 range 함수"
      ]
    },
    {
      "cell_type": "markdown",
      "metadata": {
        "id": "kmsrH32ouua5",
        "colab_type": "text"
      },
      "source": [
        "range(number)\n",
        "\n",
        "range(시작 숫자, 끝 숫자)"
      ]
    },
    {
      "cell_type": "code",
      "metadata": {
        "id": "ntgxaClYZpfL",
        "colab_type": "code",
        "colab": {
          "base_uri": "https://localhost:8080/",
          "height": 35
        },
        "outputId": "e00fb84b-b4e7-4a2a-cada-598391fe4681"
      },
      "source": [
        "a = range(10)\n",
        "a"
      ],
      "execution_count": 17,
      "outputs": [
        {
          "output_type": "execute_result",
          "data": {
            "text/plain": [
              "range(0, 10)"
            ]
          },
          "metadata": {
            "tags": []
          },
          "execution_count": 17
        }
      ]
    },
    {
      "cell_type": "code",
      "metadata": {
        "id": "IyUopLwOaEns",
        "colab_type": "code",
        "colab": {
          "base_uri": "https://localhost:8080/",
          "height": 35
        },
        "outputId": "6a03a2fe-29cf-4e9d-ad1c-300182a6f8f3"
      },
      "source": [
        "type(a)"
      ],
      "execution_count": 16,
      "outputs": [
        {
          "output_type": "execute_result",
          "data": {
            "text/plain": [
              "range"
            ]
          },
          "metadata": {
            "tags": []
          },
          "execution_count": 16
        }
      ]
    },
    {
      "cell_type": "code",
      "metadata": {
        "id": "CVf4QbkpaJKj",
        "colab_type": "code",
        "colab": {
          "base_uri": "https://localhost:8080/",
          "height": 35
        },
        "outputId": "f53c3a97-f2e9-42a7-b765-0e153513f796"
      },
      "source": [
        "list(a)"
      ],
      "execution_count": 8,
      "outputs": [
        {
          "output_type": "execute_result",
          "data": {
            "text/plain": [
              "[0, 1, 2, 3, 4, 5, 6, 7, 8, 9]"
            ]
          },
          "metadata": {
            "tags": []
          },
          "execution_count": 8
        }
      ]
    },
    {
      "cell_type": "code",
      "metadata": {
        "id": "KI1ea40VaKR8",
        "colab_type": "code",
        "colab": {}
      },
      "source": [
        "a = range(1, 11) #시작값이 1이고 11미만의 정수이다\n",
        "a"
      ],
      "execution_count": 0,
      "outputs": []
    },
    {
      "cell_type": "markdown",
      "metadata": {
        "id": "Udtm_9mtu5PJ",
        "colab_type": "text"
      },
      "source": [
        "### range 함수를 이용한 코드"
      ]
    },
    {
      "cell_type": "code",
      "metadata": {
        "id": "yQQ2d15WZzzg",
        "colab_type": "code",
        "colab": {
          "base_uri": "https://localhost:8080/",
          "height": 35
        },
        "outputId": "667d13f9-3013-42b7-dc0a-7dda7abd497e"
      },
      "source": [
        "add = 0 \n",
        "for i in range(1, 11): \n",
        "    add = add + i\n",
        "\n",
        "print(add)\n"
      ],
      "execution_count": 9,
      "outputs": [
        {
          "output_type": "stream",
          "text": [
            "55\n"
          ],
          "name": "stdout"
        }
      ]
    },
    {
      "cell_type": "code",
      "metadata": {
        "id": "1dQ36g3_ayaF",
        "colab_type": "code",
        "colab": {
          "base_uri": "https://localhost:8080/",
          "height": 71
        },
        "outputId": "fd14f7fb-195e-4b94-cb90-41f0dcb9fa31"
      },
      "source": [
        "marks = [90, 25, 67, 45, 80]\n",
        "for number in range(len(marks)):\n",
        "    if marks[number] < 60: \n",
        "        continue\n",
        "    print(\"%d번 학생 축하합니다. 합격입니다.\" % (number+1))\n"
      ],
      "execution_count": 18,
      "outputs": [
        {
          "output_type": "stream",
          "text": [
            "1번 학생 축하합니다. 합격입니다.\n",
            "3번 학생 축하합니다. 합격입니다.\n",
            "5번 학생 축하합니다. 합격입니다.\n"
          ],
          "name": "stdout"
        }
      ]
    },
    {
      "cell_type": "markdown",
      "metadata": {
        "id": "20Lcq0nyvG6x",
        "colab_type": "text"
      },
      "source": [
        "## for와 range를 이용한 구구단"
      ]
    },
    {
      "cell_type": "markdown",
      "metadata": {
        "id": "8-2qpf3svIih",
        "colab_type": "text"
      },
      "source": [
        "\n",
        "for와 range 함수를 사용하면 \n",
        "소스 코드 단 4줄만으로 구구단을 출력"
      ]
    },
    {
      "cell_type": "markdown",
      "metadata": {
        "id": "qLiSqAEBvLuJ",
        "colab_type": "text"
      },
      "source": [
        "### 중첩 for 문"
      ]
    },
    {
      "cell_type": "code",
      "metadata": {
        "id": "gitLFB4EbK7X",
        "colab_type": "code",
        "colab": {
          "base_uri": "https://localhost:8080/",
          "height": 161
        },
        "outputId": "19450ab0-c97d-4d80-e4f0-bf726153b2f9"
      },
      "source": [
        "for i in range(2,10):         # ①번 for문 (i-loop)\n",
        "     for j in range(1, 10):   # ②번 for문 (j-loop)\n",
        "         print(i*j, end=\" \") \n",
        "     print('')   # 줄 바꿈"
      ],
      "execution_count": 19,
      "outputs": [
        {
          "output_type": "stream",
          "text": [
            "2 4 6 8 10 12 14 16 18 \n",
            "3 6 9 12 15 18 21 24 27 \n",
            "4 8 12 16 20 24 28 32 36 \n",
            "5 10 15 20 25 30 35 40 45 \n",
            "6 12 18 24 30 36 42 48 54 \n",
            "7 14 21 28 35 42 49 56 63 \n",
            "8 16 24 32 40 48 56 64 72 \n",
            "9 18 27 36 45 54 63 72 81 \n"
          ],
          "name": "stdout"
        }
      ]
    },
    {
      "cell_type": "markdown",
      "metadata": {
        "id": "dwgZQbi-vVGy",
        "colab_type": "text"
      },
      "source": [
        " 아래와 같이 출력하도록 코들르 변경해보시오.\n",
        "\n",
        " 2 X 1 = 2 2 X 2 = 4 2 X 3 = 6 2 X 4 = 8 2 X 5 = 10 2 X 6 = 12 2 X 7 = 14 2 X 8 = 16 2 X 9 = 18\n",
        " \n",
        " 3 X 1 = 3 3 X 2 = 6 3 X 3 = 9 3 X 4 = 12 3 X 5 = 15 3 X 6 = 18 3 X 7 = 21 3 X 8 = 24 3 X 9 = 27\n",
        " \n",
        " 4 X 1 = 4 4 X 2 = 8 4 X 3 = 12 4 X 4 = 16 4 X 5 = 20 4 X 6 = 24 4 X 7 = 28 4 X 8 = 32 4 X 9 = 36\n",
        " \n",
        " 5 X 1 = 5 5 X 2 = 10 5 X 3 = 15 5 X 4 = 20 5 X 5 = 25 5 X 6 = 30 5 X 7 = 35 5 X 8 = 40 5 X 9 = 45\n",
        " \n",
        " 6 X 1 = 6 6 X 2 = 12 6 X 3 = 18 6 X 4 = 24 6 X 5 = 30 6 X 6 = 36 6 X 7 = 42 6 X 8 = 48 6 X 9 = 54\n",
        " \n",
        " 7 X 1 = 7 7 X 2 = 14 7 X 3 = 21 7 X 4 = 28 7 X 5 = 35 7 X 6 = 42 7 X 7 = 49 7 X 8 = 56 7 X 9 = 63\n",
        " \n",
        " 8 X 1 = 8 8 X 2 = 16 8 X 3 = 24 8 X 4 = 32 8 X 5 = 40 8 X 6 = 48 8 X 7 = 56 8 X 8 = 64 8 X 9 = 72\n",
        " \n",
        " 9 X 1 = 9 9 X 2 = 18 9 X 3 = 27 9 X 4 = 36 9 X 5 = 45 9 X 6 = 54 9 X 7 = 63 9 X 8 = 72 9 X 9 = 81"
      ]
    },
    {
      "cell_type": "code",
      "metadata": {
        "id": "37nhK3R3khbI",
        "colab_type": "code",
        "colab": {
          "base_uri": "https://localhost:8080/",
          "height": 161
        },
        "outputId": "03492bb7-8139-4183-c155-21ee56f5fc3a"
      },
      "source": [
        "for i in range(2,10):        # ①번 for문\n",
        "     for j in range(1, 10):   # ②번 for문\n",
        "         print(i, \"X\", j, \"=\", i*j, end=\"  \") \n",
        "     print('') \n"
      ],
      "execution_count": 20,
      "outputs": [
        {
          "output_type": "stream",
          "text": [
            "2 X 1 = 2  2 X 2 = 4  2 X 3 = 6  2 X 4 = 8  2 X 5 = 10  2 X 6 = 12  2 X 7 = 14  2 X 8 = 16  2 X 9 = 18  \n",
            "3 X 1 = 3  3 X 2 = 6  3 X 3 = 9  3 X 4 = 12  3 X 5 = 15  3 X 6 = 18  3 X 7 = 21  3 X 8 = 24  3 X 9 = 27  \n",
            "4 X 1 = 4  4 X 2 = 8  4 X 3 = 12  4 X 4 = 16  4 X 5 = 20  4 X 6 = 24  4 X 7 = 28  4 X 8 = 32  4 X 9 = 36  \n",
            "5 X 1 = 5  5 X 2 = 10  5 X 3 = 15  5 X 4 = 20  5 X 5 = 25  5 X 6 = 30  5 X 7 = 35  5 X 8 = 40  5 X 9 = 45  \n",
            "6 X 1 = 6  6 X 2 = 12  6 X 3 = 18  6 X 4 = 24  6 X 5 = 30  6 X 6 = 36  6 X 7 = 42  6 X 8 = 48  6 X 9 = 54  \n",
            "7 X 1 = 7  7 X 2 = 14  7 X 3 = 21  7 X 4 = 28  7 X 5 = 35  7 X 6 = 42  7 X 7 = 49  7 X 8 = 56  7 X 9 = 63  \n",
            "8 X 1 = 8  8 X 2 = 16  8 X 3 = 24  8 X 4 = 32  8 X 5 = 40  8 X 6 = 48  8 X 7 = 56  8 X 8 = 64  8 X 9 = 72  \n",
            "9 X 1 = 9  9 X 2 = 18  9 X 3 = 27  9 X 4 = 36  9 X 5 = 45  9 X 6 = 54  9 X 7 = 63  9 X 8 = 72  9 X 9 = 81  \n"
          ],
          "name": "stdout"
        }
      ]
    },
    {
      "cell_type": "markdown",
      "metadata": {
        "id": "7Ok7LZ1avh45",
        "colab_type": "text"
      },
      "source": [
        "### 리스트 내포(List comprehension)"
      ]
    },
    {
      "cell_type": "code",
      "metadata": {
        "id": "b6_8QKPUklOZ",
        "colab_type": "code",
        "colab": {}
      },
      "source": [
        "a = [1,2,3,4]\n",
        "result = []\n",
        "for num in a:\n",
        "    result.append(num*3)\n",
        "\n",
        "\n",
        "print(result)"
      ],
      "execution_count": 0,
      "outputs": []
    },
    {
      "cell_type": "code",
      "metadata": {
        "id": "ZQtBpTSFknOR",
        "colab_type": "code",
        "colab": {}
      },
      "source": [
        "a = [1,2,3,4]\n",
        "result = [num*3 for num in a]\n",
        "print(result)\n"
      ],
      "execution_count": 0,
      "outputs": []
    },
    {
      "cell_type": "markdown",
      "metadata": {
        "id": "-eHwjejevq5R",
        "colab_type": "text"
      },
      "source": [
        "### 리스트 내포의 일반 문법"
      ]
    },
    {
      "cell_type": "markdown",
      "metadata": {
        "id": "4iD7GEezvtLC",
        "colab_type": "text"
      },
      "source": [
        "[표현식 for 항목 in 반복가능객체 if 조건문]\n",
        " -----------------------------------------\n",
        "\n",
        " 일반화\n",
        " \n",
        " [표현식 for 항목1 in 반복가능객체1 if 조건문1\n",
        " \n",
        "         for 항목2 in 반복가능객체2 if 조건문2\n",
        "         ...\n",
        "         for 항목n in 반복가능객체n if 조건문n]"
      ]
    },
    {
      "cell_type": "markdown",
      "metadata": {
        "id": "NZA-5VRhv1Ep",
        "colab_type": "text"
      },
      "source": [
        "###  예1. 구구단의 모든 결과를 리스트에 담는 코드"
      ]
    },
    {
      "cell_type": "code",
      "metadata": {
        "id": "1pKTDuM2ko8L",
        "colab_type": "code",
        "colab": {}
      },
      "source": [
        "result = [x*y for x in range(2,10) for y in range(1,10)]"
      ],
      "execution_count": 0,
      "outputs": []
    },
    {
      "cell_type": "markdown",
      "metadata": {
        "id": "g7iF_f2lv5w5",
        "colab_type": "text"
      },
      "source": [
        "### 예2. 9 이하의 정수 중 짝수는 2배로, 홀수는 그대로 리스트에 담는 코드"
      ]
    },
    {
      "cell_type": "code",
      "metadata": {
        "id": "jvEgaKoVksWN",
        "colab_type": "code",
        "colab": {}
      },
      "source": [
        "x = [1, 2, 3, 4, 5, 6, 7, 8, 9]  # -> [1, 4, 3, 8, 5, 12, 7, 16, 9]\n",
        "result = []\n",
        "for idx in range(len(x)):\n",
        "    if x[idx] % 2 == 0:\n",
        "        result.append(x[idx] * 2)\n",
        "    else:\n",
        "        result.append(x[idx])\n",
        "result"
      ],
      "execution_count": 0,
      "outputs": []
    },
    {
      "cell_type": "markdown",
      "metadata": {
        "id": "y547gkzkv8uJ",
        "colab_type": "text"
      },
      "source": [
        "### 짝수만 추출하여 2배로 만든 리스트 구성"
      ]
    },
    {
      "cell_type": "code",
      "metadata": {
        "id": "QZ-bkJQhktR8",
        "colab_type": "code",
        "colab": {}
      },
      "source": [
        "[element * 2 for element in x if element % 2 == 0]"
      ],
      "execution_count": 0,
      "outputs": []
    },
    {
      "cell_type": "markdown",
      "metadata": {
        "id": "REk80lQav_MZ",
        "colab_type": "text"
      },
      "source": [
        "### 그러면 짝수는 2배로, 홀수는 그대로 리스트에 담는 코드는?"
      ]
    },
    {
      "cell_type": "code",
      "metadata": {
        "id": "8IG2YShHkunJ",
        "colab_type": "code",
        "colab": {}
      },
      "source": [
        "[(element * 2 if element % 2 == 0 else element) for element in x]\n"
      ],
      "execution_count": 0,
      "outputs": []
    }
  ]
}