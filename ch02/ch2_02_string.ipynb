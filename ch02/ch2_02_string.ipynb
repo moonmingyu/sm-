{
  "nbformat": 4,
  "nbformat_minor": 0,
  "metadata": {
    "colab": {
      "name": "ch2_02_string.ipynb",
      "provenance": [],
      "collapsed_sections": [],
      "include_colab_link": true
    },
    "kernelspec": {
      "name": "python3",
      "display_name": "Python 3"
    }
  },
  "cells": [
    {
      "cell_type": "markdown",
      "metadata": {
        "id": "view-in-github",
        "colab_type": "text"
      },
      "source": [
        "<a href=\"https://colab.research.google.com/github/moonmingyu/sm-/blob/master/week2/ch2_02_string.ipynb\" target=\"_parent\"><img src=\"https://colab.research.google.com/assets/colab-badge.svg\" alt=\"Open In Colab\"/></a>"
      ]
    },
    {
      "cell_type": "markdown",
      "metadata": {
        "id": "E_ty61sorRM3",
        "colab_type": "text"
      },
      "source": [
        "# **파이썬 데이터 문자열**"
      ]
    },
    {
      "cell_type": "markdown",
      "metadata": {
        "id": "5rbTBeeCuJZ7",
        "colab_type": "text"
      },
      "source": [
        "## **파이썬 문자열형식**"
      ]
    },
    {
      "cell_type": "code",
      "metadata": {
        "id": "923PZ5WvrHzC",
        "colab_type": "code",
        "colab": {
          "base_uri": "https://localhost:8080/",
          "height": 54
        },
        "outputId": "ebe53d83-5fcc-4762-8b2f-ec072fd23110"
      },
      "source": [
        "# \"Life is too short, you need python\"\n",
        "# 'Life is too short, you need python'\n",
        "# \"\"\"Life is too short, you need python\"\"\" -> 두줄이상의 문자열을 담을때 사용\n",
        "# '''Life is too short, you need python'''\n",
        "# ''가 디폴트로 사용됨\n",
        "\n",
        "print(\"문자열: '\")\n",
        "food = \"Python's favorite food is perl\"\n",
        "# \"\"안에있는'는 문자로 취급\n",
        "food"
      ],
      "execution_count": 1,
      "outputs": [
        {
          "output_type": "stream",
          "text": [
            "문자열: '\n"
          ],
          "name": "stdout"
        },
        {
          "output_type": "execute_result",
          "data": {
            "text/plain": [
              "\"Python's favorite food is perl\""
            ]
          },
          "metadata": {
            "tags": []
          },
          "execution_count": 1
        }
      ]
    },
    {
      "cell_type": "code",
      "metadata": {
        "id": "NCwkfk-Bro5M",
        "colab_type": "code",
        "colab": {
          "base_uri": "https://localhost:8080/",
          "height": 136
        },
        "outputId": "e16453d6-0388-4a68-c870-07ce3997cfa4"
      },
      "source": [
        "food = 'Python's favorite food is perl'  # Error\n",
        "# ''안에 '을 넣으면 앞에'까지만 문자열로 끊어버림 -> 뒤에문장들은 에러"
      ],
      "execution_count": 3,
      "outputs": [
        {
          "output_type": "error",
          "ename": "SyntaxError",
          "evalue": "ignored",
          "traceback": [
            "\u001b[0;36m  File \u001b[0;32m\"<ipython-input-3-0c73bb397290>\"\u001b[0;36m, line \u001b[0;32m1\u001b[0m\n\u001b[0;31m    food = 'Python's favorite food is perl'  # Error\u001b[0m\n\u001b[0m                   ^\u001b[0m\n\u001b[0;31mSyntaxError\u001b[0m\u001b[0;31m:\u001b[0m invalid syntax\n"
          ]
        }
      ]
    },
    {
      "cell_type": "code",
      "metadata": {
        "id": "gsPVPyJysa32",
        "colab_type": "code",
        "colab": {
          "base_uri": "https://localhost:8080/",
          "height": 35
        },
        "outputId": "cf0cbb7e-2241-4861-e8bb-7af8f4581d87"
      },
      "source": [
        "say = '\"Python is very easy.\" he says.'\n",
        "# ''안에 \" \"를 넣으면 \"를 문자열로 취급\"\n",
        "print(say)"
      ],
      "execution_count": 5,
      "outputs": [
        {
          "output_type": "stream",
          "text": [
            "\"Python is very easy.\" he says.\n"
          ],
          "name": "stdout"
        }
      ]
    },
    {
      "cell_type": "markdown",
      "metadata": {
        "id": "XbFB9SHhuQXe",
        "colab_type": "text"
      },
      "source": [
        "## **특수문자로 사용**"
      ]
    },
    {
      "cell_type": "code",
      "metadata": {
        "id": "Tnt8GQR9s0pu",
        "colab_type": "code",
        "colab": {
          "base_uri": "https://localhost:8080/",
          "height": 72
        },
        "outputId": "50ffd4d4-530d-49b9-cfc5-0668d387c596"
      },
      "source": [
        "print(\"문자열: \\ 이용\")\n",
        "food = 'Python\\'s favorite food is perl'\n",
        "    # 중앙에있는 '가 특수코드라는걸 표시하기 위해 \\를 사용\n",
        "say = \"\\\"Python is very easy.\\\" he says.\"\n",
        "    # 마찬가지로 \"를 \\를 이용해 문자따움표로 지정\n",
        "print(food)\n",
        "print(say)"
      ],
      "execution_count": 8,
      "outputs": [
        {
          "output_type": "stream",
          "text": [
            "문자열: \\ 이용\n",
            "Python's favorite food is perl\n",
            "\"Python is very easy.\" he says.\n"
          ],
          "name": "stdout"
        }
      ]
    },
    {
      "cell_type": "markdown",
      "metadata": {
        "id": "2F8gl-B5uVqe",
        "colab_type": "text"
      },
      "source": [
        "## **이스케이프 코드**"
      ]
    },
    {
      "cell_type": "code",
      "metadata": {
        "id": "c1CgLyOosrwG",
        "colab_type": "code",
        "colab": {
          "base_uri": "https://localhost:8080/",
          "height": 145
        },
        "outputId": "d172ef9b-8620-4df8-910f-6b2576629a48"
      },
      "source": [
        "# 이스케이프 코드\n",
        "print(\"문자열: 이스케이프 코드 이용\")\n",
        "multiline = \"Life is too short\\nYou need python\"\n",
        "multiline\n",
        "print(multiline)\n",
        "# 그냥 multiline 을쓰면 \\n문자 그대로나오는데 print 함수를 이용해 출력하면 \\n 줄바꾸기 기능이 적용됨\n",
        "# 여러줄 문자열 처리\n",
        "multiline = '''\n",
        "... Life is too short\n",
        "... You need python\n",
        "... '''                 # '''   '''안에서 enter치면 줄바뀐다\n",
        "multiline #  줄이 안바뀌고 \\n으로 표시된다\n",
        "print(multiline)\n"
      ],
      "execution_count": 11,
      "outputs": [
        {
          "output_type": "stream",
          "text": [
            "문자열: 이스케이프 코드 이용\n",
            "Life is too short\n",
            "You need python\n",
            "\n",
            "... Life is too short\n",
            "... You need python\n",
            "... \n"
          ],
          "name": "stdout"
        }
      ]
    },
    {
      "cell_type": "markdown",
      "metadata": {
        "id": "fE12IkWdvCRF",
        "colab_type": "text"
      },
      "source": [
        "## **문자열 더하기와 곱하기**"
      ]
    },
    {
      "cell_type": "code",
      "metadata": {
        "id": "C6vTEZxWu8Ed",
        "colab_type": "code",
        "colab": {
          "base_uri": "https://localhost:8080/",
          "height": 108
        },
        "outputId": "bb0866e2-b632-4193-a482-a5fb3bb6294d"
      },
      "source": [
        "################################################\n",
        "print(\"문자열 연산: 더하기\")\n",
        "head = \"Python\"\n",
        "tail = \" is fun!\"\n",
        "head + tail #두개의 문자열을 합친다\n",
        "\n",
        "print(\"문자열 연산: 곱하기\")\n",
        "a = \"python\"\n",
        "a * 2 # 문자열을 2번 붙여서 출력\n",
        "\n",
        "#####################################\n",
        "# multistring.py\n",
        "print(\"=\" * 50)\n",
        "print(\"I am now coding Python!\")\n",
        "print(\"=\" * 50)\n",
        "#####################################"
      ],
      "execution_count": 12,
      "outputs": [
        {
          "output_type": "stream",
          "text": [
            "문자열 연산: 더하기\n",
            "문자열 연산: 곱하기\n",
            "==================================================\n",
            "I am now coding Python!\n",
            "==================================================\n"
          ],
          "name": "stdout"
        }
      ]
    },
    {
      "cell_type": "markdown",
      "metadata": {
        "id": "9s-L_5fAveJ9",
        "colab_type": "text"
      },
      "source": [
        "## **문자열 길이 구하기**"
      ]
    },
    {
      "cell_type": "code",
      "metadata": {
        "id": "WSM0ztiOuiva",
        "colab_type": "code",
        "colab": {
          "base_uri": "https://localhost:8080/",
          "height": 72
        },
        "outputId": "cf76c8ba-f8c9-41b6-fc80-b06f7020e6e0"
      },
      "source": [
        "# 내장함수: len()\n",
        "print(\"문자열 연산: 길이 구하기 - len()\")\n",
        "a = \"Life is too short\"\n",
        "print(a)\n",
        "len(a) # 문자열의 공백포함 char 갯수를 구한다"
      ],
      "execution_count": 18,
      "outputs": [
        {
          "output_type": "stream",
          "text": [
            "문자열 연산: 길이 구하기 - len()\n",
            "Life is too short\n"
          ],
          "name": "stdout"
        },
        {
          "output_type": "execute_result",
          "data": {
            "text/plain": [
              "17"
            ]
          },
          "metadata": {
            "tags": []
          },
          "execution_count": 18
        }
      ]
    },
    {
      "cell_type": "markdown",
      "metadata": {
        "id": "Oi2hzkg0vsFF",
        "colab_type": "text"
      },
      "source": [
        "## **문자열 인덱싱**"
      ]
    },
    {
      "cell_type": "code",
      "metadata": {
        "id": "3mOWk86DsO0f",
        "colab_type": "code",
        "colab": {
          "base_uri": "https://localhost:8080/",
          "height": 90
        },
        "outputId": "61ae46e2-049b-470e-cbc4-c7612023e942"
      },
      "source": [
        "#####################################\n",
        "#\n",
        "# 문자열 인덱싱과 슬라이싱\n",
        "#\n",
        "#####################################\n",
        "print(\"문자열: 인덱싱이란?\") \n",
        "a = \"Life is too short, You need Python\"\n",
        "print(a)\n",
        "print(a[3]) # 0부터 시작해서 3번째 위치에있는 e 출력\n",
        "print(a[15]) # 0부터 시작해 15번째에 위치하는 r 출력\n",
        "# \"파이썬은 0부터 숫자를 센다.\""
      ],
      "execution_count": 17,
      "outputs": [
        {
          "output_type": "stream",
          "text": [
            "문자열: 인덱싱이란?\n",
            "Life is too short, You need Python\n",
            "e\n",
            "r\n"
          ],
          "name": "stdout"
        }
      ]
    },
    {
      "cell_type": "markdown",
      "metadata": {
        "id": "ldJI8394wwPk",
        "colab_type": "text"
      },
      "source": [
        "## **인덱싱 활용**"
      ]
    },
    {
      "cell_type": "code",
      "metadata": {
        "id": "vjJNAKHEwUyO",
        "colab_type": "code",
        "colab": {
          "base_uri": "https://localhost:8080/",
          "height": 163
        },
        "outputId": "8be15e9d-77b7-4770-b6fe-73ba543dd7d6"
      },
      "source": [
        "print(\"문자열: 인덱싱 활용\")\n",
        "\n",
        "a = \"Life is too short, You need Python\"\n",
        "print(a[0])\n",
        "print(a[12])\n",
        "print(a[-1])\n",
        "print(a[-2])\n",
        "print(a[-5])\n",
        "print(a[-0]) #  a[-0] 은 a[0] 과 같다\n",
        "print(a[-12])\n",
        "# a[-0]\n",
        "# a[-] 는 문자열 뒤에서부터\n"
      ],
      "execution_count": 21,
      "outputs": [
        {
          "output_type": "stream",
          "text": [
            "문자열: 인덱싱 활용\n",
            "L\n",
            "s\n",
            "n\n",
            "o\n",
            "y\n",
            "L\n",
            " \n"
          ],
          "name": "stdout"
        }
      ]
    },
    {
      "cell_type": "markdown",
      "metadata": {
        "id": "2Tw65X6-xdR0",
        "colab_type": "text"
      },
      "source": [
        "## **문자열 슬라이싱**"
      ]
    },
    {
      "cell_type": "code",
      "metadata": {
        "id": "F_QRx5g4w0NL",
        "colab_type": "code",
        "colab": {
          "base_uri": "https://localhost:8080/",
          "height": 235
        },
        "outputId": "8217af58-93d2-4be6-bfdd-1247c2e3386c"
      },
      "source": [
        "#####################################\n",
        "print(\"문자열: 슬라이싱이란?\")\n",
        "a = \"Life is too short, You need Python\"\n",
        "print(a)\n",
        "# Life 를 뽑아낼려면 어떻게?\n",
        "b = a[0] + a[1] + a[2] + a[3]  # 문자열 뎌하기 연산\n",
        "print(b)\n",
        "# slicing (슬라이싱)\n",
        "print(a[0:4])  # 0 <= index < 4\n",
        "print(a[0:5]) #0~4\n",
        "print(a[5:7]) #5~6\n",
        "print(a[12:17])\n",
        "# : 의 사용\n",
        "print(a[:4]) # start가 지정안되면 제일처음부터\n",
        "print(a[19:]) # end가 지정안되면 제일끝까지\n",
        "print(a[:17])\n",
        "\n",
        "print(a[:]) # 전체\n",
        "\n",
        "# a[19:-7] ? -> index 19부터 뒤에서 7번째전까지\n",
        "print(a[19:-7])\n"
      ],
      "execution_count": 25,
      "outputs": [
        {
          "output_type": "stream",
          "text": [
            "문자열: 슬라이싱이란?\n",
            "Life is too short, You need Python\n",
            "Life\n",
            "Life\n",
            "Life \n",
            "is\n",
            "short\n",
            "Life\n",
            "You need Python\n",
            "Life is too short\n",
            "Life is too short, You need Python\n",
            "You need\n"
          ],
          "name": "stdout"
        }
      ]
    },
    {
      "cell_type": "markdown",
      "metadata": {
        "id": "l37t3MzxyNNU",
        "colab_type": "text"
      },
      "source": [
        "## **문자열 슬라이싱 응용**"
      ]
    },
    {
      "cell_type": "code",
      "metadata": {
        "id": "qBjS02SWxbWR",
        "colab_type": "code",
        "colab": {
          "base_uri": "https://localhost:8080/",
          "height": 90
        },
        "outputId": "cf0211c0-8ec8-44fa-c1bf-dc96ad42d742"
      },
      "source": [
        "\n",
        "print(\"문자열: 슬라이싱 응용?\")\n",
        "a = \"20190909Sunny\"\n",
        "print(a)\n",
        "date = a[:8]\n",
        "weather = a[8:]\n",
        "print(date)\n",
        "print(weather)"
      ],
      "execution_count": 31,
      "outputs": [
        {
          "output_type": "stream",
          "text": [
            "문자열: 슬라이싱 응용?\n",
            "20190909Sunny\n",
            "20190909\n",
            "Sunny\n"
          ],
          "name": "stdout"
        }
      ]
    },
    {
      "cell_type": "code",
      "metadata": {
        "id": "AEEFbU3lyy0y",
        "colab_type": "code",
        "colab": {
          "base_uri": "https://localhost:8080/",
          "height": 54
        },
        "outputId": "ac6f841f-8231-4d8b-c27a-c390f6704a3b"
      },
      "source": [
        "\n",
        "\n",
        "a = \"20190917Rainy\"\n",
        "print(a)\n",
        "year = a[:4]\n",
        "day = a[4:8]\n",
        "weather = a[8:]\n",
        "print(year,day,weather)\n"
      ],
      "execution_count": 32,
      "outputs": [
        {
          "output_type": "stream",
          "text": [
            "20190917Rainy\n",
            "2019 0917 Rainy\n"
          ],
          "name": "stdout"
        }
      ]
    },
    {
      "cell_type": "markdown",
      "metadata": {
        "id": "j8a7Whx1zxc8",
        "colab_type": "text"
      },
      "source": [
        "## **문자열에 입력된 값 수정하기**"
      ]
    },
    {
      "cell_type": "code",
      "metadata": {
        "id": "nSrXn8vqy2by",
        "colab_type": "code",
        "colab": {
          "base_uri": "https://localhost:8080/",
          "height": 227
        },
        "outputId": "e69ed9d8-463b-4132-b681-d7d52ce477b3"
      },
      "source": [
        "# \"Pithon\"이라는 문자열을 \"Python\"으로 바꾸려면?\n",
        "a = \"Pithon\"\n",
        "print(a)\n",
        "a[1]\n",
        "a[1] = 'y'  # Error (immutable(불변)한 자료형 이라서 고칠수가없다\n"
      ],
      "execution_count": 36,
      "outputs": [
        {
          "output_type": "stream",
          "text": [
            "Pithon\n"
          ],
          "name": "stdout"
        },
        {
          "output_type": "error",
          "ename": "TypeError",
          "evalue": "ignored",
          "traceback": [
            "\u001b[0;31m---------------------------------------------------------------------------\u001b[0m",
            "\u001b[0;31mTypeError\u001b[0m                                 Traceback (most recent call last)",
            "\u001b[0;32m<ipython-input-36-c4d859512357>\u001b[0m in \u001b[0;36m<module>\u001b[0;34m()\u001b[0m\n\u001b[1;32m      2\u001b[0m \u001b[0mprint\u001b[0m\u001b[0;34m(\u001b[0m\u001b[0ma\u001b[0m\u001b[0;34m)\u001b[0m\u001b[0;34m\u001b[0m\u001b[0;34m\u001b[0m\u001b[0m\n\u001b[1;32m      3\u001b[0m \u001b[0ma\u001b[0m\u001b[0;34m[\u001b[0m\u001b[0;36m1\u001b[0m\u001b[0;34m]\u001b[0m\u001b[0;34m\u001b[0m\u001b[0;34m\u001b[0m\u001b[0m\n\u001b[0;32m----> 4\u001b[0;31m \u001b[0ma\u001b[0m\u001b[0;34m[\u001b[0m\u001b[0;36m1\u001b[0m\u001b[0;34m]\u001b[0m \u001b[0;34m=\u001b[0m \u001b[0;34m'y'\u001b[0m  \u001b[0;31m# Error (immutable(불변)한 자료형 이라서 고칠수가없다\u001b[0m\u001b[0;34m\u001b[0m\u001b[0;34m\u001b[0m\u001b[0m\n\u001b[0m",
            "\u001b[0;31mTypeError\u001b[0m: 'str' object does not support item assignment"
          ]
        }
      ]
    },
    {
      "cell_type": "code",
      "metadata": {
        "id": "Lp3idBo8y7fX",
        "colab_type": "code",
        "colab": {
          "base_uri": "https://localhost:8080/",
          "height": 35
        },
        "outputId": "ee5bd062-dc27-4614-9ff4-4bcafb708760"
      },
      "source": [
        "#################\n",
        "a = \"Pithon\"\n",
        "a[:1]\n",
        "a[2:]\n",
        "a[:1] + 'y' + a[2:]  # Python -> 문자열을 쪼개서 문자 변경후 다시 합쳤다"
      ],
      "execution_count": 35,
      "outputs": [
        {
          "output_type": "execute_result",
          "data": {
            "text/plain": [
              "'Python'"
            ]
          },
          "metadata": {
            "tags": []
          },
          "execution_count": 35
        }
      ]
    },
    {
      "cell_type": "markdown",
      "metadata": {
        "id": "RvR3epmc0xXi",
        "colab_type": "text"
      },
      "source": [
        "## **문자열 포매팅**"
      ]
    },
    {
      "cell_type": "code",
      "metadata": {
        "id": "2l9RbuRd04fi",
        "colab_type": "code",
        "colab": {
          "base_uri": "https://localhost:8080/",
          "height": 90
        },
        "outputId": "3667d6bd-241a-44d4-917c-df45b20b4a8d"
      },
      "source": [
        "\n",
        "print(\"문자열: 포매팅이란?\")\n",
        "# 1. 숫자 바로 대입\n",
        "print(\"I eat %d apples.\" % 3) # % 3이 %d 에 바로 대입됨\n",
        "\n",
        "# 2. 문자열 바로 대입\n",
        "print(\"I eat %s apples.\" % \"five\") # 문자열이아닌 그냥 five 로하면 에러발생\n",
        "\n",
        "# 3. 숫자 값을 나타내는 변수로 대입\n",
        "number = 3\n",
        "\"I eat %d apples.\" % number\n"
      ],
      "execution_count": 39,
      "outputs": [
        {
          "output_type": "stream",
          "text": [
            "문자열: 포매팅이란?\n",
            "I eat 3 apples.\n",
            "I eat five apples.\n"
          ],
          "name": "stdout"
        },
        {
          "output_type": "execute_result",
          "data": {
            "text/plain": [
              "'I eat 3 apples.'"
            ]
          },
          "metadata": {
            "tags": []
          },
          "execution_count": 39
        }
      ]
    },
    {
      "cell_type": "markdown",
      "metadata": {
        "id": "1mP9WCUe2yfq",
        "colab_type": "text"
      },
      "source": [
        "## **2개이상의 값넣기**"
      ]
    },
    {
      "cell_type": "code",
      "metadata": {
        "id": "-ftWs6xh2gSS",
        "colab_type": "code",
        "colab": {
          "base_uri": "https://localhost:8080/",
          "height": 209
        },
        "outputId": "e8347f5d-29be-4faa-92bb-ee1bf739d0ee"
      },
      "source": [
        "number = 10\n",
        "day = \"three\"\n",
        "print(\"I ate %d apples. so I was sick for %s days.\" % number , day)   # 안묶어주면 Error\n"
      ],
      "execution_count": 40,
      "outputs": [
        {
          "output_type": "error",
          "ename": "TypeError",
          "evalue": "ignored",
          "traceback": [
            "\u001b[0;31m---------------------------------------------------------------------------\u001b[0m",
            "\u001b[0;31mTypeError\u001b[0m                                 Traceback (most recent call last)",
            "\u001b[0;32m<ipython-input-40-1debcb493c2f>\u001b[0m in \u001b[0;36m<module>\u001b[0;34m()\u001b[0m\n\u001b[1;32m      1\u001b[0m \u001b[0mnumber\u001b[0m \u001b[0;34m=\u001b[0m \u001b[0;36m10\u001b[0m\u001b[0;34m\u001b[0m\u001b[0;34m\u001b[0m\u001b[0m\n\u001b[1;32m      2\u001b[0m \u001b[0mday\u001b[0m \u001b[0;34m=\u001b[0m \u001b[0;34m\"three\"\u001b[0m\u001b[0;34m\u001b[0m\u001b[0;34m\u001b[0m\u001b[0m\n\u001b[0;32m----> 3\u001b[0;31m \u001b[0mprint\u001b[0m\u001b[0;34m(\u001b[0m\u001b[0;34m\"I ate %d apples. so I was sick for %s days.\"\u001b[0m \u001b[0;34m%\u001b[0m \u001b[0mnumber\u001b[0m \u001b[0;34m,\u001b[0m \u001b[0mday\u001b[0m\u001b[0;34m)\u001b[0m   \u001b[0;31m# 안묶어주면 Error\u001b[0m\u001b[0;34m\u001b[0m\u001b[0;34m\u001b[0m\u001b[0m\n\u001b[0m",
            "\u001b[0;31mTypeError\u001b[0m: not enough arguments for format string"
          ]
        }
      ]
    },
    {
      "cell_type": "code",
      "metadata": {
        "id": "Rq7fbsri2-3-",
        "colab_type": "code",
        "colab": {
          "base_uri": "https://localhost:8080/",
          "height": 35
        },
        "outputId": "d0e65787-fe5e-4bd8-82f0-c6eff2e27ae4"
      },
      "source": [
        "\n",
        "\"I ate %d apples. so I was sick for %s days.\" % (number, day)\n",
        "# 소괄호 안에 콤마(,)로 구분하여 각각의 값을 넣어 준다.\n"
      ],
      "execution_count": 41,
      "outputs": [
        {
          "output_type": "execute_result",
          "data": {
            "text/plain": [
              "'I ate 10 apples. so I was sick for three days.'"
            ]
          },
          "metadata": {
            "tags": []
          },
          "execution_count": 41
        }
      ]
    },
    {
      "cell_type": "markdown",
      "metadata": {
        "id": "QQRLaSM_3E3h",
        "colab_type": "text"
      },
      "source": [
        "## **문자열 포멧 코드**"
      ]
    },
    {
      "cell_type": "code",
      "metadata": {
        "id": "ERuTksha3Bcd",
        "colab_type": "code",
        "colab": {
          "base_uri": "https://localhost:8080/",
          "height": 54
        },
        "outputId": "c5c3cd9d-49ef-4e07-8a37-ca38232ebd75"
      },
      "source": [
        "print(\"문자열: 포맷 코드\")\n",
        "# %d, %s, %c, %f, %o, %x, %%->%를 출력하고싶을때\n",
        "# %s, 묵시적 형변환\n",
        "\"I have %s apples\" % 3 # 숫자를 문자열로 형변환해서 대입해줌\n"
      ],
      "execution_count": 44,
      "outputs": [
        {
          "output_type": "stream",
          "text": [
            "문자열: 포맷 코드\n"
          ],
          "name": "stdout"
        },
        {
          "output_type": "execute_result",
          "data": {
            "text/plain": [
              "'I have 3 apples'"
            ]
          },
          "metadata": {
            "tags": []
          },
          "execution_count": 44
        }
      ]
    },
    {
      "cell_type": "code",
      "metadata": {
        "id": "PCpwq8Ov3eAV",
        "colab_type": "code",
        "colab": {
          "base_uri": "https://localhost:8080/",
          "height": 35
        },
        "outputId": "964f9272-2d0a-47e0-e56d-df522fc27522"
      },
      "source": [
        "\"rate is %s\" % 3.234 # 실수도 형변환해서 대입"
      ],
      "execution_count": 45,
      "outputs": [
        {
          "output_type": "execute_result",
          "data": {
            "text/plain": [
              "'rate is 3.234'"
            ]
          },
          "metadata": {
            "tags": []
          },
          "execution_count": 45
        }
      ]
    },
    {
      "cell_type": "code",
      "metadata": {
        "id": "6Wvg4ISM3g1w",
        "colab_type": "code",
        "colab": {
          "base_uri": "https://localhost:8080/",
          "height": 173
        },
        "outputId": "930d7d0d-1d78-4a93-ee95-819dfee33c2e"
      },
      "source": [
        "\"Error is %d%.\" % 98 # %를 출력하고싶을때 %한개만쓰면 에러"
      ],
      "execution_count": 46,
      "outputs": [
        {
          "output_type": "error",
          "ename": "ValueError",
          "evalue": "ignored",
          "traceback": [
            "\u001b[0;31m---------------------------------------------------------------------------\u001b[0m",
            "\u001b[0;31mValueError\u001b[0m                                Traceback (most recent call last)",
            "\u001b[0;32m<ipython-input-46-89a3bd5a0abf>\u001b[0m in \u001b[0;36m<module>\u001b[0;34m()\u001b[0m\n\u001b[0;32m----> 1\u001b[0;31m \u001b[0;34m\"Error is %d%.\"\u001b[0m \u001b[0;34m%\u001b[0m \u001b[0;36m98\u001b[0m \u001b[0;31m# %를 출력하고싶을때 %한개만쓰면 에러\u001b[0m\u001b[0;34m\u001b[0m\u001b[0;34m\u001b[0m\u001b[0m\n\u001b[0m",
            "\u001b[0;31mValueError\u001b[0m: incomplete format"
          ]
        }
      ]
    },
    {
      "cell_type": "code",
      "metadata": {
        "id": "Q3VhujP_3Tnd",
        "colab_type": "code",
        "colab": {
          "base_uri": "https://localhost:8080/",
          "height": 35
        },
        "outputId": "2ff463a5-bb98-456a-de69-9a598cb24e4d"
      },
      "source": [
        "\n",
        "\"Error is %d%%.\" % 98\n"
      ],
      "execution_count": 47,
      "outputs": [
        {
          "output_type": "execute_result",
          "data": {
            "text/plain": [
              "'Error is 98%.'"
            ]
          },
          "metadata": {
            "tags": []
          },
          "execution_count": 47
        }
      ]
    },
    {
      "cell_type": "markdown",
      "metadata": {
        "id": "2GUMh2zz3tJ5",
        "colab_type": "text"
      },
      "source": [
        "## **포멧코드와 숫자 함께사용하기**"
      ]
    },
    {
      "cell_type": "markdown",
      "metadata": {
        "id": "hi7BLwu24zGB",
        "colab_type": "text"
      },
      "source": [
        "### **정렬과 공백**"
      ]
    },
    {
      "cell_type": "code",
      "metadata": {
        "id": "l-mM06UI3MwB",
        "colab_type": "code",
        "colab": {
          "base_uri": "https://localhost:8080/",
          "height": 54
        },
        "outputId": "0b9397b6-0c0e-4676-d4b0-b903bf7a4111"
      },
      "source": [
        "###############################################-p60\n",
        "print(\"문자열: 포맷 코드와 숫자 함께 사용하기\")\n",
        "# 1. 정렬과 공백\n",
        "\"%10s\" % \"hi\" #10칸을 잡고 hi를 출력"
      ],
      "execution_count": 51,
      "outputs": [
        {
          "output_type": "stream",
          "text": [
            "문자열: 포맷 코드와 숫자 함께 사용하기\n"
          ],
          "name": "stdout"
        },
        {
          "output_type": "execute_result",
          "data": {
            "text/plain": [
              "'        hi'"
            ]
          },
          "metadata": {
            "tags": []
          },
          "execution_count": 51
        }
      ]
    },
    {
      "cell_type": "code",
      "metadata": {
        "id": "KTHSbzWP34pl",
        "colab_type": "code",
        "colab": {
          "base_uri": "https://localhost:8080/",
          "height": 35
        },
        "outputId": "ffea1cb5-c7ca-46fc-e4d9-48c78dc35517"
      },
      "source": [
        "\"%-10sjane.\" % \"hi\" # %-10s -> 10칸을 잡아서 hi를 앞에서 출력"
      ],
      "execution_count": 52,
      "outputs": [
        {
          "output_type": "execute_result",
          "data": {
            "text/plain": [
              "'hi        jane.'"
            ]
          },
          "metadata": {
            "tags": []
          },
          "execution_count": 52
        }
      ]
    },
    {
      "cell_type": "markdown",
      "metadata": {
        "id": "emaYt-sO4qS4",
        "colab_type": "text"
      },
      "source": [
        "### **소숫점 표현하기**"
      ]
    },
    {
      "cell_type": "code",
      "metadata": {
        "id": "JwFFabWm36Q9",
        "colab_type": "code",
        "colab": {
          "base_uri": "https://localhost:8080/",
          "height": 35
        },
        "outputId": "af244b8b-c2a5-429e-b395-1dfa4a840994"
      },
      "source": [
        "\n",
        "# 2. 소수점 표현하기\n",
        "\"%0.4f\" % 3.42134234 # 소숫점이하 4째자리까지 출력"
      ],
      "execution_count": 53,
      "outputs": [
        {
          "output_type": "execute_result",
          "data": {
            "text/plain": [
              "'3.4213'"
            ]
          },
          "metadata": {
            "tags": []
          },
          "execution_count": 53
        }
      ]
    },
    {
      "cell_type": "code",
      "metadata": {
        "id": "ISsmMmC95BF0",
        "colab_type": "code",
        "colab": {
          "base_uri": "https://localhost:8080/",
          "height": 35
        },
        "outputId": "d25c3ffb-a427-43ac-f0c0-0dc1872f2b72"
      },
      "source": [
        "\n",
        "\"%10.4f\" % 3.42134234 # 10칸을 잡고 소숫점이하 4째 자리까지 출력\n"
      ],
      "execution_count": 54,
      "outputs": [
        {
          "output_type": "execute_result",
          "data": {
            "text/plain": [
              "'    3.4213'"
            ]
          },
          "metadata": {
            "tags": []
          },
          "execution_count": 54
        }
      ]
    },
    {
      "cell_type": "markdown",
      "metadata": {
        "id": "hWlfvR9E5K4I",
        "colab_type": "text"
      },
      "source": [
        "## **format함수를 이용한 포메팅**"
      ]
    },
    {
      "cell_type": "markdown",
      "metadata": {
        "id": "uhJHCKud5SBI",
        "colab_type": "text"
      },
      "source": [
        "### **숫자바로 대입하기**"
      ]
    },
    {
      "cell_type": "code",
      "metadata": {
        "id": "T0DaLg_h3yVM",
        "colab_type": "code",
        "colab": {}
      },
      "source": [
        "print(\"문자열: format 함수를 사용한 포매팅\")\n",
        "# 1. 숫자 바로 대입하기\n",
        "\"I eat {0} apples\".format(3)\n",
        "\"I eat {0} {1} apples\".format(3, 4) # {0}에는 3 {1}에는 4대입됨"
      ],
      "execution_count": 0,
      "outputs": []
    },
    {
      "cell_type": "markdown",
      "metadata": {
        "id": "4isNmloQ5Wmx",
        "colab_type": "text"
      },
      "source": [
        "### **문자열 바로 대입하기**"
      ]
    },
    {
      "cell_type": "code",
      "metadata": {
        "id": "EkXR0qsQ5VSt",
        "colab_type": "code",
        "colab": {
          "base_uri": "https://localhost:8080/",
          "height": 54
        },
        "outputId": "9719ef2b-eb1e-4417-9b8a-a61cdabcd608"
      },
      "source": [
        "\n",
        "# 2. 문자열 바로 대입하기\n",
        "print(\"I eat {0} apples\".format(\"five\"))\n",
        "print(\"I eat {0} apples from {1} boxes\".format(\"five\", \"three\"))  #앞에꺼와 갯수를맞춘 값들을 대입"
      ],
      "execution_count": 55,
      "outputs": [
        {
          "output_type": "stream",
          "text": [
            "I eat five apples\n",
            "I eat five apples from three boxes\n"
          ],
          "name": "stdout"
        }
      ]
    },
    {
      "cell_type": "markdown",
      "metadata": {
        "id": "iRwCiSvo5wle",
        "colab_type": "text"
      },
      "source": [
        "### **숫자 값을 가진 변수로 대입하기**"
      ]
    },
    {
      "cell_type": "code",
      "metadata": {
        "id": "FmXGOlfs5p59",
        "colab_type": "code",
        "colab": {
          "base_uri": "https://localhost:8080/",
          "height": 54
        },
        "outputId": "838f72db-d355-411b-fd1c-2fb7f4acae5e"
      },
      "source": [
        "# 3. 숫자 값을 가진 변수로 대입하기\n",
        "number = 3\n",
        "print(\"I eat {0} apples\".format(number))\n",
        "print(\"I eat {0} apples\".format(number + 1)) # 연산을해서 4가들어간다"
      ],
      "execution_count": 57,
      "outputs": [
        {
          "output_type": "stream",
          "text": [
            "I eat 3 apples\n",
            "I eat 4 apples\n"
          ],
          "name": "stdout"
        }
      ]
    },
    {
      "cell_type": "markdown",
      "metadata": {
        "id": "k-ooRuj16EXw",
        "colab_type": "text"
      },
      "source": [
        "### **2개 이상의 값 넣기**"
      ]
    },
    {
      "cell_type": "code",
      "metadata": {
        "id": "zM2ph6Cb5bV-",
        "colab_type": "code",
        "colab": {
          "base_uri": "https://localhost:8080/",
          "height": 72
        },
        "outputId": "18278a4e-e146-4a87-d5da-9bc89c5fd9ae"
      },
      "source": [
        "# 2개 이상의 값 넣기\n",
        "number = 10\n",
        "day = \"three\"\n",
        "print(\"I ate {0} apples. so I was sick for {1} days.\".format(number, day))\n",
        "# 이름으로 넣기\n",
        "print(\"I ate {number} apples. so I was sick for {day} days.\".format(number=10, day=3))\n",
        "# 인덱스와 이름을 혼용해서 넣기\n",
        "print(\"I ate {0} apples. so I was sick for {day} days.\".format(10, day=3)) # 숫자랑 변수를 섞어서 써도 알아서 처리해준다\n",
        "#"
      ],
      "execution_count": 58,
      "outputs": [
        {
          "output_type": "stream",
          "text": [
            "I ate 10 apples. so I was sick for three days.\n",
            "I ate 10 apples. so I was sick for 3 days.\n",
            "I ate 10 apples. so I was sick for 3 days.\n"
          ],
          "name": "stdout"
        }
      ]
    },
    {
      "cell_type": "markdown",
      "metadata": {
        "id": "GKGNkMSe6q4o",
        "colab_type": "text"
      },
      "source": [
        "## **문자열 정렬**"
      ]
    },
    {
      "cell_type": "code",
      "metadata": {
        "id": "3rdEKeWG5u1b",
        "colab_type": "code",
        "colab": {
          "base_uri": "https://localhost:8080/",
          "height": 126
        },
        "outputId": "4656d488-3281-4ccd-945e-e477bc6dc614"
      },
      "source": [
        "######################################\n",
        "# 왼쪽 정렬/ 오른쪽 정렬\n",
        "print(\"{0:<10}\".format(\"hi\")) #{0:<10} 10칸을잡아 좌측정렬\n",
        "print(\"{0:>10}\".format(\"hi\")) \n",
        "# 가운데 정렬\n",
        "print(\"{0:^10}\".format(\"hi\"))\n",
        "# 공백 채우기\n",
        "print(\"{0:=^10}\".format(\"hi\")) #{0:=^10} 10칸을 가운데정렬하고 빈칸을 =로 채운다\n",
        "print(\"{0:!<10}\".format(\"hi\"))\n",
        "# 도전하기\n",
        "print(\"{0:<10}{1:>10}\".format(\"hi\",'comsi'))\n",
        "\n",
        "#########################################\n"
      ],
      "execution_count": 61,
      "outputs": [
        {
          "output_type": "stream",
          "text": [
            "hi        \n",
            "        hi\n",
            "    hi    \n",
            "====hi====\n",
            "hi!!!!!!!!\n",
            "hi             comsi\n"
          ],
          "name": "stdout"
        }
      ]
    },
    {
      "cell_type": "markdown",
      "metadata": {
        "id": "tkvfZA9w7Zvg",
        "colab_type": "text"
      },
      "source": [
        "## **소수점 표현하기**"
      ]
    },
    {
      "cell_type": "code",
      "metadata": {
        "id": "SSfqlr6P6uAT",
        "colab_type": "code",
        "colab": {
          "base_uri": "https://localhost:8080/",
          "height": 35
        },
        "outputId": "7bf72c1a-376e-4523-edb0-b5f717d56180"
      },
      "source": [
        "# 소수점 표현하기\n",
        "y = 3.42134234\n",
        "\"{0:0.4f}\".format(y)"
      ],
      "execution_count": 62,
      "outputs": [
        {
          "output_type": "execute_result",
          "data": {
            "text/plain": [
              "'3.4213'"
            ]
          },
          "metadata": {
            "tags": []
          },
          "execution_count": 62
        }
      ]
    },
    {
      "cell_type": "code",
      "metadata": {
        "id": "jnUb4aWi7fwp",
        "colab_type": "code",
        "colab": {
          "base_uri": "https://localhost:8080/",
          "height": 35
        },
        "outputId": "5770b3e6-9023-49fd-ad96-732b0567f648"
      },
      "source": [
        "\"{0:10.4f}\".format(y)"
      ],
      "execution_count": 63,
      "outputs": [
        {
          "output_type": "execute_result",
          "data": {
            "text/plain": [
              "'    3.4213'"
            ]
          },
          "metadata": {
            "tags": []
          },
          "execution_count": 63
        }
      ]
    },
    {
      "cell_type": "code",
      "metadata": {
        "id": "Nq1RccsG7gx4",
        "colab_type": "code",
        "colab": {
          "base_uri": "https://localhost:8080/",
          "height": 35
        },
        "outputId": "559a8170-fa4b-4d08-9385-20d588de7758"
      },
      "source": [
        "\n",
        "# { 또는 } 문자 표현하기\n",
        "\"{{ and }}\".format() # {{}}하면 {}하나가 문자열로 처리\n",
        "\n",
        "##########################\n",
        "##### f 문자열 포매팅 #####\n",
        "##### .format() 대체\n",
        "##########################"
      ],
      "execution_count": 64,
      "outputs": [
        {
          "output_type": "execute_result",
          "data": {
            "text/plain": [
              "'{ and }'"
            ]
          },
          "metadata": {
            "tags": []
          },
          "execution_count": 64
        }
      ]
    },
    {
      "cell_type": "markdown",
      "metadata": {
        "id": "PqNUsh6G7sr_",
        "colab_type": "text"
      },
      "source": [
        "## **f 문자열 포매팅**"
      ]
    },
    {
      "cell_type": "code",
      "metadata": {
        "id": "42M0nUkz7Yne",
        "colab_type": "code",
        "colab": {
          "base_uri": "https://localhost:8080/",
          "height": 54
        },
        "outputId": "3e9312a6-e0dd-4a43-ce7d-a94a5e347ee0"
      },
      "source": [
        "print(\"문자열: f 문자열 포매팅\")\n",
        "name = \"홍길동\"\n",
        "age = 30\n",
        "f\"나의 이름은 {name}입니다. 나이는 {age}입니다.\" #앞에 f 붙이면 formet함수로 실행이된다"
      ],
      "execution_count": 65,
      "outputs": [
        {
          "output_type": "stream",
          "text": [
            "문자열: f 문자열 포매팅\n"
          ],
          "name": "stdout"
        },
        {
          "output_type": "execute_result",
          "data": {
            "text/plain": [
              "'나의 이름은 홍길동입니다. 나이는 30입니다.'"
            ]
          },
          "metadata": {
            "tags": []
          },
          "execution_count": 65
        }
      ]
    },
    {
      "cell_type": "code",
      "metadata": {
        "id": "aI4bgKBf7zaV",
        "colab_type": "code",
        "colab": {
          "base_uri": "https://localhost:8080/",
          "height": 35
        },
        "outputId": "225fdeac-563a-45da-8770-2a69bf36eee0"
      },
      "source": [
        "age = 30\n",
        "f\"나는 내년이면 {age+1}살이 된다.\""
      ],
      "execution_count": 66,
      "outputs": [
        {
          "output_type": "execute_result",
          "data": {
            "text/plain": [
              "'나는 내년이면 31살이 된다.'"
            ]
          },
          "metadata": {
            "tags": []
          },
          "execution_count": 66
        }
      ]
    },
    {
      "cell_type": "code",
      "metadata": {
        "id": "n9gdgv0S76jB",
        "colab_type": "code",
        "colab": {
          "base_uri": "https://localhost:8080/",
          "height": 35
        },
        "outputId": "7fcf5d5a-3792-4c69-e49e-2dd2573ff5cf"
      },
      "source": [
        "# 딕셔너리는 f 문자열 포매팅에서 다음과 같이 사용\n",
        "d = {\"name\": \"홍길동\", \"age\": 30}\n",
        "f'나의 이름은 {d[\"name\"]}입니다. 나이는 {d[\"age\"]}입니다.' # d 라는 키값을 이용"
      ],
      "execution_count": 67,
      "outputs": [
        {
          "output_type": "execute_result",
          "data": {
            "text/plain": [
              "'나의 이름은 홍길동입니다. 나이는 30입니다.'"
            ]
          },
          "metadata": {
            "tags": []
          },
          "execution_count": 67
        }
      ]
    },
    {
      "cell_type": "markdown",
      "metadata": {
        "id": "lt1offI58EwX",
        "colab_type": "text"
      },
      "source": [
        "### **f 문자열 정렬**"
      ]
    },
    {
      "cell_type": "code",
      "metadata": {
        "id": "LSRHfjjg8BgD",
        "colab_type": "code",
        "colab": {
          "base_uri": "https://localhost:8080/",
          "height": 35
        },
        "outputId": "f3137c9c-1c0f-423c-96ed-868588909a6e"
      },
      "source": [
        "f'{\"hi\":<10}'  # 왼쪽 정렬"
      ],
      "execution_count": 71,
      "outputs": [
        {
          "output_type": "execute_result",
          "data": {
            "text/plain": [
              "'hi        '"
            ]
          },
          "metadata": {
            "tags": []
          },
          "execution_count": 71
        }
      ]
    },
    {
      "cell_type": "code",
      "metadata": {
        "id": "y7mOkRCV8VO6",
        "colab_type": "code",
        "colab": {
          "base_uri": "https://localhost:8080/",
          "height": 35
        },
        "outputId": "55b4bcd0-ef3d-4ae3-9ce2-41b3301d74cd"
      },
      "source": [
        "f'{\"hi\":>10}'  # 오른쪽 정렬"
      ],
      "execution_count": 72,
      "outputs": [
        {
          "output_type": "execute_result",
          "data": {
            "text/plain": [
              "'        hi'"
            ]
          },
          "metadata": {
            "tags": []
          },
          "execution_count": 72
        }
      ]
    },
    {
      "cell_type": "code",
      "metadata": {
        "id": "MKyjDaUR8V8_",
        "colab_type": "code",
        "colab": {
          "base_uri": "https://localhost:8080/",
          "height": 35
        },
        "outputId": "35372fe1-6cf9-443f-95f4-bddf7c573e1d"
      },
      "source": [
        "f'{\"hi\":^10}'  # 가운데 정렬"
      ],
      "execution_count": 73,
      "outputs": [
        {
          "output_type": "execute_result",
          "data": {
            "text/plain": [
              "'    hi    '"
            ]
          },
          "metadata": {
            "tags": []
          },
          "execution_count": 73
        }
      ]
    },
    {
      "cell_type": "markdown",
      "metadata": {
        "id": "jNqc6sHS8ba3",
        "colab_type": "text"
      },
      "source": [
        "### **공백 채우기**"
      ]
    },
    {
      "cell_type": "code",
      "metadata": {
        "id": "yRLJr7Uq8WoY",
        "colab_type": "code",
        "colab": {
          "base_uri": "https://localhost:8080/",
          "height": 35
        },
        "outputId": "1c4d8328-7780-45ed-fa54-54c6f8edea66"
      },
      "source": [
        "# 공백 채우기\n",
        "y = 3.42134234\n",
        "f\"{y:0.4f}\"  # 소수점 4자리까지만 표현"
      ],
      "execution_count": 68,
      "outputs": [
        {
          "output_type": "execute_result",
          "data": {
            "text/plain": [
              "'3.4213'"
            ]
          },
          "metadata": {
            "tags": []
          },
          "execution_count": 68
        }
      ]
    },
    {
      "cell_type": "code",
      "metadata": {
        "id": "wzL7ls-j8hno",
        "colab_type": "code",
        "colab": {
          "base_uri": "https://localhost:8080/",
          "height": 35
        },
        "outputId": "13a64f8e-da92-4a83-b8b5-841872c967a1"
      },
      "source": [
        "f\"{y:10.4f}\"  # 소수점 4자리까지 표현하고 총 자리수를 10으로 맞춤"
      ],
      "execution_count": 70,
      "outputs": [
        {
          "output_type": "execute_result",
          "data": {
            "text/plain": [
              "'    3.4213'"
            ]
          },
          "metadata": {
            "tags": []
          },
          "execution_count": 70
        }
      ]
    },
    {
      "cell_type": "code",
      "metadata": {
        "id": "3KcOtTTS8jCL",
        "colab_type": "code",
        "colab": {
          "base_uri": "https://localhost:8080/",
          "height": 35
        },
        "outputId": "05db39b6-b6b7-49bf-94ee-01b6f4f816c4"
      },
      "source": [
        "# { } 문자를 표시\n",
        "f\"{{ and }}\""
      ],
      "execution_count": 69,
      "outputs": [
        {
          "output_type": "execute_result",
          "data": {
            "text/plain": [
              "'{ and }'"
            ]
          },
          "metadata": {
            "tags": []
          },
          "execution_count": 69
        }
      ]
    },
    {
      "cell_type": "markdown",
      "metadata": {
        "id": "nGbqtPBr8x3v",
        "colab_type": "text"
      },
      "source": [
        "# **문자열 관련 내장함수**"
      ]
    },
    {
      "cell_type": "markdown",
      "metadata": {
        "id": "AQT-EQVe9mmQ",
        "colab_type": "text"
      },
      "source": [
        "### **문자 갯수세기**"
      ]
    },
    {
      "cell_type": "code",
      "metadata": {
        "id": "BI3xEOAh8QG1",
        "colab_type": "code",
        "colab": {
          "base_uri": "https://localhost:8080/",
          "height": 54
        },
        "outputId": "03555cf8-0a94-4c76-a19f-58f14fc4ab18"
      },
      "source": [
        "##############################################\n",
        "print(\"문자열: 관련 내장 함수들\")\n",
        "# 문자 개수 세기(count)\n",
        "a = \"hobby\"\n",
        "a.count(\"b\")   #  b의 갯수"
      ],
      "execution_count": 78,
      "outputs": [
        {
          "output_type": "stream",
          "text": [
            "문자열: 관련 내장 함수들\n"
          ],
          "name": "stdout"
        },
        {
          "output_type": "execute_result",
          "data": {
            "text/plain": [
              "2"
            ]
          },
          "metadata": {
            "tags": []
          },
          "execution_count": 78
        }
      ]
    },
    {
      "cell_type": "markdown",
      "metadata": {
        "id": "SD6vXtEj9sSf",
        "colab_type": "text"
      },
      "source": [
        "### **find를 이용하여 글자의 위치 찾기**"
      ]
    },
    {
      "cell_type": "code",
      "metadata": {
        "id": "AX0g8TBq9MZX",
        "colab_type": "code",
        "colab": {
          "base_uri": "https://localhost:8080/",
          "height": 35
        },
        "outputId": "5c794368-c8c4-457c-8c95-0499c54b2fd6"
      },
      "source": [
        "# 위치 알려주기1(find)\n",
        "a = \"Python is the best choice\"\n",
        "a.find(\"b\")  # b라는 글자의 위치를 가르쳐준다"
      ],
      "execution_count": 80,
      "outputs": [
        {
          "output_type": "execute_result",
          "data": {
            "text/plain": [
              "14"
            ]
          },
          "metadata": {
            "tags": []
          },
          "execution_count": 80
        }
      ]
    },
    {
      "cell_type": "code",
      "metadata": {
        "id": "Y4Lam5zV8_BQ",
        "colab_type": "code",
        "colab": {
          "base_uri": "https://localhost:8080/",
          "height": 35
        },
        "outputId": "61f9379d-99d6-4e40-9444-f67fb611992c"
      },
      "source": [
        "a.find(\"k\")  # what value? k가 없으면 -1이 출력된다\n",
        "# 위치 알려주기2(index)"
      ],
      "execution_count": 75,
      "outputs": [
        {
          "output_type": "execute_result",
          "data": {
            "text/plain": [
              "-1"
            ]
          },
          "metadata": {
            "tags": []
          },
          "execution_count": 75
        }
      ]
    },
    {
      "cell_type": "markdown",
      "metadata": {
        "id": "4v-dp0yu94b2",
        "colab_type": "text"
      },
      "source": [
        "### **index를 이용하여 글자의 위치 찾기**"
      ]
    },
    {
      "cell_type": "code",
      "metadata": {
        "id": "C12j9hv89A3o",
        "colab_type": "code",
        "colab": {
          "base_uri": "https://localhost:8080/",
          "height": 35
        },
        "outputId": "3032424d-03bb-4ac8-ff96-bb2fc803bbed"
      },
      "source": [
        "a = \"Life is too short\"\n",
        "a.index(\"t\")"
      ],
      "execution_count": 76,
      "outputs": [
        {
          "output_type": "execute_result",
          "data": {
            "text/plain": [
              "8"
            ]
          },
          "metadata": {
            "tags": []
          },
          "execution_count": 76
        }
      ]
    },
    {
      "cell_type": "code",
      "metadata": {
        "id": "wBBVuaRU9BxN",
        "colab_type": "code",
        "colab": {
          "base_uri": "https://localhost:8080/",
          "height": 173
        },
        "outputId": "5bff468d-53d0-47c9-fb91-9fa88a9dbafb"
      },
      "source": [
        "a.index(\"k\") # index 함수는 해당문자가 없으면 에러로 출력된다."
      ],
      "execution_count": 77,
      "outputs": [
        {
          "output_type": "error",
          "ename": "ValueError",
          "evalue": "ignored",
          "traceback": [
            "\u001b[0;31m---------------------------------------------------------------------------\u001b[0m",
            "\u001b[0;31mValueError\u001b[0m                                Traceback (most recent call last)",
            "\u001b[0;32m<ipython-input-77-a496394fbb17>\u001b[0m in \u001b[0;36m<module>\u001b[0;34m()\u001b[0m\n\u001b[0;32m----> 1\u001b[0;31m \u001b[0ma\u001b[0m\u001b[0;34m.\u001b[0m\u001b[0mindex\u001b[0m\u001b[0;34m(\u001b[0m\u001b[0;34m\"k\"\u001b[0m\u001b[0;34m)\u001b[0m \u001b[0;31m# index 함수는 해당문자가 없으면 에러로 출력된다.\u001b[0m\u001b[0;34m\u001b[0m\u001b[0;34m\u001b[0m\u001b[0m\n\u001b[0m",
            "\u001b[0;31mValueError\u001b[0m: substring not found"
          ]
        }
      ]
    },
    {
      "cell_type": "markdown",
      "metadata": {
        "id": "1iAljPaR9hrH",
        "colab_type": "text"
      },
      "source": [
        "### **문자열 삽입**"
      ]
    },
    {
      "cell_type": "code",
      "metadata": {
        "id": "xQOdXYaj9CdK",
        "colab_type": "code",
        "colab": {
          "base_uri": "https://localhost:8080/",
          "height": 35
        },
        "outputId": "f6faf779-0c7a-46d0-81a0-25ba89976def"
      },
      "source": [
        "# 문자열 삽입(join)\n",
        "\",\".join(\"abcd\")"
      ],
      "execution_count": 81,
      "outputs": [
        {
          "output_type": "execute_result",
          "data": {
            "text/plain": [
              "'a,b,c,d'"
            ]
          },
          "metadata": {
            "tags": []
          },
          "execution_count": 81
        }
      ]
    },
    {
      "cell_type": "code",
      "metadata": {
        "id": "gbIM0Qfr-AN6",
        "colab_type": "code",
        "colab": {
          "base_uri": "https://localhost:8080/",
          "height": 35
        },
        "outputId": "7ffe8c5c-78e6-4555-a6c9-bc9c5eaef51d"
      },
      "source": [
        "\",\".join([\"a\", \"b\", \"c\", \"d\"])"
      ],
      "execution_count": 82,
      "outputs": [
        {
          "output_type": "execute_result",
          "data": {
            "text/plain": [
              "'a,b,c,d'"
            ]
          },
          "metadata": {
            "tags": []
          },
          "execution_count": 82
        }
      ]
    },
    {
      "cell_type": "markdown",
      "metadata": {
        "id": "1dOud55n-HbU",
        "colab_type": "text"
      },
      "source": [
        "### **소문자를 대문자로 대문자를 소문자로**"
      ]
    },
    {
      "cell_type": "code",
      "metadata": {
        "id": "M0mK6diW9_JG",
        "colab_type": "code",
        "colab": {}
      },
      "source": [
        "# 소문자를 대문자로 바꾸기(upper)\n",
        "a = \"hi\"\n",
        "a.upper()"
      ],
      "execution_count": 0,
      "outputs": []
    },
    {
      "cell_type": "code",
      "metadata": {
        "id": "5-i0uMhG-LxV",
        "colab_type": "code",
        "colab": {}
      },
      "source": [
        "\n",
        "# 대문자를 소문자로 바꾸기(lower)\n",
        "a = \"IoT\"\n",
        "a.lower()"
      ],
      "execution_count": 0,
      "outputs": []
    },
    {
      "cell_type": "markdown",
      "metadata": {
        "id": "iahhoWV_-OW-",
        "colab_type": "text"
      },
      "source": [
        "### **공백 지우기**"
      ]
    },
    {
      "cell_type": "code",
      "metadata": {
        "id": "teuSWnzb-M8W",
        "colab_type": "code",
        "colab": {
          "base_uri": "https://localhost:8080/",
          "height": 35
        },
        "outputId": "0cdd8a54-40d5-4d89-830b-7d0f6f79ff17"
      },
      "source": [
        "# 왼쪽 공백 지우기(lstrip)\n",
        "a = \" hi \"\n",
        "a.lstrip()"
      ],
      "execution_count": 83,
      "outputs": [
        {
          "output_type": "execute_result",
          "data": {
            "text/plain": [
              "'hi '"
            ]
          },
          "metadata": {
            "tags": []
          },
          "execution_count": 83
        }
      ]
    },
    {
      "cell_type": "code",
      "metadata": {
        "id": "i3FptAq4-Rc8",
        "colab_type": "code",
        "colab": {}
      },
      "source": [
        "\n",
        "# 오른쪽 공백 지우기(rstrip)\n",
        "a.rstrip()"
      ],
      "execution_count": 0,
      "outputs": []
    },
    {
      "cell_type": "code",
      "metadata": {
        "id": "344ahQ-J-SPk",
        "colab_type": "code",
        "colab": {
          "base_uri": "https://localhost:8080/",
          "height": 35
        },
        "outputId": "330717ee-336b-441a-c399-843831c042aa"
      },
      "source": [
        "\n",
        "# 양쪽 공백 지우기(strip)\n",
        "a.strip()"
      ],
      "execution_count": 85,
      "outputs": [
        {
          "output_type": "execute_result",
          "data": {
            "text/plain": [
              "'hi'"
            ]
          },
          "metadata": {
            "tags": []
          },
          "execution_count": 85
        }
      ]
    },
    {
      "cell_type": "markdown",
      "metadata": {
        "id": "QCxxEOr0-Xz6",
        "colab_type": "text"
      },
      "source": [
        "### **문자열 바꾸기**"
      ]
    },
    {
      "cell_type": "code",
      "metadata": {
        "id": "3wxLXNAf-S3w",
        "colab_type": "code",
        "colab": {
          "base_uri": "https://localhost:8080/",
          "height": 35
        },
        "outputId": "21f20065-070d-48ad-c749-18d1c292dc5c"
      },
      "source": [
        "# 문자열 바꾸기(replace)\n",
        "a = \"Life is too short\"\n",
        "a.replace(\"Life\", \"Your leg\")"
      ],
      "execution_count": 86,
      "outputs": [
        {
          "output_type": "execute_result",
          "data": {
            "text/plain": [
              "'Your leg is too short'"
            ]
          },
          "metadata": {
            "tags": []
          },
          "execution_count": 86
        }
      ]
    },
    {
      "cell_type": "markdown",
      "metadata": {
        "id": "LNQ8-RRu-goe",
        "colab_type": "text"
      },
      "source": [
        "### **문자열 나누기**"
      ]
    },
    {
      "cell_type": "code",
      "metadata": {
        "id": "af9qK60y-bWG",
        "colab_type": "code",
        "colab": {
          "base_uri": "https://localhost:8080/",
          "height": 35
        },
        "outputId": "830b3b01-dea5-4c0e-8399-670fc1f21315"
      },
      "source": [
        "# 문자열 나누기(split) -> 리스트로 변환하여 반환\n",
        "a = \"Life is too short\"\n",
        "a.split() # split()안에 있는 문자 기준으로 나눈다"
      ],
      "execution_count": 88,
      "outputs": [
        {
          "output_type": "execute_result",
          "data": {
            "text/plain": [
              "['Life', 'is', 'too', 'short']"
            ]
          },
          "metadata": {
            "tags": []
          },
          "execution_count": 88
        }
      ]
    },
    {
      "cell_type": "code",
      "metadata": {
        "id": "UEyhq3Hs-mau",
        "colab_type": "code",
        "colab": {
          "base_uri": "https://localhost:8080/",
          "height": 35
        },
        "outputId": "2a324d4d-f342-4d77-c0f1-08e359d44348"
      },
      "source": [
        "\n",
        "b = \"a:b:c:d\"\n",
        "b.split(\":\")"
      ],
      "execution_count": 89,
      "outputs": [
        {
          "output_type": "execute_result",
          "data": {
            "text/plain": [
              "['a', 'b', 'c', 'd']"
            ]
          },
          "metadata": {
            "tags": []
          },
          "execution_count": 89
        }
      ]
    },
    {
      "cell_type": "markdown",
      "metadata": {
        "id": "SZf-dY0v-04A",
        "colab_type": "text"
      },
      "source": [
        "### **ex**"
      ]
    },
    {
      "cell_type": "code",
      "metadata": {
        "id": "7xGkHjDj-jsM",
        "colab_type": "code",
        "colab": {
          "base_uri": "https://localhost:8080/",
          "height": 35
        },
        "outputId": "c9ed186b-0bed-478f-afc1-569f29f6325e"
      },
      "source": [
        "#### 도전하기 #####\n",
        "# format 함수 또는 f 문자열 포매팅을 이용해서 '!!!python!!!' 문자열을 출력해보시오.\n",
        "\"{0:!^12}\".format(\"python\")\n",
        "f'{\"python\":!^12}'"
      ],
      "execution_count": 90,
      "outputs": [
        {
          "output_type": "execute_result",
          "data": {
            "text/plain": [
              "'!!!python!!!'"
            ]
          },
          "metadata": {
            "tags": []
          },
          "execution_count": 90
        }
      ]
    }
  ]
}
