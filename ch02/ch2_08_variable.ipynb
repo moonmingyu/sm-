{
  "nbformat": 4,
  "nbformat_minor": 0,
  "metadata": {
    "colab": {
      "name": "ch2_08_variable.ipynb",
      "provenance": [],
      "include_colab_link": true
    },
    "kernelspec": {
      "name": "python3",
      "display_name": "Python 3"
    }
  },
  "cells": [
    {
      "cell_type": "markdown",
      "metadata": {
        "id": "view-in-github",
        "colab_type": "text"
      },
      "source": [
        "<a href=\"https://colab.research.google.com/github/moonmingyu/sm-/blob/master/ch02/ch2_08_variable.ipynb\" target=\"_parent\"><img src=\"https://colab.research.google.com/assets/colab-badge.svg\" alt=\"Open In Colab\"/></a>"
      ]
    },
    {
      "cell_type": "markdown",
      "metadata": {
        "id": "hXil_TOT82yB",
        "colab_type": "text"
      },
      "source": [
        "# **변수**"
      ]
    },
    {
      "cell_type": "markdown",
      "metadata": {
        "id": "B9v5ourU85XZ",
        "colab_type": "text"
      },
      "source": [
        "### **변수란?**"
      ]
    },
    {
      "cell_type": "code",
      "metadata": {
        "id": "wmPRw6Ix8rvs",
        "colab_type": "code",
        "colab": {}
      },
      "source": [
        "# 변수는 자료(값)을 저장하는 공간이다.\n",
        "#\n",
        "a = [1, 2, 3]\n",
        "id(a)  # a 변수가 가리키는 메모리의 주소"
      ],
      "execution_count": 0,
      "outputs": []
    },
    {
      "cell_type": "code",
      "metadata": {
        "id": "0h7liY7g8_Bc",
        "colab_type": "code",
        "colab": {}
      },
      "source": [
        "# list\n",
        "a = [1, 2, 3] # 재정의할때 주소값이 달라진다\n",
        "b = a\n",
        "id(a), id(b)"
      ],
      "execution_count": 0,
      "outputs": []
    },
    {
      "cell_type": "code",
      "metadata": {
        "id": "_CjgydlM9A2R",
        "colab_type": "code",
        "colab": {}
      },
      "source": [
        "a is b\n",
        "a[1] = 4\n",
        "a, b"
      ],
      "execution_count": 0,
      "outputs": []
    },
    {
      "cell_type": "code",
      "metadata": {
        "id": "06drD7f_9Ck1",
        "colab_type": "code",
        "colab": {}
      },
      "source": [
        "b = [1, 2, 3]\n",
        "id(b)"
      ],
      "execution_count": 0,
      "outputs": []
    },
    {
      "cell_type": "code",
      "metadata": {
        "id": "-WHCw89G9D2r",
        "colab_type": "code",
        "colab": {}
      },
      "source": [
        "a is b"
      ],
      "execution_count": 0,
      "outputs": []
    },
    {
      "cell_type": "code",
      "metadata": {
        "id": "1zRkLJQl9eip",
        "colab_type": "code",
        "colab": {}
      },
      "source": [
        "# b 변수를 생성할 때 a 변수의 값을 가져오면서\n",
        "# a와는 다른 주소를 가리키도록 만들수는 없을까?\n",
        "# 다음 2가지 방법이 있다.\n",
        "# 1. [:] 이용\n",
        "a = [1, 2, 3]\n",
        "b = a[:] # : 을 넣어주면 주소값 달라진다  요소별로 치환\n",
        "a[1] = 4 # a 를 바꿔도 b는 안바뀐다\n",
        "a, b"
      ],
      "execution_count": 0,
      "outputs": []
    },
    {
      "cell_type": "code",
      "metadata": {
        "id": "aoRao11F9fpa",
        "colab_type": "code",
        "colab": {}
      },
      "source": [
        "\n",
        "# 2. copy 모듈 이용\n",
        "#\n",
        "a = [1, 2, 3]\n",
        "# from copy import copy\n",
        "b = copy(a) # 값은 똑같은데 주소는 공유하지않는다\n",
        "b is a, a is b"
      ],
      "execution_count": 0,
      "outputs": []
    },
    {
      "cell_type": "code",
      "metadata": {
        "id": "oQV6dOtZ9i9t",
        "colab_type": "code",
        "colab": {}
      },
      "source": [
        "# 변수를 만드는 여러 가지 방법\n",
        "#\n",
        "a, b = (\"python\", \"life\")\n",
        "a"
      ],
      "execution_count": 0,
      "outputs": []
    },
    {
      "cell_type": "code",
      "metadata": {
        "id": "rXz-dLHC9nPV",
        "colab_type": "code",
        "colab": {}
      },
      "source": [
        "b"
      ],
      "execution_count": 0,
      "outputs": []
    },
    {
      "cell_type": "code",
      "metadata": {
        "id": "LsUr5Qzy9p5Y",
        "colab_type": "code",
        "colab": {}
      },
      "source": [
        "a, b"
      ],
      "execution_count": 0,
      "outputs": []
    },
    {
      "cell_type": "code",
      "metadata": {
        "id": "OAoWdq2X9qq0",
        "colab_type": "code",
        "colab": {}
      },
      "source": [
        "[a, b] = [\"python\", \"life\"]\n",
        "a"
      ],
      "execution_count": 0,
      "outputs": []
    },
    {
      "cell_type": "code",
      "metadata": {
        "id": "BcHZOng69r_m",
        "colab_type": "code",
        "colab": {}
      },
      "source": [
        "b"
      ],
      "execution_count": 0,
      "outputs": []
    },
    {
      "cell_type": "code",
      "metadata": {
        "id": "bzvumoAU9sjc",
        "colab_type": "code",
        "colab": {}
      },
      "source": [
        "a = 3\n",
        "b = 5\n",
        "a, b = b, a"
      ],
      "execution_count": 0,
      "outputs": []
    },
    {
      "cell_type": "code",
      "metadata": {
        "id": "AItrWOlC9xjG",
        "colab_type": "code",
        "colab": {}
      },
      "source": [
        "a"
      ],
      "execution_count": 0,
      "outputs": []
    },
    {
      "cell_type": "code",
      "metadata": {
        "id": "7HTCm5VO9v9j",
        "colab_type": "code",
        "colab": {}
      },
      "source": [
        "b"
      ],
      "execution_count": 0,
      "outputs": []
    }
  ]
}