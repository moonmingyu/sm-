{
  "nbformat": 4,
  "nbformat_minor": 0,
  "metadata": {
    "colab": {
      "name": "ch2_04_tuple.ipynb",
      "provenance": [],
      "collapsed_sections": [],
      "include_colab_link": true
    },
    "kernelspec": {
      "name": "python3",
      "display_name": "Python 3"
    }
  },
  "cells": [
    {
      "cell_type": "markdown",
      "metadata": {
        "id": "view-in-github",
        "colab_type": "text"
      },
      "source": [
        "<a href=\"https://colab.research.google.com/github/moonmingyu/sm-/blob/master/ch02/ch2_04_tuple.ipynb\" target=\"_parent\"><img src=\"https://colab.research.google.com/assets/colab-badge.svg\" alt=\"Open In Colab\"/></a>"
      ]
    },
    {
      "cell_type": "markdown",
      "metadata": {
        "id": "xv7W18PqzpHM",
        "colab_type": "text"
      },
      "source": [
        "# **튜플**"
      ]
    },
    {
      "cell_type": "markdown",
      "metadata": {
        "id": "IicZO5Sfzse0",
        "colab_type": "text"
      },
      "source": [
        "### **튜플이란?**"
      ]
    },
    {
      "cell_type": "code",
      "metadata": {
        "id": "_eBAT3Elzc5y",
        "colab_type": "code",
        "colab": {}
      },
      "source": [
        "# 리스트는 [ ]으로 둘러싸지만 튜플은 ( )으로 둘러싼다.\n",
        "# 리스트는 그 값의 생성, 삭제, 수정이 가능하지만 튜플은 그 값을 바꿀 수 없다.\n",
        "\n",
        "even = (2, 4, 6, 8)\n",
        "# 여러 가지 튜플\n",
        "t1 = ()  # 튜플 초기화\n",
        "t2 = (1,)\n",
        "t3 = (1, 2, 3)\n",
        "t4 = 1, 2, 3\n",
        "t5 = (\"a\", \"b\", (\"ab\", \"cd\"))\n",
        "# t2 = (1,)처럼 단지 1개의 요소만을 가질 때는 요소 뒤에\n",
        "# 콤마(,)를 반드시 붙여야 한다는 것과\n",
        "# 요소가 2개이상일때는 끝에 ,를 붙이면 안된다\n",
        "# t4 = 1, 2, 3처럼 괄호( )를 생략해도 무방하다."
      ],
      "execution_count": 0,
      "outputs": []
    },
    {
      "cell_type": "markdown",
      "metadata": {
        "id": "54DKjR7Sz6-J",
        "colab_type": "text"
      },
      "source": [
        "### **튜플의 요소값을 지우거나 변경하면?**"
      ]
    },
    {
      "cell_type": "markdown",
      "metadata": {
        "id": "4ju2wbfn0DSW",
        "colab_type": "text"
      },
      "source": [
        "**1. 튜플 요솟값을 삭제하려 할 때**"
      ]
    },
    {
      "cell_type": "code",
      "metadata": {
        "id": "tmJE7n_oz03D",
        "colab_type": "code",
        "colab": {
          "base_uri": "https://localhost:8080/",
          "height": 190
        },
        "outputId": "2ae553d9-bffb-4b72-9f3a-693f999dde34"
      },
      "source": [
        "t1 = (1, 2, \"a\", \"b\")\n",
        "del t1[0]  # Error -> 값 삭제불가"
      ],
      "execution_count": 2,
      "outputs": [
        {
          "output_type": "error",
          "ename": "TypeError",
          "evalue": "ignored",
          "traceback": [
            "\u001b[0;31m---------------------------------------------------------------------------\u001b[0m",
            "\u001b[0;31mTypeError\u001b[0m                                 Traceback (most recent call last)",
            "\u001b[0;32m<ipython-input-2-ae8f5d632e0d>\u001b[0m in \u001b[0;36m<module>\u001b[0;34m()\u001b[0m\n\u001b[1;32m      1\u001b[0m \u001b[0mt1\u001b[0m \u001b[0;34m=\u001b[0m \u001b[0;34m(\u001b[0m\u001b[0;36m1\u001b[0m\u001b[0;34m,\u001b[0m \u001b[0;36m2\u001b[0m\u001b[0;34m,\u001b[0m \u001b[0;34m\"a\"\u001b[0m\u001b[0;34m,\u001b[0m \u001b[0;34m\"b\"\u001b[0m\u001b[0;34m)\u001b[0m\u001b[0;34m\u001b[0m\u001b[0;34m\u001b[0m\u001b[0m\n\u001b[0;32m----> 2\u001b[0;31m \u001b[0;32mdel\u001b[0m \u001b[0mt1\u001b[0m\u001b[0;34m[\u001b[0m\u001b[0;36m0\u001b[0m\u001b[0;34m]\u001b[0m  \u001b[0;31m# Error\u001b[0m\u001b[0;34m\u001b[0m\u001b[0;34m\u001b[0m\u001b[0m\n\u001b[0m",
            "\u001b[0;31mTypeError\u001b[0m: 'tuple' object doesn't support item deletion"
          ]
        }
      ]
    },
    {
      "cell_type": "markdown",
      "metadata": {
        "id": "0mCmIhEV0NiO",
        "colab_type": "text"
      },
      "source": [
        "**2. 튜플 요솟값을 변경하려 할 때**"
      ]
    },
    {
      "cell_type": "code",
      "metadata": {
        "id": "X97kfUn60HXJ",
        "colab_type": "code",
        "colab": {}
      },
      "source": [
        "t1[0] = \"c\"  # TypeError -> 튜플은 요소값 변경불가"
      ],
      "execution_count": 0,
      "outputs": []
    },
    {
      "cell_type": "markdown",
      "metadata": {
        "id": "eEEV6-VY0gKk",
        "colab_type": "text"
      },
      "source": [
        "### **튜플 사용방법**"
      ]
    },
    {
      "cell_type": "markdown",
      "metadata": {
        "id": "oOibzdcH0aI8",
        "colab_type": "text"
      },
      "source": [
        "**튜플 인덱싱하기**"
      ]
    },
    {
      "cell_type": "code",
      "metadata": {
        "id": "kCB44y0J0ViX",
        "colab_type": "code",
        "colab": {}
      },
      "source": [
        "t1 = (1, 2, \"a\", \"b\")\n",
        "t1[0]\n",
        "t1[3]"
      ],
      "execution_count": 0,
      "outputs": []
    },
    {
      "cell_type": "markdown",
      "metadata": {
        "id": "mwmvasL10lqM",
        "colab_type": "text"
      },
      "source": [
        "**튜플 슬라이싱하기**"
      ]
    },
    {
      "cell_type": "code",
      "metadata": {
        "id": "eB9VT07q0kXe",
        "colab_type": "code",
        "colab": {}
      },
      "source": [
        "t1 = (1, 2, \"a\", \"b\")\n",
        "t1[1:]\n",
        "t1[2:-1]  # ('a',) 가 나온다 튜플 단일요소때 마지막에 콤마무조건\n",
        "t1[2:]"
      ],
      "execution_count": 0,
      "outputs": []
    },
    {
      "cell_type": "markdown",
      "metadata": {
        "id": "KCYkLpT90v_c",
        "colab_type": "text"
      },
      "source": [
        "**튜플 더하기**"
      ]
    },
    {
      "cell_type": "code",
      "metadata": {
        "id": "YfwYgR1n0pWz",
        "colab_type": "code",
        "colab": {
          "base_uri": "https://localhost:8080/",
          "height": 35
        },
        "outputId": "e8237260-cbf6-43a9-9ba1-5a6e48d67f8f"
      },
      "source": [
        "t1 = (1, 2, \"a\", \"b\")\n",
        "t2 = (3, 4)\n",
        "t1 + t2"
      ],
      "execution_count": 3,
      "outputs": [
        {
          "output_type": "execute_result",
          "data": {
            "text/plain": [
              "(1, 2, 'a', 'b', 3, 4)"
            ]
          },
          "metadata": {
            "tags": []
          },
          "execution_count": 3
        }
      ]
    },
    {
      "cell_type": "markdown",
      "metadata": {
        "id": "AlDrJAel01bU",
        "colab_type": "text"
      },
      "source": [
        "**튜플 곱하기**"
      ]
    },
    {
      "cell_type": "code",
      "metadata": {
        "id": "2PvCPnPA1RpE",
        "colab_type": "code",
        "colab": {
          "base_uri": "https://localhost:8080/",
          "height": 35
        },
        "outputId": "ae437f08-a191-4190-e569-1b0231f646c4"
      },
      "source": [
        "t2 = (3, 4)\n",
        "id(t2) # 주소값이 나온다"
      ],
      "execution_count": 5,
      "outputs": [
        {
          "output_type": "execute_result",
          "data": {
            "text/plain": [
              "140037468989512"
            ]
          },
          "metadata": {
            "tags": []
          },
          "execution_count": 5
        }
      ]
    },
    {
      "cell_type": "code",
      "metadata": {
        "id": "wbVfjj0P1UnX",
        "colab_type": "code",
        "colab": {
          "base_uri": "https://localhost:8080/",
          "height": 35
        },
        "outputId": "6113deff-f00f-4f5f-8ce5-099c15ccd125"
      },
      "source": [
        "t2 * 3\n",
        "id(t2)"
      ],
      "execution_count": 6,
      "outputs": [
        {
          "output_type": "execute_result",
          "data": {
            "text/plain": [
              "140037468989512"
            ]
          },
          "metadata": {
            "tags": []
          },
          "execution_count": 6
        }
      ]
    },
    {
      "cell_type": "code",
      "metadata": {
        "id": "LdLojebm1TBw",
        "colab_type": "code",
        "colab": {
          "base_uri": "https://localhost:8080/",
          "height": 35
        },
        "outputId": "ac0294e5-4727-4ed4-bd77-e29859f7ab77"
      },
      "source": [
        "# t2 를 재정의 하면 새로운 주소가 나온다\n",
        "t2 = t2 * 3\n",
        "id(t2)"
      ],
      "execution_count": 7,
      "outputs": [
        {
          "output_type": "execute_result",
          "data": {
            "text/plain": [
              "140037468492424"
            ]
          },
          "metadata": {
            "tags": []
          },
          "execution_count": 7
        }
      ]
    },
    {
      "cell_type": "markdown",
      "metadata": {
        "id": "UMukOq3s1DPr",
        "colab_type": "text"
      },
      "source": [
        "**튜플 길이구하기**"
      ]
    },
    {
      "cell_type": "code",
      "metadata": {
        "id": "uu79_wm51Cim",
        "colab_type": "code",
        "colab": {}
      },
      "source": [
        "\n",
        "t1 = (1, 2, \"a\", \"b\")\n",
        "len(t1)"
      ],
      "execution_count": 0,
      "outputs": []
    }
  ]
}