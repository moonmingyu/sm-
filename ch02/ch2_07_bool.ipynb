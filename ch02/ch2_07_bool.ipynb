{
  "nbformat": 4,
  "nbformat_minor": 0,
  "metadata": {
    "colab": {
      "name": "ch2_07_bool.ipynb",
      "provenance": [],
      "include_colab_link": true
    },
    "kernelspec": {
      "name": "python3",
      "display_name": "Python 3"
    }
  },
  "cells": [
    {
      "cell_type": "markdown",
      "metadata": {
        "id": "view-in-github",
        "colab_type": "text"
      },
      "source": [
        "<a href=\"https://colab.research.google.com/github/moonmingyu/sm-/blob/master/ch02/ch2_07_bool.ipynb\" target=\"_parent\"><img src=\"https://colab.research.google.com/assets/colab-badge.svg\" alt=\"Open In Colab\"/></a>"
      ]
    },
    {
      "cell_type": "markdown",
      "metadata": {
        "id": "Zbhs848j7jFZ",
        "colab_type": "text"
      },
      "source": [
        "# **Bool**"
      ]
    },
    {
      "cell_type": "markdown",
      "metadata": {
        "id": "jhrG5TkW7qDJ",
        "colab_type": "text"
      },
      "source": [
        "## **bool 이란?**"
      ]
    },
    {
      "cell_type": "code",
      "metadata": {
        "id": "Ii5zaTnh7biL",
        "colab_type": "code",
        "colab": {
          "base_uri": "https://localhost:8080/",
          "height": 35
        },
        "outputId": "0774a823-8ccc-461b-db20-da0d335db22f"
      },
      "source": [
        "# 불(bool) 자료형이란 참(True)과 거\n",
        "# True나 False는 파이썬짓(False)을 나타내는 자료형이다.\n",
        "# 불 자료형은 다음 2가지 값만을 가질 수 있다.\n",
        "# True - 참\n",
        "# False - 거짓의 예약어로 true, false와 같이 사용하지 말고\n",
        "# 첫 문자를 항상 대문자로 사용해야 한다.\n",
        "#\n",
        "a = True\n",
        "b = False\n",
        "type(a), type(b)"
      ],
      "execution_count": 1,
      "outputs": [
        {
          "output_type": "execute_result",
          "data": {
            "text/plain": [
              "(bool, bool)"
            ]
          },
          "metadata": {
            "tags": []
          },
          "execution_count": 1
        }
      ]
    },
    {
      "cell_type": "code",
      "metadata": {
        "id": "LCClvSDa7wt2",
        "colab_type": "code",
        "colab": {
          "base_uri": "https://localhost:8080/",
          "height": 35
        },
        "outputId": "85f2902e-c73f-4efd-ed30-6b93fb5bdb56"
      },
      "source": [
        "# 참과 거짓\n",
        "#\n",
        "1 == 1"
      ],
      "execution_count": 2,
      "outputs": [
        {
          "output_type": "execute_result",
          "data": {
            "text/plain": [
              "True"
            ]
          },
          "metadata": {
            "tags": []
          },
          "execution_count": 2
        }
      ]
    },
    {
      "cell_type": "code",
      "metadata": {
        "id": "BszdFKwa7yp7",
        "colab_type": "code",
        "colab": {}
      },
      "source": [
        "2 > 1"
      ],
      "execution_count": 0,
      "outputs": []
    },
    {
      "cell_type": "code",
      "metadata": {
        "id": "TqMSh6V_7zTy",
        "colab_type": "code",
        "colab": {}
      },
      "source": [
        "2 < 1"
      ],
      "execution_count": 0,
      "outputs": []
    },
    {
      "cell_type": "code",
      "metadata": {
        "id": "j6zysM3s7z2W",
        "colab_type": "code",
        "colab": {}
      },
      "source": [
        "True + 1 # 산수 식에 넣을때 true = 1"
      ],
      "execution_count": 0,
      "outputs": []
    },
    {
      "cell_type": "code",
      "metadata": {
        "id": "Dan08S-R70aj",
        "colab_type": "code",
        "colab": {}
      },
      "source": [
        "False + 1 # false = 0"
      ],
      "execution_count": 0,
      "outputs": []
    },
    {
      "cell_type": "code",
      "metadata": {
        "id": "m7EGotor704b",
        "colab_type": "code",
        "colab": {}
      },
      "source": [
        "# 자료형의 참과 거짓\n",
        "#\n",
        "bool(\"python\")"
      ],
      "execution_count": 0,
      "outputs": []
    },
    {
      "cell_type": "code",
      "metadata": {
        "id": "UE-Ajtni7_M1",
        "colab_type": "code",
        "colab": {}
      },
      "source": [
        "bool(\"\")"
      ],
      "execution_count": 0,
      "outputs": []
    },
    {
      "cell_type": "code",
      "metadata": {
        "id": "csym8ITL8AxQ",
        "colab_type": "code",
        "colab": {}
      },
      "source": [
        "bool([1, 2, 3])"
      ],
      "execution_count": 0,
      "outputs": []
    },
    {
      "cell_type": "code",
      "metadata": {
        "id": "zKQLB36W8BRH",
        "colab_type": "code",
        "colab": {}
      },
      "source": [
        "bool([]) # 맴버 가 없으면 false이다"
      ],
      "execution_count": 0,
      "outputs": []
    },
    {
      "cell_type": "code",
      "metadata": {
        "id": "FkKsPQIP8BsT",
        "colab_type": "code",
        "colab": {}
      },
      "source": [
        "bool(())"
      ],
      "execution_count": 0,
      "outputs": []
    },
    {
      "cell_type": "code",
      "metadata": {
        "id": "ZHrIqjLb8CET",
        "colab_type": "code",
        "colab": {}
      },
      "source": [
        "bool({})"
      ],
      "execution_count": 0,
      "outputs": []
    },
    {
      "cell_type": "code",
      "metadata": {
        "id": "ZdMv5-X18CdI",
        "colab_type": "code",
        "colab": {}
      },
      "source": [
        "bool(1)"
      ],
      "execution_count": 0,
      "outputs": []
    },
    {
      "cell_type": "code",
      "metadata": {
        "id": "FnsViO288C5W",
        "colab_type": "code",
        "colab": {}
      },
      "source": [
        "bool(0) # 0이 아닌 모든맴버는 true이다"
      ],
      "execution_count": 0,
      "outputs": []
    },
    {
      "cell_type": "code",
      "metadata": {
        "id": "WDkhMYPY8DVm",
        "colab_type": "code",
        "colab": {}
      },
      "source": [
        "bool(None)"
      ],
      "execution_count": 0,
      "outputs": []
    },
    {
      "cell_type": "code",
      "metadata": {
        "id": "iDzuUtpx8DyE",
        "colab_type": "code",
        "colab": {}
      },
      "source": [
        "# 불 값을 이용한 코드\n",
        "#\n",
        "a = [1, 2, 3, 4]\n",
        "while a:\n",
        "    print(a.pop())\n",
        "    #sell에서는 스페이스바 한번쳐줘야된다"
      ],
      "execution_count": 0,
      "outputs": []
    },
    {
      "cell_type": "code",
      "metadata": {
        "id": "F60rl-kG8I0E",
        "colab_type": "code",
        "colab": {}
      },
      "source": [
        "if []:\n",
        "    print(\"참\")\n",
        "else:\n",
        "    print(\"거짓\")"
      ],
      "execution_count": 0,
      "outputs": []
    },
    {
      "cell_type": "code",
      "metadata": {
        "id": "IyLRdpZd8QV3",
        "colab_type": "code",
        "colab": {}
      },
      "source": [
        "############################\n",
        "#  Representation error\n",
        "## double precision representation of floating-point numbers\n",
        "############################\n",
        "1-0.9"
      ],
      "execution_count": 0,
      "outputs": []
    },
    {
      "cell_type": "code",
      "metadata": {
        "id": "k0UcmFfc8aib",
        "colab_type": "code",
        "colab": {}
      },
      "source": [
        "1-0.9==.1"
      ],
      "execution_count": 0,
      "outputs": []
    },
    {
      "cell_type": "code",
      "metadata": {
        "id": "4v2AAco-8dE0",
        "colab_type": "code",
        "colab": {}
      },
      "source": [
        "import decimal\n",
        "x=decimal.Decimal(3.14) #소수점이하 16번째부터 underflow 발생\n",
        "y=decimal.Decimal(2.74)\n",
        "x,y"
      ],
      "execution_count": 0,
      "outputs": []
    },
    {
      "cell_type": "code",
      "metadata": {
        "id": "1vlPqvto8hxE",
        "colab_type": "code",
        "colab": {}
      },
      "source": [
        "x*y"
      ],
      "execution_count": 0,
      "outputs": []
    },
    {
      "cell_type": "code",
      "metadata": {
        "id": "fMFRnbn48j6m",
        "colab_type": "code",
        "colab": {}
      },
      "source": [
        "decimal.getcontext().prec=4 # 소수점이하 4자리까지\n",
        "x*y"
      ],
      "execution_count": 0,
      "outputs": []
    }
  ]
}