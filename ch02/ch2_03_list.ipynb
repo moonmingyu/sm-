{
  "nbformat": 4,
  "nbformat_minor": 0,
  "metadata": {
    "colab": {
      "name": "ch2_03_list.ipynb",
      "provenance": [],
      "collapsed_sections": [],
      "include_colab_link": true
    },
    "kernelspec": {
      "name": "python3",
      "display_name": "Python 3"
    }
  },
  "cells": [
    {
      "cell_type": "markdown",
      "metadata": {
        "id": "view-in-github",
        "colab_type": "text"
      },
      "source": [
        "<a href=\"https://colab.research.google.com/github/moonmingyu/sm-/blob/master/ch02/ch2_03_list.ipynb\" target=\"_parent\"><img src=\"https://colab.research.google.com/assets/colab-badge.svg\" alt=\"Open In Colab\"/></a>"
      ]
    },
    {
      "cell_type": "markdown",
      "metadata": {
        "id": "vpgICbZxleER",
        "colab_type": "text"
      },
      "source": [
        "# **리스트**"
      ]
    },
    {
      "cell_type": "markdown",
      "metadata": {
        "id": "w6Ree9sjlxcF",
        "colab_type": "text"
      },
      "source": [
        "## **List**"
      ]
    },
    {
      "cell_type": "code",
      "metadata": {
        "id": "LyHfviBlla1D",
        "colab_type": "code",
        "colab": {
          "base_uri": "https://localhost:8080/",
          "height": 53
        },
        "outputId": "1377e851-1d47-48a0-e48f-435ff7f43154"
      },
      "source": [
        "print(\"리스트: list 란?\")\n",
        "odd = [1, 3, 5, 7, 9]\n",
        "# 여러 가지 리스트\n",
        "a = []   # list 초기화\n",
        "b = [1, 2, 3]\n",
        "c = ['Life', 'is', 'too', 'short']\n",
        "d = [1, 2, 'Life', 'is']\n",
        "e = [1, 2, ['Life', 'is']]\n",
        "\n",
        "a = list()\n",
        "a   # []"
      ],
      "execution_count": 2,
      "outputs": [
        {
          "output_type": "stream",
          "text": [
            "리스트: list 란?\n"
          ],
          "name": "stdout"
        },
        {
          "output_type": "execute_result",
          "data": {
            "text/plain": [
              "[]"
            ]
          },
          "metadata": {
            "tags": []
          },
          "execution_count": 2
        }
      ]
    },
    {
      "cell_type": "markdown",
      "metadata": {
        "id": "b-9LCYEGmKwJ",
        "colab_type": "text"
      },
      "source": [
        "## **리스트의 인덱싱과 슬라이싱**"
      ]
    },
    {
      "cell_type": "code",
      "metadata": {
        "id": "nK6ifXI6mHSi",
        "colab_type": "code",
        "colab": {
          "base_uri": "https://localhost:8080/",
          "height": 53
        },
        "outputId": "ee87c192-9fcc-432f-ced6-0d0eb71be4c9"
      },
      "source": [
        "print(\"리스트: 리스트의 인덱싱과 슬라이싱\")\n",
        "a = [1, 2, 3]\n",
        "a"
      ],
      "execution_count": 3,
      "outputs": [
        {
          "output_type": "stream",
          "text": [
            "리스트: 리스트의 인덱싱과 슬라이싱\n"
          ],
          "name": "stdout"
        },
        {
          "output_type": "execute_result",
          "data": {
            "text/plain": [
              "[1, 2, 3]"
            ]
          },
          "metadata": {
            "tags": []
          },
          "execution_count": 3
        }
      ]
    },
    {
      "cell_type": "code",
      "metadata": {
        "id": "qM9WDf8Pmmmg",
        "colab_type": "code",
        "colab": {
          "base_uri": "https://localhost:8080/",
          "height": 35
        },
        "outputId": "a5317830-4c47-47a2-b4b5-f9be7b47b8f2"
      },
      "source": [
        "a[0]"
      ],
      "execution_count": 4,
      "outputs": [
        {
          "output_type": "execute_result",
          "data": {
            "text/plain": [
              "1"
            ]
          },
          "metadata": {
            "tags": []
          },
          "execution_count": 4
        }
      ]
    },
    {
      "cell_type": "code",
      "metadata": {
        "id": "BPzDjv3gmnZh",
        "colab_type": "code",
        "colab": {
          "base_uri": "https://localhost:8080/",
          "height": 172
        },
        "outputId": "99672d6b-786d-46cd-a374-9a3a058b7fb4"
      },
      "source": [
        "a[3] # a 리스트안에 index가 2까지밖에 없어서 에러가뜬다"
      ],
      "execution_count": 5,
      "outputs": [
        {
          "output_type": "error",
          "ename": "IndexError",
          "evalue": "ignored",
          "traceback": [
            "\u001b[0;31m---------------------------------------------------------------------------\u001b[0m",
            "\u001b[0;31mIndexError\u001b[0m                                Traceback (most recent call last)",
            "\u001b[0;32m<ipython-input-5-f75b6be7d8e3>\u001b[0m in \u001b[0;36m<module>\u001b[0;34m()\u001b[0m\n\u001b[0;32m----> 1\u001b[0;31m \u001b[0ma\u001b[0m\u001b[0;34m[\u001b[0m\u001b[0;36m3\u001b[0m\u001b[0;34m]\u001b[0m\u001b[0;34m\u001b[0m\u001b[0;34m\u001b[0m\u001b[0m\n\u001b[0m",
            "\u001b[0;31mIndexError\u001b[0m: list index out of range"
          ]
        }
      ]
    },
    {
      "cell_type": "code",
      "metadata": {
        "id": "aPQGoTklmocz",
        "colab_type": "code",
        "colab": {
          "base_uri": "https://localhost:8080/",
          "height": 35
        },
        "outputId": "514df4bd-f06f-4cbb-ab6a-69aca3f79fe9"
      },
      "source": [
        "a[0]+a[2]"
      ],
      "execution_count": 6,
      "outputs": [
        {
          "output_type": "execute_result",
          "data": {
            "text/plain": [
              "4"
            ]
          },
          "metadata": {
            "tags": []
          },
          "execution_count": 6
        }
      ]
    },
    {
      "cell_type": "code",
      "metadata": {
        "id": "cQ-u7qdwmpAm",
        "colab_type": "code",
        "colab": {
          "base_uri": "https://localhost:8080/",
          "height": 35
        },
        "outputId": "1b1ccbdb-8544-4044-d276-d584726d9287"
      },
      "source": [
        "a[-1]"
      ],
      "execution_count": 7,
      "outputs": [
        {
          "output_type": "execute_result",
          "data": {
            "text/plain": [
              "3"
            ]
          },
          "metadata": {
            "tags": []
          },
          "execution_count": 7
        }
      ]
    },
    {
      "cell_type": "markdown",
      "metadata": {
        "id": "RFYhBOBznHYB",
        "colab_type": "text"
      },
      "source": [
        "### **이중 리스트에서 인덱싱하기**"
      ]
    },
    {
      "cell_type": "code",
      "metadata": {
        "id": "Qqr1E9YDmpms",
        "colab_type": "code",
        "colab": {
          "base_uri": "https://localhost:8080/",
          "height": 35
        },
        "outputId": "597e61f7-c253-48dc-830a-4758d27df81b"
      },
      "source": [
        "a = [1, 2, 3, ['a', 'b', 'c']]\n",
        "a[0]"
      ],
      "execution_count": 8,
      "outputs": [
        {
          "output_type": "execute_result",
          "data": {
            "text/plain": [
              "1"
            ]
          },
          "metadata": {
            "tags": []
          },
          "execution_count": 8
        }
      ]
    },
    {
      "cell_type": "code",
      "metadata": {
        "id": "YFgcTzpEmrmF",
        "colab_type": "code",
        "colab": {
          "base_uri": "https://localhost:8080/",
          "height": 35
        },
        "outputId": "27eb77c5-b0b3-489d-ef05-4ad048e40e64"
      },
      "source": [
        "a[3]"
      ],
      "execution_count": 9,
      "outputs": [
        {
          "output_type": "execute_result",
          "data": {
            "text/plain": [
              "['a', 'b', 'c']"
            ]
          },
          "metadata": {
            "tags": []
          },
          "execution_count": 9
        }
      ]
    },
    {
      "cell_type": "code",
      "metadata": {
        "id": "_ULpUxfvmsQ_",
        "colab_type": "code",
        "colab": {
          "base_uri": "https://localhost:8080/",
          "height": 35
        },
        "outputId": "50c7560e-1a10-400c-8c61-f913ad5c534f"
      },
      "source": [
        "a[-1] # a 리스트 제일뒤인 ['a','b','c'] 리스트가 출력\n",
        "# chaek this: a[0] + a[-1] -> TypeError\n",
        "# Indexing inner list"
      ],
      "execution_count": 10,
      "outputs": [
        {
          "output_type": "execute_result",
          "data": {
            "text/plain": [
              "['a', 'b', 'c']"
            ]
          },
          "metadata": {
            "tags": []
          },
          "execution_count": 10
        }
      ]
    },
    {
      "cell_type": "code",
      "metadata": {
        "id": "lQoj9gxBmt8X",
        "colab_type": "code",
        "colab": {
          "base_uri": "https://localhost:8080/",
          "height": 35
        },
        "outputId": "25f3c202-94f5-4669-e1ac-2e3811b6cebc"
      },
      "source": [
        "a[-1][0] # a 리스트 제일 마지막인 ['a','b','c'] 리스트안의 index 0 인 a 가 출력된다"
      ],
      "execution_count": 11,
      "outputs": [
        {
          "output_type": "execute_result",
          "data": {
            "text/plain": [
              "'a'"
            ]
          },
          "metadata": {
            "tags": []
          },
          "execution_count": 11
        }
      ]
    },
    {
      "cell_type": "code",
      "metadata": {
        "id": "wu2NhhfbmueX",
        "colab_type": "code",
        "colab": {
          "base_uri": "https://localhost:8080/",
          "height": 35
        },
        "outputId": "8af25dea-6f25-44ba-8e5a-7331662a7641"
      },
      "source": [
        "a[-1][-1] # a 리스트 제일마지막인 ['a','b','c']안에서 제일마지막은 c 가 출력된다"
      ],
      "execution_count": 12,
      "outputs": [
        {
          "output_type": "execute_result",
          "data": {
            "text/plain": [
              "'c'"
            ]
          },
          "metadata": {
            "tags": []
          },
          "execution_count": 12
        }
      ]
    },
    {
      "cell_type": "markdown",
      "metadata": {
        "id": "w9JlPka8oG-5",
        "colab_type": "text"
      },
      "source": [
        "### **삼중 리스트에서 인덱싱하기**"
      ]
    },
    {
      "cell_type": "code",
      "metadata": {
        "id": "nKSWDeyTmaYY",
        "colab_type": "code",
        "colab": {
          "base_uri": "https://localhost:8080/",
          "height": 35
        },
        "outputId": "795a1399-f5f0-4320-b150-b118bded6155"
      },
      "source": [
        "a = [1, 2, ['a', 'b', ['Life', 'is']]]\n",
        "a[2] # a 리스트의 index 2위치에 있는 리스트가 나온다"
      ],
      "execution_count": 13,
      "outputs": [
        {
          "output_type": "execute_result",
          "data": {
            "text/plain": [
              "['a', 'b', ['Life', 'is']]"
            ]
          },
          "metadata": {
            "tags": []
          },
          "execution_count": 13
        }
      ]
    },
    {
      "cell_type": "code",
      "metadata": {
        "id": "ivF6XXGNoOE3",
        "colab_type": "code",
        "colab": {
          "base_uri": "https://localhost:8080/",
          "height": 35
        },
        "outputId": "7ae17855-464e-4374-9926-cbedcb494889"
      },
      "source": [
        "a[2][-1] # a 리스트의 index 2위치에 있는 리스트의 제일마지막위치에 있는 리스트를 출력"
      ],
      "execution_count": 14,
      "outputs": [
        {
          "output_type": "execute_result",
          "data": {
            "text/plain": [
              "['Life', 'is']"
            ]
          },
          "metadata": {
            "tags": []
          },
          "execution_count": 14
        }
      ]
    },
    {
      "cell_type": "code",
      "metadata": {
        "id": "R0vMBk24oPJ2",
        "colab_type": "code",
        "colab": {
          "base_uri": "https://localhost:8080/",
          "height": 35
        },
        "outputId": "8a104c0d-4248-4296-be43-1d006b971b8e"
      },
      "source": [
        "a[2][-1][0]   # 리스트안의 리스트안의 리스트의 index 0 의 값을 출력"
      ],
      "execution_count": 15,
      "outputs": [
        {
          "output_type": "execute_result",
          "data": {
            "text/plain": [
              "'Life'"
            ]
          },
          "metadata": {
            "tags": []
          },
          "execution_count": 15
        }
      ]
    },
    {
      "cell_type": "markdown",
      "metadata": {
        "id": "SuxDYjlaovyG",
        "colab_type": "text"
      },
      "source": [
        "### **리스트 슬라이싱**"
      ]
    },
    {
      "cell_type": "code",
      "metadata": {
        "id": "129kePmVoPvB",
        "colab_type": "code",
        "colab": {
          "base_uri": "https://localhost:8080/",
          "height": 35
        },
        "outputId": "9616840d-6daf-448a-a9ef-b6722fa97f1b"
      },
      "source": [
        "a = [1, 2, 3, 4, 5]\n",
        "a[0:2] #index 0부터 index 2 이전까지"
      ],
      "execution_count": 16,
      "outputs": [
        {
          "output_type": "execute_result",
          "data": {
            "text/plain": [
              "[1, 2]"
            ]
          },
          "metadata": {
            "tags": []
          },
          "execution_count": 16
        }
      ]
    },
    {
      "cell_type": "code",
      "metadata": {
        "id": "GfXNABXBo2BM",
        "colab_type": "code",
        "colab": {
          "base_uri": "https://localhost:8080/",
          "height": 35
        },
        "outputId": "3c22d2f0-da35-40e1-b0e5-a53781302d74"
      },
      "source": [
        "a = \"12345\"\n",
        "a[0:2]"
      ],
      "execution_count": 17,
      "outputs": [
        {
          "output_type": "execute_result",
          "data": {
            "text/plain": [
              "'12'"
            ]
          },
          "metadata": {
            "tags": []
          },
          "execution_count": 17
        }
      ]
    },
    {
      "cell_type": "code",
      "metadata": {
        "id": "teVx_Yd1o3CG",
        "colab_type": "code",
        "colab": {
          "base_uri": "https://localhost:8080/",
          "height": 35
        },
        "outputId": "1185cd5d-2093-4c37-b9cd-088fddc9aa13"
      },
      "source": [
        "a = [1, 2, 3, 4, 5]\n",
        "a[0:2]"
      ],
      "execution_count": 18,
      "outputs": [
        {
          "output_type": "execute_result",
          "data": {
            "text/plain": [
              "[1, 2]"
            ]
          },
          "metadata": {
            "tags": []
          },
          "execution_count": 18
        }
      ]
    },
    {
      "cell_type": "code",
      "metadata": {
        "id": "oz6gTKkqpIpq",
        "colab_type": "code",
        "colab": {
          "base_uri": "https://localhost:8080/",
          "height": 35
        },
        "outputId": "ee84592d-a39b-48b0-a7be-d204a3b78d0f"
      },
      "source": [
        "a[2:] # 리스트 a 의 인덱스 2부터 끝까지"
      ],
      "execution_count": 20,
      "outputs": [
        {
          "output_type": "execute_result",
          "data": {
            "text/plain": [
              "[3, 4, 5]"
            ]
          },
          "metadata": {
            "tags": []
          },
          "execution_count": 20
        }
      ]
    },
    {
      "cell_type": "code",
      "metadata": {
        "id": "bCC2a3QQpJN5",
        "colab_type": "code",
        "colab": {
          "base_uri": "https://localhost:8080/",
          "height": 35
        },
        "outputId": "97a0c006-a3e1-4567-c954-70c0d929edcf"
      },
      "source": [
        "a[0:4:2]  # a[start:end:step] a 리스트의 인덱스0부터 4전까지 2칸씩건너뛰기"
      ],
      "execution_count": 21,
      "outputs": [
        {
          "output_type": "execute_result",
          "data": {
            "text/plain": [
              "[1, 3]"
            ]
          },
          "metadata": {
            "tags": []
          },
          "execution_count": 21
        }
      ]
    },
    {
      "cell_type": "markdown",
      "metadata": {
        "id": "JC36lzwQppYw",
        "colab_type": "text"
      },
      "source": [
        "### **중첩된 리스트에서 슬라이싱하기**"
      ]
    },
    {
      "cell_type": "code",
      "metadata": {
        "id": "jYIU6crmpJ1U",
        "colab_type": "code",
        "colab": {
          "base_uri": "https://localhost:8080/",
          "height": 35
        },
        "outputId": "132254e8-f6cf-4319-b281-664bdfe3d5d1"
      },
      "source": [
        "a = [1, 2, 3, ['a', 'b', 'c'], 4, 5]\n",
        "a[2:5] #리스트 a의 index 2 부터 5이전까지"
      ],
      "execution_count": 23,
      "outputs": [
        {
          "output_type": "execute_result",
          "data": {
            "text/plain": [
              "[3, ['a', 'b', 'c'], 4]"
            ]
          },
          "metadata": {
            "tags": []
          },
          "execution_count": 23
        }
      ]
    },
    {
      "cell_type": "code",
      "metadata": {
        "id": "pnVM28Expu7M",
        "colab_type": "code",
        "colab": {
          "base_uri": "https://localhost:8080/",
          "height": 35
        },
        "outputId": "f0697fe3-73b4-40e5-b927-bcab264b5585"
      },
      "source": [
        "a[3][:2] # 리스트 a 의 index 3의 위치에있는 리스트의 index 처음부터 2 이전 까지"
      ],
      "execution_count": 24,
      "outputs": [
        {
          "output_type": "execute_result",
          "data": {
            "text/plain": [
              "['a', 'b']"
            ]
          },
          "metadata": {
            "tags": []
          },
          "execution_count": 24
        }
      ]
    },
    {
      "cell_type": "markdown",
      "metadata": {
        "id": "OY8D7pVPqPII",
        "colab_type": "text"
      },
      "source": [
        "리스트 인덱싱 슬라이싱 연습"
      ]
    },
    {
      "cell_type": "code",
      "metadata": {
        "id": "so4omWSCpwCn",
        "colab_type": "code",
        "colab": {
          "base_uri": "https://localhost:8080/",
          "height": 35
        },
        "outputId": "0b6d8341-a393-4300-da3c-d016bf4bf142"
      },
      "source": [
        "x = [1, 2, 3, 4, 5, 6, 7, 8, 9]\n",
        "x[0:3]"
      ],
      "execution_count": 25,
      "outputs": [
        {
          "output_type": "execute_result",
          "data": {
            "text/plain": [
              "[1, 2, 3]"
            ]
          },
          "metadata": {
            "tags": []
          },
          "execution_count": 25
        }
      ]
    },
    {
      "cell_type": "code",
      "metadata": {
        "id": "dJMxHZQzqbGR",
        "colab_type": "code",
        "colab": {
          "base_uri": "https://localhost:8080/",
          "height": 35
        },
        "outputId": "a3cbb2eb-1d4e-4778-af27-449b62d3adc7"
      },
      "source": [
        "x[3:]"
      ],
      "execution_count": 26,
      "outputs": [
        {
          "output_type": "execute_result",
          "data": {
            "text/plain": [
              "[4, 5, 6, 7, 8, 9]"
            ]
          },
          "metadata": {
            "tags": []
          },
          "execution_count": 26
        }
      ]
    },
    {
      "cell_type": "code",
      "metadata": {
        "id": "POfkA6_UqxuS",
        "colab_type": "code",
        "colab": {
          "base_uri": "https://localhost:8080/",
          "height": 35
        },
        "outputId": "513b303b-36f9-4fed-93c7-5152d460c7c5"
      },
      "source": [
        "\n",
        "x[:6] # 처음부터 index 5번까지"
      ],
      "execution_count": 27,
      "outputs": [
        {
          "output_type": "execute_result",
          "data": {
            "text/plain": [
              "[1, 2, 3, 4, 5, 6]"
            ]
          },
          "metadata": {
            "tags": []
          },
          "execution_count": 27
        }
      ]
    },
    {
      "cell_type": "code",
      "metadata": {
        "id": "rXBm9kRaqyfA",
        "colab_type": "code",
        "colab": {
          "base_uri": "https://localhost:8080/",
          "height": 35
        },
        "outputId": "646203d4-ae27-4f24-9dfb-1ac294d08f76"
      },
      "source": [
        "x[0:6:2]  # x[:6:2] # 1,3,5"
      ],
      "execution_count": 28,
      "outputs": [
        {
          "output_type": "execute_result",
          "data": {
            "text/plain": [
              "[1, 3, 5]"
            ]
          },
          "metadata": {
            "tags": []
          },
          "execution_count": 28
        }
      ]
    },
    {
      "cell_type": "code",
      "metadata": {
        "id": "20Jz0OX-qy7U",
        "colab_type": "code",
        "colab": {
          "base_uri": "https://localhost:8080/",
          "height": 35
        },
        "outputId": "603ceb11-7b52-4c3b-c388-6d3d49d8b6ff"
      },
      "source": [
        "x[-1]"
      ],
      "execution_count": 29,
      "outputs": [
        {
          "output_type": "execute_result",
          "data": {
            "text/plain": [
              "9"
            ]
          },
          "metadata": {
            "tags": []
          },
          "execution_count": 29
        }
      ]
    },
    {
      "cell_type": "code",
      "metadata": {
        "id": "C1WHqrBJqzVz",
        "colab_type": "code",
        "colab": {
          "base_uri": "https://localhost:8080/",
          "height": 35
        },
        "outputId": "79a036b4-3d69-4359-c256-1242b4a1c20b"
      },
      "source": [
        "x[-3] #1~6까지"
      ],
      "execution_count": 30,
      "outputs": [
        {
          "output_type": "execute_result",
          "data": {
            "text/plain": [
              "7"
            ]
          },
          "metadata": {
            "tags": []
          },
          "execution_count": 30
        }
      ]
    },
    {
      "cell_type": "code",
      "metadata": {
        "id": "xgOpGfxeqzzc",
        "colab_type": "code",
        "colab": {
          "base_uri": "https://localhost:8080/",
          "height": 35
        },
        "outputId": "72d278b4-fc1b-4b8f-8fae-ba754c7640fb"
      },
      "source": [
        "x[:-3]"
      ],
      "execution_count": 31,
      "outputs": [
        {
          "output_type": "execute_result",
          "data": {
            "text/plain": [
              "[1, 2, 3, 4, 5, 6]"
            ]
          },
          "metadata": {
            "tags": []
          },
          "execution_count": 31
        }
      ]
    },
    {
      "cell_type": "code",
      "metadata": {
        "id": "tcFVF_Bvq0Q8",
        "colab_type": "code",
        "colab": {
          "base_uri": "https://localhost:8080/",
          "height": 35
        },
        "outputId": "dab64ef3-b1ac-47bd-87d9-4e8f972f6e05"
      },
      "source": [
        "x[::-1] #9부터 1까지 리버스해서 출력"
      ],
      "execution_count": 32,
      "outputs": [
        {
          "output_type": "execute_result",
          "data": {
            "text/plain": [
              "[9, 8, 7, 6, 5, 4, 3, 2, 1]"
            ]
          },
          "metadata": {
            "tags": []
          },
          "execution_count": 32
        }
      ]
    },
    {
      "cell_type": "code",
      "metadata": {
        "id": "2DzE_exNq0uf",
        "colab_type": "code",
        "colab": {
          "base_uri": "https://localhost:8080/",
          "height": 35
        },
        "outputId": "bb42155d-ec08-4d06-933e-d409bbed1945"
      },
      "source": [
        "x[-3::-1] # 7~1까지"
      ],
      "execution_count": 33,
      "outputs": [
        {
          "output_type": "execute_result",
          "data": {
            "text/plain": [
              "[7, 6, 5, 4, 3, 2, 1]"
            ]
          },
          "metadata": {
            "tags": []
          },
          "execution_count": 33
        }
      ]
    },
    {
      "cell_type": "markdown",
      "metadata": {
        "id": "itQI_H0WrCu_",
        "colab_type": "text"
      },
      "source": [
        "## **리스트 연산하기**"
      ]
    },
    {
      "cell_type": "markdown",
      "metadata": {
        "id": "MW982KQUrOdI",
        "colab_type": "text"
      },
      "source": [
        "**리스트 더하기**"
      ]
    },
    {
      "cell_type": "code",
      "metadata": {
        "id": "iAa722FpqXPq",
        "colab_type": "code",
        "colab": {
          "base_uri": "https://localhost:8080/",
          "height": 35
        },
        "outputId": "a4e4009a-ac7a-493e-b17a-d41b18a35cfb"
      },
      "source": [
        "a = [1, 2, 3]\n",
        "b = [4, 5, 6]\n",
        "a + b"
      ],
      "execution_count": 34,
      "outputs": [
        {
          "output_type": "execute_result",
          "data": {
            "text/plain": [
              "[1, 2, 3, 4, 5, 6]"
            ]
          },
          "metadata": {
            "tags": []
          },
          "execution_count": 34
        }
      ]
    },
    {
      "cell_type": "markdown",
      "metadata": {
        "id": "U37Xxs4ere9w",
        "colab_type": "text"
      },
      "source": [
        "**리스트 반복하기**"
      ]
    },
    {
      "cell_type": "code",
      "metadata": {
        "id": "xct_NmITrTfs",
        "colab_type": "code",
        "colab": {
          "base_uri": "https://localhost:8080/",
          "height": 35
        },
        "outputId": "5f23aaeb-ae58-4c19-85b3-a81fa249112a"
      },
      "source": [
        "a * 3 # a 리스트를 3번 반복한다"
      ],
      "execution_count": 35,
      "outputs": [
        {
          "output_type": "execute_result",
          "data": {
            "text/plain": [
              "[1, 2, 3, 1, 2, 3, 1, 2, 3]"
            ]
          },
          "metadata": {
            "tags": []
          },
          "execution_count": 35
        }
      ]
    },
    {
      "cell_type": "markdown",
      "metadata": {
        "id": "IU33w-SIrr46",
        "colab_type": "text"
      },
      "source": [
        "**리스트 길이구하기**"
      ]
    },
    {
      "cell_type": "code",
      "metadata": {
        "id": "S51mhSqyrjK8",
        "colab_type": "code",
        "colab": {}
      },
      "source": [
        "len(a)"
      ],
      "execution_count": 0,
      "outputs": []
    },
    {
      "cell_type": "markdown",
      "metadata": {
        "id": "GTQX9j5Ar9DT",
        "colab_type": "text"
      },
      "source": [
        "**초보자가 범하기 쉬운 리스트 연산 오류**"
      ]
    },
    {
      "cell_type": "code",
      "metadata": {
        "id": "90hGYPu0rvtL",
        "colab_type": "code",
        "colab": {
          "base_uri": "https://localhost:8080/",
          "height": 190
        },
        "outputId": "b413c740-98ba-4fb7-bbd2-c9f1e0c28563"
      },
      "source": [
        "a = [1, 2, 3]\n",
        "a[2] + \"hi\" # 타입형이 안맞아서 에러발생"
      ],
      "execution_count": 36,
      "outputs": [
        {
          "output_type": "error",
          "ename": "TypeError",
          "evalue": "ignored",
          "traceback": [
            "\u001b[0;31m---------------------------------------------------------------------------\u001b[0m",
            "\u001b[0;31mTypeError\u001b[0m                                 Traceback (most recent call last)",
            "\u001b[0;32m<ipython-input-36-9393398a1c03>\u001b[0m in \u001b[0;36m<module>\u001b[0;34m()\u001b[0m\n\u001b[1;32m      1\u001b[0m \u001b[0ma\u001b[0m \u001b[0;34m=\u001b[0m \u001b[0;34m[\u001b[0m\u001b[0;36m1\u001b[0m\u001b[0;34m,\u001b[0m \u001b[0;36m2\u001b[0m\u001b[0;34m,\u001b[0m \u001b[0;36m3\u001b[0m\u001b[0;34m]\u001b[0m\u001b[0;34m\u001b[0m\u001b[0;34m\u001b[0m\u001b[0m\n\u001b[0;32m----> 2\u001b[0;31m \u001b[0ma\u001b[0m\u001b[0;34m[\u001b[0m\u001b[0;36m2\u001b[0m\u001b[0;34m]\u001b[0m \u001b[0;34m+\u001b[0m \u001b[0;34m\"hi\"\u001b[0m \u001b[0;31m# 타입형이 안맞아서 에러발생\u001b[0m\u001b[0;34m\u001b[0m\u001b[0;34m\u001b[0m\u001b[0m\n\u001b[0m",
            "\u001b[0;31mTypeError\u001b[0m: unsupported operand type(s) for +: 'int' and 'str'"
          ]
        }
      ]
    },
    {
      "cell_type": "code",
      "metadata": {
        "id": "7gjEs-E-sBG8",
        "colab_type": "code",
        "colab": {
          "base_uri": "https://localhost:8080/",
          "height": 35
        },
        "outputId": "e97776df-38a2-4cc0-c892-797ce7d065d6"
      },
      "source": [
        "str(a[2]) + \"hi\" #a[2]를 str형으로 바꿔주고 더하면 된다"
      ],
      "execution_count": 37,
      "outputs": [
        {
          "output_type": "execute_result",
          "data": {
            "text/plain": [
              "'3hi'"
            ]
          },
          "metadata": {
            "tags": []
          },
          "execution_count": 37
        }
      ]
    },
    {
      "cell_type": "markdown",
      "metadata": {
        "id": "N_T_rgjzsQVK",
        "colab_type": "text"
      },
      "source": [
        "## **리스트의 수정과 삭제**"
      ]
    },
    {
      "cell_type": "markdown",
      "metadata": {
        "id": "6J7_LXgnsjw3",
        "colab_type": "text"
      },
      "source": [
        "**리스트 수정**"
      ]
    },
    {
      "cell_type": "code",
      "metadata": {
        "id": "JyFm7IGksBr_",
        "colab_type": "code",
        "colab": {
          "base_uri": "https://localhost:8080/",
          "height": 35
        },
        "outputId": "b65133b0-879e-4884-d909-ed34ce04fb5d"
      },
      "source": [
        "a = [1, 2, 3]\n",
        "a[2] = 4  # 리스트는 가변형이라 해당 인덱스의 값을 바꾸는게 가능하다\n",
        "a"
      ],
      "execution_count": 38,
      "outputs": [
        {
          "output_type": "execute_result",
          "data": {
            "text/plain": [
              "[1, 2, 4]"
            ]
          },
          "metadata": {
            "tags": []
          },
          "execution_count": 38
        }
      ]
    },
    {
      "cell_type": "markdown",
      "metadata": {
        "id": "y_jlceJKsmDX",
        "colab_type": "text"
      },
      "source": [
        "**del 함수를 이용해 리스트 요소 삭제**"
      ]
    },
    {
      "cell_type": "code",
      "metadata": {
        "id": "vvQ5OhIIsWS2",
        "colab_type": "code",
        "colab": {
          "base_uri": "https://localhost:8080/",
          "height": 35
        },
        "outputId": "bb4e55d7-f49b-465b-8b11-dbf603648391"
      },
      "source": [
        "a = [1, 2, 3]\n",
        "del a[1] #a[1]에 해당하는 요소를 지워버린다\n",
        "a"
      ],
      "execution_count": 39,
      "outputs": [
        {
          "output_type": "execute_result",
          "data": {
            "text/plain": [
              "[1, 3]"
            ]
          },
          "metadata": {
            "tags": []
          },
          "execution_count": 39
        }
      ]
    },
    {
      "cell_type": "markdown",
      "metadata": {
        "id": "9YDEV-4vs2kn",
        "colab_type": "text"
      },
      "source": [
        "**슬라이싱을 이용하여 삭제**"
      ]
    },
    {
      "cell_type": "code",
      "metadata": {
        "id": "Tw-NpQCosrzC",
        "colab_type": "code",
        "colab": {
          "base_uri": "https://localhost:8080/",
          "height": 35
        },
        "outputId": "9e803661-222c-49ea-e11f-7b953a0456c0"
      },
      "source": [
        "a = [1, 2, 3, 4, 5]\n",
        "del a[2:] #index 2~끝까지 다 삭제시켜버림\n",
        "a"
      ],
      "execution_count": 40,
      "outputs": [
        {
          "output_type": "execute_result",
          "data": {
            "text/plain": [
              "[1, 2]"
            ]
          },
          "metadata": {
            "tags": []
          },
          "execution_count": 40
        }
      ]
    },
    {
      "cell_type": "markdown",
      "metadata": {
        "id": "T1BAs47fSW09",
        "colab_type": "text"
      },
      "source": [
        "## **리스트 내부함수 이용**"
      ]
    },
    {
      "cell_type": "code",
      "metadata": {
        "id": "qySc_oUnSFAS",
        "colab_type": "code",
        "colab": {
          "base_uri": "https://localhost:8080/",
          "height": 53
        },
        "outputId": "5f8917a2-80f0-4cf0-bba3-7bdcb4936055"
      },
      "source": [
        "print(\"리스트: 내부 함수 이용\")\n",
        "#\n",
        "# 리스트에 요소 추가(append)\n",
        "#\n",
        "a = [1, 2, 3]\n",
        "a.append(4) #append에 value값을 넣어으면 요소가 추기된다\n",
        "a"
      ],
      "execution_count": 1,
      "outputs": [
        {
          "output_type": "stream",
          "text": [
            "리스트: 내부 함수 이용\n"
          ],
          "name": "stdout"
        },
        {
          "output_type": "execute_result",
          "data": {
            "text/plain": [
              "[1, 2, 3, 4]"
            ]
          },
          "metadata": {
            "tags": []
          },
          "execution_count": 1
        }
      ]
    },
    {
      "cell_type": "markdown",
      "metadata": {
        "id": "h-UWViietVvG",
        "colab_type": "text"
      },
      "source": [
        "**리스트에 리스트를 추가**"
      ]
    },
    {
      "cell_type": "code",
      "metadata": {
        "id": "c3LMho_kQZRX",
        "colab_type": "code",
        "colab": {
          "base_uri": "https://localhost:8080/",
          "height": 35
        },
        "outputId": "fc2c65af-e9fd-4b26-a6b6-7881febc5983"
      },
      "source": [
        "# 리스트 안에는 어떤 자료형도 추가할 수 있다.\n",
        "a.append([5, 6])\n",
        "a"
      ],
      "execution_count": 41,
      "outputs": [
        {
          "output_type": "execute_result",
          "data": {
            "text/plain": [
              "[1, 2, [5, 6]]"
            ]
          },
          "metadata": {
            "tags": []
          },
          "execution_count": 41
        }
      ]
    },
    {
      "cell_type": "markdown",
      "metadata": {
        "id": "bIMuL8cjtiDs",
        "colab_type": "text"
      },
      "source": [
        "**sort 를이용한 리스트 정렬**"
      ]
    },
    {
      "cell_type": "code",
      "metadata": {
        "id": "6dxPr8frtcMt",
        "colab_type": "code",
        "colab": {
          "base_uri": "https://localhost:8080/",
          "height": 35
        },
        "outputId": "072400b8-024b-4a25-cb51-4beac3135d62"
      },
      "source": [
        "a = [1, 4, 3, 2]\n",
        "a.sort() #a 리스트를 정렬시켜준다\n",
        "a"
      ],
      "execution_count": 42,
      "outputs": [
        {
          "output_type": "execute_result",
          "data": {
            "text/plain": [
              "[1, 2, 3, 4]"
            ]
          },
          "metadata": {
            "tags": []
          },
          "execution_count": 42
        }
      ]
    },
    {
      "cell_type": "code",
      "metadata": {
        "id": "-QKu8QqetnJZ",
        "colab_type": "code",
        "colab": {
          "base_uri": "https://localhost:8080/",
          "height": 35
        },
        "outputId": "f407c47a-e0db-4d86-b243-38a448e20878"
      },
      "source": [
        "\n",
        "s = [\"a\", \"c\", \"b\"]\n",
        "s.sort()\n",
        "s"
      ],
      "execution_count": 43,
      "outputs": [
        {
          "output_type": "execute_result",
          "data": {
            "text/plain": [
              "['a', 'b', 'c']"
            ]
          },
          "metadata": {
            "tags": []
          },
          "execution_count": 43
        }
      ]
    },
    {
      "cell_type": "markdown",
      "metadata": {
        "id": "mzjLbkA8vzim",
        "colab_type": "text"
      },
      "source": [
        "**reverse를 이용하여 리스트 뒤집기**"
      ]
    },
    {
      "cell_type": "code",
      "metadata": {
        "id": "sTn7XgJwtoP3",
        "colab_type": "code",
        "colab": {}
      },
      "source": [
        "a = [\"a\", \"c\", \"b\"]\n",
        "a.reverse()\n",
        "a"
      ],
      "execution_count": 0,
      "outputs": []
    },
    {
      "cell_type": "markdown",
      "metadata": {
        "id": "JMQrZbixv9d2",
        "colab_type": "text"
      },
      "source": [
        "**index를 이용하여 위치반환 하기**"
      ]
    },
    {
      "cell_type": "code",
      "metadata": {
        "id": "JCuRXtGvv6Dt",
        "colab_type": "code",
        "colab": {
          "base_uri": "https://localhost:8080/",
          "height": 35
        },
        "outputId": "3d6a3d91-b082-4ace-e5b5-7c0bbe044955"
      },
      "source": [
        "a = [1, 2, 3]\n",
        "a.index(3) # index() 안에 value 값을 넣어서 해당 value의 위치를 반환한다"
      ],
      "execution_count": 44,
      "outputs": [
        {
          "output_type": "execute_result",
          "data": {
            "text/plain": [
              "2"
            ]
          },
          "metadata": {
            "tags": []
          },
          "execution_count": 44
        }
      ]
    },
    {
      "cell_type": "code",
      "metadata": {
        "id": "PDbrHyDZwKas",
        "colab_type": "code",
        "colab": {
          "base_uri": "https://localhost:8080/",
          "height": 35
        },
        "outputId": "f2242a25-7c52-4eec-ca37-c9dcaa87b5c8"
      },
      "source": [
        "a.index(1)"
      ],
      "execution_count": 45,
      "outputs": [
        {
          "output_type": "execute_result",
          "data": {
            "text/plain": [
              "0"
            ]
          },
          "metadata": {
            "tags": []
          },
          "execution_count": 45
        }
      ]
    },
    {
      "cell_type": "code",
      "metadata": {
        "id": "HG3qLmqYwL-Z",
        "colab_type": "code",
        "colab": {
          "base_uri": "https://localhost:8080/",
          "height": 172
        },
        "outputId": "91f3f480-b968-4658-eac0-fe7c3b3a940c"
      },
      "source": [
        "a.index(0) # a리스트안에 0이라는 value가 없으니 오류가발생"
      ],
      "execution_count": 46,
      "outputs": [
        {
          "output_type": "error",
          "ename": "ValueError",
          "evalue": "ignored",
          "traceback": [
            "\u001b[0;31m---------------------------------------------------------------------------\u001b[0m",
            "\u001b[0;31mValueError\u001b[0m                                Traceback (most recent call last)",
            "\u001b[0;32m<ipython-input-46-affdffa288f1>\u001b[0m in \u001b[0;36m<module>\u001b[0;34m()\u001b[0m\n\u001b[0;32m----> 1\u001b[0;31m \u001b[0ma\u001b[0m\u001b[0;34m.\u001b[0m\u001b[0mindex\u001b[0m\u001b[0;34m(\u001b[0m\u001b[0;36m0\u001b[0m\u001b[0;34m)\u001b[0m\u001b[0;34m\u001b[0m\u001b[0;34m\u001b[0m\u001b[0m\n\u001b[0m",
            "\u001b[0;31mValueError\u001b[0m: 0 is not in list"
          ]
        }
      ]
    },
    {
      "cell_type": "code",
      "metadata": {
        "id": "Uqv61Bu3wMvF",
        "colab_type": "code",
        "colab": {
          "base_uri": "https://localhost:8080/",
          "height": 190
        },
        "outputId": "c9005760-3191-4ee3-fc79-3876b02818e8"
      },
      "source": [
        "s = [\"a\", \"c\", \"b\"]\n",
        "s.index(3)  # 해당 value 가없으니 에러발생"
      ],
      "execution_count": 47,
      "outputs": [
        {
          "output_type": "error",
          "ename": "ValueError",
          "evalue": "ignored",
          "traceback": [
            "\u001b[0;31m---------------------------------------------------------------------------\u001b[0m",
            "\u001b[0;31mValueError\u001b[0m                                Traceback (most recent call last)",
            "\u001b[0;32m<ipython-input-47-782604f77e71>\u001b[0m in \u001b[0;36m<module>\u001b[0;34m()\u001b[0m\n\u001b[1;32m      1\u001b[0m \u001b[0ms\u001b[0m \u001b[0;34m=\u001b[0m \u001b[0;34m[\u001b[0m\u001b[0;34m\"a\"\u001b[0m\u001b[0;34m,\u001b[0m \u001b[0;34m\"c\"\u001b[0m\u001b[0;34m,\u001b[0m \u001b[0;34m\"b\"\u001b[0m\u001b[0;34m]\u001b[0m\u001b[0;34m\u001b[0m\u001b[0;34m\u001b[0m\u001b[0m\n\u001b[0;32m----> 2\u001b[0;31m \u001b[0ms\u001b[0m\u001b[0;34m.\u001b[0m\u001b[0mindex\u001b[0m\u001b[0;34m(\u001b[0m\u001b[0;36m3\u001b[0m\u001b[0;34m)\u001b[0m  \u001b[0;31m# Error\u001b[0m\u001b[0;34m\u001b[0m\u001b[0;34m\u001b[0m\u001b[0m\n\u001b[0m",
            "\u001b[0;31mValueError\u001b[0m: 3 is not in list"
          ]
        }
      ]
    },
    {
      "cell_type": "code",
      "metadata": {
        "id": "7neppeOmwpga",
        "colab_type": "code",
        "colab": {
          "base_uri": "https://localhost:8080/",
          "height": 172
        },
        "outputId": "1aa112db-09e9-4757-c98b-6b5623df939b"
      },
      "source": [
        "s.index(a)  # type 에러 발생"
      ],
      "execution_count": 48,
      "outputs": [
        {
          "output_type": "error",
          "ename": "ValueError",
          "evalue": "ignored",
          "traceback": [
            "\u001b[0;31m---------------------------------------------------------------------------\u001b[0m",
            "\u001b[0;31mValueError\u001b[0m                                Traceback (most recent call last)",
            "\u001b[0;32m<ipython-input-48-11c862f7caee>\u001b[0m in \u001b[0;36m<module>\u001b[0;34m()\u001b[0m\n\u001b[0;32m----> 1\u001b[0;31m \u001b[0ms\u001b[0m\u001b[0;34m.\u001b[0m\u001b[0mindex\u001b[0m\u001b[0;34m(\u001b[0m\u001b[0ma\u001b[0m\u001b[0;34m)\u001b[0m  \u001b[0;31m# Error\u001b[0m\u001b[0;34m\u001b[0m\u001b[0;34m\u001b[0m\u001b[0m\n\u001b[0m",
            "\u001b[0;31mValueError\u001b[0m: [1, 2, 3] is not in list"
          ]
        }
      ]
    },
    {
      "cell_type": "code",
      "metadata": {
        "id": "HdPLVwGWwqHa",
        "colab_type": "code",
        "colab": {
          "base_uri": "https://localhost:8080/",
          "height": 35
        },
        "outputId": "4c5df2a7-77b5-453c-e940-2cffd1d5184b"
      },
      "source": [
        "s.index(\"a\")"
      ],
      "execution_count": 49,
      "outputs": [
        {
          "output_type": "execute_result",
          "data": {
            "text/plain": [
              "0"
            ]
          },
          "metadata": {
            "tags": []
          },
          "execution_count": 49
        }
      ]
    },
    {
      "cell_type": "markdown",
      "metadata": {
        "id": "2XgKkRHTw-LG",
        "colab_type": "text"
      },
      "source": [
        "**insert를 이용하여 리스트에 요소삽입**"
      ]
    },
    {
      "cell_type": "code",
      "metadata": {
        "id": "k8gMPVxCwobb",
        "colab_type": "code",
        "colab": {
          "base_uri": "https://localhost:8080/",
          "height": 35
        },
        "outputId": "b89f698e-4b57-43d7-f318-dcbbcc6747ba"
      },
      "source": [
        "a = [1, 2, 3]\n",
        "a.insert(0, 4) #insert(index, value) -> index 0의 위치에 4라는 요소를 삽입한다\n",
        "a"
      ],
      "execution_count": 50,
      "outputs": [
        {
          "output_type": "execute_result",
          "data": {
            "text/plain": [
              "[4, 1, 2, 3]"
            ]
          },
          "metadata": {
            "tags": []
          },
          "execution_count": 50
        }
      ]
    },
    {
      "cell_type": "code",
      "metadata": {
        "id": "jxMqclVJxINA",
        "colab_type": "code",
        "colab": {
          "base_uri": "https://localhost:8080/",
          "height": 35
        },
        "outputId": "30684738-2edc-4973-9d43-fdf0349e7cdf"
      },
      "source": [
        "a.insert(3, 5)\n",
        "a"
      ],
      "execution_count": 51,
      "outputs": [
        {
          "output_type": "execute_result",
          "data": {
            "text/plain": [
              "[4, 1, 2, 5, 3]"
            ]
          },
          "metadata": {
            "tags": []
          },
          "execution_count": 51
        }
      ]
    },
    {
      "cell_type": "markdown",
      "metadata": {
        "id": "9MJj91ZYxfit",
        "colab_type": "text"
      },
      "source": [
        "**remove를 이용하여 리스트 요소 제거**"
      ]
    },
    {
      "cell_type": "code",
      "metadata": {
        "id": "uIHw140DxJXt",
        "colab_type": "code",
        "colab": {
          "base_uri": "https://localhost:8080/",
          "height": 35
        },
        "outputId": "309ff361-0ae7-4b62-ff89-849d70021565"
      },
      "source": [
        "a = [1, 2, 3, 1, 2, 3]\n",
        "a.remove(3) # 리스트에서 3을 하나 제거한다\n",
        "a"
      ],
      "execution_count": 52,
      "outputs": [
        {
          "output_type": "execute_result",
          "data": {
            "text/plain": [
              "[1, 2, 1, 2, 3]"
            ]
          },
          "metadata": {
            "tags": []
          },
          "execution_count": 52
        }
      ]
    },
    {
      "cell_type": "code",
      "metadata": {
        "id": "C7uuBHVAxvzx",
        "colab_type": "code",
        "colab": {
          "base_uri": "https://localhost:8080/",
          "height": 35
        },
        "outputId": "756cc9e2-2fd6-4284-a509-352914ccd89a"
      },
      "source": [
        "# 3을 리스트 a에서 완전히 제거\n",
        "a.remove(3)\n",
        "a"
      ],
      "execution_count": 53,
      "outputs": [
        {
          "output_type": "execute_result",
          "data": {
            "text/plain": [
              "[1, 2, 1, 2]"
            ]
          },
          "metadata": {
            "tags": []
          },
          "execution_count": 53
        }
      ]
    },
    {
      "cell_type": "code",
      "metadata": {
        "id": "SfXtL3LVxw03",
        "colab_type": "code",
        "colab": {
          "base_uri": "https://localhost:8080/",
          "height": 172
        },
        "outputId": "56dd47d0-ac8f-463a-ba1f-d084e842bc6f"
      },
      "source": [
        "a.remove(3)  # ValueError -> 이 더이상 존재하지않는데 제거하려니 에러발생"
      ],
      "execution_count": 54,
      "outputs": [
        {
          "output_type": "error",
          "ename": "ValueError",
          "evalue": "ignored",
          "traceback": [
            "\u001b[0;31m---------------------------------------------------------------------------\u001b[0m",
            "\u001b[0;31mValueError\u001b[0m                                Traceback (most recent call last)",
            "\u001b[0;32m<ipython-input-54-5f3bdfa289a8>\u001b[0m in \u001b[0;36m<module>\u001b[0;34m()\u001b[0m\n\u001b[0;32m----> 1\u001b[0;31m \u001b[0ma\u001b[0m\u001b[0;34m.\u001b[0m\u001b[0mremove\u001b[0m\u001b[0;34m(\u001b[0m\u001b[0;36m3\u001b[0m\u001b[0;34m)\u001b[0m  \u001b[0;31m# ValueError -> 이 더이상 존재하지않는데 제거하려니 에러발생\u001b[0m\u001b[0;34m\u001b[0m\u001b[0;34m\u001b[0m\u001b[0m\n\u001b[0m",
            "\u001b[0;31mValueError\u001b[0m: list.remove(x): x not in list"
          ]
        }
      ]
    },
    {
      "cell_type": "markdown",
      "metadata": {
        "id": "vNustVMkx1Hl",
        "colab_type": "text"
      },
      "source": [
        "### **pop을 이용하여 리스트 요소 끄집어내기**"
      ]
    },
    {
      "cell_type": "code",
      "metadata": {
        "id": "Kq0Fzpw8xmNq",
        "colab_type": "code",
        "colab": {
          "base_uri": "https://localhost:8080/",
          "height": 190
        },
        "outputId": "b4918667-0bcc-49b9-8612-ad93a2ebb51a"
      },
      "source": [
        "a = [1, 2, 3]\n",
        "a[2] + \"hi\"  # TypeError 발생"
      ],
      "execution_count": 55,
      "outputs": [
        {
          "output_type": "error",
          "ename": "TypeError",
          "evalue": "ignored",
          "traceback": [
            "\u001b[0;31m---------------------------------------------------------------------------\u001b[0m",
            "\u001b[0;31mTypeError\u001b[0m                                 Traceback (most recent call last)",
            "\u001b[0;32m<ipython-input-55-166a6daa00fe>\u001b[0m in \u001b[0;36m<module>\u001b[0;34m()\u001b[0m\n\u001b[1;32m      1\u001b[0m \u001b[0ma\u001b[0m \u001b[0;34m=\u001b[0m \u001b[0;34m[\u001b[0m\u001b[0;36m1\u001b[0m\u001b[0;34m,\u001b[0m \u001b[0;36m2\u001b[0m\u001b[0;34m,\u001b[0m \u001b[0;36m3\u001b[0m\u001b[0;34m]\u001b[0m\u001b[0;34m\u001b[0m\u001b[0;34m\u001b[0m\u001b[0m\n\u001b[0;32m----> 2\u001b[0;31m \u001b[0ma\u001b[0m\u001b[0;34m[\u001b[0m\u001b[0;36m2\u001b[0m\u001b[0;34m]\u001b[0m \u001b[0;34m+\u001b[0m \u001b[0;34m\"hi\"\u001b[0m  \u001b[0;31m# TypeError 발생\u001b[0m\u001b[0;34m\u001b[0m\u001b[0;34m\u001b[0m\u001b[0m\n\u001b[0m",
            "\u001b[0;31mTypeError\u001b[0m: unsupported operand type(s) for +: 'int' and 'str'"
          ]
        }
      ]
    },
    {
      "cell_type": "code",
      "metadata": {
        "id": "zTovw6AXx91X",
        "colab_type": "code",
        "colab": {
          "base_uri": "https://localhost:8080/",
          "height": 35
        },
        "outputId": "4bf338fb-ddb3-418d-e40c-d69363c32dba"
      },
      "source": [
        "str(a[2]) + \"hi\" # 리스트요소를 str형으로 변환해서 더한다"
      ],
      "execution_count": 56,
      "outputs": [
        {
          "output_type": "execute_result",
          "data": {
            "text/plain": [
              "'3hi'"
            ]
          },
          "metadata": {
            "tags": []
          },
          "execution_count": 56
        }
      ]
    },
    {
      "cell_type": "markdown",
      "metadata": {
        "id": "MLEfwEHRybLU",
        "colab_type": "text"
      },
      "source": [
        "**리스트 수정과 삭제**"
      ]
    },
    {
      "cell_type": "code",
      "metadata": {
        "id": "-CdPyW-1x6Il",
        "colab_type": "code",
        "colab": {
          "base_uri": "https://localhost:8080/",
          "height": 35
        },
        "outputId": "f63049cf-c63f-4985-ede2-ffbc7ab55871"
      },
      "source": [
        "a = [1, 2, 3]\n",
        "# pop()은 리스트의 맨 마지막 요소를 돌려주고 그 요소는 삭제한다.\n",
        "a.pop()\n",
        "a"
      ],
      "execution_count": 57,
      "outputs": [
        {
          "output_type": "execute_result",
          "data": {
            "text/plain": [
              "[1, 2]"
            ]
          },
          "metadata": {
            "tags": []
          },
          "execution_count": 57
        }
      ]
    },
    {
      "cell_type": "code",
      "metadata": {
        "id": "3169tnieyfRh",
        "colab_type": "code",
        "colab": {
          "base_uri": "https://localhost:8080/",
          "height": 35
        },
        "outputId": "d15c9928-16ae-4cef-d39f-b1a4db2a6bd9"
      },
      "source": [
        "a = [1, 2, 3]\n",
        "# pop(x)는 리스트의 index가 x인 요소를 돌려주고 그 요소는 삭제한다.\n",
        "a.pop(1)\n",
        "a"
      ],
      "execution_count": 58,
      "outputs": [
        {
          "output_type": "execute_result",
          "data": {
            "text/plain": [
              "[1, 3]"
            ]
          },
          "metadata": {
            "tags": []
          },
          "execution_count": 58
        }
      ]
    },
    {
      "cell_type": "code",
      "metadata": {
        "id": "JEHiEoMsykCr",
        "colab_type": "code",
        "colab": {
          "base_uri": "https://localhost:8080/",
          "height": 172
        },
        "outputId": "3821465d-a126-4e37-d320-6c865d5d8043"
      },
      "source": [
        "a.pop(2)  # IndexError -> pop으로 하나를제거해서 index가 1까지밖에없다"
      ],
      "execution_count": 59,
      "outputs": [
        {
          "output_type": "error",
          "ename": "IndexError",
          "evalue": "ignored",
          "traceback": [
            "\u001b[0;31m---------------------------------------------------------------------------\u001b[0m",
            "\u001b[0;31mIndexError\u001b[0m                                Traceback (most recent call last)",
            "\u001b[0;32m<ipython-input-59-3febe8074357>\u001b[0m in \u001b[0;36m<module>\u001b[0;34m()\u001b[0m\n\u001b[0;32m----> 1\u001b[0;31m \u001b[0ma\u001b[0m\u001b[0;34m.\u001b[0m\u001b[0mpop\u001b[0m\u001b[0;34m(\u001b[0m\u001b[0;36m2\u001b[0m\u001b[0;34m)\u001b[0m  \u001b[0;31m# IndexError -> pop으로 하나를제거해서 index가 1까지밖에없다\u001b[0m\u001b[0;34m\u001b[0m\u001b[0;34m\u001b[0m\u001b[0m\n\u001b[0m",
            "\u001b[0;31mIndexError\u001b[0m: pop index out of range"
          ]
        }
      ]
    },
    {
      "cell_type": "markdown",
      "metadata": {
        "id": "KYs25vH-yxPM",
        "colab_type": "text"
      },
      "source": [
        "**count를 이용해 리스트에 포함된 요소 개수 세기**"
      ]
    },
    {
      "cell_type": "code",
      "metadata": {
        "id": "Hyy5GYdmy9ox",
        "colab_type": "code",
        "colab": {
          "base_uri": "https://localhost:8080/",
          "height": 35
        },
        "outputId": "511cfb12-571a-48c1-b915-00cdc442e4d1"
      },
      "source": [
        "a = [1, 2, 3, 1]\n",
        "a.count(1) # 1이라는 요소가 몇개있는지 센다"
      ],
      "execution_count": 60,
      "outputs": [
        {
          "output_type": "execute_result",
          "data": {
            "text/plain": [
              "2"
            ]
          },
          "metadata": {
            "tags": []
          },
          "execution_count": 60
        }
      ]
    },
    {
      "cell_type": "markdown",
      "metadata": {
        "id": "jNP8uaNIzIOW",
        "colab_type": "text"
      },
      "source": [
        "**extend를 이용하여 리스트확장**"
      ]
    },
    {
      "cell_type": "code",
      "metadata": {
        "id": "_JU5YqoZzBf4",
        "colab_type": "code",
        "colab": {
          "base_uri": "https://localhost:8080/",
          "height": 35
        },
        "outputId": "8d549d99-d605-4354-cde6-12de048d7fe4"
      },
      "source": [
        "a = [1, 2, 3]\n",
        "a.extend([4, 5]) # -> a + [4,5]와 동일\n",
        "a "
      ],
      "execution_count": 61,
      "outputs": [
        {
          "output_type": "execute_result",
          "data": {
            "text/plain": [
              "[1, 2, 3, 4, 5]"
            ]
          },
          "metadata": {
            "tags": []
          },
          "execution_count": 61
        }
      ]
    },
    {
      "cell_type": "code",
      "metadata": {
        "id": "KmZII6xYzOVv",
        "colab_type": "code",
        "colab": {
          "base_uri": "https://localhost:8080/",
          "height": 35
        },
        "outputId": "90fe3859-4c73-4fc5-f498-7520a5916d53"
      },
      "source": [
        "b = [6, 7]\n",
        "a.extend(b)\n",
        "a"
      ],
      "execution_count": 62,
      "outputs": [
        {
          "output_type": "execute_result",
          "data": {
            "text/plain": [
              "[1, 2, 3, 4, 5, 6, 7]"
            ]
          },
          "metadata": {
            "tags": []
          },
          "execution_count": 62
        }
      ]
    }
  ]
}