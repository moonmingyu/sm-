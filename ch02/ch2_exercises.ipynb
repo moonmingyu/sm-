{
  "nbformat": 4,
  "nbformat_minor": 0,
  "metadata": {
    "colab": {
      "name": "ch2_exercises.ipynb",
      "provenance": [],
      "collapsed_sections": [],
      "include_colab_link": true
    },
    "kernelspec": {
      "name": "python3",
      "display_name": "Python 3"
    }
  },
  "cells": [
    {
      "cell_type": "markdown",
      "metadata": {
        "id": "view-in-github",
        "colab_type": "text"
      },
      "source": [
        "<a href=\"https://colab.research.google.com/github/moonmingyu/sm-/blob/master/ch02/ch2_exercises.ipynb\" target=\"_parent\"><img src=\"https://colab.research.google.com/assets/colab-badge.svg\" alt=\"Open In Colab\"/></a>"
      ]
    },
    {
      "cell_type": "markdown",
      "metadata": {
        "id": "N1EGUX_BVe13",
        "colab_type": "text"
      },
      "source": [
        "# **연습문제**"
      ]
    },
    {
      "cell_type": "markdown",
      "metadata": {
        "id": "s7vt3Up8V3Os",
        "colab_type": "text"
      },
      "source": [
        "## **Q1 홍길동씨의 과목별 점수는 다음과 같다. 홍길동씨의 평균점수를 구해보자**"
      ]
    },
    {
      "cell_type": "markdown",
      "metadata": {
        "id": "5_VMbGhXWAl0",
        "colab_type": "text"
      },
      "source": [
        "**과목  점수**\n",
        " \n",
        " 국어    80\n",
        " \n",
        " 영어    75\n",
        "\n",
        " 수학    55"
      ]
    },
    {
      "cell_type": "markdown",
      "metadata": {
        "id": "-TzRPR24b5Ki",
        "colab_type": "text"
      },
      "source": [
        "### 리스트"
      ]
    },
    {
      "cell_type": "code",
      "metadata": {
        "id": "LsGnrqVaWAUM",
        "colab_type": "code",
        "colab": {
          "base_uri": "https://localhost:8080/",
          "height": 35
        },
        "outputId": "ae2d8ef5-f201-4922-dc1e-16de91b0254c"
      },
      "source": [
        "sc = [80,75,55]\n",
        "avg = (sc[0]+sc[1]+sc[2])/3\n",
        "avg"
      ],
      "execution_count": 13,
      "outputs": [
        {
          "output_type": "execute_result",
          "data": {
            "text/plain": [
              "70.0"
            ]
          },
          "metadata": {
            "tags": []
          },
          "execution_count": 13
        }
      ]
    },
    {
      "cell_type": "markdown",
      "metadata": {
        "id": "C61_uUOOb-G7",
        "colab_type": "text"
      },
      "source": [
        "### 딕셔너리"
      ]
    },
    {
      "cell_type": "code",
      "metadata": {
        "id": "42f1D68pPoq4",
        "colab_type": "code",
        "colab": {
          "base_uri": "https://localhost:8080/",
          "height": 35
        },
        "outputId": "e0fd14b2-5971-4c30-dd16-55c2c63150f5"
      },
      "source": [
        "score = {\"국어\": 80,\"영어\": 75,\"수학\": 55}\n",
        "avg = (score[\"국어\"] + score[\"영어\"] + score[\"수학\"])/3\n",
        "avg"
      ],
      "execution_count": 10,
      "outputs": [
        {
          "output_type": "execute_result",
          "data": {
            "text/plain": [
              "70.0"
            ]
          },
          "metadata": {
            "tags": []
          },
          "execution_count": 10
        }
      ]
    },
    {
      "cell_type": "markdown",
      "metadata": {
        "id": "kbuPe7ATcDHc",
        "colab_type": "text"
      },
      "source": [
        "### 튜플"
      ]
    },
    {
      "cell_type": "code",
      "metadata": {
        "id": "Hl9U9srbcFBZ",
        "colab_type": "code",
        "colab": {
          "base_uri": "https://localhost:8080/",
          "height": 35
        },
        "outputId": "b7df8122-e64f-468e-fa59-5f0e20e25985"
      },
      "source": [
        "sc = (80,75,55)\n",
        "avg = (sc[0]+sc[1]+sc[2])/len(sc)\n",
        "avg"
      ],
      "execution_count": 15,
      "outputs": [
        {
          "output_type": "execute_result",
          "data": {
            "text/plain": [
              "70.0"
            ]
          },
          "metadata": {
            "tags": []
          },
          "execution_count": 15
        }
      ]
    },
    {
      "cell_type": "markdown",
      "metadata": {
        "id": "2U29K-DSd22L",
        "colab_type": "text"
      },
      "source": [
        "## Q2 자연수 13이 홀수인지 짝수인지 판별할수있는 방법"
      ]
    },
    {
      "cell_type": "code",
      "metadata": {
        "id": "hgK5Tl0leB9k",
        "colab_type": "code",
        "colab": {
          "base_uri": "https://localhost:8080/",
          "height": 35
        },
        "outputId": "08d148f4-f50d-474b-9ab7-9c384d438c59"
      },
      "source": [
        "if 13%2==1:\n",
        "  print(\"홀수\")\n",
        "else:\n",
        "  print(\"짝수\")"
      ],
      "execution_count": 33,
      "outputs": [
        {
          "output_type": "stream",
          "text": [
            "홀수\n"
          ],
          "name": "stdout"
        }
      ]
    },
    {
      "cell_type": "markdown",
      "metadata": {
        "id": "-HCzAhdbfzUG",
        "colab_type": "text"
      },
      "source": [
        "## **Q3 홍길동씨의 주민번호는 881120-1068234이다**\n",
        "##**길동씨의 주민번호를 연월일과 주민뒷자리로 나눠서 출력해보자**"
      ]
    },
    {
      "cell_type": "code",
      "metadata": {
        "id": "mVxHLmvqeNDg",
        "colab_type": "code",
        "colab": {
          "base_uri": "https://localhost:8080/",
          "height": 53
        },
        "outputId": "d8f00943-2997-45c7-ef12-6e71c83974e2"
      },
      "source": [
        "pin = \"881120-1068234\"\n",
        "yyyymmdd = pin[0:6]\n",
        "num = pin[7:]\n",
        "print(yyyymmdd)\n",
        "print(num)"
      ],
      "execution_count": 37,
      "outputs": [
        {
          "output_type": "stream",
          "text": [
            "881120\n",
            "1068234\n"
          ],
          "name": "stdout"
        }
      ]
    },
    {
      "cell_type": "markdown",
      "metadata": {
        "id": "hvJJerv_jQdR",
        "colab_type": "text"
      },
      "source": [
        "## Q4 주민번호 뒷자리의 맨첫번째숫자는 성별을 나타낸다. 주민번호에서 성별을 나타내는 숫자를 출력해보자"
      ]
    },
    {
      "cell_type": "code",
      "metadata": {
        "id": "B_neHrK_jdNg",
        "colab_type": "code",
        "colab": {
          "base_uri": "https://localhost:8080/",
          "height": 35
        },
        "outputId": "f9f7b32d-fad0-4d8d-e09d-6a6a0edc90b5"
      },
      "source": [
        "pin = \"881120-1068234\"\n",
        "print(pin[7])"
      ],
      "execution_count": 38,
      "outputs": [
        {
          "output_type": "stream",
          "text": [
            "1\n"
          ],
          "name": "stdout"
        }
      ]
    },
    {
      "cell_type": "markdown",
      "metadata": {
        "id": "wzSDgGEPyf2z",
        "colab_type": "text"
      },
      "source": [
        "## Q5 다음과같은 문자열 a:b:c:d 가있다. 문자열의 replace 함수를 이용하여 a#b#c#d로 바꿔서 출력해보자"
      ]
    },
    {
      "cell_type": "code",
      "metadata": {
        "id": "UeVksHbHyr-E",
        "colab_type": "code",
        "colab": {
          "base_uri": "https://localhost:8080/",
          "height": 35
        },
        "outputId": "6a450ad3-2601-46d2-9c16-e6fc9b357188"
      },
      "source": [
        "a=\"a:b:c:d\"\n",
        "b=a.replace(\":\",\"#\") # replace(바뀌게될 문자열, 바꿀문자열)\n",
        "b"
      ],
      "execution_count": 40,
      "outputs": [
        {
          "output_type": "execute_result",
          "data": {
            "text/plain": [
              "'a#b#c#d'"
            ]
          },
          "metadata": {
            "tags": []
          },
          "execution_count": 40
        }
      ]
    },
    {
      "cell_type": "markdown",
      "metadata": {
        "id": "v7Eso3WszTee",
        "colab_type": "text"
      },
      "source": [
        "## Q6 [1,3,5,4,2] 리스트를 [5,4,3,2,1]로 만들어보자"
      ]
    },
    {
      "cell_type": "code",
      "metadata": {
        "id": "q7l4dlckzcc6",
        "colab_type": "code",
        "colab": {
          "base_uri": "https://localhost:8080/",
          "height": 35
        },
        "outputId": "63f6169b-711c-47cc-ac42-fefafb851448"
      },
      "source": [
        "a=[1,3,5,4,2]\n",
        "a.sort()   #a.sort() -> a 리스트를 순서대로 정렬해준다\n",
        "a.reverse()   #a.reverse() - > 리스트를 역순으로 뒤집어준다\n",
        "print(a)"
      ],
      "execution_count": 43,
      "outputs": [
        {
          "output_type": "stream",
          "text": [
            "[5, 4, 3, 2, 1]\n"
          ],
          "name": "stdout"
        }
      ]
    },
    {
      "cell_type": "markdown",
      "metadata": {
        "id": "CZPvqGOo0p5M",
        "colab_type": "text"
      },
      "source": [
        "## Q7 ['Life', 'is', 'too', 'short']리스트를 Life is too short 문자열로 만들어 출력해보자"
      ]
    },
    {
      "cell_type": "code",
      "metadata": {
        "id": "HdqSBh4G00o1",
        "colab_type": "code",
        "colab": {
          "base_uri": "https://localhost:8080/",
          "height": 35
        },
        "outputId": "c6fd4942-9451-4dc5-e8ee-ea67524188ec"
      },
      "source": [
        "a=['Life','is','too',\"short\"]\n",
        "result = \" \".join(a) #a에 \" \"를 삽입하여 문자열로 만듬\n",
        "print(result)"
      ],
      "execution_count": 60,
      "outputs": [
        {
          "output_type": "stream",
          "text": [
            "Life is too short\n"
          ],
          "name": "stdout"
        }
      ]
    },
    {
      "cell_type": "markdown",
      "metadata": {
        "id": "WnT-z--O1hFD",
        "colab_type": "text"
      },
      "source": [
        "## Q8 (1,2,3) 튜플에 값4를 추가하여 (1,2,3,4)를 만들어 출력해보자"
      ]
    },
    {
      "cell_type": "code",
      "metadata": {
        "id": "kGerJiAx1q4H",
        "colab_type": "code",
        "colab": {
          "base_uri": "https://localhost:8080/",
          "height": 35
        },
        "outputId": "988d493d-5292-452c-b018-51def49c106d"
      },
      "source": [
        "a=(1,2,3)\n",
        "a=a+(4,) # 튜플의 단일요소만 가지는 것은 뒤에 콤마붙여야됨\n",
        "a"
      ],
      "execution_count": 48,
      "outputs": [
        {
          "output_type": "execute_result",
          "data": {
            "text/plain": [
              "(1, 2, 3, 4)"
            ]
          },
          "metadata": {
            "tags": []
          },
          "execution_count": 48
        }
      ]
    },
    {
      "cell_type": "markdown",
      "metadata": {
        "id": "jnygEdnI2L5M",
        "colab_type": "text"
      },
      "source": [
        "## Q9 다음과같은 딕셔너리 a 가있다\n",
        "\n",
        "> **a=dict()** \n",
        "\n",
        "> **a**\n",
        "\n",
        "> **{}** \n",
        "\n",
        "### 다음중 오류가 발생하는 경우를 고르고 그이유를 설명해보자\n",
        "\n",
        "\n",
        "\n"
      ]
    },
    {
      "cell_type": "code",
      "metadata": {
        "id": "1Olg9YQZ24Y2",
        "colab_type": "code",
        "colab": {
          "base_uri": "https://localhost:8080/",
          "height": 35
        },
        "outputId": "bcbd285e-aeb6-4fc5-accd-572d229c3719"
      },
      "source": [
        "a=dict()\n",
        "a\n",
        "{}\n",
        "\n",
        "\n",
        "a['name']='python'\n",
        "a"
      ],
      "execution_count": 53,
      "outputs": [
        {
          "output_type": "execute_result",
          "data": {
            "text/plain": [
              "{'name': 'python'}"
            ]
          },
          "metadata": {
            "tags": []
          },
          "execution_count": 53
        }
      ]
    },
    {
      "cell_type": "code",
      "metadata": {
        "id": "SWFGgAWe3CM4",
        "colab_type": "code",
        "colab": {
          "base_uri": "https://localhost:8080/",
          "height": 35
        },
        "outputId": "bce20c21-11a2-4a63-85ea-6373f4a8debd"
      },
      "source": [
        "a[('a',)] = 'python'\n",
        "a"
      ],
      "execution_count": 54,
      "outputs": [
        {
          "output_type": "execute_result",
          "data": {
            "text/plain": [
              "{('a',): 'python', 'name': 'python'}"
            ]
          },
          "metadata": {
            "tags": []
          },
          "execution_count": 54
        }
      ]
    },
    {
      "cell_type": "code",
      "metadata": {
        "id": "lI7uhyse3dwA",
        "colab_type": "code",
        "colab": {
          "base_uri": "https://localhost:8080/",
          "height": 190
        },
        "outputId": "99d32b07-2c29-4235-8072-d7d5f681c443"
      },
      "source": [
        "a[[1]] = 'python'             #오류-리스트는 키값으로 사용할수없다\n",
        "a"
      ],
      "execution_count": 55,
      "outputs": [
        {
          "output_type": "error",
          "ename": "TypeError",
          "evalue": "ignored",
          "traceback": [
            "\u001b[0;31m---------------------------------------------------------------------------\u001b[0m",
            "\u001b[0;31mTypeError\u001b[0m                                 Traceback (most recent call last)",
            "\u001b[0;32m<ipython-input-55-abb92984f231>\u001b[0m in \u001b[0;36m<module>\u001b[0;34m()\u001b[0m\n\u001b[0;32m----> 1\u001b[0;31m \u001b[0ma\u001b[0m\u001b[0;34m[\u001b[0m\u001b[0;34m[\u001b[0m\u001b[0;36m1\u001b[0m\u001b[0;34m]\u001b[0m\u001b[0;34m]\u001b[0m \u001b[0;34m=\u001b[0m \u001b[0;34m'python'\u001b[0m\u001b[0;34m\u001b[0m\u001b[0;34m\u001b[0m\u001b[0m\n\u001b[0m\u001b[1;32m      2\u001b[0m \u001b[0ma\u001b[0m\u001b[0;34m\u001b[0m\u001b[0;34m\u001b[0m\u001b[0m\n",
            "\u001b[0;31mTypeError\u001b[0m: unhashable type: 'list'"
          ]
        }
      ]
    },
    {
      "cell_type": "code",
      "metadata": {
        "id": "cP9sq2Z03lS8",
        "colab_type": "code",
        "colab": {
          "base_uri": "https://localhost:8080/",
          "height": 35
        },
        "outputId": "7b4ca1a3-457d-4a6e-ebfc-10ac48ad01a5"
      },
      "source": [
        "a[250] = 'python'\n",
        "a"
      ],
      "execution_count": 57,
      "outputs": [
        {
          "output_type": "execute_result",
          "data": {
            "text/plain": [
              "{('a',): 'python', 250: 'python', 'name': 'python'}"
            ]
          },
          "metadata": {
            "tags": []
          },
          "execution_count": 57
        }
      ]
    },
    {
      "cell_type": "markdown",
      "metadata": {
        "id": "PmjFLI0k5Wrw",
        "colab_type": "text"
      },
      "source": [
        "## Q10 딕셔너리 a에서 'B'에 해당하는 값을 추출해보자"
      ]
    },
    {
      "cell_type": "code",
      "metadata": {
        "id": "-9B3lFjx5c4H",
        "colab_type": "code",
        "colab": {
          "base_uri": "https://localhost:8080/",
          "height": 53
        },
        "outputId": "dcf0ee2e-56cf-40c4-fa98-61be2a881afa"
      },
      "source": [
        "a={'A':90, 'B':80, 'c':70}\n",
        "result = a.pop('B')    #a.pop은 a에서 ('B')의 값을 돌려주고 그요소는 삭제한다\n",
        "print(a)\n",
        "print(result)"
      ],
      "execution_count": 63,
      "outputs": [
        {
          "output_type": "stream",
          "text": [
            "{'A': 90, 'c': 70}\n",
            "80\n"
          ],
          "name": "stdout"
        }
      ]
    },
    {
      "cell_type": "markdown",
      "metadata": {
        "id": "t-OGwaWY6aUz",
        "colab_type": "text"
      },
      "source": [
        "## Q11 a리스트에서 중복 숫자를 제거해보자"
      ]
    },
    {
      "cell_type": "code",
      "metadata": {
        "id": "gb1cATVV6fSZ",
        "colab_type": "code",
        "colab": {
          "base_uri": "https://localhost:8080/",
          "height": 35
        },
        "outputId": "264b8cd8-c340-4d14-bbeb-42e2634d971b"
      },
      "source": [
        "a=[1,1,1,2,2,3,3,3,4,4,5]\n",
        "aSet = set(a)  #set 집합자료형은 중복을 허용하지 않는다\n",
        "b=list(aSet)   #집합자료형을 다시 리스트형으로 돌려놓는다\n",
        "print(b)"
      ],
      "execution_count": 65,
      "outputs": [
        {
          "output_type": "execute_result",
          "data": {
            "text/plain": [
              "[1, 2, 3, 4, 5]"
            ]
          },
          "metadata": {
            "tags": []
          },
          "execution_count": 65
        }
      ]
    },
    {
      "cell_type": "markdown",
      "metadata": {
        "id": "Sk8yl4KH7ZBq",
        "colab_type": "text"
      },
      "source": [
        "## Q12 파이썬은 동일한 값에 여러개의 변수를 선언할수있다. 다음과같이 a,b변수 선언후 a의 두번째요솟값을 변경하면 b값은 어떻게될까? 그리고 이런 결과가 나오는 이유에 대해 설명해보자"
      ]
    },
    {
      "cell_type": "code",
      "metadata": {
        "id": "3SKQdohR7o7V",
        "colab_type": "code",
        "colab": {
          "base_uri": "https://localhost:8080/",
          "height": 53
        },
        "outputId": "cf38b088-836e-4256-8701-036f893d06e9"
      },
      "source": [
        "a=b=[1,2,3]\n",
        "print(id(a))\n",
        "print(id(b))"
      ],
      "execution_count": 68,
      "outputs": [
        {
          "output_type": "stream",
          "text": [
            "139852378657608\n",
            "139852378657608\n"
          ],
          "name": "stdout"
        }
      ]
    },
    {
      "cell_type": "markdown",
      "metadata": {
        "id": "IgBP21vC7x8J",
        "colab_type": "text"
      },
      "source": [
        "**[1,2,3]을 참조하는 변수 a,b의 아이디가 같다 즉 a가 가리키는 대상과 b가 가리키는 대상이 같다**"
      ]
    },
    {
      "cell_type": "code",
      "metadata": {
        "id": "VDWTicOB9DQ5",
        "colab_type": "code",
        "colab": {
          "base_uri": "https://localhost:8080/",
          "height": 35
        },
        "outputId": "d53af7f4-432d-4141-c206-cf8b252e6e18"
      },
      "source": [
        "a[1]=4\n",
        "print(b)"
      ],
      "execution_count": 69,
      "outputs": [
        {
          "output_type": "stream",
          "text": [
            "[1, 4, 3]\n"
          ],
          "name": "stdout"
        }
      ]
    },
    {
      "cell_type": "markdown",
      "metadata": {
        "id": "M9NboNE69ZXk",
        "colab_type": "text"
      },
      "source": [
        "**a 만바꿨음에도 불구하고 b도 바뀌었다 -> a와 b가 동일한 리스트를 가지곡 있기 때문이다**"
      ]
    },
    {
      "cell_type": "code",
      "metadata": {
        "id": "6eixyt_p9nv0",
        "colab_type": "code",
        "colab": {
          "base_uri": "https://localhost:8080/",
          "height": 53
        },
        "outputId": "7588961a-df77-4e47-bf20-f1751f4c15b5"
      },
      "source": [
        "a = [1,2,3]\n",
        "b = a[:]\n",
        "a[1] = 4\n",
        "print(a)\n",
        "print(b)"
      ],
      "execution_count": 70,
      "outputs": [
        {
          "output_type": "stream",
          "text": [
            "[1, 4, 3]\n",
            "[1, 2, 3]\n"
          ],
          "name": "stdout"
        }
      ]
    },
    {
      "cell_type": "markdown",
      "metadata": {
        "id": "uydyntMw91NU",
        "colab_type": "text"
      },
      "source": [
        "**b를 리스트 a의 처음부터 끝까지 슬라이싱해서 복사를하면 a의 리스트값을 바꾸더라도 b에 영향끼치지않는다**"
      ]
    },
    {
      "cell_type": "code",
      "metadata": {
        "id": "jR-YICXI-Jy5",
        "colab_type": "code",
        "colab": {
          "base_uri": "https://localhost:8080/",
          "height": 71
        },
        "outputId": "b0e75648-fc02-4175-97d3-c4c1c5a493ff"
      },
      "source": [
        "from copy import copy\n",
        "a=[1,2,3]\n",
        "b=copy(a)\n",
        "print(a)\n",
        "print(b)\n",
        "a is b"
      ],
      "execution_count": 73,
      "outputs": [
        {
          "output_type": "stream",
          "text": [
            "[1, 2, 3]\n",
            "[1, 2, 3]\n"
          ],
          "name": "stdout"
        },
        {
          "output_type": "execute_result",
          "data": {
            "text/plain": [
              "False"
            ]
          },
          "metadata": {
            "tags": []
          },
          "execution_count": 73
        }
      ]
    },
    {
      "cell_type": "markdown",
      "metadata": {
        "id": "kAZVpUVY-WyB",
        "colab_type": "text"
      },
      "source": [
        "**copy 모듈을 이용해 복사를 해도 b = a[:]와 같이 두변수가 같은값을 가지면서 다른객체를 생성한다**"
      ]
    }
  ]
}