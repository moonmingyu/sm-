{
  "nbformat": 4,
  "nbformat_minor": 0,
  "metadata": {
    "colab": {
      "name": "ch2_06_set.ipynb",
      "provenance": [],
      "collapsed_sections": [],
      "include_colab_link": true
    },
    "kernelspec": {
      "name": "python3",
      "display_name": "Python 3"
    }
  },
  "cells": [
    {
      "cell_type": "markdown",
      "metadata": {
        "id": "view-in-github",
        "colab_type": "text"
      },
      "source": [
        "<a href=\"https://colab.research.google.com/github/moonmingyu/sm-/blob/master/ch02/ch2_06_set.ipynb\" target=\"_parent\"><img src=\"https://colab.research.google.com/assets/colab-badge.svg\" alt=\"Open In Colab\"/></a>"
      ]
    },
    {
      "cell_type": "markdown",
      "metadata": {
        "id": "tCUMtt9A495K",
        "colab_type": "text"
      },
      "source": [
        "# **Set**"
      ]
    },
    {
      "cell_type": "markdown",
      "metadata": {
        "id": "1wa83IbX5CWe",
        "colab_type": "text"
      },
      "source": [
        "## **set이란?**"
      ]
    },
    {
      "cell_type": "code",
      "metadata": {
        "id": "WyRb8na444LM",
        "colab_type": "code",
        "colab": {
          "base_uri": "https://localhost:8080/",
          "height": 35
        },
        "outputId": "414cf9a4-9e73-41a0-c6f6-5a438113739d"
      },
      "source": [
        "# 집합에 관련된 것을 쉽게 처리하기 위해 만든 자료형\n",
        "# 중복된 값을 허용하지 않는다.\n",
        "# set 키워드를 사용해서 집합자료형을 만든다.\n",
        "s1 = set([1, 2, 3])\n",
        "s1"
      ],
      "execution_count": 1,
      "outputs": [
        {
          "output_type": "execute_result",
          "data": {
            "text/plain": [
              "{1, 2, 3}"
            ]
          },
          "metadata": {
            "tags": []
          },
          "execution_count": 1
        }
      ]
    },
    {
      "cell_type": "code",
      "metadata": {
        "id": "Jf9dlCKc5Mf1",
        "colab_type": "code",
        "colab": {
          "base_uri": "https://localhost:8080/",
          "height": 35
        },
        "outputId": "70eb2b65-03f5-4062-84b9-53a7d983e4c1"
      },
      "source": [
        "s1n = set([1, 2, 3, 2]) # 중복된 값이 있으면 하나만 맴버로 가져온다\n",
        "s1n"
      ],
      "execution_count": 2,
      "outputs": [
        {
          "output_type": "execute_result",
          "data": {
            "text/plain": [
              "{1, 2, 3}"
            ]
          },
          "metadata": {
            "tags": []
          },
          "execution_count": 2
        }
      ]
    },
    {
      "cell_type": "code",
      "metadata": {
        "id": "l22D9DNp5NRX",
        "colab_type": "code",
        "colab": {
          "base_uri": "https://localhost:8080/",
          "height": 35
        },
        "outputId": "fe4a5de1-b889-440d-c061-9cf51c37fe7a"
      },
      "source": [
        "s2 = set(\"Hello\") \n",
        "s2"
      ],
      "execution_count": 3,
      "outputs": [
        {
          "output_type": "execute_result",
          "data": {
            "text/plain": [
              "{'H', 'e', 'l', 'o'}"
            ]
          },
          "metadata": {
            "tags": []
          },
          "execution_count": 3
        }
      ]
    },
    {
      "cell_type": "code",
      "metadata": {
        "id": "WQSYMzyc5Nyu",
        "colab_type": "code",
        "colab": {}
      },
      "source": [
        "# 집합 자료형의 특징\n",
        "# 1. 중복을 허용하지 않는다.\n",
        "# 2. 순서가 없다(Unordered). -> 순서가 지멋대로다\n",
        "# *** set 자료형은 순서가 없기(unordered) 때문에 인덱싱으로 값을 얻을 수 없다.\n",
        "#\n",
        "s1 = set([1,2,3])\n",
        "s1[0] #순서가 없으니 당연히 인덱싱이 안되고 에러가 뜬다"
      ],
      "execution_count": 0,
      "outputs": []
    },
    {
      "cell_type": "markdown",
      "metadata": {
        "id": "xj7sXQm95l_a",
        "colab_type": "text"
      },
      "source": [
        "**리스트로 바꿔 인덱스뽑아내기**"
      ]
    },
    {
      "cell_type": "code",
      "metadata": {
        "id": "uM2KfjEY5WpY",
        "colab_type": "code",
        "colab": {
          "base_uri": "https://localhost:8080/",
          "height": 35
        },
        "outputId": "6882a0a7-5ffd-49c7-a8d9-c86846c5debb"
      },
      "source": [
        "l1=list(s1)\n",
        "l1\n",
        "l1[0] #set을 리스트로 바꿔주고 거기서 인덱스를 뽑아내야된다"
      ],
      "execution_count": 4,
      "outputs": [
        {
          "output_type": "execute_result",
          "data": {
            "text/plain": [
              "1"
            ]
          },
          "metadata": {
            "tags": []
          },
          "execution_count": 4
        }
      ]
    },
    {
      "cell_type": "markdown",
      "metadata": {
        "id": "mE3tAwve5q-6",
        "colab_type": "text"
      },
      "source": [
        "**튜플로 변환해 인덱스뽑아내기**"
      ]
    },
    {
      "cell_type": "code",
      "metadata": {
        "id": "P7q2e5Sw5hZP",
        "colab_type": "code",
        "colab": {
          "base_uri": "https://localhost:8080/",
          "height": 35
        },
        "outputId": "974778f7-f085-4290-b41e-f6dabe34190b"
      },
      "source": [
        "t1=tuple(s1)\n",
        "t1\n",
        "t1[0] # 튜플로 바꿔줘서 인덱스를 뽑아줘도된다"
      ],
      "execution_count": 5,
      "outputs": [
        {
          "output_type": "execute_result",
          "data": {
            "text/plain": [
              "1"
            ]
          },
          "metadata": {
            "tags": []
          },
          "execution_count": 5
        }
      ]
    },
    {
      "cell_type": "markdown",
      "metadata": {
        "id": "G-XN9Jq85zJi",
        "colab_type": "text"
      },
      "source": [
        "## **교집합, 합집합, 차집합 구하기**"
      ]
    },
    {
      "cell_type": "code",
      "metadata": {
        "id": "KcM_fVvE5wiw",
        "colab_type": "code",
        "colab": {
          "base_uri": "https://localhost:8080/",
          "height": 35
        },
        "outputId": "be4a5858-e42f-41c5-dbb9-cee8a0f19b87"
      },
      "source": [
        "s1 = set([1, 2, 3, 4, 5, 6])\n",
        "s2 = set([4, 5, 6, 7, 8, 9])"
      ],
      "execution_count": 6,
      "outputs": [
        {
          "output_type": "execute_result",
          "data": {
            "text/plain": [
              "{4, 5, 6}"
            ]
          },
          "metadata": {
            "tags": []
          },
          "execution_count": 6
        }
      ]
    },
    {
      "cell_type": "markdown",
      "metadata": {
        "id": "l_tvJUJM6BZ5",
        "colab_type": "text"
      },
      "source": [
        "**교집합**"
      ]
    },
    {
      "cell_type": "code",
      "metadata": {
        "id": "SylFuGtQ6Aqi",
        "colab_type": "code",
        "colab": {}
      },
      "source": [
        "s1 & s2 #s1과 s2에서 겹치는거만 찾아낸다"
      ],
      "execution_count": 0,
      "outputs": []
    },
    {
      "cell_type": "code",
      "metadata": {
        "id": "EsUp8_HP55tq",
        "colab_type": "code",
        "colab": {
          "base_uri": "https://localhost:8080/",
          "height": 35
        },
        "outputId": "13166d17-dc2f-44ad-f91e-09a9f4c11f0e"
      },
      "source": [
        "s1.intersection(s2) "
      ],
      "execution_count": 7,
      "outputs": [
        {
          "output_type": "execute_result",
          "data": {
            "text/plain": [
              "{4, 5, 6}"
            ]
          },
          "metadata": {
            "tags": []
          },
          "execution_count": 7
        }
      ]
    },
    {
      "cell_type": "markdown",
      "metadata": {
        "id": "RPUylIV96G8y",
        "colab_type": "text"
      },
      "source": [
        "**합집합**"
      ]
    },
    {
      "cell_type": "code",
      "metadata": {
        "id": "8Y7CkyEL56nL",
        "colab_type": "code",
        "colab": {}
      },
      "source": [
        "s1 | s2 "
      ],
      "execution_count": 0,
      "outputs": []
    },
    {
      "cell_type": "code",
      "metadata": {
        "id": "-p7-NFap6LwT",
        "colab_type": "code",
        "colab": {}
      },
      "source": [
        "s1.union(s2)"
      ],
      "execution_count": 0,
      "outputs": []
    },
    {
      "cell_type": "markdown",
      "metadata": {
        "id": "MesO8IiU6M3B",
        "colab_type": "text"
      },
      "source": [
        "**차집합**"
      ]
    },
    {
      "cell_type": "code",
      "metadata": {
        "id": "fYkogCdM6KEj",
        "colab_type": "code",
        "colab": {
          "base_uri": "https://localhost:8080/",
          "height": 35
        },
        "outputId": "4dd65be9-d396-470c-f492-069437dc6b5d"
      },
      "source": [
        "s1 - s2 #s1중에 s2와 안겹치는거만 뽑아냄"
      ],
      "execution_count": 12,
      "outputs": [
        {
          "output_type": "execute_result",
          "data": {
            "text/plain": [
              "{1, 2, 3}"
            ]
          },
          "metadata": {
            "tags": []
          },
          "execution_count": 12
        }
      ]
    },
    {
      "cell_type": "code",
      "metadata": {
        "id": "zssL5BsV6P10",
        "colab_type": "code",
        "colab": {
          "base_uri": "https://localhost:8080/",
          "height": 35
        },
        "outputId": "5c5e000b-f464-4340-f3cd-9e829839c4fe"
      },
      "source": [
        "\n",
        "s2 - s1"
      ],
      "execution_count": 8,
      "outputs": [
        {
          "output_type": "execute_result",
          "data": {
            "text/plain": [
              "{7, 8, 9}"
            ]
          },
          "metadata": {
            "tags": []
          },
          "execution_count": 8
        }
      ]
    },
    {
      "cell_type": "code",
      "metadata": {
        "id": "8djOFHND6Qw0",
        "colab_type": "code",
        "colab": {
          "base_uri": "https://localhost:8080/",
          "height": 35
        },
        "outputId": "132c2713-5afc-4b7c-b3f4-e619f1acccd6"
      },
      "source": [
        "s1.difference(s2)"
      ],
      "execution_count": 11,
      "outputs": [
        {
          "output_type": "execute_result",
          "data": {
            "text/plain": [
              "{1, 2, 3}"
            ]
          },
          "metadata": {
            "tags": []
          },
          "execution_count": 11
        }
      ]
    },
    {
      "cell_type": "code",
      "metadata": {
        "id": "uzjwManY6RMX",
        "colab_type": "code",
        "colab": {
          "base_uri": "https://localhost:8080/",
          "height": 35
        },
        "outputId": "289e5c5c-3c06-44af-d395-9f85838f03fa"
      },
      "source": [
        "s2.difference(s1)"
      ],
      "execution_count": 10,
      "outputs": [
        {
          "output_type": "execute_result",
          "data": {
            "text/plain": [
              "{7, 8, 9}"
            ]
          },
          "metadata": {
            "tags": []
          },
          "execution_count": 10
        }
      ]
    },
    {
      "cell_type": "markdown",
      "metadata": {
        "id": "iboNwWLO6XLy",
        "colab_type": "text"
      },
      "source": [
        "## **집합 (set): 관련 내장 함수들**"
      ]
    },
    {
      "cell_type": "code",
      "metadata": {
        "id": "ImtsjYzf6Rn_",
        "colab_type": "code",
        "colab": {
          "base_uri": "https://localhost:8080/",
          "height": 35
        },
        "outputId": "aaf819a9-8b6e-4af3-db83-bd8d71d865ce"
      },
      "source": [
        "# 값 1개 추가하기(add)\n",
        "s1 = set([1, 2, 3])\n",
        "s1.add(4)\n",
        "s1"
      ],
      "execution_count": 13,
      "outputs": [
        {
          "output_type": "execute_result",
          "data": {
            "text/plain": [
              "{1, 2, 3, 4}"
            ]
          },
          "metadata": {
            "tags": []
          },
          "execution_count": 13
        }
      ]
    },
    {
      "cell_type": "code",
      "metadata": {
        "id": "8El0Sqky6juo",
        "colab_type": "code",
        "colab": {}
      },
      "source": [
        "# 값 여러 개 추가하기(update)\n",
        "s1 = set([1, 2, 3])\n",
        "s1.update([4,5,6])\n",
        "s1"
      ],
      "execution_count": 0,
      "outputs": []
    },
    {
      "cell_type": "code",
      "metadata": {
        "id": "zNYzO3MH6lz3",
        "colab_type": "code",
        "colab": {}
      },
      "source": [
        "# 특정 값 제거하기(remove)\n",
        "s1 = set([1, 2, 3])\n",
        "s1.remove(2)\n",
        "s1"
      ],
      "execution_count": 0,
      "outputs": []
    },
    {
      "cell_type": "code",
      "metadata": {
        "id": "Nkzl2ljy6sR5",
        "colab_type": "code",
        "colab": {}
      },
      "source": [
        "#################################################\n",
        "# 기본적인 반복(iterate) 구문(예: for문)을 실행\n",
        "#################################################\n",
        "a = {'name': 'pey', 'phone': '0119993323', 'birth': '1118'}\n",
        "for k in a.keys():\n",
        "    print(k)"
      ],
      "execution_count": 0,
      "outputs": []
    },
    {
      "cell_type": "code",
      "metadata": {
        "id": "6qg78DZB6tSz",
        "colab_type": "code",
        "colab": {}
      },
      "source": [
        "# Value 리스트 만들기(values)\n",
        "a.values()"
      ],
      "execution_count": 0,
      "outputs": []
    },
    {
      "cell_type": "code",
      "metadata": {
        "id": "Ods-RhHV6wVS",
        "colab_type": "code",
        "colab": {}
      },
      "source": [
        "# Key, Value 쌍 얻기(items)\n",
        "a.items()  # Key와 Value의 쌍을 튜플로 묶은 값을 dict_items 객체로 돌려준다."
      ],
      "execution_count": 0,
      "outputs": []
    },
    {
      "cell_type": "code",
      "metadata": {
        "id": "e8jzKdb06xJt",
        "colab_type": "code",
        "colab": {}
      },
      "source": [
        "# Key: Value 쌍 모두 지우기(clear)\n",
        "a.clear()\n",
        "a"
      ],
      "execution_count": 0,
      "outputs": []
    },
    {
      "cell_type": "code",
      "metadata": {
        "id": "OFWiMHsA6yF7",
        "colab_type": "code",
        "colab": {}
      },
      "source": [
        "\n",
        "# Key로 Value얻기(get)\n",
        "a = {'name': 'pey', 'phone': '0119993323', 'birth': '1118'}\n",
        "a.get('name')    # a['name']"
      ],
      "execution_count": 0,
      "outputs": []
    },
    {
      "cell_type": "code",
      "metadata": {
        "id": "oGNoGFX064Dn",
        "colab_type": "code",
        "colab": {}
      },
      "source": [
        "a.get('phone')   # a['phone']"
      ],
      "execution_count": 0,
      "outputs": []
    },
    {
      "cell_type": "code",
      "metadata": {
        "id": "7RDN-FKz68WP",
        "colab_type": "code",
        "colab": {}
      },
      "source": [
        "a = {'name': 'pey', 'phone': '0119993323', 'birth': '1118'}\n",
        "print(a['nokey'])"
      ],
      "execution_count": 0,
      "outputs": []
    },
    {
      "cell_type": "code",
      "metadata": {
        "id": "3UGTdNzp7Gs0",
        "colab_type": "code",
        "colab": {}
      },
      "source": [
        "# get(x, '디폴트 값')\n",
        "# 딕셔너리 안에 찾으려는 Key 값이 없을 경우\n",
        "# 미리 정해 둔 디폴트 값을 대신 가져오게 설정.\n",
        "#\n",
        "a.get('foo', 'bar')"
      ],
      "execution_count": 0,
      "outputs": []
    },
    {
      "cell_type": "code",
      "metadata": {
        "id": "gUUOEGNL7IqK",
        "colab_type": "code",
        "colab": {}
      },
      "source": [
        "a.get('name', 'bar')"
      ],
      "execution_count": 0,
      "outputs": []
    },
    {
      "cell_type": "code",
      "metadata": {
        "id": "zn3WCJk27JVo",
        "colab_type": "code",
        "colab": {}
      },
      "source": [
        "# 해당 Key가 딕셔너리 안에 있는지 조사하기(in)\n",
        "a = {'name': 'pey', 'phone': '0119993323', 'birth': '1118'}\n",
        "'name' in a"
      ],
      "execution_count": 0,
      "outputs": []
    },
    {
      "cell_type": "code",
      "metadata": {
        "id": "haZ6Eckm7Qag",
        "colab_type": "code",
        "colab": {}
      },
      "source": [
        "'foo' in a"
      ],
      "execution_count": 0,
      "outputs": []
    }
  ]
}