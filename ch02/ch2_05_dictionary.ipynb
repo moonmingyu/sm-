{
  "nbformat": 4,
  "nbformat_minor": 0,
  "metadata": {
    "colab": {
      "name": "ch2_05_dictionary.ipynb",
      "provenance": [],
      "collapsed_sections": [],
      "include_colab_link": true
    },
    "kernelspec": {
      "name": "python3",
      "display_name": "Python 3"
    }
  },
  "cells": [
    {
      "cell_type": "markdown",
      "metadata": {
        "id": "view-in-github",
        "colab_type": "text"
      },
      "source": [
        "<a href=\"https://colab.research.google.com/github/moonmingyu/sm-/blob/master/ch02/ch2_05_dictionary.ipynb\" target=\"_parent\"><img src=\"https://colab.research.google.com/assets/colab-badge.svg\" alt=\"Open In Colab\"/></a>"
      ]
    },
    {
      "cell_type": "markdown",
      "metadata": {
        "id": "OjsUrLX_1n6U",
        "colab_type": "text"
      },
      "source": [
        "# **Dictionary**"
      ]
    },
    {
      "cell_type": "markdown",
      "metadata": {
        "id": "yhmNxeiY1uKn",
        "colab_type": "text"
      },
      "source": [
        "## **Dictionary란?**"
      ]
    },
    {
      "cell_type": "code",
      "metadata": {
        "id": "rTT5Wlke1hs0",
        "colab_type": "code",
        "colab": {}
      },
      "source": [
        "# 딕셔너리란 대응 관계를 나타내는 자료형.\n",
        "# 연관 배열(Associative array) 또는 해시(Hash)\n",
        "# 딕셔너리는 Key와 Value를 한 쌍으로 갖는 자료형\n",
        "#\n",
        "# 기본 딕셔너리의 모습\n",
        "# {Key1:Value1, Key2:Value2, Key3:Value3, ...}\n",
        "# Key와 Value의 쌍 여러 개가 { }로 둘러싸여 있다.\n",
        "# 각각의 요소는 Key : Value 형태로 이루어져 있고 쉼표(,)로 구분\n",
        "dic = {\"name\": \"pey\", \"phone\": \"0119993323\", \"birth\": \"1118\"}\n",
        "# Key는 각각 'name', 'phone', 'birth'\n",
        "# 각 Key에 해당하는 Value는 'pey', '0119993323', '1118'"
      ],
      "execution_count": 0,
      "outputs": []
    },
    {
      "cell_type": "markdown",
      "metadata": {
        "id": "8_ueiWyX1827",
        "colab_type": "text"
      },
      "source": [
        "## **딕셔너리 예시**"
      ]
    },
    {
      "cell_type": "code",
      "metadata": {
        "id": "RmDeiWG511cb",
        "colab_type": "code",
        "colab": {
          "base_uri": "https://localhost:8080/",
          "height": 35
        },
        "outputId": "3f7fa151-a1a8-4ce6-ce2d-202967bb9a75"
      },
      "source": [
        "a = {1: \"hi\"}\n",
        "a[1] #a[key]에 입렵된 값이 출력된다"
      ],
      "execution_count": 1,
      "outputs": [
        {
          "output_type": "execute_result",
          "data": {
            "text/plain": [
              "'hi'"
            ]
          },
          "metadata": {
            "tags": []
          },
          "execution_count": 1
        }
      ]
    },
    {
      "cell_type": "code",
      "metadata": {
        "id": "ufoYFPdc2GdW",
        "colab_type": "code",
        "colab": {
          "base_uri": "https://localhost:8080/",
          "height": 35
        },
        "outputId": "d7a1f72f-3226-40f1-d59d-0b34a6bb7e53"
      },
      "source": [
        "a = {\"a\": [1, 2, 3]}  # value에는 복합 자료형도 사용된다.\n",
        "len(a) # key 가 하나이니 맴버도 1개이다"
      ],
      "execution_count": 2,
      "outputs": [
        {
          "output_type": "execute_result",
          "data": {
            "text/plain": [
              "1"
            ]
          },
          "metadata": {
            "tags": []
          },
          "execution_count": 2
        }
      ]
    },
    {
      "cell_type": "code",
      "metadata": {
        "id": "hmBXlQ312HoI",
        "colab_type": "code",
        "colab": {
          "base_uri": "https://localhost:8080/",
          "height": 172
        },
        "outputId": "52bfe077-0465-43ca-85c5-ac7c540dc2d0"
      },
      "source": [
        "a[a]  # TypeError"
      ],
      "execution_count": 3,
      "outputs": [
        {
          "output_type": "error",
          "ename": "TypeError",
          "evalue": "ignored",
          "traceback": [
            "\u001b[0;31m---------------------------------------------------------------------------\u001b[0m",
            "\u001b[0;31mTypeError\u001b[0m                                 Traceback (most recent call last)",
            "\u001b[0;32m<ipython-input-3-5564e83f043a>\u001b[0m in \u001b[0;36m<module>\u001b[0;34m()\u001b[0m\n\u001b[0;32m----> 1\u001b[0;31m \u001b[0ma\u001b[0m\u001b[0;34m[\u001b[0m\u001b[0ma\u001b[0m\u001b[0;34m]\u001b[0m  \u001b[0;31m# TypeError\u001b[0m\u001b[0;34m\u001b[0m\u001b[0;34m\u001b[0m\u001b[0m\n\u001b[0m",
            "\u001b[0;31mTypeError\u001b[0m: unhashable type: 'dict'"
          ]
        }
      ]
    },
    {
      "cell_type": "code",
      "metadata": {
        "id": "fIf1VhbV2IY_",
        "colab_type": "code",
        "colab": {
          "base_uri": "https://localhost:8080/",
          "height": 35
        },
        "outputId": "43719a71-50ea-43bf-ad26-cf76f26b20ef"
      },
      "source": [
        "a[\"a\"]"
      ],
      "execution_count": 4,
      "outputs": [
        {
          "output_type": "execute_result",
          "data": {
            "text/plain": [
              "[1, 2, 3]"
            ]
          },
          "metadata": {
            "tags": []
          },
          "execution_count": 4
        }
      ]
    },
    {
      "cell_type": "markdown",
      "metadata": {
        "id": "upmfeRfb2QeD",
        "colab_type": "text"
      },
      "source": [
        "## **딕셔너리 쌍 추가 및 삭제하기**"
      ]
    },
    {
      "cell_type": "markdown",
      "metadata": {
        "id": "xvHnpVzh2dUz",
        "colab_type": "text"
      },
      "source": [
        "**딕셔너리 쌍 추가하기**"
      ]
    },
    {
      "cell_type": "code",
      "metadata": {
        "id": "G4o7AO8_2Bk7",
        "colab_type": "code",
        "colab": {
          "base_uri": "https://localhost:8080/",
          "height": 35
        },
        "outputId": "d19c1933-322c-4b2d-8025-65f4de4b6a8f"
      },
      "source": [
        "a = {1: \"a\"} #값을 찾을때는 무조건 []\n",
        "a[2] = \"b\"\n",
        "a[\"name\"] = \"pey\" # 딕셔너리는 값 추가 가능 -> 가변형\n",
        "a"
      ],
      "execution_count": 5,
      "outputs": [
        {
          "output_type": "execute_result",
          "data": {
            "text/plain": [
              "{1: 'a', 2: 'b', 'name': 'pey'}"
            ]
          },
          "metadata": {
            "tags": []
          },
          "execution_count": 5
        }
      ]
    },
    {
      "cell_type": "code",
      "metadata": {
        "id": "Ttklx7Iv2k7f",
        "colab_type": "code",
        "colab": {
          "base_uri": "https://localhost:8080/",
          "height": 35
        },
        "outputId": "04188bfd-4573-4531-d3e0-4bd2e2972936"
      },
      "source": [
        "a[3] = [1, 2, 3]\n",
        "a"
      ],
      "execution_count": 6,
      "outputs": [
        {
          "output_type": "execute_result",
          "data": {
            "text/plain": [
              "{1: 'a', 2: 'b', 3: [1, 2, 3], 'name': 'pey'}"
            ]
          },
          "metadata": {
            "tags": []
          },
          "execution_count": 6
        }
      ]
    },
    {
      "cell_type": "code",
      "metadata": {
        "id": "WJcm7qsi2b2k",
        "colab_type": "code",
        "colab": {
          "base_uri": "https://localhost:8080/",
          "height": 35
        },
        "outputId": "07684cd2-6cd1-442a-afe7-2db03e40fa92"
      },
      "source": [
        "# 딕셔너리 쌍 삭제하기\n",
        "#\n",
        "del a[1]\n",
        "a"
      ],
      "execution_count": 7,
      "outputs": [
        {
          "output_type": "execute_result",
          "data": {
            "text/plain": [
              "{2: 'b', 3: [1, 2, 3], 'name': 'pey'}"
            ]
          },
          "metadata": {
            "tags": []
          },
          "execution_count": 7
        }
      ]
    },
    {
      "cell_type": "markdown",
      "metadata": {
        "id": "qwuFub1g2sXD",
        "colab_type": "text"
      },
      "source": [
        "## **딕셔너리 사용방법**"
      ]
    },
    {
      "cell_type": "code",
      "metadata": {
        "id": "P7Bjc4wM26QT",
        "colab_type": "code",
        "colab": {}
      },
      "source": [
        "d = {\"김연아\": \"피겨스케이팅\", \"류현진\": \"야구\", \"손흥민\": \"축구\", \"귀도\": \"파이썬\"}\n",
        "d\n",
        "d[\"손흥민\"]"
      ],
      "execution_count": 0,
      "outputs": []
    },
    {
      "cell_type": "markdown",
      "metadata": {
        "id": "urt330243I_U",
        "colab_type": "text"
      },
      "source": [
        "### **딕셔너리에서 Key 사용해 Value 얻기**"
      ]
    },
    {
      "cell_type": "code",
      "metadata": {
        "id": "6fQDN6bn3Fgg",
        "colab_type": "code",
        "colab": {
          "base_uri": "https://localhost:8080/",
          "height": 35
        },
        "outputId": "dd2bfcaf-c6b0-46ef-adcd-476ff63b790b"
      },
      "source": [
        "grade = {\"pey\": 10, \"julliet\": 99}\n",
        "grade[\"pey\"]"
      ],
      "execution_count": 8,
      "outputs": [
        {
          "output_type": "execute_result",
          "data": {
            "text/plain": [
              "10"
            ]
          },
          "metadata": {
            "tags": []
          },
          "execution_count": 8
        }
      ]
    },
    {
      "cell_type": "code",
      "metadata": {
        "id": "JMqfkQdy3Ox8",
        "colab_type": "code",
        "colab": {
          "base_uri": "https://localhost:8080/",
          "height": 35
        },
        "outputId": "6a79b722-7dbd-4c74-a83f-526d9637dd1d"
      },
      "source": [
        "grade[\"julliet\"]"
      ],
      "execution_count": 9,
      "outputs": [
        {
          "output_type": "execute_result",
          "data": {
            "text/plain": [
              "99"
            ]
          },
          "metadata": {
            "tags": []
          },
          "execution_count": 9
        }
      ]
    },
    {
      "cell_type": "code",
      "metadata": {
        "id": "RVdwt0ko3Pd-",
        "colab_type": "code",
        "colab": {
          "base_uri": "https://localhost:8080/",
          "height": 35
        },
        "outputId": "c9cb7e2b-51b4-4c54-820e-4f9e8791692a"
      },
      "source": [
        "a = {1: \"a\", 2: \"b\"}\n",
        "a[1]  # 1은 key"
      ],
      "execution_count": 10,
      "outputs": [
        {
          "output_type": "execute_result",
          "data": {
            "text/plain": [
              "'a'"
            ]
          },
          "metadata": {
            "tags": []
          },
          "execution_count": 10
        }
      ]
    },
    {
      "cell_type": "code",
      "metadata": {
        "id": "7X0nFgpP3QvC",
        "colab_type": "code",
        "colab": {
          "base_uri": "https://localhost:8080/",
          "height": 35
        },
        "outputId": "b831bca1-98a5-48ba-81c2-b9fbdc523e41"
      },
      "source": [
        "a = {\"a\": 1, \"b\": 2}\n",
        "a[\"b\"]"
      ],
      "execution_count": 11,
      "outputs": [
        {
          "output_type": "execute_result",
          "data": {
            "text/plain": [
              "2"
            ]
          },
          "metadata": {
            "tags": []
          },
          "execution_count": 11
        }
      ]
    },
    {
      "cell_type": "code",
      "metadata": {
        "id": "YgOZB3r83SFE",
        "colab_type": "code",
        "colab": {
          "base_uri": "https://localhost:8080/",
          "height": 172
        },
        "outputId": "ed035419-d47f-41bd-cadb-a510012b4555"
      },
      "source": [
        "a[b]  # TypeError"
      ],
      "execution_count": 12,
      "outputs": [
        {
          "output_type": "error",
          "ename": "NameError",
          "evalue": "ignored",
          "traceback": [
            "\u001b[0;31m---------------------------------------------------------------------------\u001b[0m",
            "\u001b[0;31mNameError\u001b[0m                                 Traceback (most recent call last)",
            "\u001b[0;32m<ipython-input-12-8a87b0b7d887>\u001b[0m in \u001b[0;36m<module>\u001b[0;34m()\u001b[0m\n\u001b[0;32m----> 1\u001b[0;31m \u001b[0ma\u001b[0m\u001b[0;34m[\u001b[0m\u001b[0mb\u001b[0m\u001b[0;34m]\u001b[0m  \u001b[0;31m# TypeError\u001b[0m\u001b[0;34m\u001b[0m\u001b[0;34m\u001b[0m\u001b[0m\n\u001b[0m",
            "\u001b[0;31mNameError\u001b[0m: name 'b' is not defined"
          ]
        }
      ]
    },
    {
      "cell_type": "code",
      "metadata": {
        "id": "o0UJrPic3S1f",
        "colab_type": "code",
        "colab": {
          "base_uri": "https://localhost:8080/",
          "height": 35
        },
        "outputId": "2a5b3a84-558a-462d-e798-8ec138037c8a"
      },
      "source": [
        "dic = {\"name\": \"pey\", \"phone\": \"0109993323\", \"birth\": \"1118\"}\n",
        "dic[\"birth\"]"
      ],
      "execution_count": 13,
      "outputs": [
        {
          "output_type": "execute_result",
          "data": {
            "text/plain": [
              "'1118'"
            ]
          },
          "metadata": {
            "tags": []
          },
          "execution_count": 13
        }
      ]
    },
    {
      "cell_type": "code",
      "metadata": {
        "id": "8FIZBvxw3bAM",
        "colab_type": "code",
        "colab": {
          "base_uri": "https://localhost:8080/",
          "height": 35
        },
        "outputId": "a53cd35d-dcce-41e3-e478-1e9a75f0e7c0"
      },
      "source": [
        "dic[\"phone\"]"
      ],
      "execution_count": 14,
      "outputs": [
        {
          "output_type": "execute_result",
          "data": {
            "text/plain": [
              "'0109993323'"
            ]
          },
          "metadata": {
            "tags": []
          },
          "execution_count": 14
        }
      ]
    },
    {
      "cell_type": "markdown",
      "metadata": {
        "id": "LU7ryzDc3kii",
        "colab_type": "text"
      },
      "source": [
        "**딕셔너리 주의사항**"
      ]
    },
    {
      "cell_type": "code",
      "metadata": {
        "id": "NbSJVMXK3b4K",
        "colab_type": "code",
        "colab": {
          "base_uri": "https://localhost:8080/",
          "height": 35
        },
        "outputId": "a9917755-f681-45b8-f270-e3a62d3d0609"
      },
      "source": [
        "# 딕셔너리에서 Key는 고유한 값이므로 중복되는 Key 값을 설정해 놓으면\n",
        "# 하나를 제외한 나머지 것들이 모두 무시된다\n",
        "#\n",
        "a = {1: \"a\", 1: \"b\"} #앞에꺼 무시하고 뒤에꺼 하나만 나온다\n",
        "a[1]"
      ],
      "execution_count": 15,
      "outputs": [
        {
          "output_type": "execute_result",
          "data": {
            "text/plain": [
              "'b'"
            ]
          },
          "metadata": {
            "tags": []
          },
          "execution_count": 15
        }
      ]
    },
    {
      "cell_type": "markdown",
      "metadata": {
        "id": "3Y4FnXaL3s3b",
        "colab_type": "text"
      },
      "source": [
        "## **딕셔너리 관련 내장함수들**"
      ]
    },
    {
      "cell_type": "markdown",
      "metadata": {
        "id": "TJKDtOA53yiK",
        "colab_type": "text"
      },
      "source": [
        "**Key 리스트 만들기(keys)**"
      ]
    },
    {
      "cell_type": "code",
      "metadata": {
        "id": "QP41EpAP3gJG",
        "colab_type": "code",
        "colab": {}
      },
      "source": [
        "a = {\"name\": \"pey\", \"phone\": \"0119993323\", \"birth\": \"1118\"}\n",
        "a.keys() # 키값만 뽑애낸다"
      ],
      "execution_count": 0,
      "outputs": []
    },
    {
      "cell_type": "code",
      "metadata": {
        "id": "g75qcNAF36cf",
        "colab_type": "code",
        "colab": {}
      },
      "source": [
        "list(a.keys()) # 리스트로\n",
        "#################################################\n",
        "# 기본적인 반복(iterate) 구문(예: for문)을 실행\n",
        "#################################################\n",
        "for k in a.keys():\n",
        "    print(k)"
      ],
      "execution_count": 0,
      "outputs": []
    },
    {
      "cell_type": "markdown",
      "metadata": {
        "id": "rLV3AqvZ39p7",
        "colab_type": "text"
      },
      "source": [
        "**Value 리스트 만들기(values)**"
      ]
    },
    {
      "cell_type": "code",
      "metadata": {
        "id": "BMoRN8Ve37tS",
        "colab_type": "code",
        "colab": {}
      },
      "source": [
        "a.values()"
      ],
      "execution_count": 0,
      "outputs": []
    },
    {
      "cell_type": "markdown",
      "metadata": {
        "id": "sDQPuW5P4Gt7",
        "colab_type": "text"
      },
      "source": [
        "**Key, Value 쌍 얻기(items)**"
      ]
    },
    {
      "cell_type": "code",
      "metadata": {
        "id": "_i3gLonz4Dxe",
        "colab_type": "code",
        "colab": {}
      },
      "source": [
        "a.items()  # Key와 Value의 쌍을 튜플로 묶은 값을 dict_items 객체로 돌려준다."
      ],
      "execution_count": 0,
      "outputs": []
    },
    {
      "cell_type": "markdown",
      "metadata": {
        "id": "OjIPutwH4LJy",
        "colab_type": "text"
      },
      "source": [
        "**Key: Value 쌍 모두 지우기(clear)**"
      ]
    },
    {
      "cell_type": "code",
      "metadata": {
        "id": "1waRBDWd4ImN",
        "colab_type": "code",
        "colab": {}
      },
      "source": [
        "a.clear()\n",
        "a"
      ],
      "execution_count": 0,
      "outputs": []
    },
    {
      "cell_type": "markdown",
      "metadata": {
        "id": "1QcKB79M4RmT",
        "colab_type": "text"
      },
      "source": [
        "**Key로 Value얻기(get)**"
      ]
    },
    {
      "cell_type": "code",
      "metadata": {
        "id": "NFPS8G8n4O9_",
        "colab_type": "code",
        "colab": {
          "base_uri": "https://localhost:8080/",
          "height": 35
        },
        "outputId": "d6b1e1c2-a89f-49df-9ad1-48f229a79d1b"
      },
      "source": [
        "a = {\"name\": \"pey\", \"phone\": \"0119993323\", \"birth\": \"1118\"}\n",
        "a.get(\"name\")  # a['name']"
      ],
      "execution_count": 18,
      "outputs": [
        {
          "output_type": "execute_result",
          "data": {
            "text/plain": [
              "'pey'"
            ]
          },
          "metadata": {
            "tags": []
          },
          "execution_count": 18
        }
      ]
    },
    {
      "cell_type": "code",
      "metadata": {
        "id": "Fl0IRvKb4UJD",
        "colab_type": "code",
        "colab": {
          "base_uri": "https://localhost:8080/",
          "height": 35
        },
        "outputId": "85272a58-d786-454e-c06e-e6f8d4e1a44f"
      },
      "source": [
        "a.get(\"phone\")  # a['phone']"
      ],
      "execution_count": 19,
      "outputs": [
        {
          "output_type": "execute_result",
          "data": {
            "text/plain": [
              "'0119993323'"
            ]
          },
          "metadata": {
            "tags": []
          },
          "execution_count": 19
        }
      ]
    },
    {
      "cell_type": "code",
      "metadata": {
        "id": "oivh-J-c4V-j",
        "colab_type": "code",
        "colab": {
          "base_uri": "https://localhost:8080/",
          "height": 172
        },
        "outputId": "b87d6b59-7d23-4697-d531-c8876808b284"
      },
      "source": [
        "print(a[\"nokey\"])  # KeyError -> 키값이 없다"
      ],
      "execution_count": 20,
      "outputs": [
        {
          "output_type": "error",
          "ename": "KeyError",
          "evalue": "ignored",
          "traceback": [
            "\u001b[0;31m---------------------------------------------------------------------------\u001b[0m",
            "\u001b[0;31mKeyError\u001b[0m                                  Traceback (most recent call last)",
            "\u001b[0;32m<ipython-input-20-a028b4ec1a8d>\u001b[0m in \u001b[0;36m<module>\u001b[0;34m()\u001b[0m\n\u001b[0;32m----> 1\u001b[0;31m \u001b[0mprint\u001b[0m\u001b[0;34m(\u001b[0m\u001b[0ma\u001b[0m\u001b[0;34m[\u001b[0m\u001b[0;34m\"nokey\"\u001b[0m\u001b[0;34m]\u001b[0m\u001b[0;34m)\u001b[0m  \u001b[0;31m# KeyError -> 키값이 없다\u001b[0m\u001b[0;34m\u001b[0m\u001b[0;34m\u001b[0m\u001b[0m\n\u001b[0m",
            "\u001b[0;31mKeyError\u001b[0m: 'nokey'"
          ]
        }
      ]
    },
    {
      "cell_type": "markdown",
      "metadata": {
        "id": "2uqkAjRJ4cLD",
        "colab_type": "text"
      },
      "source": [
        "**get(x, '디폴트 값')**"
      ]
    },
    {
      "cell_type": "code",
      "metadata": {
        "id": "c1GROznr4Y09",
        "colab_type": "code",
        "colab": {
          "base_uri": "https://localhost:8080/",
          "height": 35
        },
        "outputId": "cbabd295-ee29-4826-e8d1-d7e03c9b57c4"
      },
      "source": [
        "# 딕셔너리 안에 찾으려는 Key 값이 없을 경우\n",
        "# 미리 정해 둔 디폴트 값을 대신 가져오게 설정.\n",
        "#\n",
        "a.get(\"foo\", \"bar\") # foo 라는 키값이 없으니 bar를 출력"
      ],
      "execution_count": 21,
      "outputs": [
        {
          "output_type": "execute_result",
          "data": {
            "text/plain": [
              "'bar'"
            ]
          },
          "metadata": {
            "tags": []
          },
          "execution_count": 21
        }
      ]
    },
    {
      "cell_type": "code",
      "metadata": {
        "id": "CV-sdFt_4edA",
        "colab_type": "code",
        "colab": {
          "base_uri": "https://localhost:8080/",
          "height": 35
        },
        "outputId": "b9c92545-196c-4b36-bc99-33095a2e4d89"
      },
      "source": [
        "a.get(\"name\", \"bar\") #name 키가 있으니 name 값을 받아옴"
      ],
      "execution_count": 22,
      "outputs": [
        {
          "output_type": "execute_result",
          "data": {
            "text/plain": [
              "'pey'"
            ]
          },
          "metadata": {
            "tags": []
          },
          "execution_count": 22
        }
      ]
    },
    {
      "cell_type": "markdown",
      "metadata": {
        "id": "N-Gu1JqH4twU",
        "colab_type": "text"
      },
      "source": [
        "**해당 Key가 딕셔너리 안에 있는지 조사하기(in)**"
      ]
    },
    {
      "cell_type": "code",
      "metadata": {
        "id": "6L5Vr8zY4fPX",
        "colab_type": "code",
        "colab": {
          "base_uri": "https://localhost:8080/",
          "height": 35
        },
        "outputId": "2957d8c2-73ac-4331-ab80-d8d96706ea6f"
      },
      "source": [
        "a = {\"name\": \"pey\", \"phone\": \"0119993323\", \"birth\": \"1118\"}\n",
        "\"name\" in a # a안에 name있으니 true"
      ],
      "execution_count": 23,
      "outputs": [
        {
          "output_type": "execute_result",
          "data": {
            "text/plain": [
              "True"
            ]
          },
          "metadata": {
            "tags": []
          },
          "execution_count": 23
        }
      ]
    },
    {
      "cell_type": "code",
      "metadata": {
        "id": "dTpTFxCC4wgq",
        "colab_type": "code",
        "colab": {
          "base_uri": "https://localhost:8080/",
          "height": 35
        },
        "outputId": "675d6026-94c5-4bb6-f339-77fc8fe04b5c"
      },
      "source": [
        "\"foo\" in a # a안에 foo 없으니 flase 출력"
      ],
      "execution_count": 24,
      "outputs": [
        {
          "output_type": "execute_result",
          "data": {
            "text/plain": [
              "False"
            ]
          },
          "metadata": {
            "tags": []
          },
          "execution_count": 24
        }
      ]
    }
  ]
}