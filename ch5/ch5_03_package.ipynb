{
  "nbformat": 4,
  "nbformat_minor": 0,
  "metadata": {
    "colab": {
      "name": "ch5_03_package.ipynb",
      "provenance": [],
      "include_colab_link": true
    },
    "kernelspec": {
      "name": "python3",
      "display_name": "Python 3"
    }
  },
  "cells": [
    {
      "cell_type": "markdown",
      "metadata": {
        "id": "view-in-github",
        "colab_type": "text"
      },
      "source": [
        "<a href=\"https://colab.research.google.com/github/moonmingyu/sm-/blob/master/ch5/ch5_03_package.ipynb\" target=\"_parent\"><img src=\"https://colab.research.google.com/assets/colab-badge.svg\" alt=\"Open In Colab\"/></a>"
      ]
    },
    {
      "cell_type": "markdown",
      "metadata": {
        "id": "mCLKh0vGmYq7",
        "colab_type": "text"
      },
      "source": [
        "# 패키지란 무엇인가?"
      ]
    },
    {
      "cell_type": "markdown",
      "metadata": {
        "id": "Y92gYTnPmcMv",
        "colab_type": "text"
      },
      "source": [
        "**파이썬 모듈들을 모아놓은 폴더로 구성**\n",
        "\n",
        "**유사한 기능을 가진 모듈들을 묶어서 구성**"
      ]
    },
    {
      "cell_type": "markdown",
      "metadata": {
        "id": "84Hq_Wrdo0Sh",
        "colab_type": "text"
      },
      "source": [
        "### 가상의 game 패키지 예"
      ]
    },
    {
      "cell_type": "code",
      "metadata": {
        "id": "XUOLoBtmlPBC",
        "colab_type": "code",
        "colab": {}
      },
      "source": [
        "# ch5_03_package.py\n",
        "game/\n",
        "    __init__.py\n",
        "    sound/\n",
        "        __init__.py\n",
        "        echo.py\n",
        "        wav.py\n",
        "    graphic/\n",
        "        __init__.py\n",
        "        screen.py\n",
        "        render.py\n",
        "    play/\n",
        "        __init__.py\n",
        "        run.py\n",
        "        test.py\n",
        "# game 디렉터리가 이 패키지의 루트 디렉터리이고\n",
        "# sound, graphic, play는 서브 디렉터리이다.\n"
      ],
      "execution_count": 0,
      "outputs": []
    },
    {
      "cell_type": "markdown",
      "metadata": {
        "id": "YxmqXfgJxsPm",
        "colab_type": "text"
      },
      "source": [
        "## 패키지 만들기"
      ]
    },
    {
      "cell_type": "markdown",
      "metadata": {
        "id": "CuPkTgz3xxul",
        "colab_type": "text"
      },
      "source": [
        "### 패키지 기본 구성 요소 준비하기"
      ]
    },
    {
      "cell_type": "markdown",
      "metadata": {
        "id": "O43SW7ZDxzLV",
        "colab_type": "text"
      },
      "source": [
        "1. 루트폴더, 서버폴더 만들기\n",
        "\n",
        "2. *.py 소스파일 준비"
      ]
    },
    {
      "cell_type": "markdown",
      "metadata": {
        "id": "velY3Nc-x4Ld",
        "colab_type": "text"
      },
      "source": [
        "**1. 루트폴더, 서버폴더 만들기**"
      ]
    },
    {
      "cell_type": "code",
      "metadata": {
        "id": "5tMGnbsMovst",
        "colab_type": "code",
        "colab": {}
      },
      "source": [
        "./game/__init__.py\n",
        "./game/sound/__init__.py\n",
        "./game/sound/echo.py\n",
        "./game/graphic/__init__.py\n",
        "./game/graphic/render.py"
      ],
      "execution_count": 0,
      "outputs": []
    },
    {
      "cell_type": "markdown",
      "metadata": {
        "id": "cdaDnzmqx9e9",
        "colab_type": "text"
      },
      "source": [
        "**2. *.py 소스파일 준비**"
      ]
    },
    {
      "cell_type": "code",
      "metadata": {
        "id": "SXUKPr9sx6up",
        "colab_type": "code",
        "colab": {}
      },
      "source": [
        "#각 디렉터리에 __init__.py 파일을 만들어 놓기만 하고 \n",
        "#내용은 일단 비워 둔다.\n",
        "\n",
        "# echo.py\n",
        "def echo_test():\n",
        "    print (\"echo\")\n",
        "\n",
        "# render.py\n",
        "def render_test():\n",
        "    print (\"render\")\n",
        "\n",
        "# 현재 폴더 내에 game 폴더가 포함됨."
      ],
      "execution_count": 0,
      "outputs": []
    },
    {
      "cell_type": "markdown",
      "metadata": {
        "id": "FFmZwiK5yRR8",
        "colab_type": "text"
      },
      "source": [
        "## **패키지 안의 함수 실행하기**"
      ]
    },
    {
      "cell_type": "markdown",
      "metadata": {
        "id": "qJEHpEusyVg0",
        "colab_type": "text"
      },
      "source": [
        "package를 import하여 내부 함수 실행"
      ]
    },
    {
      "cell_type": "markdown",
      "metadata": {
        "id": "rBz8VRLqyYpM",
        "colab_type": "text"
      },
      "source": [
        "### 1. echo 모듈을 import하여 실행"
      ]
    },
    {
      "cell_type": "code",
      "metadata": {
        "id": "GCeOAyY5pIOk",
        "colab_type": "code",
        "colab": {}
      },
      "source": [
        "\n",
        "import game.sound.echo\n",
        "\n",
        "game.sound.echo.echo_test() # game 패키지안에있는 sound 파일안에있는 echo모듈안에있는 echo_test 함수를 실행\n"
      ],
      "execution_count": 0,
      "outputs": []
    },
    {
      "cell_type": "markdown",
      "metadata": {
        "id": "IbJ1sKLoyoZN",
        "colab_type": "text"
      },
      "source": [
        "### 2. echo 모듈이 있는 디렉터리까지를 from ... import하여 실행"
      ]
    },
    {
      "cell_type": "code",
      "metadata": {
        "id": "IKRe8vJjyeFR",
        "colab_type": "code",
        "colab": {}
      },
      "source": [
        "\n",
        "# \n",
        "from game.sound import echo\n",
        "\n",
        "echo.echo_test()\n"
      ],
      "execution_count": 0,
      "outputs": []
    },
    {
      "cell_type": "markdown",
      "metadata": {
        "id": "EAeb0B4Vyqsc",
        "colab_type": "text"
      },
      "source": [
        "### 3. echo 모듈의 echo_test 함수를 직접 import하여 실행"
      ]
    },
    {
      "cell_type": "code",
      "metadata": {
        "id": "PaRLVkjSye5i",
        "colab_type": "code",
        "colab": {}
      },
      "source": [
        "from game.sound.echo import echo_test\n",
        "\n",
        "echo_test()"
      ],
      "execution_count": 0,
      "outputs": []
    },
    {
      "cell_type": "markdown",
      "metadata": {
        "id": "GLn3cN84yuX8",
        "colab_type": "text"
      },
      "source": [
        "### 다음과 같이 echo_test 함수를 사용하는 것은 불가능"
      ]
    },
    {
      "cell_type": "code",
      "metadata": {
        "id": "VuYBHY9uyfoZ",
        "colab_type": "code",
        "colab": {}
      },
      "source": [
        "import game # game 패키지만 import 시켜서 하면 실행이안됨\n",
        "\n",
        "game.sound.echo.echo_test()\n",
        "\n",
        "\n",
        "import game.sound.echo.echo_test  # ModuleNotFoundError: ->모듈안에 함수까지 import 시키면 안됨"
      ],
      "execution_count": 0,
      "outputs": []
    },
    {
      "cell_type": "markdown",
      "metadata": {
        "id": "3_Vwfq6rqCQ5",
        "colab_type": "text"
      },
      "source": [
        "## __init__.py 의 용도"
      ]
    },
    {
      "cell_type": "code",
      "metadata": {
        "id": "VuXQgnY9p-F6",
        "colab_type": "code",
        "colab": {}
      },
      "source": [
        "# __init__.py 파일은 해당 디렉터리가 패키지의 일부임을 알려주는 역할\n",
        "# 만약 game, sound, graphic 등 패키지에 포함된 디렉터리에\n",
        "# __init__.py 파일이 없다면 패키지로 인식되지 않는다."
      ],
      "execution_count": 0,
      "outputs": []
    },
    {
      "cell_type": "code",
      "metadata": {
        "id": "Dr_dDwM6qGh1",
        "colab_type": "code",
        "colab": {}
      },
      "source": [
        "from game.sound import *\n",
        "\n",
        "echo.echo_test()"
      ],
      "execution_count": 0,
      "outputs": []
    },
    {
      "cell_type": "markdown",
      "metadata": {
        "id": "TLODMYnAqPmI",
        "colab_type": "text"
      },
      "source": [
        "## relative 패키지"
      ]
    },
    {
      "cell_type": "markdown",
      "metadata": {
        "id": "EILj1mcFqUF4",
        "colab_type": "text"
      },
      "source": [
        "**만약 graphic 디렉터리의 render.py 모듈이\n",
        "sound 디렉터리의 echo.py 모듈을 사용**\n",
        "\n",
        "**render.py를 수정**"
      ]
    },
    {
      "cell_type": "code",
      "metadata": {
        "id": "fide0BfxqIlE",
        "colab_type": "code",
        "colab": {}
      },
      "source": [
        "from game.graphic.render import render_test\n",
        "\n",
        "render_test()\n",
        "\n",
        "# .. : parent folder\n",
        "#  . : current folder"
      ],
      "execution_count": 0,
      "outputs": []
    },
    {
      "cell_type": "code",
      "metadata": {
        "id": "xdIQl3ZUqkom",
        "colab_type": "code",
        "colab": {}
      },
      "source": [
        "# render.py\n",
        "from ..sound.echo import echo_test\n",
        "\n",
        "def render_test():\n",
        "    print (\"render\")\n",
        "    echo_test()\n"
      ],
      "execution_count": 0,
      "outputs": []
    },
    {
      "cell_type": "code",
      "metadata": {
        "id": "tAkleliIqte8",
        "colab_type": "code",
        "colab": {}
      },
      "source": [
        "# render.py\n",
        "from game.sound.echo import echo_test\n",
        "def render_test():\n",
        "    print (\"render\")\n",
        "    echo_test()"
      ],
      "execution_count": 0,
      "outputs": []
    }
  ]
}