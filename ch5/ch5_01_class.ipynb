{
  "nbformat": 4,
  "nbformat_minor": 0,
  "metadata": {
    "colab": {
      "name": "ch5_01_class.ipynb",
      "provenance": [],
      "collapsed_sections": [],
      "include_colab_link": true
    },
    "kernelspec": {
      "name": "python3",
      "display_name": "Python 3"
    }
  },
  "cells": [
    {
      "cell_type": "markdown",
      "metadata": {
        "id": "view-in-github",
        "colab_type": "text"
      },
      "source": [
        "<a href=\"https://colab.research.google.com/github/moonmingyu/sm-/blob/master/ch5/ch5_01_class.ipynb\" target=\"_parent\"><img src=\"https://colab.research.google.com/assets/colab-badge.svg\" alt=\"Open In Colab\"/></a>"
      ]
    },
    {
      "cell_type": "markdown",
      "metadata": {
        "id": "oWveoKBOQwDn",
        "colab_type": "text"
      },
      "source": [
        "# 클래스란 무엇인가?"
      ]
    },
    {
      "cell_type": "markdown",
      "metadata": {
        "id": "WVbxx0lSQy0r",
        "colab_type": "text"
      },
      "source": [
        "## 클래스는 왜 필요한가?"
      ]
    },
    {
      "cell_type": "markdown",
      "metadata": {
        "id": "q_G2ZO3WQ4ku",
        "colab_type": "text"
      },
      "source": [
        "지정된 기능을 수행하는 변수와 함수의 모음\n",
        "인스턴스, 즉 객체를 생성하여 기능을 이용\n",
        "코딩을 객체화"
      ]
    },
    {
      "cell_type": "markdown",
      "metadata": {
        "id": "nIJK5HVXQ97-",
        "colab_type": "text"
      },
      "source": [
        "### 이전에 계산한 결괏값을 기억하고 있는 계산기"
      ]
    },
    {
      "cell_type": "code",
      "metadata": {
        "id": "qv5sCy0AQYAS",
        "colab_type": "code",
        "colab": {}
      },
      "source": [
        "result = 0\n",
        "\n",
        "def add(num):\n",
        "    global result #가능하면 글로벌 변수를 쓰지말자\n",
        "    result += num\n",
        "    return result\n",
        "\n",
        "\n",
        "# 이전에 계산한 결괏값을 기억\n",
        "print(add(3))\n",
        "print(add(4))\n"
      ],
      "execution_count": 0,
      "outputs": []
    },
    {
      "cell_type": "code",
      "metadata": {
        "id": "jXl5eYXRQhYG",
        "colab_type": "code",
        "colab": {}
      },
      "source": [
        "# 2대의 계산기가 필요한 상황이 발생하면?\n",
        "result1 = 0\n",
        "result2 = 0\n",
        "\n",
        "def add1(num):\n",
        "    global result1\n",
        "    result1 += num\n",
        "    return result1\n",
        "\n",
        "\n",
        "def add2(num):\n",
        "    global result2\n",
        "    result2 += num\n",
        "    return result2\n",
        "\n",
        "\n",
        "\n",
        "print(add1(3))\n",
        "print(add1(4))\n",
        "print(add2(3))\n",
        "print(add2(7))\n"
      ],
      "execution_count": 0,
      "outputs": []
    },
    {
      "cell_type": "markdown",
      "metadata": {
        "id": "SoKcA_wXRO53",
        "colab_type": "text"
      },
      "source": [
        " 계산기 1의 결괏값이 계산기 2에 아무 영향을 끼치지 않음을 확인할 수 있다. \n",
        " 하지만 계산기가 3개, 5개, 10개로 점점 더 많이 필요해진다면 어떻게 해야 할까? \n",
        " 그때마다 전역 변수와 함수를 추가할 것인가? "
      ]
    },
    {
      "cell_type": "markdown",
      "metadata": {
        "id": "5yLhsfW-RYbv",
        "colab_type": "text"
      },
      "source": [
        "**클래스를 사용하면 간단하게 해결**"
      ]
    },
    {
      "cell_type": "markdown",
      "metadata": {
        "id": "1ggbAjP8S4UA",
        "colab_type": "text"
      },
      "source": [
        "### class Calculator"
      ]
    },
    {
      "cell_type": "code",
      "metadata": {
        "id": "t2KeFHDDQm-Z",
        "colab_type": "code",
        "colab": {
          "base_uri": "https://localhost:8080/",
          "height": 107
        },
        "outputId": "cb2ddbd7-7b8e-422b-b22a-ceca77693563"
      },
      "source": [
        "class Calculator:\n",
        "    def __init__(self): # __를 가지고있는거는 특수한기능을 가진함수 ->초기값 설정할때쓰는 init 함수 같은것은 앞뒤로 __를 해줘야된다\n",
        "        self.result = 0\n",
        "\n",
        "    def add(self, num):\n",
        "        self.result += num\n",
        "        return self.result\n",
        "    \n",
        "    def sub(self, num):\n",
        "        self.result -= num\n",
        "        return self.result\n",
        "\n",
        "\n",
        "\n",
        "cal1 = Calculator()\n",
        "cal2 = Calculator()\n",
        "\n",
        "print(cal1.add(3))\n",
        "print(cal1.add(4))\n",
        "print(cal1.sub(6))\n",
        "print(cal2.add(3))\n",
        "print(cal2.add(7))"
      ],
      "execution_count": 2,
      "outputs": [
        {
          "output_type": "stream",
          "text": [
            "3\n",
            "7\n",
            "1\n",
            "3\n",
            "10\n"
          ],
          "name": "stdout"
        }
      ]
    },
    {
      "cell_type": "markdown",
      "metadata": {
        "id": "eAf1KNqbT6AX",
        "colab_type": "text"
      },
      "source": [
        "## 클래스와 객체"
      ]
    },
    {
      "cell_type": "markdown",
      "metadata": {
        "id": "OENtzU7PT9g9",
        "colab_type": "text"
      },
      "source": [
        " 클래스(class)란 똑같은 무엇인가를 계속해서 만들어 낼 수 있는 설계 도면\n",
        " \n",
        " 객체(object)란 클래스로 만든 피조물(과자 틀을 사용해 만든 과자)\n",
        "\n",
        " 클래스(class) : 과자 틀 \n",
        " \n",
        " 객체(object) : 과자 틀을 사용해 만든 과자\n",
        "\n",
        " 동일한 클래스로 만든 객체들은 서로 전혀 영향을 주지 않는다."
      ]
    },
    {
      "cell_type": "markdown",
      "metadata": {
        "id": "qhYuwCtfUJp9",
        "colab_type": "text"
      },
      "source": [
        "### 간단한 클래스와 객체"
      ]
    },
    {
      "cell_type": "code",
      "metadata": {
        "id": "X3Xl__lwR1Yu",
        "colab_type": "code",
        "colab": {}
      },
      "source": [
        "class Cookie:\n",
        "    pass\n",
        "\n",
        "a = Cookie()\n",
        "b = Cookie()\n",
        "id(a), id(b)"
      ],
      "execution_count": 0,
      "outputs": []
    },
    {
      "cell_type": "markdown",
      "metadata": {
        "id": "iTJUeD7sUYaV",
        "colab_type": "text"
      },
      "source": [
        "### 객체와 인스턴스의 차이"
      ]
    },
    {
      "cell_type": "markdown",
      "metadata": {
        "id": "HSIUSnNmUbcu",
        "colab_type": "text"
      },
      "source": [
        "  a = Cookie() 이렇게 만든 a는 객체이다. \n",
        " 그리고 a 객체는 Cookie의 인스턴스이다. \n",
        " \n",
        " 즉 인스턴스라는 말은 특정 객체(a)가 \n",
        " 어떤 클래스(Cookie)의 객체인지를 \n",
        " 관계 위주로 설명할 때 사용한다"
      ]
    },
    {
      "cell_type": "markdown",
      "metadata": {
        "id": "DKlmX8EBUzqW",
        "colab_type": "text"
      },
      "source": [
        "### 사칙연산 클래스 만들기"
      ]
    },
    {
      "cell_type": "markdown",
      "metadata": {
        "id": "GBW3y4rjVDZ3",
        "colab_type": "text"
      },
      "source": [
        " 사칙연산을 가능하게 하는 FourCal 클래스\n",
        " \n",
        " class FourCal\n",
        "\n",
        " Usage:\n",
        " \n",
        " a = FourCal()\n",
        " \n",
        " a.setdata(4, 2)\n",
        " \n",
        " a.add(), a.sub(), a.mul(), a.div()\n"
      ]
    },
    {
      "cell_type": "markdown",
      "metadata": {
        "id": "ejwtO--PU8fL",
        "colab_type": "text"
      },
      "source": [
        "**1. FourCal 클래스 구조 만들기**"
      ]
    },
    {
      "cell_type": "code",
      "metadata": {
        "id": "35zYqY_iUWL1",
        "colab_type": "code",
        "colab": {}
      },
      "source": [
        "class FourCal:\n",
        "    pass\n",
        "\n",
        "\n",
        "# 객체 만들기\n",
        "a = FourCal()\n",
        "type(a), id(a)"
      ],
      "execution_count": 0,
      "outputs": []
    },
    {
      "cell_type": "markdown",
      "metadata": {
        "id": "RBPUyCCSVdGG",
        "colab_type": "text"
      },
      "source": [
        "**2. 객체에 숫자 지정할 수 있게 만들기**"
      ]
    },
    {
      "cell_type": "code",
      "metadata": {
        "id": "EmKhezACVNUH",
        "colab_type": "code",
        "colab": {
          "base_uri": "https://localhost:8080/",
          "height": 35
        },
        "outputId": "49aeb0b2-277f-41cf-c470-9a98ce953a39"
      },
      "source": [
        "# function setdata()  # method\n",
        "\n",
        "class FourCal:\n",
        "    def setdata(self, first, second):\n",
        "        self.first = first\n",
        "        self.second = second\n",
        "\n",
        "\n",
        "\n",
        "a = FourCal()\n",
        "a.setdata(4, 2)\n",
        "\n",
        "# 객체 변수\n",
        "a.first    # self.first\n",
        "a.second   # self.second\n",
        "\n",
        "\n",
        "# 객체를 이용하기\n",
        "a = FourCal()\n",
        "b = FourCal()\n",
        "\n",
        "a is b\n"
      ],
      "execution_count": 7,
      "outputs": [
        {
          "output_type": "execute_result",
          "data": {
            "text/plain": [
              "False"
            ]
          },
          "metadata": {
            "tags": []
          },
          "execution_count": 7
        }
      ]
    },
    {
      "cell_type": "code",
      "metadata": {
        "id": "r7QTUSEyWv11",
        "colab_type": "code",
        "colab": {
          "base_uri": "https://localhost:8080/",
          "height": 89
        },
        "outputId": "9758b743-27c8-4f47-f3ef-78755e43aa12"
      },
      "source": [
        "\n",
        "type(a), id(a)\n",
        "type(b), id(b)\n",
        "\n",
        "a.setdata(4, 2) # ->first second 에 값들어간다\n",
        "print(a.first)\n",
        "b.setdata(3, 7)\n",
        "print(b.first)\n",
        "\n",
        "print(a.first)  # what value?\n",
        "# a 객체의 first 값은 b 객체의 first 값에 영향받지 않고 원래 값을 유지\n",
        "# 클래스로 만든 객체의 객체변수는 다른 객체의 객체변수에 상관없이 독립적인 값을 유지\n",
        "\n",
        "id(a.first), id(b.first) # 변수의 주소도 다르다\n"
      ],
      "execution_count": 8,
      "outputs": [
        {
          "output_type": "stream",
          "text": [
            "4\n",
            "3\n",
            "4\n"
          ],
          "name": "stdout"
        },
        {
          "output_type": "execute_result",
          "data": {
            "text/plain": [
              "(10968896, 10968864)"
            ]
          },
          "metadata": {
            "tags": []
          },
          "execution_count": 8
        }
      ]
    },
    {
      "cell_type": "markdown",
      "metadata": {
        "id": "tJjTW8cJXsBt",
        "colab_type": "text"
      },
      "source": [
        "**3. 더하기 기능 만들기**"
      ]
    },
    {
      "cell_type": "code",
      "metadata": {
        "id": "gEhTIhwHVl4A",
        "colab_type": "code",
        "colab": {
          "base_uri": "https://localhost:8080/",
          "height": 35
        },
        "outputId": "a86041f0-5139-458c-85cd-4da32ea30271"
      },
      "source": [
        "# function add()  # method\n",
        "\n",
        "class FourCal:\n",
        "    def setdata(self, first, second):\n",
        "        self.first = first\n",
        "        self.second = second\n",
        "\n",
        "    def add(self):\n",
        "        result = self.first + self.second\n",
        "        return result\n",
        "    \n",
        "\n",
        "a = FourCal()\n",
        "a.setdata(4, 2)\n",
        "a.add()"
      ],
      "execution_count": 9,
      "outputs": [
        {
          "output_type": "execute_result",
          "data": {
            "text/plain": [
              "6"
            ]
          },
          "metadata": {
            "tags": []
          },
          "execution_count": 9
        }
      ]
    },
    {
      "cell_type": "markdown",
      "metadata": {
        "id": "dltwsjKHYIs8",
        "colab_type": "text"
      },
      "source": [
        "**4. 곱하기, 빼기, 나누기 기능 추가**"
      ]
    },
    {
      "cell_type": "code",
      "metadata": {
        "id": "ZXX10sr_Xx-X",
        "colab_type": "code",
        "colab": {
          "base_uri": "https://localhost:8080/",
          "height": 53
        },
        "outputId": "f5e201f5-a9f0-401b-8317-10775f311fd7"
      },
      "source": [
        "# function sub(), mul(), div()\n",
        "\n",
        "class FourCal:\n",
        "    def setdata(self, first, second):\n",
        "        self.first = first\n",
        "        self.second = second\n",
        "        \n",
        "    def add(self):\n",
        "        result = self.first + self.second\n",
        "        return result\n",
        "\n",
        "    def sub(self):\n",
        "        result = self.first - self.second\n",
        "        return result\n",
        "\n",
        "    def mul(self):\n",
        "        result = self.first * self.second\n",
        "        return result\n",
        "\n",
        "    def div(self):\n",
        "        result = self.first / self.second\n",
        "        return result\n",
        "    \n",
        "\n",
        "  \n",
        "a = FourCal()\n",
        "b = FourCal()\n",
        "\n",
        "a.setdata(4, 2)\n",
        "b.setdata(3, 8)\n",
        "\n",
        "print(a.add(), a.sub(), a.mul(), a.div())\n",
        "print(b.add(), b.sub(), b.mul(), b.div())"
      ],
      "execution_count": 16,
      "outputs": [
        {
          "output_type": "stream",
          "text": [
            "6 2 8 2.0\n",
            "11 -5 24 0.375\n"
          ],
          "name": "stdout"
        }
      ]
    },
    {
      "cell_type": "code",
      "metadata": {
        "id": "RojSdph1ZXmr",
        "colab_type": "code",
        "colab": {
          "base_uri": "https://localhost:8080/",
          "height": 316
        },
        "outputId": "a3a7f755-172c-4fe9-b5d1-86c47862fa55"
      },
      "source": [
        ""
      ],
      "execution_count": 17,
      "outputs": [
        {
          "output_type": "error",
          "ename": "AttributeError",
          "evalue": "ignored",
          "traceback": [
            "\u001b[0;31m---------------------------------------------------------------------------\u001b[0m",
            "\u001b[0;31mAttributeError\u001b[0m                            Traceback (most recent call last)",
            "\u001b[0;32m<ipython-input-17-00d2da60f014>\u001b[0m in \u001b[0;36m<module>\u001b[0;34m()\u001b[0m\n\u001b[1;32m      1\u001b[0m \u001b[0ma\u001b[0m \u001b[0;34m=\u001b[0m \u001b[0mFourCal\u001b[0m\u001b[0;34m(\u001b[0m\u001b[0;34m)\u001b[0m\u001b[0;34m\u001b[0m\u001b[0;34m\u001b[0m\u001b[0m\n\u001b[0;32m----> 2\u001b[0;31m \u001b[0ma\u001b[0m\u001b[0;34m.\u001b[0m\u001b[0madd\u001b[0m\u001b[0;34m(\u001b[0m\u001b[0;34m)\u001b[0m   \u001b[0;31m#  AttributeError\u001b[0m\u001b[0;34m\u001b[0m\u001b[0;34m\u001b[0m\u001b[0m\n\u001b[0m",
            "\u001b[0;32m<ipython-input-16-6bf40afa8f4b>\u001b[0m in \u001b[0;36madd\u001b[0;34m(self)\u001b[0m\n\u001b[1;32m      6\u001b[0m \u001b[0;34m\u001b[0m\u001b[0m\n\u001b[1;32m      7\u001b[0m     \u001b[0;32mdef\u001b[0m \u001b[0madd\u001b[0m\u001b[0;34m(\u001b[0m\u001b[0mself\u001b[0m\u001b[0;34m)\u001b[0m\u001b[0;34m:\u001b[0m\u001b[0;34m\u001b[0m\u001b[0;34m\u001b[0m\u001b[0m\n\u001b[0;32m----> 8\u001b[0;31m         \u001b[0mresult\u001b[0m \u001b[0;34m=\u001b[0m \u001b[0mself\u001b[0m\u001b[0;34m.\u001b[0m\u001b[0mfirst\u001b[0m \u001b[0;34m+\u001b[0m \u001b[0mself\u001b[0m\u001b[0;34m.\u001b[0m\u001b[0msecond\u001b[0m\u001b[0;34m\u001b[0m\u001b[0;34m\u001b[0m\u001b[0m\n\u001b[0m\u001b[1;32m      9\u001b[0m         \u001b[0;32mreturn\u001b[0m \u001b[0mresult\u001b[0m\u001b[0;34m\u001b[0m\u001b[0;34m\u001b[0m\u001b[0m\n\u001b[1;32m     10\u001b[0m \u001b[0;34m\u001b[0m\u001b[0m\n",
            "\u001b[0;31mAttributeError\u001b[0m: 'FourCal' object has no attribute 'first'"
          ]
        }
      ]
    },
    {
      "cell_type": "markdown",
      "metadata": {
        "id": "0JpwFdrLYgI8",
        "colab_type": "text"
      },
      "source": [
        "### 생성자 (Constructor)"
      ]
    },
    {
      "cell_type": "code",
      "metadata": {
        "id": "JHWLfbXjckzo",
        "colab_type": "code",
        "colab": {}
      },
      "source": [
        "a = FourCal()\n",
        "a.add()   #  AttributeError"
      ],
      "execution_count": 0,
      "outputs": []
    },
    {
      "cell_type": "markdown",
      "metadata": {
        "id": "Ma97nOAic1qP",
        "colab_type": "text"
      },
      "source": [
        "**__init__() 생성자 함수**"
      ]
    },
    {
      "cell_type": "code",
      "metadata": {
        "id": "Qh_wSJXdY9SJ",
        "colab_type": "code",
        "colab": {
          "base_uri": "https://localhost:8080/",
          "height": 35
        },
        "outputId": "c52c3e84-3601-4c36-c437-162b5c9a1c50"
      },
      "source": [
        "class FourCal:\n",
        "    def __init__(self, first, second):\n",
        "        self.first = first\n",
        "        self.second = second\n",
        "\n",
        "    def setdata(self, first, second):\n",
        "        self.first = first\n",
        "        self.second = second\n",
        "        \n",
        "    def add(self):\n",
        "        result = self.first + self.second\n",
        "        return result\n",
        "\n",
        "    def sub(self):\n",
        "        result = self.first - self.second\n",
        "        return result\n",
        "\n",
        "    def mul(self):\n",
        "        result = self.first * self.second\n",
        "        return result\n",
        "\n",
        "    def div(self):\n",
        "        result = self.first / self.second\n",
        "        return result\n",
        "    \n",
        "\n",
        "\n",
        "# a = FourCal()  ->  TypeError:\n",
        "\n",
        "a = FourCal(4, 2)\n",
        "a.first, a.second\n",
        "\n",
        "a.mul()\n"
      ],
      "execution_count": 18,
      "outputs": [
        {
          "output_type": "execute_result",
          "data": {
            "text/plain": [
              "8"
            ]
          },
          "metadata": {
            "tags": []
          },
          "execution_count": 18
        }
      ]
    },
    {
      "cell_type": "markdown",
      "metadata": {
        "id": "sWOoeTmvZwEs",
        "colab_type": "text"
      },
      "source": [
        "### 클래스의 상속"
      ]
    },
    {
      "cell_type": "markdown",
      "metadata": {
        "id": "43SGzcH0ZynL",
        "colab_type": "text"
      },
      "source": [
        "상속은 기존 클래스를 변경하지 않고 기능을 추가하거나 \n",
        "기존 기능을 변경하려고 할 때 사용"
      ]
    },
    {
      "cell_type": "markdown",
      "metadata": {
        "id": "c-JYsfJYZ2rr",
        "colab_type": "text"
      },
      "source": [
        "\n",
        " \n",
        " class 클래스 이름(상속할 클래스 이름)\n",
        " \n",
        " 클래스 FourCal를 상속하는 \n",
        "class MoreFourCal\n",
        "\n",
        "FourCal 클래스에 a^b (a의 b제곱)을 구할 수 있는 기능을 추가\n"
      ]
    },
    {
      "cell_type": "code",
      "metadata": {
        "id": "tIC6yGodYx2T",
        "colab_type": "code",
        "colab": {
          "base_uri": "https://localhost:8080/",
          "height": 53
        },
        "outputId": "2e99d44e-fb77-4f56-e15a-72b2aebce58b"
      },
      "source": [
        "class MoreFourCal(FourCal):\n",
        "    pass\n",
        "\n",
        "\n",
        "a = MoreFourCal(4, 2)\n",
        "a.add(), a.mul()\n",
        "\n",
        "\n",
        "class MoreFourCal(FourCal):\n",
        "    def pow(self):\n",
        "        result = self.first ** self.second\n",
        "        return result\n",
        "    \n",
        "\n",
        "a = MoreFourCal(4, 2)\n",
        "print(a.add(), a.mul())\n",
        "\n",
        "print(a.pow())\n",
        "\n",
        "# 상속은 MoreFourCal 클래스처럼 기존 클래스(FourCal)는 \n",
        "# 그대로 놔둔 채 클래스의 기능을 확장시킬 때 주로 사용."
      ],
      "execution_count": 19,
      "outputs": [
        {
          "output_type": "stream",
          "text": [
            "6 8\n",
            "16\n"
          ],
          "name": "stdout"
        }
      ]
    },
    {
      "cell_type": "markdown",
      "metadata": {
        "id": "TV1xTcmTapW9",
        "colab_type": "text"
      },
      "source": [
        "### 메서드 오버라이딩"
      ]
    },
    {
      "cell_type": "markdown",
      "metadata": {
        "id": "oRSEnYIDcXv3",
        "colab_type": "text"
      },
      "source": [
        "**기존의 함수(메소드)를 수정/보완하여 재정의**"
      ]
    },
    {
      "cell_type": "code",
      "metadata": {
        "id": "V9Zw_Q4-aAN2",
        "colab_type": "code",
        "colab": {}
      },
      "source": [
        "a = FourCal(4, 0)\n",
        "a.div()  # ZeroDivisionError: ->분모가 0이라서 발생"
      ],
      "execution_count": 0,
      "outputs": []
    },
    {
      "cell_type": "markdown",
      "metadata": {
        "id": "nr6Q5GRFcwr_",
        "colab_type": "text"
      },
      "source": [
        "**메서드 오버라이딩 (Overriding)**"
      ]
    },
    {
      "cell_type": "code",
      "metadata": {
        "id": "M8hKE6A1cnHB",
        "colab_type": "code",
        "colab": {
          "base_uri": "https://localhost:8080/",
          "height": 53
        },
        "outputId": "6b1304ae-0463-48ef-d003-bfdc5a3be870"
      },
      "source": [
        "class SafeFourCal(FourCal):\n",
        "    def div(self):\n",
        "        if self.second == 0:  # 나누는 값이 0인 경우 0을 리턴하도록 수정\n",
        "            print(\"분모는 0을 사용할 수 없다.\")\n",
        "            return 0\n",
        "        else:\n",
        "            return self.first / self.second\n",
        "    \n",
        "\n",
        "\n",
        "a = SafeFourCal(4, 0)\n",
        "a.div()  # 메서드 오버라이딩 사용"
      ],
      "execution_count": 20,
      "outputs": [
        {
          "output_type": "stream",
          "text": [
            "분모는 0을 사용할 수 없다.\n"
          ],
          "name": "stdout"
        },
        {
          "output_type": "execute_result",
          "data": {
            "text/plain": [
              "0"
            ]
          },
          "metadata": {
            "tags": []
          },
          "execution_count": 20
        }
      ]
    },
    {
      "cell_type": "markdown",
      "metadata": {
        "id": "rbulVZBXdHOn",
        "colab_type": "text"
      },
      "source": [
        "### 클래스 변수"
      ]
    },
    {
      "cell_type": "markdown",
      "metadata": {
        "id": "o3wchjYjdKz_",
        "colab_type": "text"
      },
      "source": [
        "객체변수와 클래스변수의 차이?\n",
        "\n",
        "객체변수   :   객체.변수\n",
        "\n",
        "클래스변수 : 클래스.변수"
      ]
    },
    {
      "cell_type": "code",
      "metadata": {
        "id": "_cSuoXAQc7Lz",
        "colab_type": "code",
        "colab": {
          "base_uri": "https://localhost:8080/",
          "height": 161
        },
        "outputId": "840df7dd-02ef-485d-ed9a-5f0b7e915518"
      },
      "source": [
        "class Family:\n",
        "    lastname = \"김\"   # 클래스변수\n",
        "\n",
        "\n",
        "# 클래스이름.클래스 변수로 사용\n",
        "Family.lastname\n",
        "\n",
        "# 객체변수로 접근\n",
        "a = Family()\n",
        "b = Family()\n",
        "\n",
        "print(a.lastname)\n",
        "print(b.lastname)\n",
        "print(id(a.lastname), id(b.lastname))\n",
        "\n",
        "# 클래스변수를 변경하면?\n",
        "Family.lastname = \"박\"\n",
        "\n",
        "print(a.lastname)\n",
        "print(b.lastname)\n",
        "print(id(a.lastname), id(b.lastname), id(Family.lastname))\n",
        "# 클래스 변수가 공유됨을 확인.\n",
        "\n",
        "# 객체변수를 변경하면?\n",
        "a.lastname = \"이\"\n",
        "print(a.lastname, b.lastname, Family.lastname)\n",
        "id(a.lastname), id(b.lastname), id(Family.lastname)\n",
        "\n",
        "# 실무 프로그래밍에는 클래스 변수보다는 객체변수를 많이 사용."
      ],
      "execution_count": 24,
      "outputs": [
        {
          "output_type": "stream",
          "text": [
            "김\n",
            "김\n",
            "139948315335616 139948315335616\n",
            "박\n",
            "박\n",
            "139948315053392 139948315053392 139948315053392\n",
            "이 박 박\n"
          ],
          "name": "stdout"
        },
        {
          "output_type": "execute_result",
          "data": {
            "text/plain": [
              "(139948315050672, 139948315053392, 139948315053392)"
            ]
          },
          "metadata": {
            "tags": []
          },
          "execution_count": 24
        }
      ]
    }
  ]
}