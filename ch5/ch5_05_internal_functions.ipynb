{
  "nbformat": 4,
  "nbformat_minor": 0,
  "metadata": {
    "colab": {
      "name": "ch5_05_internal_functions.ipynb",
      "provenance": [],
      "collapsed_sections": [],
      "include_colab_link": true
    },
    "kernelspec": {
      "name": "python3",
      "display_name": "Python 3"
    }
  },
  "cells": [
    {
      "cell_type": "markdown",
      "metadata": {
        "id": "view-in-github",
        "colab_type": "text"
      },
      "source": [
        "<a href=\"https://colab.research.google.com/github/moonmingyu/sm-/blob/master/ch5/ch5_05_internal_functions.ipynb\" target=\"_parent\"><img src=\"https://colab.research.google.com/assets/colab-badge.svg\" alt=\"Open In Colab\"/></a>"
      ]
    },
    {
      "cell_type": "markdown",
      "metadata": {
        "id": "WV-HPHYwhwW9",
        "colab_type": "text"
      },
      "source": [
        "# **내장 함수**"
      ]
    },
    {
      "cell_type": "markdown",
      "metadata": {
        "id": "N-pRYxxDh3jJ",
        "colab_type": "text"
      },
      "source": [
        "** 파이썬 내장 함수는 미리 준비된 내부 모듈외부 모듈과 달리 import가 필요하지 않다.**"
      ]
    },
    {
      "cell_type": "markdown",
      "metadata": {
        "id": "FzmH9nW46i1I",
        "colab_type": "text"
      },
      "source": [
        "## **abs()**"
      ]
    },
    {
      "cell_type": "markdown",
      "metadata": {
        "id": "VBFo2UGl6ng3",
        "colab_type": "text"
      },
      "source": [
        "abs(x)는 어떤 숫자를 입력받았을 때, 그 숫자의 절댓값을 돌려주는 함수"
      ]
    },
    {
      "cell_type": "code",
      "metadata": {
        "id": "iPEqCLyDge8h",
        "colab_type": "code",
        "colab": {
          "base_uri": "https://localhost:8080/",
          "height": 34
        },
        "outputId": "5a2cb988-e11a-4988-efd7-0b31b42e1fb8"
      },
      "source": [
        "abs(3)"
      ],
      "execution_count": 2,
      "outputs": [
        {
          "output_type": "execute_result",
          "data": {
            "text/plain": [
              "3"
            ]
          },
          "metadata": {
            "tags": []
          },
          "execution_count": 2
        }
      ]
    },
    {
      "cell_type": "code",
      "metadata": {
        "id": "dgCmFsJxgf_Q",
        "colab_type": "code",
        "colab": {
          "base_uri": "https://localhost:8080/",
          "height": 34
        },
        "outputId": "20bbd5e6-00f2-400f-99d4-f82aca1a4cac"
      },
      "source": [
        "abs(-3)"
      ],
      "execution_count": 3,
      "outputs": [
        {
          "output_type": "execute_result",
          "data": {
            "text/plain": [
              "3"
            ]
          },
          "metadata": {
            "tags": []
          },
          "execution_count": 3
        }
      ]
    },
    {
      "cell_type": "code",
      "metadata": {
        "id": "pn1cA1L4ggs9",
        "colab_type": "code",
        "colab": {
          "base_uri": "https://localhost:8080/",
          "height": 34
        },
        "outputId": "6a5fa81a-a00a-4480-c788-03cebfee5532"
      },
      "source": [
        "abs(-1.2)"
      ],
      "execution_count": 5,
      "outputs": [
        {
          "output_type": "execute_result",
          "data": {
            "text/plain": [
              "1.2"
            ]
          },
          "metadata": {
            "tags": []
          },
          "execution_count": 5
        }
      ]
    },
    {
      "cell_type": "markdown",
      "metadata": {
        "id": "xZWZgjb96vzV",
        "colab_type": "text"
      },
      "source": [
        "## **all()**"
      ]
    },
    {
      "cell_type": "markdown",
      "metadata": {
        "id": "HGVJKVhl6zQ6",
        "colab_type": "text"
      },
      "source": [
        "중요 **\n",
        "\n",
        "all(x)는 반복 가능한(iterable) 자료형 x를 입력 인수로 받으며 이 x가 모두 참이면 True, 거짓이 하나라도 있으면 False를 돌려준다."
      ]
    },
    {
      "cell_type": "code",
      "metadata": {
        "id": "idXybsUUgsfk",
        "colab_type": "code",
        "colab": {
          "base_uri": "https://localhost:8080/",
          "height": 34
        },
        "outputId": "192ab7a8-b69b-4304-f308-abf64efb72cc"
      },
      "source": [
        "all([1, 2, 3])"
      ],
      "execution_count": 53,
      "outputs": [
        {
          "output_type": "execute_result",
          "data": {
            "text/plain": [
              "True"
            ]
          },
          "metadata": {
            "tags": []
          },
          "execution_count": 53
        }
      ]
    },
    {
      "cell_type": "code",
      "metadata": {
        "id": "_58QZzUygpd8",
        "colab_type": "code",
        "colab": {
          "base_uri": "https://localhost:8080/",
          "height": 34
        },
        "outputId": "71209271-3fb6-465c-c6a2-a737b4b7837b"
      },
      "source": [
        "all([0, 1, 2, 3])"
      ],
      "execution_count": 52,
      "outputs": [
        {
          "output_type": "execute_result",
          "data": {
            "text/plain": [
              "False"
            ]
          },
          "metadata": {
            "tags": []
          },
          "execution_count": 52
        }
      ]
    },
    {
      "cell_type": "code",
      "metadata": {
        "id": "GoQk5i1cgWxy",
        "colab_type": "code",
        "colab": {
          "base_uri": "https://localhost:8080/",
          "height": 34
        },
        "outputId": "4ca2a3f8-3a80-4cc8-e324-13e8e5fdfd26"
      },
      "source": [
        "# 참고\n",
        "bool([0, 1, 2, 3]), bool([0]), bool((0)), bool((0,))"
      ],
      "execution_count": 10,
      "outputs": [
        {
          "output_type": "execute_result",
          "data": {
            "text/plain": [
              "(True, True, False, True)"
            ]
          },
          "metadata": {
            "tags": []
          },
          "execution_count": 10
        }
      ]
    },
    {
      "cell_type": "markdown",
      "metadata": {
        "id": "ijDXFF8r6_RQ",
        "colab_type": "text"
      },
      "source": [
        "## **any()**"
      ]
    },
    {
      "cell_type": "markdown",
      "metadata": {
        "id": "iFYrClgH7Buk",
        "colab_type": "text"
      },
      "source": [
        "중요 **\n",
        "\n",
        "any(x)는 x 중 하나라도 참이 있으면 True를 돌려주고, x가 모두 거짓일 때에만 False를 돌려준다. all(x)의 반대이다."
      ]
    },
    {
      "cell_type": "code",
      "metadata": {
        "id": "YuwR5veShP1U",
        "colab_type": "code",
        "colab": {
          "base_uri": "https://localhost:8080/",
          "height": 34
        },
        "outputId": "39fdf366-b3c2-41d0-ff46-3f083b258f25"
      },
      "source": [
        "any([0, 1, 2, 3])"
      ],
      "execution_count": 54,
      "outputs": [
        {
          "output_type": "execute_result",
          "data": {
            "text/plain": [
              "True"
            ]
          },
          "metadata": {
            "tags": []
          },
          "execution_count": 54
        }
      ]
    },
    {
      "cell_type": "code",
      "metadata": {
        "id": "FxDgmF_uhL-L",
        "colab_type": "code",
        "colab": {
          "base_uri": "https://localhost:8080/",
          "height": 34
        },
        "outputId": "3cb1d457-a288-43af-be37-395f456df630"
      },
      "source": [
        "any([0, \"\"])"
      ],
      "execution_count": 55,
      "outputs": [
        {
          "output_type": "execute_result",
          "data": {
            "text/plain": [
              "False"
            ]
          },
          "metadata": {
            "tags": []
          },
          "execution_count": 55
        }
      ]
    },
    {
      "cell_type": "markdown",
      "metadata": {
        "id": "dsXrh3di7KQ0",
        "colab_type": "text"
      },
      "source": [
        "## **chr()**"
      ]
    },
    {
      "cell_type": "markdown",
      "metadata": {
        "id": "3qFs2Mzb7Met",
        "colab_type": "text"
      },
      "source": [
        "chr(i)는 아스키(ASCII) 코드 값을 입력받아 그 코드에 해당하는 문자를 출력하는 함수이다."
      ]
    },
    {
      "cell_type": "code",
      "metadata": {
        "id": "GJKadtbYg0ho",
        "colab_type": "code",
        "colab": {
          "base_uri": "https://localhost:8080/",
          "height": 34
        },
        "outputId": "4f79f55a-9108-46d0-a9ff-3dee806368ce"
      },
      "source": [
        "chr(97)"
      ],
      "execution_count": 56,
      "outputs": [
        {
          "output_type": "execute_result",
          "data": {
            "text/plain": [
              "'a'"
            ]
          },
          "metadata": {
            "tags": []
          },
          "execution_count": 56
        }
      ]
    },
    {
      "cell_type": "code",
      "metadata": {
        "id": "yFleSis_hJWL",
        "colab_type": "code",
        "colab": {
          "base_uri": "https://localhost:8080/",
          "height": 34
        },
        "outputId": "01084dae-e2be-4883-caf2-0e11e609febf"
      },
      "source": [
        "chr(48)"
      ],
      "execution_count": 57,
      "outputs": [
        {
          "output_type": "execute_result",
          "data": {
            "text/plain": [
              "'0'"
            ]
          },
          "metadata": {
            "tags": []
          },
          "execution_count": 57
        }
      ]
    },
    {
      "cell_type": "markdown",
      "metadata": {
        "id": "JUogvHrirNk5",
        "colab_type": "text"
      },
      "source": [
        "## **dir()**"
      ]
    },
    {
      "cell_type": "markdown",
      "metadata": {
        "id": "N5Pj4VYHrPal",
        "colab_type": "text"
      },
      "source": [
        "중요 *\n",
        "\n",
        "dir은 객체가 자체적으로 가지고 있는 변수나 함수를 보여 준다"
      ]
    },
    {
      "cell_type": "code",
      "metadata": {
        "id": "OekFPUL6g1Vp",
        "colab_type": "code",
        "colab": {
          "base_uri": "https://localhost:8080/",
          "height": 852
        },
        "outputId": "56a96243-5cf2-48aa-ab66-ce544b163178"
      },
      "source": [
        "dir([1, 2, 3])  # list object"
      ],
      "execution_count": 9,
      "outputs": [
        {
          "output_type": "stream",
          "text": [
            "dir()\n"
          ],
          "name": "stdout"
        },
        {
          "output_type": "execute_result",
          "data": {
            "text/plain": [
              "['__add__',\n",
              " '__class__',\n",
              " '__contains__',\n",
              " '__delattr__',\n",
              " '__delitem__',\n",
              " '__dir__',\n",
              " '__doc__',\n",
              " '__eq__',\n",
              " '__format__',\n",
              " '__ge__',\n",
              " '__getattribute__',\n",
              " '__getitem__',\n",
              " '__gt__',\n",
              " '__hash__',\n",
              " '__iadd__',\n",
              " '__imul__',\n",
              " '__init__',\n",
              " '__init_subclass__',\n",
              " '__iter__',\n",
              " '__le__',\n",
              " '__len__',\n",
              " '__lt__',\n",
              " '__mul__',\n",
              " '__ne__',\n",
              " '__new__',\n",
              " '__reduce__',\n",
              " '__reduce_ex__',\n",
              " '__repr__',\n",
              " '__reversed__',\n",
              " '__rmul__',\n",
              " '__setattr__',\n",
              " '__setitem__',\n",
              " '__sizeof__',\n",
              " '__str__',\n",
              " '__subclasshook__',\n",
              " 'append',\n",
              " 'clear',\n",
              " 'copy',\n",
              " 'count',\n",
              " 'extend',\n",
              " 'index',\n",
              " 'insert',\n",
              " 'pop',\n",
              " 'remove',\n",
              " 'reverse',\n",
              " 'sort']"
            ]
          },
          "metadata": {
            "tags": []
          },
          "execution_count": 9
        }
      ]
    },
    {
      "cell_type": "code",
      "metadata": {
        "id": "JaHdMXFtg_mJ",
        "colab_type": "code",
        "colab": {
          "base_uri": "https://localhost:8080/",
          "height": 727
        },
        "outputId": "8d35d657-afdf-41bf-f53f-8060e5550de2"
      },
      "source": [
        "dir({\"1\": \"a\"})  # dict object"
      ],
      "execution_count": 8,
      "outputs": [
        {
          "output_type": "execute_result",
          "data": {
            "text/plain": [
              "['__class__',\n",
              " '__contains__',\n",
              " '__delattr__',\n",
              " '__delitem__',\n",
              " '__dir__',\n",
              " '__doc__',\n",
              " '__eq__',\n",
              " '__format__',\n",
              " '__ge__',\n",
              " '__getattribute__',\n",
              " '__getitem__',\n",
              " '__gt__',\n",
              " '__hash__',\n",
              " '__init__',\n",
              " '__init_subclass__',\n",
              " '__iter__',\n",
              " '__le__',\n",
              " '__len__',\n",
              " '__lt__',\n",
              " '__ne__',\n",
              " '__new__',\n",
              " '__reduce__',\n",
              " '__reduce_ex__',\n",
              " '__repr__',\n",
              " '__setattr__',\n",
              " '__setitem__',\n",
              " '__sizeof__',\n",
              " '__str__',\n",
              " '__subclasshook__',\n",
              " 'clear',\n",
              " 'copy',\n",
              " 'fromkeys',\n",
              " 'get',\n",
              " 'items',\n",
              " 'keys',\n",
              " 'pop',\n",
              " 'popitem',\n",
              " 'setdefault',\n",
              " 'update',\n",
              " 'values']"
            ]
          },
          "metadata": {
            "tags": []
          },
          "execution_count": 8
        }
      ]
    },
    {
      "cell_type": "code",
      "metadata": {
        "id": "Ewz-kq-MhC3l",
        "colab_type": "code",
        "colab": {}
      },
      "source": [
        "type({\"1\": \"a\"})"
      ],
      "execution_count": 0,
      "outputs": []
    },
    {
      "cell_type": "markdown",
      "metadata": {
        "id": "i4EK1gDxpSRg",
        "colab_type": "text"
      },
      "source": [
        "## **divmod()**"
      ]
    },
    {
      "cell_type": "markdown",
      "metadata": {
        "id": "zZ1Ezr74pUP8",
        "colab_type": "text"
      },
      "source": [
        "divmod(a, b)는 2개의 숫자를 입력으로 받는다.\n",
        "\n",
        " 그리고 a를 b로 나눈 몫과 나머지를 튜플 형태로 돌려주는 함수"
      ]
    },
    {
      "cell_type": "code",
      "metadata": {
        "id": "s7biBVQ1g2b9",
        "colab_type": "code",
        "colab": {
          "base_uri": "https://localhost:8080/",
          "height": 52
        },
        "outputId": "d8ca96f3-435d-4504-c4b9-46cf170c23ba"
      },
      "source": [
        "divmod(7, 3)  # 결과값을 tuple로 반환"
      ],
      "execution_count": 12,
      "outputs": [
        {
          "output_type": "stream",
          "text": [
            "divmod()\n"
          ],
          "name": "stdout"
        },
        {
          "output_type": "execute_result",
          "data": {
            "text/plain": [
              "(2, 1)"
            ]
          },
          "metadata": {
            "tags": []
          },
          "execution_count": 12
        }
      ]
    },
    {
      "cell_type": "markdown",
      "metadata": {
        "id": "XUQjyZBKpFJm",
        "colab_type": "text"
      },
      "source": [
        "## **enumerate()**"
      ]
    },
    {
      "cell_type": "markdown",
      "metadata": {
        "id": "YQOPD75BpHcf",
        "colab_type": "text"
      },
      "source": [
        "중요 ***\n",
        "\n",
        "enumerate는 \"열거하다\"라는 뜻이다.\n",
        "\n",
        " 이 함수는 순서가 있는 자료형(리스트, 튜플, 문자열)을 입력으로 받아 인덱스 값을 포함하는 enumerate 객체를 돌려준다."
      ]
    },
    {
      "cell_type": "code",
      "metadata": {
        "id": "p1xduOGjg3bJ",
        "colab_type": "code",
        "colab": {
          "base_uri": "https://localhost:8080/",
          "height": 87
        },
        "outputId": "62ee362a-8b64-4964-a53e-3a9b664c37c7"
      },
      "source": [
        "for i, name in enumerate([\"body\", \"foo\", \"bar\"]):\n",
        "    print(i, name)"
      ],
      "execution_count": 13,
      "outputs": [
        {
          "output_type": "stream",
          "text": [
            "enumerate()\n",
            "0 body\n",
            "1 foo\n",
            "2 bar\n"
          ],
          "name": "stdout"
        }
      ]
    },
    {
      "cell_type": "markdown",
      "metadata": {
        "id": "jMF89ViKo13G",
        "colab_type": "text"
      },
      "source": [
        "## **eval()**"
      ]
    },
    {
      "cell_type": "markdown",
      "metadata": {
        "id": "0tRidmZJo3iV",
        "colab_type": "text"
      },
      "source": [
        "eval(expression )은 실행 가능한 문자열(1+2, 'hi' + 'a' 같은 것)을 입력으로 받아 문자열을 실행한 결괏값을 돌려주는 함수"
      ]
    },
    {
      "cell_type": "code",
      "metadata": {
        "id": "mRUo6akag4QH",
        "colab_type": "code",
        "colab": {}
      },
      "source": [
        "eval(\"1+2\")\n",
        "eval(\"'hi' + 'a'\")\n",
        "eval(\"divmod(4, 3)\")"
      ],
      "execution_count": 0,
      "outputs": []
    },
    {
      "cell_type": "markdown",
      "metadata": {
        "id": "dsF-ZAGbiG-l",
        "colab_type": "text"
      },
      "source": [
        "## filter()"
      ]
    },
    {
      "cell_type": "markdown",
      "metadata": {
        "id": "KbLqgCKjjA4d",
        "colab_type": "text"
      },
      "source": [
        "중요 ***\n",
        "\n",
        " filter 함수는 첫 번째 인수로 함수 이름을,\n",
        "\n",
        " 두 번째 인수로 그 함수에 차례로 들어갈 반복 가능한 자료형을 받는다.\n",
        "\n",
        " 그리고 두 번째 인수인 반복 가능한 자료형 요소가 첫 번째 인수인\n",
        "\n",
        " 함수에 입력되었을 때 반환 값이 참인 것만 묶어서(걸러 내서) 돌려준다."
      ]
    },
    {
      "cell_type": "code",
      "metadata": {
        "id": "QMrxkximiV9T",
        "colab_type": "code",
        "colab": {
          "base_uri": "https://localhost:8080/",
          "height": 34
        },
        "outputId": "a4c3c88f-d23b-4a74-ce34-d0a7f696f2ba"
      },
      "source": [
        "# positive.py\n",
        "def positive(l):\n",
        "    result = []\n",
        "    for i in l:\n",
        "        if i > 0:\n",
        "            result.append(i)\n",
        "    return result\n",
        "\n",
        "\n",
        "print(positive([1, -3, 2, 0, -5, 6]))"
      ],
      "execution_count": 14,
      "outputs": [
        {
          "output_type": "stream",
          "text": [
            "[1, 2, 6]\n"
          ],
          "name": "stdout"
        }
      ]
    },
    {
      "cell_type": "markdown",
      "metadata": {
        "id": "FfVIhlyJ7U8a",
        "colab_type": "text"
      },
      "source": [
        "**filter() 함수 이용**"
      ]
    },
    {
      "cell_type": "code",
      "metadata": {
        "id": "3n7FkDTFimTk",
        "colab_type": "code",
        "colab": {
          "base_uri": "https://localhost:8080/",
          "height": 34
        },
        "outputId": "b183f5e6-29fe-4564-dda7-5e72273107f4"
      },
      "source": [
        "def positive(x):\n",
        "    return x > 0\n",
        "list(filter(positive, [1, -3, 2, 0, -5, 6]))"
      ],
      "execution_count": 15,
      "outputs": [
        {
          "output_type": "execute_result",
          "data": {
            "text/plain": [
              "[1, 2, 6]"
            ]
          },
          "metadata": {
            "tags": []
          },
          "execution_count": 15
        }
      ]
    },
    {
      "cell_type": "markdown",
      "metadata": {
        "id": "WiFO5Cas7YVt",
        "colab_type": "text"
      },
      "source": [
        "**lambda를 사용하면 더욱 간편하게 코드를 작성할 수 있다.**"
      ]
    },
    {
      "cell_type": "code",
      "metadata": {
        "id": "k1qiWJiDiW-H",
        "colab_type": "code",
        "colab": {
          "base_uri": "https://localhost:8080/",
          "height": 34
        },
        "outputId": "4b540c97-732a-4c43-c4ca-1f89eea9b345"
      },
      "source": [
        "list(filter(lambda x: x > 0, [1, -3, 2, 0, -5, 6]))"
      ],
      "execution_count": 16,
      "outputs": [
        {
          "output_type": "execute_result",
          "data": {
            "text/plain": [
              "[1, 2, 6]"
            ]
          },
          "metadata": {
            "tags": []
          },
          "execution_count": 16
        }
      ]
    },
    {
      "cell_type": "markdown",
      "metadata": {
        "id": "KfD6LBTii4lO",
        "colab_type": "text"
      },
      "source": [
        "## **hex()**"
      ]
    },
    {
      "cell_type": "markdown",
      "metadata": {
        "id": "maxqmMasjUJW",
        "colab_type": "text"
      },
      "source": [
        " hex(x)는 정수 값을 입력받아 16진수(hexadecimal)로\n",
        " \n",
        " 변환하여 돌려주는 함수"
      ]
    },
    {
      "cell_type": "code",
      "metadata": {
        "id": "ZM6q2KISiYlK",
        "colab_type": "code",
        "colab": {
          "base_uri": "https://localhost:8080/",
          "height": 34
        },
        "outputId": "ba9e92a1-a1a6-4892-a542-9c5c98e2c8d5"
      },
      "source": [
        "hex(10)"
      ],
      "execution_count": 19,
      "outputs": [
        {
          "output_type": "execute_result",
          "data": {
            "text/plain": [
              "'0xa'"
            ]
          },
          "metadata": {
            "tags": []
          },
          "execution_count": 19
        }
      ]
    },
    {
      "cell_type": "code",
      "metadata": {
        "id": "UHb8GLF_iz4w",
        "colab_type": "code",
        "colab": {
          "base_uri": "https://localhost:8080/",
          "height": 34
        },
        "outputId": "30c5e7c5-d163-4b12-8e3f-c2bcb210ceb9"
      },
      "source": [
        "hex(234)"
      ],
      "execution_count": 18,
      "outputs": [
        {
          "output_type": "execute_result",
          "data": {
            "text/plain": [
              "'0xea'"
            ]
          },
          "metadata": {
            "tags": []
          },
          "execution_count": 18
        }
      ]
    },
    {
      "cell_type": "markdown",
      "metadata": {
        "id": "syFKg5mvjh0-",
        "colab_type": "text"
      },
      "source": [
        "## **id()**"
      ]
    },
    {
      "cell_type": "markdown",
      "metadata": {
        "id": "4Jsix4h7jkp9",
        "colab_type": "text"
      },
      "source": [
        "중요 **\n",
        "\n",
        "**d(object)는 객체를 입력받아 객체의 고유 주소 값(레퍼런스)을 돌려주는 함수**"
      ]
    },
    {
      "cell_type": "code",
      "metadata": {
        "id": "mN6oWO7ViyRm",
        "colab_type": "code",
        "colab": {
          "base_uri": "https://localhost:8080/",
          "height": 34
        },
        "outputId": "32602d7d-5639-4ee8-c466-fd1bd58be39d"
      },
      "source": [
        "a = 3\n",
        "id(3)"
      ],
      "execution_count": 24,
      "outputs": [
        {
          "output_type": "execute_result",
          "data": {
            "text/plain": [
              "10914560"
            ]
          },
          "metadata": {
            "tags": []
          },
          "execution_count": 24
        }
      ]
    },
    {
      "cell_type": "code",
      "metadata": {
        "id": "5qFeKRqEj0J4",
        "colab_type": "code",
        "colab": {
          "base_uri": "https://localhost:8080/",
          "height": 34
        },
        "outputId": "041447aa-a615-423e-bdc1-908f9debab62"
      },
      "source": [
        "id(a)"
      ],
      "execution_count": 25,
      "outputs": [
        {
          "output_type": "execute_result",
          "data": {
            "text/plain": [
              "10914560"
            ]
          },
          "metadata": {
            "tags": []
          },
          "execution_count": 25
        }
      ]
    },
    {
      "cell_type": "code",
      "metadata": {
        "id": "HW4kp-1aj1M1",
        "colab_type": "code",
        "colab": {
          "base_uri": "https://localhost:8080/",
          "height": 34
        },
        "outputId": "9b371f5d-9055-4e49-d855-797f80eb403b"
      },
      "source": [
        "b = a\n",
        "id(b)"
      ],
      "execution_count": 26,
      "outputs": [
        {
          "output_type": "execute_result",
          "data": {
            "text/plain": [
              "10914560"
            ]
          },
          "metadata": {
            "tags": []
          },
          "execution_count": 26
        }
      ]
    },
    {
      "cell_type": "code",
      "metadata": {
        "id": "NBe0MCjcj2Er",
        "colab_type": "code",
        "colab": {
          "base_uri": "https://localhost:8080/",
          "height": 34
        },
        "outputId": "2eb1f25c-3213-4d38-9353-bfc759dca749"
      },
      "source": [
        "id(4)  # different address"
      ],
      "execution_count": 27,
      "outputs": [
        {
          "output_type": "execute_result",
          "data": {
            "text/plain": [
              "10914592"
            ]
          },
          "metadata": {
            "tags": []
          },
          "execution_count": 27
        }
      ]
    },
    {
      "cell_type": "markdown",
      "metadata": {
        "id": "y26MY7ZPoof0",
        "colab_type": "text"
      },
      "source": [
        "## **input()**"
      ]
    },
    {
      "cell_type": "markdown",
      "metadata": {
        "id": "UmQG9ZMyoqbt",
        "colab_type": "text"
      },
      "source": [
        "input([prompt])은 사용자 입력을 받는 함수이다.\n",
        "\n",
        "매개변수로 문자열을 주면, 그 문자열은 프롬프트가 된다."
      ]
    },
    {
      "cell_type": "code",
      "metadata": {
        "id": "_q_8A4e7jupm",
        "colab_type": "code",
        "colab": {
          "base_uri": "https://localhost:8080/",
          "height": 70
        },
        "outputId": "2bcaccdc-675e-4528-8035-8b84d8f12a1d"
      },
      "source": [
        "a = input()\n",
        "b = input(\"Enter: \")\n",
        "b"
      ],
      "execution_count": 51,
      "outputs": [
        {
          "output_type": "stream",
          "text": [
            "123\n",
            "Enter: 123\n"
          ],
          "name": "stdout"
        },
        {
          "output_type": "execute_result",
          "data": {
            "text/plain": [
              "'123'"
            ]
          },
          "metadata": {
            "tags": []
          },
          "execution_count": 51
        }
      ]
    },
    {
      "cell_type": "markdown",
      "metadata": {
        "id": "TdQefa3xofkI",
        "colab_type": "text"
      },
      "source": [
        "## **int()**"
      ]
    },
    {
      "cell_type": "markdown",
      "metadata": {
        "id": "d8SQPd2zohDN",
        "colab_type": "text"
      },
      "source": [
        "int(x)는 문자열 형태의 숫자나 소수점이 있는 숫자 등을 정수 형태로 돌려주는 함수"
      ]
    },
    {
      "cell_type": "code",
      "metadata": {
        "id": "IKGyeOs-kEPI",
        "colab_type": "code",
        "colab": {}
      },
      "source": [
        "int(3)"
      ],
      "execution_count": 0,
      "outputs": []
    },
    {
      "cell_type": "code",
      "metadata": {
        "id": "PbaS_NpA7m4K",
        "colab_type": "code",
        "colab": {}
      },
      "source": [
        "int(\"3\")"
      ],
      "execution_count": 0,
      "outputs": []
    },
    {
      "cell_type": "code",
      "metadata": {
        "id": "q_oXAPC47nnf",
        "colab_type": "code",
        "colab": {}
      },
      "source": [
        "int(3.14)"
      ],
      "execution_count": 0,
      "outputs": []
    },
    {
      "cell_type": "markdown",
      "metadata": {
        "id": "PxanVsVE7rrW",
        "colab_type": "text"
      },
      "source": [
        "int(x, radix)는 radix 진수로 표현된 문자열 x를 10진수로 변환"
      ]
    },
    {
      "cell_type": "code",
      "metadata": {
        "id": "dtVZJwEQ7q21",
        "colab_type": "code",
        "colab": {}
      },
      "source": [
        "int(\"11\", 2)"
      ],
      "execution_count": 0,
      "outputs": []
    },
    {
      "cell_type": "code",
      "metadata": {
        "id": "8l7aDV1k7tjU",
        "colab_type": "code",
        "colab": {}
      },
      "source": [
        "int(11, 2)  # TypeError:"
      ],
      "execution_count": 0,
      "outputs": []
    },
    {
      "cell_type": "code",
      "metadata": {
        "id": "SzN83Iba7t_s",
        "colab_type": "code",
        "colab": {
          "base_uri": "https://localhost:8080/",
          "height": 34
        },
        "outputId": "388fe3d4-a0cf-4558-9aae-17179fb086f2"
      },
      "source": [
        "int(\"F\", 16)"
      ],
      "execution_count": 58,
      "outputs": [
        {
          "output_type": "execute_result",
          "data": {
            "text/plain": [
              "15"
            ]
          },
          "metadata": {
            "tags": []
          },
          "execution_count": 58
        }
      ]
    },
    {
      "cell_type": "markdown",
      "metadata": {
        "id": "_Ej4xn7EkkBO",
        "colab_type": "text"
      },
      "source": [
        "## **isinstance()**"
      ]
    },
    {
      "cell_type": "markdown",
      "metadata": {
        "id": "l6-YS2SXko4t",
        "colab_type": "text"
      },
      "source": [
        " isinstance(object, class )는 첫 번째 인수로 인스턴스, 두 번째 인수로 클래스 이름을 받는다.\n",
        " \n",
        " 입력으로 받은 인스턴스가 그 클래스의 인스턴스인지를 판단하여 참이면 True, 거짓이면 False를 돌려준다."
      ]
    },
    {
      "cell_type": "code",
      "metadata": {
        "id": "EUTKituCkFWB",
        "colab_type": "code",
        "colab": {
          "base_uri": "https://localhost:8080/",
          "height": 34
        },
        "outputId": "7b11f9b4-a19f-42e5-cd04-36f5979d8cbf"
      },
      "source": [
        "class Person:\n",
        "    pass\n",
        "\n",
        "\n",
        "a = Person()\n",
        "isinstance(a, Person)"
      ],
      "execution_count": 29,
      "outputs": [
        {
          "output_type": "execute_result",
          "data": {
            "text/plain": [
              "True"
            ]
          },
          "metadata": {
            "tags": []
          },
          "execution_count": 29
        }
      ]
    },
    {
      "cell_type": "code",
      "metadata": {
        "id": "c-uSTBhek3K_",
        "colab_type": "code",
        "colab": {
          "base_uri": "https://localhost:8080/",
          "height": 34
        },
        "outputId": "7b38daee-e7df-4201-c153-11cb0755b217"
      },
      "source": [
        "b = 3\n",
        "isinstance(b, Person)"
      ],
      "execution_count": 30,
      "outputs": [
        {
          "output_type": "execute_result",
          "data": {
            "text/plain": [
              "False"
            ]
          },
          "metadata": {
            "tags": []
          },
          "execution_count": 30
        }
      ]
    },
    {
      "cell_type": "markdown",
      "metadata": {
        "id": "6-1RWy_toaYf",
        "colab_type": "text"
      },
      "source": [
        "## **len()**"
      ]
    },
    {
      "cell_type": "markdown",
      "metadata": {
        "id": "FYmAEhYgocMl",
        "colab_type": "text"
      },
      "source": [
        "len(s)은 입력값 s의 길이(요소의 전체 개수)를 돌려주는 함수이다."
      ]
    },
    {
      "cell_type": "code",
      "metadata": {
        "id": "hNZ0RS54kGNU",
        "colab_type": "code",
        "colab": {
          "base_uri": "https://localhost:8080/",
          "height": 34
        },
        "outputId": "436ee048-fac1-4828-8236-07168c7e6702"
      },
      "source": [
        "len(\"python\")"
      ],
      "execution_count": 59,
      "outputs": [
        {
          "output_type": "execute_result",
          "data": {
            "text/plain": [
              "6"
            ]
          },
          "metadata": {
            "tags": []
          },
          "execution_count": 59
        }
      ]
    },
    {
      "cell_type": "code",
      "metadata": {
        "id": "-SR6C9VT7x3B",
        "colab_type": "code",
        "colab": {
          "base_uri": "https://localhost:8080/",
          "height": 34
        },
        "outputId": "1fad2da5-0a18-4519-9c48-7f0f6d109113"
      },
      "source": [
        "len([1, 2, 3])"
      ],
      "execution_count": 60,
      "outputs": [
        {
          "output_type": "execute_result",
          "data": {
            "text/plain": [
              "3"
            ]
          },
          "metadata": {
            "tags": []
          },
          "execution_count": 60
        }
      ]
    },
    {
      "cell_type": "code",
      "metadata": {
        "id": "tbmvXuFB7yb4",
        "colab_type": "code",
        "colab": {
          "base_uri": "https://localhost:8080/",
          "height": 34
        },
        "outputId": "35bb3438-4d84-4d20-fdce-33b68f37c40c"
      },
      "source": [
        "len((1, \"a\"))"
      ],
      "execution_count": 61,
      "outputs": [
        {
          "output_type": "execute_result",
          "data": {
            "text/plain": [
              "2"
            ]
          },
          "metadata": {
            "tags": []
          },
          "execution_count": 61
        }
      ]
    },
    {
      "cell_type": "code",
      "metadata": {
        "id": "t72ZZBGx7y6k",
        "colab_type": "code",
        "colab": {}
      },
      "source": [
        "len({a: 3})"
      ],
      "execution_count": 0,
      "outputs": []
    },
    {
      "cell_type": "markdown",
      "metadata": {
        "id": "OG8hPJ13k-kN",
        "colab_type": "text"
      },
      "source": [
        "## **list()**"
      ]
    },
    {
      "cell_type": "markdown",
      "metadata": {
        "id": "j42_YtWqlBLl",
        "colab_type": "text"
      },
      "source": [
        " list(s)는 반복 가능한 자료형 s를 입력받아 리스트로 만들어 돌려주는 함수"
      ]
    },
    {
      "cell_type": "code",
      "metadata": {
        "id": "fL9echlzkM-J",
        "colab_type": "code",
        "colab": {
          "base_uri": "https://localhost:8080/",
          "height": 34
        },
        "outputId": "aac2afd2-5704-4821-9190-cacb11a34447"
      },
      "source": [
        "list(\"python\")"
      ],
      "execution_count": 63,
      "outputs": [
        {
          "output_type": "execute_result",
          "data": {
            "text/plain": [
              "['p', 'y', 't', 'h', 'o', 'n']"
            ]
          },
          "metadata": {
            "tags": []
          },
          "execution_count": 63
        }
      ]
    },
    {
      "cell_type": "code",
      "metadata": {
        "id": "1yvJ9pEZ73VG",
        "colab_type": "code",
        "colab": {
          "base_uri": "https://localhost:8080/",
          "height": 34
        },
        "outputId": "e63cc735-3efb-429b-d52d-6171a0189dbf"
      },
      "source": [
        "list((1, 2, 3))"
      ],
      "execution_count": 64,
      "outputs": [
        {
          "output_type": "execute_result",
          "data": {
            "text/plain": [
              "[1, 2, 3]"
            ]
          },
          "metadata": {
            "tags": []
          },
          "execution_count": 64
        }
      ]
    },
    {
      "cell_type": "markdown",
      "metadata": {
        "id": "AmrUMwjLlJFU",
        "colab_type": "text"
      },
      "source": [
        "## **map()**"
      ]
    },
    {
      "cell_type": "markdown",
      "metadata": {
        "id": "r49sM7d7lLfk",
        "colab_type": "text"
      },
      "source": [
        "중요 ***\n",
        "\n",
        " map(f, iterable)은 함수(f)와 반복 가능한(iterable) 자료형을 입력으로 받는다.\n",
        "\n",
        " map은 입력받은 자료형의 각 요소를 함수 f가 수행한 결과를 묶어서 돌려주는 함수"
      ]
    },
    {
      "cell_type": "code",
      "metadata": {
        "id": "WLaOfiN2kOhi",
        "colab_type": "code",
        "colab": {
          "base_uri": "https://localhost:8080/",
          "height": 34
        },
        "outputId": "0e43e88c-89bc-4d95-c14d-d80cd8f6c31b"
      },
      "source": [
        "# two_times.py\n",
        "def two_times(numberList):\n",
        "    result = []\n",
        "    for number in numberList:\n",
        "        result.append(number * 2)\n",
        "    return result\n",
        "\n",
        "\n",
        "result = two_times([1, 2, 3, 4])\n",
        "print(result)"
      ],
      "execution_count": 32,
      "outputs": [
        {
          "output_type": "stream",
          "text": [
            "[2, 4, 6, 8]\n"
          ],
          "name": "stdout"
        }
      ]
    },
    {
      "cell_type": "markdown",
      "metadata": {
        "id": "iq_6qIJP78uG",
        "colab_type": "text"
      },
      "source": [
        "**map 함수를 사용**"
      ]
    },
    {
      "cell_type": "code",
      "metadata": {
        "id": "_Dl5ibD8lU4B",
        "colab_type": "code",
        "colab": {
          "base_uri": "https://localhost:8080/",
          "height": 34
        },
        "outputId": "afeb21d9-a061-42df-e35a-5486c7a7a0d2"
      },
      "source": [
        "def two_times(x):\n",
        "    return x * 2\n",
        "\n",
        "\n",
        "list(map(two_times, [1, 2, 3, 4]))"
      ],
      "execution_count": 31,
      "outputs": [
        {
          "output_type": "execute_result",
          "data": {
            "text/plain": [
              "[2, 4, 6, 8]"
            ]
          },
          "metadata": {
            "tags": []
          },
          "execution_count": 31
        }
      ]
    },
    {
      "cell_type": "markdown",
      "metadata": {
        "id": "rjlqJX918A7M",
        "colab_type": "text"
      },
      "source": [
        "**lambda를 사용**"
      ]
    },
    {
      "cell_type": "code",
      "metadata": {
        "id": "--dpFlbClWdS",
        "colab_type": "code",
        "colab": {
          "base_uri": "https://localhost:8080/",
          "height": 34
        },
        "outputId": "1da935e6-4949-4a4c-b935-47d4e86bba51"
      },
      "source": [
        "list(map(lambda a: a * 2, [1, 2, 3, 4]))"
      ],
      "execution_count": 33,
      "outputs": [
        {
          "output_type": "execute_result",
          "data": {
            "text/plain": [
              "[2, 4, 6, 8]"
            ]
          },
          "metadata": {
            "tags": []
          },
          "execution_count": 33
        }
      ]
    },
    {
      "cell_type": "markdown",
      "metadata": {
        "id": "pSjyzHZ-ldbd",
        "colab_type": "text"
      },
      "source": [
        "## **max()**"
      ]
    },
    {
      "cell_type": "markdown",
      "metadata": {
        "id": "RvnIiwD-ljxW",
        "colab_type": "text"
      },
      "source": [
        " max(iterable)는 인수로 반복 가능한 자료형을 입력받아 그 최댓값을 돌려주는 함수"
      ]
    },
    {
      "cell_type": "code",
      "metadata": {
        "id": "iEARpH5ukQIq",
        "colab_type": "code",
        "colab": {
          "base_uri": "https://localhost:8080/",
          "height": 34
        },
        "outputId": "00454fb3-5165-4606-e010-537876baaf62"
      },
      "source": [
        "max([1, 2, 3])"
      ],
      "execution_count": 34,
      "outputs": [
        {
          "output_type": "execute_result",
          "data": {
            "text/plain": [
              "3"
            ]
          },
          "metadata": {
            "tags": []
          },
          "execution_count": 34
        }
      ]
    },
    {
      "cell_type": "code",
      "metadata": {
        "id": "90tbjDLNlp_c",
        "colab_type": "code",
        "colab": {
          "base_uri": "https://localhost:8080/",
          "height": 34
        },
        "outputId": "53b563e0-1f9d-4ce7-d8af-f4e8d22b289e"
      },
      "source": [
        "max(\"python\")"
      ],
      "execution_count": 35,
      "outputs": [
        {
          "output_type": "execute_result",
          "data": {
            "text/plain": [
              "'y'"
            ]
          },
          "metadata": {
            "tags": []
          },
          "execution_count": 35
        }
      ]
    },
    {
      "cell_type": "code",
      "metadata": {
        "id": "rX9U378mlqlh",
        "colab_type": "code",
        "colab": {
          "base_uri": "https://localhost:8080/",
          "height": 34
        },
        "outputId": "bd02d13f-9ade-4bb3-eaeb-3d6e7fe2c236"
      },
      "source": [
        "max(list(range(10)))"
      ],
      "execution_count": 36,
      "outputs": [
        {
          "output_type": "execute_result",
          "data": {
            "text/plain": [
              "9"
            ]
          },
          "metadata": {
            "tags": []
          },
          "execution_count": 36
        }
      ]
    },
    {
      "cell_type": "code",
      "metadata": {
        "id": "oMtfZSjOlr6B",
        "colab_type": "code",
        "colab": {
          "base_uri": "https://localhost:8080/",
          "height": 34
        },
        "outputId": "64009412-38f3-4fc4-e237-89ce0d2dcadd"
      },
      "source": [
        "max(range(10))"
      ],
      "execution_count": 37,
      "outputs": [
        {
          "output_type": "execute_result",
          "data": {
            "text/plain": [
              "9"
            ]
          },
          "metadata": {
            "tags": []
          },
          "execution_count": 37
        }
      ]
    },
    {
      "cell_type": "markdown",
      "metadata": {
        "id": "fLb0Dabyl2Qu",
        "colab_type": "text"
      },
      "source": [
        "## **min()**"
      ]
    },
    {
      "cell_type": "markdown",
      "metadata": {
        "id": "rOt1HPTSl5ic",
        "colab_type": "text"
      },
      "source": [
        " min(iterable)은 max 함수와 반대로, 인수로 반복 가능한 자료형을 입력받아 그 최솟값을 돌려주는 함수"
      ]
    },
    {
      "cell_type": "code",
      "metadata": {
        "id": "C94OeYgBkRER",
        "colab_type": "code",
        "colab": {
          "base_uri": "https://localhost:8080/",
          "height": 34
        },
        "outputId": "dacedba7-b404-4623-e9df-861db46ac1ad"
      },
      "source": [
        "min([1, 2, 3])"
      ],
      "execution_count": 38,
      "outputs": [
        {
          "output_type": "execute_result",
          "data": {
            "text/plain": [
              "1"
            ]
          },
          "metadata": {
            "tags": []
          },
          "execution_count": 38
        }
      ]
    },
    {
      "cell_type": "code",
      "metadata": {
        "id": "oVCUZ_fOl898",
        "colab_type": "code",
        "colab": {
          "base_uri": "https://localhost:8080/",
          "height": 34
        },
        "outputId": "962fdc0b-c452-4dd6-c067-a83510336ee0"
      },
      "source": [
        "min(\"python\")"
      ],
      "execution_count": 40,
      "outputs": [
        {
          "output_type": "execute_result",
          "data": {
            "text/plain": [
              "'h'"
            ]
          },
          "metadata": {
            "tags": []
          },
          "execution_count": 40
        }
      ]
    },
    {
      "cell_type": "code",
      "metadata": {
        "id": "IcOfrHzgl9iJ",
        "colab_type": "code",
        "colab": {
          "base_uri": "https://localhost:8080/",
          "height": 34
        },
        "outputId": "387bdd75-c7a2-47a7-cfa1-45160ccbb69f"
      },
      "source": [
        "min(range(10))"
      ],
      "execution_count": 41,
      "outputs": [
        {
          "output_type": "execute_result",
          "data": {
            "text/plain": [
              "0"
            ]
          },
          "metadata": {
            "tags": []
          },
          "execution_count": 41
        }
      ]
    },
    {
      "cell_type": "markdown",
      "metadata": {
        "id": "DA8v9AFFmGud",
        "colab_type": "text"
      },
      "source": [
        "## **oct()**"
      ]
    },
    {
      "cell_type": "markdown",
      "metadata": {
        "id": "djcLu_MqmKoU",
        "colab_type": "text"
      },
      "source": [
        " oct(x)는 정수 형태의 숫자를 8진수 문자열로 바꾸어 돌려주는 함수"
      ]
    },
    {
      "cell_type": "code",
      "metadata": {
        "id": "STb_4HXskRxL",
        "colab_type": "code",
        "colab": {}
      },
      "source": [
        "oct(9)"
      ],
      "execution_count": 0,
      "outputs": []
    },
    {
      "cell_type": "code",
      "metadata": {
        "id": "x6igZix2mNDk",
        "colab_type": "code",
        "colab": {}
      },
      "source": [
        "oct(12345)"
      ],
      "execution_count": 0,
      "outputs": []
    },
    {
      "cell_type": "markdown",
      "metadata": {
        "id": "Zp5bon8GmPud",
        "colab_type": "text"
      },
      "source": [
        "## **ord()**"
      ]
    },
    {
      "cell_type": "markdown",
      "metadata": {
        "id": "OVZxSVApmSxl",
        "colab_type": "text"
      },
      "source": [
        " ord(c)는 문자의 아스키 코드 값을 돌려주는 함수\n",
        "\n",
        " ※ ord 함수는 chr 함수와 반대이다."
      ]
    },
    {
      "cell_type": "code",
      "metadata": {
        "id": "0RIyOICWkSep",
        "colab_type": "code",
        "colab": {
          "base_uri": "https://localhost:8080/",
          "height": 34
        },
        "outputId": "9c34a2d8-0803-4b83-e3e2-aaceb24ac761"
      },
      "source": [
        "ord(\"a\")  # chr(97)"
      ],
      "execution_count": 42,
      "outputs": [
        {
          "output_type": "execute_result",
          "data": {
            "text/plain": [
              "97"
            ]
          },
          "metadata": {
            "tags": []
          },
          "execution_count": 42
        }
      ]
    },
    {
      "cell_type": "code",
      "metadata": {
        "id": "V9JswtjGmXUH",
        "colab_type": "code",
        "colab": {
          "base_uri": "https://localhost:8080/",
          "height": 34
        },
        "outputId": "6e5ed07e-2951-401c-8685-06afd5efc72e"
      },
      "source": [
        "ord(\"0\")"
      ],
      "execution_count": 43,
      "outputs": [
        {
          "output_type": "execute_result",
          "data": {
            "text/plain": [
              "48"
            ]
          },
          "metadata": {
            "tags": []
          },
          "execution_count": 43
        }
      ]
    },
    {
      "cell_type": "markdown",
      "metadata": {
        "id": "U1FIarp1mgSd",
        "colab_type": "text"
      },
      "source": [
        "## **pow()**"
      ]
    },
    {
      "cell_type": "markdown",
      "metadata": {
        "id": "FZspno_hmiqN",
        "colab_type": "text"
      },
      "source": [
        " pow(x, y)는 x의 y 제곱한 결괏값을 돌려주는 함수"
      ]
    },
    {
      "cell_type": "code",
      "metadata": {
        "id": "3r9c3P-6kTmV",
        "colab_type": "code",
        "colab": {
          "base_uri": "https://localhost:8080/",
          "height": 34
        },
        "outputId": "09dcb1cc-4278-4e2b-b5fc-d755b76c9d00"
      },
      "source": [
        "pow(2, 4)  # 2**4"
      ],
      "execution_count": 65,
      "outputs": [
        {
          "output_type": "execute_result",
          "data": {
            "text/plain": [
              "16"
            ]
          },
          "metadata": {
            "tags": []
          },
          "execution_count": 65
        }
      ]
    },
    {
      "cell_type": "code",
      "metadata": {
        "id": "-fuA6s-78H0O",
        "colab_type": "code",
        "colab": {
          "base_uri": "https://localhost:8080/",
          "height": 34
        },
        "outputId": "baca6c3c-34ac-416b-e188-3ec5e041dd6d"
      },
      "source": [
        "pow(3, 4)  # 3**4"
      ],
      "execution_count": 66,
      "outputs": [
        {
          "output_type": "execute_result",
          "data": {
            "text/plain": [
              "81"
            ]
          },
          "metadata": {
            "tags": []
          },
          "execution_count": 66
        }
      ]
    },
    {
      "cell_type": "markdown",
      "metadata": {
        "id": "lWidSEGImm24",
        "colab_type": "text"
      },
      "source": [
        "## **range()**"
      ]
    },
    {
      "cell_type": "markdown",
      "metadata": {
        "id": "l98IQJAAmqMM",
        "colab_type": "text"
      },
      "source": [
        " 중요 ***\n",
        " \n",
        " range([start,] stop [,step] )는 for문과 함께 자주 사용하는 함수\n",
        "\n",
        " 이 함수는 입력받은 숫자에 해당하는 범위 값을 반복 가능한 객체로 만들어 돌려준다."
      ]
    },
    {
      "cell_type": "markdown",
      "metadata": {
        "id": "QsYPmCGl8M-r",
        "colab_type": "text"
      },
      "source": [
        "**인수가 하나일 경우**"
      ]
    },
    {
      "cell_type": "code",
      "metadata": {
        "id": "mok1wIzTkUem",
        "colab_type": "code",
        "colab": {
          "base_uri": "https://localhost:8080/",
          "height": 34
        },
        "outputId": "57bf65b7-f7bb-4181-941a-751ef405f475"
      },
      "source": [
        "list(range(5))"
      ],
      "execution_count": 44,
      "outputs": [
        {
          "output_type": "execute_result",
          "data": {
            "text/plain": [
              "[0, 1, 2, 3, 4]"
            ]
          },
          "metadata": {
            "tags": []
          },
          "execution_count": 44
        }
      ]
    },
    {
      "cell_type": "markdown",
      "metadata": {
        "id": "rpWGyBOv8QMd",
        "colab_type": "text"
      },
      "source": [
        "**인수가 2개일 경우**"
      ]
    },
    {
      "cell_type": "code",
      "metadata": {
        "id": "efAmZvJ8mxDw",
        "colab_type": "code",
        "colab": {
          "base_uri": "https://localhost:8080/",
          "height": 34
        },
        "outputId": "17377ca4-cac2-4467-bd67-fcd8a00a165f"
      },
      "source": [
        "list(range(5, 10))"
      ],
      "execution_count": 45,
      "outputs": [
        {
          "output_type": "execute_result",
          "data": {
            "text/plain": [
              "[5, 6, 7, 8, 9]"
            ]
          },
          "metadata": {
            "tags": []
          },
          "execution_count": 45
        }
      ]
    },
    {
      "cell_type": "markdown",
      "metadata": {
        "id": "WdVEVwyK8T-E",
        "colab_type": "text"
      },
      "source": [
        "**인수가 3개일 경우**"
      ]
    },
    {
      "cell_type": "code",
      "metadata": {
        "id": "Er2NTVAGmxyt",
        "colab_type": "code",
        "colab": {
          "base_uri": "https://localhost:8080/",
          "height": 34
        },
        "outputId": "d7e20d77-dacb-495d-ff81-185bbe33240b"
      },
      "source": [
        "list(range(1, 10, 2))"
      ],
      "execution_count": 46,
      "outputs": [
        {
          "output_type": "execute_result",
          "data": {
            "text/plain": [
              "[1, 3, 5, 7, 9]"
            ]
          },
          "metadata": {
            "tags": []
          },
          "execution_count": 46
        }
      ]
    },
    {
      "cell_type": "code",
      "metadata": {
        "id": "tBDylU0Bmyp7",
        "colab_type": "code",
        "colab": {
          "base_uri": "https://localhost:8080/",
          "height": 34
        },
        "outputId": "d4bc27a1-a016-4387-f256-2f0301e3d6e5"
      },
      "source": [
        "list(range(0, -10, -1))"
      ],
      "execution_count": 47,
      "outputs": [
        {
          "output_type": "execute_result",
          "data": {
            "text/plain": [
              "[0, -1, -2, -3, -4, -5, -6, -7, -8, -9]"
            ]
          },
          "metadata": {
            "tags": []
          },
          "execution_count": 47
        }
      ]
    },
    {
      "cell_type": "markdown",
      "metadata": {
        "id": "X8M9LVUsm7VS",
        "colab_type": "text"
      },
      "source": [
        "## **round()**"
      ]
    },
    {
      "cell_type": "markdown",
      "metadata": {
        "id": "wui2QJKBm-CP",
        "colab_type": "text"
      },
      "source": [
        "round(number[, ndigits]) 함수는 숫자를 입력받아 반올림해 주는 함수\n",
        "\n",
        " ※ [, ndigits]는 ndigits가 있을 수도 있고 없을 수도 있다는 의미이다."
      ]
    },
    {
      "cell_type": "code",
      "metadata": {
        "id": "X2qaxcSLkVXG",
        "colab_type": "code",
        "colab": {
          "base_uri": "https://localhost:8080/",
          "height": 34
        },
        "outputId": "017d8bca-c8fd-417b-8566-c3944be1552c"
      },
      "source": [
        "round(4.6)"
      ],
      "execution_count": 50,
      "outputs": [
        {
          "output_type": "execute_result",
          "data": {
            "text/plain": [
              "5"
            ]
          },
          "metadata": {
            "tags": []
          },
          "execution_count": 50
        }
      ]
    },
    {
      "cell_type": "code",
      "metadata": {
        "id": "wVNvsLs-nBe-",
        "colab_type": "code",
        "colab": {
          "base_uri": "https://localhost:8080/",
          "height": 34
        },
        "outputId": "8b4a96b9-cb9d-4107-fb8f-8cdd3f4cfbf5"
      },
      "source": [
        "round(4.2)"
      ],
      "execution_count": 49,
      "outputs": [
        {
          "output_type": "execute_result",
          "data": {
            "text/plain": [
              "4"
            ]
          },
          "metadata": {
            "tags": []
          },
          "execution_count": 49
        }
      ]
    },
    {
      "cell_type": "code",
      "metadata": {
        "id": "BQK0T8TenCIA",
        "colab_type": "code",
        "colab": {
          "base_uri": "https://localhost:8080/",
          "height": 34
        },
        "outputId": "9fd68724-688a-42de-dab4-07fff2a01eeb"
      },
      "source": [
        "# 소수점 2자리까지만 반올림\n",
        "round(5.678, 2)"
      ],
      "execution_count": 48,
      "outputs": [
        {
          "output_type": "execute_result",
          "data": {
            "text/plain": [
              "5.68"
            ]
          },
          "metadata": {
            "tags": []
          },
          "execution_count": 48
        }
      ]
    },
    {
      "cell_type": "markdown",
      "metadata": {
        "id": "ukf1WCUMnI7F",
        "colab_type": "text"
      },
      "source": [
        "## **sorted()**"
      ]
    },
    {
      "cell_type": "markdown",
      "metadata": {
        "id": "2vF2FLILnL_l",
        "colab_type": "text"
      },
      "source": [
        "중요 ***\n",
        "\n",
        " sorted(iterable) 함수는 입력값을 정렬한 후 그 결과를 리스트로 돌려주는 함수\n",
        " \n",
        " 'reverse' 속성으로 정렬순서 반전"
      ]
    },
    {
      "cell_type": "code",
      "metadata": {
        "id": "8rYqj517kWb1",
        "colab_type": "code",
        "colab": {
          "base_uri": "https://localhost:8080/",
          "height": 34
        },
        "outputId": "c29dcc3b-872f-4e84-cde9-07542fcd2db0"
      },
      "source": [
        "sorted([3, 1, 2])"
      ],
      "execution_count": 67,
      "outputs": [
        {
          "output_type": "execute_result",
          "data": {
            "text/plain": [
              "[1, 2, 3]"
            ]
          },
          "metadata": {
            "tags": []
          },
          "execution_count": 67
        }
      ]
    },
    {
      "cell_type": "code",
      "metadata": {
        "id": "yORPHHa28Y5q",
        "colab_type": "code",
        "colab": {
          "base_uri": "https://localhost:8080/",
          "height": 34
        },
        "outputId": "f0226cf2-4004-48d7-c161-2e87606f4e1c"
      },
      "source": [
        "sorted([3, 1, 2], reverse=True)"
      ],
      "execution_count": 68,
      "outputs": [
        {
          "output_type": "execute_result",
          "data": {
            "text/plain": [
              "[3, 2, 1]"
            ]
          },
          "metadata": {
            "tags": []
          },
          "execution_count": 68
        }
      ]
    },
    {
      "cell_type": "code",
      "metadata": {
        "id": "_i5twfg58ZZ9",
        "colab_type": "code",
        "colab": {
          "base_uri": "https://localhost:8080/",
          "height": 34
        },
        "outputId": "7144390b-affa-43ab-8c9b-48b06edc6424"
      },
      "source": [
        "sorted([\"a\", \"c\", \"b\"])"
      ],
      "execution_count": 69,
      "outputs": [
        {
          "output_type": "execute_result",
          "data": {
            "text/plain": [
              "['a', 'b', 'c']"
            ]
          },
          "metadata": {
            "tags": []
          },
          "execution_count": 69
        }
      ]
    },
    {
      "cell_type": "code",
      "metadata": {
        "id": "TGDKARf78Z_a",
        "colab_type": "code",
        "colab": {
          "base_uri": "https://localhost:8080/",
          "height": 34
        },
        "outputId": "ad246632-80a7-42b2-d730-f948295dd530"
      },
      "source": [
        "sorted([\"a\", \"c\", \"b\"], reverse=True)"
      ],
      "execution_count": 70,
      "outputs": [
        {
          "output_type": "execute_result",
          "data": {
            "text/plain": [
              "['c', 'b', 'a']"
            ]
          },
          "metadata": {
            "tags": []
          },
          "execution_count": 70
        }
      ]
    },
    {
      "cell_type": "code",
      "metadata": {
        "id": "sx5LlgUr8ac9",
        "colab_type": "code",
        "colab": {
          "base_uri": "https://localhost:8080/",
          "height": 34
        },
        "outputId": "a19af4d0-a5c0-46bb-91f3-0426fdb72a8a"
      },
      "source": [
        "sorted(\"zero\")"
      ],
      "execution_count": 71,
      "outputs": [
        {
          "output_type": "execute_result",
          "data": {
            "text/plain": [
              "['e', 'o', 'r', 'z']"
            ]
          },
          "metadata": {
            "tags": []
          },
          "execution_count": 71
        }
      ]
    },
    {
      "cell_type": "code",
      "metadata": {
        "id": "dfqmikKy8bPF",
        "colab_type": "code",
        "colab": {
          "base_uri": "https://localhost:8080/",
          "height": 34
        },
        "outputId": "de51283f-632a-4114-cc9b-3435cc36390c"
      },
      "source": [
        "sorted((3, 2, 1))  # list로 반환해준다"
      ],
      "execution_count": 72,
      "outputs": [
        {
          "output_type": "execute_result",
          "data": {
            "text/plain": [
              "[1, 2, 3]"
            ]
          },
          "metadata": {
            "tags": []
          },
          "execution_count": 72
        }
      ]
    },
    {
      "cell_type": "markdown",
      "metadata": {
        "id": "A9MTNa2Xnk46",
        "colab_type": "text"
      },
      "source": [
        "## **str()**"
      ]
    },
    {
      "cell_type": "markdown",
      "metadata": {
        "id": "HMNbnSPhnoOE",
        "colab_type": "text"
      },
      "source": [
        "str(object)은 문자열 형태로 객체를 변환하여 돌려주는 함수"
      ]
    },
    {
      "cell_type": "code",
      "metadata": {
        "id": "pwHrN3bskXPA",
        "colab_type": "code",
        "colab": {
          "base_uri": "https://localhost:8080/",
          "height": 34
        },
        "outputId": "37d85433-42b6-4aa9-8487-97a67ea0b040"
      },
      "source": [
        "str(3)"
      ],
      "execution_count": 73,
      "outputs": [
        {
          "output_type": "execute_result",
          "data": {
            "text/plain": [
              "'3'"
            ]
          },
          "metadata": {
            "tags": []
          },
          "execution_count": 73
        }
      ]
    },
    {
      "cell_type": "code",
      "metadata": {
        "id": "2UMG5_Ag8kmD",
        "colab_type": "code",
        "colab": {
          "base_uri": "https://localhost:8080/",
          "height": 34
        },
        "outputId": "57a925ab-a2d7-42ba-8253-b4aaa003c10a"
      },
      "source": [
        "str(100)"
      ],
      "execution_count": 74,
      "outputs": [
        {
          "output_type": "execute_result",
          "data": {
            "text/plain": [
              "'100'"
            ]
          },
          "metadata": {
            "tags": []
          },
          "execution_count": 74
        }
      ]
    },
    {
      "cell_type": "code",
      "metadata": {
        "id": "hMWEIXaP8lga",
        "colab_type": "code",
        "colab": {
          "base_uri": "https://localhost:8080/",
          "height": 34
        },
        "outputId": "12597127-f3f1-43c9-acfc-173795bc61ed"
      },
      "source": [
        "str(\"hello\".upper())"
      ],
      "execution_count": 75,
      "outputs": [
        {
          "output_type": "execute_result",
          "data": {
            "text/plain": [
              "'HELLO'"
            ]
          },
          "metadata": {
            "tags": []
          },
          "execution_count": 75
        }
      ]
    },
    {
      "cell_type": "markdown",
      "metadata": {
        "id": "zwMGtNAvnvcM",
        "colab_type": "text"
      },
      "source": [
        "## **sum()**"
      ]
    },
    {
      "cell_type": "markdown",
      "metadata": {
        "id": "ufH9bD2anycd",
        "colab_type": "text"
      },
      "source": [
        " sum(iterable) 은 입력받은 리스트나 튜플의 모든 요소의 합을 돌려주는 함수"
      ]
    },
    {
      "cell_type": "code",
      "metadata": {
        "id": "EgrURPJykX1-",
        "colab_type": "code",
        "colab": {
          "base_uri": "https://localhost:8080/",
          "height": 34
        },
        "outputId": "1257e2a1-53a7-4847-9d5f-c2b86c21ebce"
      },
      "source": [
        "sum([1, 2, 3])"
      ],
      "execution_count": 76,
      "outputs": [
        {
          "output_type": "execute_result",
          "data": {
            "text/plain": [
              "6"
            ]
          },
          "metadata": {
            "tags": []
          },
          "execution_count": 76
        }
      ]
    },
    {
      "cell_type": "code",
      "metadata": {
        "id": "9nyK2I2f8pfd",
        "colab_type": "code",
        "colab": {
          "base_uri": "https://localhost:8080/",
          "height": 34
        },
        "outputId": "fa3466e5-7d93-4249-bed7-268a2e463ac6"
      },
      "source": [
        "sum((4, 5, 6))"
      ],
      "execution_count": 77,
      "outputs": [
        {
          "output_type": "execute_result",
          "data": {
            "text/plain": [
              "15"
            ]
          },
          "metadata": {
            "tags": []
          },
          "execution_count": 77
        }
      ]
    },
    {
      "cell_type": "markdown",
      "metadata": {
        "id": "P12pz7pIn3Hd",
        "colab_type": "text"
      },
      "source": [
        "# **tuple()**"
      ]
    },
    {
      "cell_type": "markdown",
      "metadata": {
        "id": "_FybCFdgn5m1",
        "colab_type": "text"
      },
      "source": [
        "tuple(iterable)은 반복 가능한 자료형을 입력받아 튜플 형태로 바꾸어 돌려주는 함수"
      ]
    },
    {
      "cell_type": "code",
      "metadata": {
        "id": "Hx78KdeXkYWJ",
        "colab_type": "code",
        "colab": {
          "base_uri": "https://localhost:8080/",
          "height": 34
        },
        "outputId": "4626baea-b4a6-4fe4-87a0-6ec4b9d5461b"
      },
      "source": [
        "tuple(\"abc\")"
      ],
      "execution_count": 78,
      "outputs": [
        {
          "output_type": "execute_result",
          "data": {
            "text/plain": [
              "('a', 'b', 'c')"
            ]
          },
          "metadata": {
            "tags": []
          },
          "execution_count": 78
        }
      ]
    },
    {
      "cell_type": "code",
      "metadata": {
        "id": "TTuLRePQ8tPL",
        "colab_type": "code",
        "colab": {
          "base_uri": "https://localhost:8080/",
          "height": 34
        },
        "outputId": "63ae5a76-d71b-4e86-9a07-11fab706b2f8"
      },
      "source": [
        "tuple([1, 2, 3])"
      ],
      "execution_count": 79,
      "outputs": [
        {
          "output_type": "execute_result",
          "data": {
            "text/plain": [
              "(1, 2, 3)"
            ]
          },
          "metadata": {
            "tags": []
          },
          "execution_count": 79
        }
      ]
    },
    {
      "cell_type": "markdown",
      "metadata": {
        "id": "7BNX0jlan8-k",
        "colab_type": "text"
      },
      "source": [
        "## **type()**"
      ]
    },
    {
      "cell_type": "markdown",
      "metadata": {
        "id": "hdTCi-mfn_V9",
        "colab_type": "text"
      },
      "source": [
        "type(object)은 입력값의 자료형이 무엇인지 알려 주는 함수"
      ]
    },
    {
      "cell_type": "code",
      "metadata": {
        "id": "nEw1mGGkkY4o",
        "colab_type": "code",
        "colab": {
          "base_uri": "https://localhost:8080/",
          "height": 34
        },
        "outputId": "b3de8c2b-2fa3-45ad-ae68-bde640672a4c"
      },
      "source": [
        "type(\"abc\")"
      ],
      "execution_count": 80,
      "outputs": [
        {
          "output_type": "execute_result",
          "data": {
            "text/plain": [
              "str"
            ]
          },
          "metadata": {
            "tags": []
          },
          "execution_count": 80
        }
      ]
    },
    {
      "cell_type": "code",
      "metadata": {
        "id": "383UMoFU8vvj",
        "colab_type": "code",
        "colab": {
          "base_uri": "https://localhost:8080/",
          "height": 34
        },
        "outputId": "96f5d34e-fcfb-49aa-8cac-ff607c9ecd36"
      },
      "source": [
        "type([])"
      ],
      "execution_count": 81,
      "outputs": [
        {
          "output_type": "execute_result",
          "data": {
            "text/plain": [
              "list"
            ]
          },
          "metadata": {
            "tags": []
          },
          "execution_count": 81
        }
      ]
    },
    {
      "cell_type": "code",
      "metadata": {
        "id": "qvVtKKGy8wVd",
        "colab_type": "code",
        "colab": {
          "base_uri": "https://localhost:8080/",
          "height": 34
        },
        "outputId": "5f35cec1-b483-40ca-e9df-7f54bfc20e15"
      },
      "source": [
        "type({a: 4})"
      ],
      "execution_count": 82,
      "outputs": [
        {
          "output_type": "execute_result",
          "data": {
            "text/plain": [
              "dict"
            ]
          },
          "metadata": {
            "tags": []
          },
          "execution_count": 82
        }
      ]
    },
    {
      "cell_type": "code",
      "metadata": {
        "id": "S4Jxkbut8xAI",
        "colab_type": "code",
        "colab": {
          "base_uri": "https://localhost:8080/",
          "height": 34
        },
        "outputId": "f15cd031-3f36-4aba-c761-6f98bbff59a7"
      },
      "source": [
        "type(open(\"test\", \"w\"))"
      ],
      "execution_count": 83,
      "outputs": [
        {
          "output_type": "execute_result",
          "data": {
            "text/plain": [
              "_io.TextIOWrapper"
            ]
          },
          "metadata": {
            "tags": []
          },
          "execution_count": 83
        }
      ]
    },
    {
      "cell_type": "markdown",
      "metadata": {
        "id": "K__2EE6XoCzx",
        "colab_type": "text"
      },
      "source": [
        "## **zip()**"
      ]
    },
    {
      "cell_type": "markdown",
      "metadata": {
        "id": "Pxbff3NwoFWe",
        "colab_type": "text"
      },
      "source": [
        "중요 ***\n",
        "\n",
        "zip(*iterable)은 동일한 개수로 이루어진 자료형을 묶어 주는 역할을 하는 함수"
      ]
    },
    {
      "cell_type": "code",
      "metadata": {
        "id": "0sfvPSnLkZtw",
        "colab_type": "code",
        "colab": {
          "base_uri": "https://localhost:8080/",
          "height": 34
        },
        "outputId": "b742e8a5-da48-400d-caba-dca115e82991"
      },
      "source": [
        "list(zip([1, 2, 3], [4, 5, 6]))"
      ],
      "execution_count": 84,
      "outputs": [
        {
          "output_type": "execute_result",
          "data": {
            "text/plain": [
              "[(1, 4), (2, 5), (3, 6)]"
            ]
          },
          "metadata": {
            "tags": []
          },
          "execution_count": 84
        }
      ]
    },
    {
      "cell_type": "code",
      "metadata": {
        "id": "Tdk4oNur81RL",
        "colab_type": "code",
        "colab": {
          "base_uri": "https://localhost:8080/",
          "height": 34
        },
        "outputId": "572e9809-e828-48a4-a95e-defbb8c43f7c"
      },
      "source": [
        "list(zip([1, 2, 3], [4, 5, 6], [7, 8, 9]))"
      ],
      "execution_count": 85,
      "outputs": [
        {
          "output_type": "execute_result",
          "data": {
            "text/plain": [
              "[(1, 4, 7), (2, 5, 8), (3, 6, 9)]"
            ]
          },
          "metadata": {
            "tags": []
          },
          "execution_count": 85
        }
      ]
    },
    {
      "cell_type": "code",
      "metadata": {
        "id": "nS0a3K-f8177",
        "colab_type": "code",
        "colab": {
          "base_uri": "https://localhost:8080/",
          "height": 34
        },
        "outputId": "838fb81a-6538-4e5e-e770-1430da01aea9"
      },
      "source": [
        "list(zip(\"abc\", \"def\"))"
      ],
      "execution_count": 86,
      "outputs": [
        {
          "output_type": "execute_result",
          "data": {
            "text/plain": [
              "[('a', 'd'), ('b', 'e'), ('c', 'f')]"
            ]
          },
          "metadata": {
            "tags": []
          },
          "execution_count": 86
        }
      ]
    },
    {
      "cell_type": "code",
      "metadata": {
        "id": "b23GwZiI84NB",
        "colab_type": "code",
        "colab": {
          "base_uri": "https://localhost:8080/",
          "height": 34
        },
        "outputId": "9a2a5992-3ff7-4d7a-a848-72baefae0ed5"
      },
      "source": [
        "list(zip([1, 2, 3], \"def\"))"
      ],
      "execution_count": 87,
      "outputs": [
        {
          "output_type": "execute_result",
          "data": {
            "text/plain": [
              "[(1, 'd'), (2, 'e'), (3, 'f')]"
            ]
          },
          "metadata": {
            "tags": []
          },
          "execution_count": 87
        }
      ]
    }
  ]
}