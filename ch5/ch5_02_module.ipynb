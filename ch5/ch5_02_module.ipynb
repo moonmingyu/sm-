{
  "nbformat": 4,
  "nbformat_minor": 0,
  "metadata": {
    "colab": {
      "name": "ch5_02_module.ipynb",
      "provenance": [],
      "include_colab_link": true
    },
    "kernelspec": {
      "name": "python3",
      "display_name": "Python 3"
    }
  },
  "cells": [
    {
      "cell_type": "markdown",
      "metadata": {
        "id": "view-in-github",
        "colab_type": "text"
      },
      "source": [
        "<a href=\"https://colab.research.google.com/github/moonmingyu/sm-/blob/master/ch5/ch5_02_module.ipynb\" target=\"_parent\"><img src=\"https://colab.research.google.com/assets/colab-badge.svg\" alt=\"Open In Colab\"/></a>"
      ]
    },
    {
      "cell_type": "markdown",
      "metadata": {
        "id": "8oRMNuY1f0Ul",
        "colab_type": "text"
      },
      "source": [
        "# 모듈이란 무엇인가?"
      ]
    },
    {
      "cell_type": "markdown",
      "metadata": {
        "id": "e7q6bcMVf4BT",
        "colab_type": "text"
      },
      "source": [
        "모듈이란 함수나 변수 또는 클래스를 모아 놓은 파이썬 파일"
      ]
    },
    {
      "cell_type": "markdown",
      "metadata": {
        "id": "tDkveRJYgF-t",
        "colab_type": "text"
      },
      "source": [
        "## 모듈 만들기"
      ]
    },
    {
      "cell_type": "markdown",
      "metadata": {
        "id": "zET2vEy_gRNt",
        "colab_type": "text"
      },
      "source": [
        "**mod1.py를 현재 폴더에 저장**"
      ]
    },
    {
      "cell_type": "code",
      "metadata": {
        "id": "Hi8zdobpgLcW",
        "colab_type": "code",
        "colab": {}
      },
      "source": [
        "# mod1.py\n",
        "def add(a, b):\n",
        "    return a + b\n",
        "\n",
        "def sub(a, b): \n",
        "    return a-b"
      ],
      "execution_count": 0,
      "outputs": []
    },
    {
      "cell_type": "markdown",
      "metadata": {
        "id": "1UNxhpkRgOm9",
        "colab_type": "text"
      },
      "source": [
        "파이썬 확장자 .py로 만든 파이썬 파일은 모두 모듈이다."
      ]
    },
    {
      "cell_type": "markdown",
      "metadata": {
        "id": "Qk03u_pRgT6d",
        "colab_type": "text"
      },
      "source": [
        "## 모듈 불러오기"
      ]
    },
    {
      "cell_type": "markdown",
      "metadata": {
        "id": "XhMLOySFg9FH",
        "colab_type": "text"
      },
      "source": [
        "import 모듈명 import는 이미 만들어 놓은 파이썬 모듈을 사용할 수 있게 해주는 명령어\n",
        " \n",
        "import.os  ->  os.getcwd => 현재 파일위치 확인가능\n",
        " \n",
        "os.chdir('ch5') -> ch5 로 파일을 옮김\n",
        "\n",
        "os.system('dir') 현재폴더안에있는 파일 확인가능"
      ]
    },
    {
      "cell_type": "markdown",
      "metadata": {
        "id": "kLKRY9YohJmV",
        "colab_type": "text"
      },
      "source": [
        "**현재 폴더에 있는 모듈, mod1.py를 연결하기.**"
      ]
    },
    {
      "cell_type": "code",
      "metadata": {
        "id": "sf4T_5kcfu2P",
        "colab_type": "code",
        "colab": {}
      },
      "source": [
        "import mod1\n",
        "print(mod1.add(3, 4))\n",
        "\n",
        "print(mod1.sub(7, 2))\n"
      ],
      "execution_count": 0,
      "outputs": []
    },
    {
      "cell_type": "markdown",
      "metadata": {
        "id": "vqLgo4AChpic",
        "colab_type": "text"
      },
      "source": [
        "### 모듈 내부 함수 이용"
      ]
    },
    {
      "cell_type": "markdown",
      "metadata": {
        "id": "Gj87yrluhuVs",
        "colab_type": "text"
      },
      "source": [
        "**from 모듈이름 import 모듈함수**"
      ]
    },
    {
      "cell_type": "code",
      "metadata": {
        "id": "aD5OjWhIhPsz",
        "colab_type": "code",
        "colab": {}
      },
      "source": [
        "from mod1 import add\n",
        "add(3, 4)\n",
        "\n",
        "# from 모듈이름 import * -> 하나만 쓰고싶다면\n",
        "# from mod1 import add, sub\n",
        "from mod1 import *\n",
        "\n",
        "add(3, 4)\n",
        "sub(7, 3)\n"
      ],
      "execution_count": 0,
      "outputs": []
    },
    {
      "cell_type": "markdown",
      "metadata": {
        "id": "vX4pBuPLiBi8",
        "colab_type": "text"
      },
      "source": [
        "if __name__ == \"__main__\": 의 의미"
      ]
    },
    {
      "cell_type": "markdown",
      "metadata": {
        "id": "BOAhYwwqiQvU",
        "colab_type": "text"
      },
      "source": [
        " import 모듈명\n",
        " \n",
        " import는 이미 만들어 놓은 파이썬 모듈을 \n",
        " 사용할 수 있게 해주는 명령어\n"
      ]
    },
    {
      "cell_type": "markdown",
      "metadata": {
        "id": "gGL5Ar3JogVC",
        "colab_type": "text"
      },
      "source": [
        "**mod1.py 파일을 다음과 같이 변경해 보자**"
      ]
    },
    {
      "cell_type": "code",
      "metadata": {
        "id": "V3LtNoUlh_yv",
        "colab_type": "code",
        "colab": {}
      },
      "source": [
        "# mod1.py \n",
        "def add(a, b): \n",
        "    return a+b\n",
        "\n",
        "def sub(a, b): \n",
        "    return a-b\n",
        "\n",
        "print(add(1, 4))\n",
        "print(sub(4, 2))\n"
      ],
      "execution_count": 0,
      "outputs": []
    },
    {
      "cell_type": "markdown",
      "metadata": {
        "id": "XW7jp7RsooGZ",
        "colab_type": "text"
      },
      "source": [
        "**cmd에서 실행하시오.**"
      ]
    },
    {
      "cell_type": "markdown",
      "metadata": {
        "id": "_qhwDkuyoqGx",
        "colab_type": "text"
      },
      "source": [
        "python mod1.py"
      ]
    },
    {
      "cell_type": "code",
      "metadata": {
        "id": "jNYPjEGLokAH",
        "colab_type": "code",
        "colab": {}
      },
      "source": [
        "'''\n",
        "python mod1.py\n",
        "5\n",
        "2\n",
        "'''"
      ],
      "execution_count": 0,
      "outputs": []
    },
    {
      "cell_type": "code",
      "metadata": {
        "id": "KA34b0_JosHa",
        "colab_type": "code",
        "colab": {}
      },
      "source": [
        "\n",
        "import mod1\n",
        "# 5\n",
        "# 2\n",
        "print(__name__)\n"
      ],
      "execution_count": 0,
      "outputs": []
    },
    {
      "cell_type": "code",
      "metadata": {
        "id": "dRtCi3-6wiHi",
        "colab_type": "code",
        "colab": {}
      },
      "source": [
        "\n",
        "# mod2.py \n",
        "def add(a, b): \n",
        "    return a+b\n",
        "\n",
        "def sub(a, b): \n",
        "    return a-b\n",
        "\n",
        "if __name__ == \"__main__\":\n",
        "    print(add(1, 4))\n",
        "    print(sub(4, 2))"
      ],
      "execution_count": 0,
      "outputs": []
    },
    {
      "cell_type": "code",
      "metadata": {
        "id": "fMYhRxM-wkBB",
        "colab_type": "code",
        "colab": {}
      },
      "source": [
        "\n",
        "import mod2\n",
        "print(__name__)\n"
      ],
      "execution_count": 0,
      "outputs": []
    },
    {
      "cell_type": "markdown",
      "metadata": {
        "id": "h0flmUdVxfht",
        "colab_type": "text"
      },
      "source": [
        "**if __name__ == \"__main__\"을 사용하면 C:\\doit>python mod1.py처럼 \n",
        " 직접 이 파일을 실행했을 때는 __name__ == \"__main__\"이 참이 되어 \n",
        " if문 다음 문장이 수행된다.**\n",
        " \n",
        "**반대로 대화형 인터프리터나 다른 파일에서 이 모듈을 불러서 사용할 때는 \n",
        " __name__ == \"__main__\"이 거짓이 되어 if문 다음 문장이 수행되지 않는다.**"
      ]
    },
    {
      "cell_type": "markdown",
      "metadata": {
        "id": "kej_bUr3w2Hm",
        "colab_type": "text"
      },
      "source": [
        "### 클래스나 변수 등을 포함한 모듈"
      ]
    },
    {
      "cell_type": "code",
      "metadata": {
        "id": "hYdR_wlSwmc4",
        "colab_type": "code",
        "colab": {}
      },
      "source": [
        "# mod3.py \n",
        "PI = 3.141592\n",
        "\n",
        "class Math: \n",
        "    def solv(self, r): \n",
        "        return PI * (r ** 2) \n",
        "\n",
        "def add(a, b): \n",
        "    return a+b "
      ],
      "execution_count": 0,
      "outputs": []
    },
    {
      "cell_type": "code",
      "metadata": {
        "id": "zgeKnUE8w-j3",
        "colab_type": "code",
        "colab": {}
      },
      "source": [
        "\n",
        "import mod3\n",
        "\n",
        "print(mod3.PI)\n",
        "\n",
        "a = mod3.Math()\n",
        "print(a.solv(2))\n",
        "\n",
        "print(mod3.add(mod3.PI, 4.4))"
      ],
      "execution_count": 0,
      "outputs": []
    },
    {
      "cell_type": "markdown",
      "metadata": {
        "id": "-A4dt3dtxDQG",
        "colab_type": "text"
      },
      "source": [
        "### 다른 파일에서 모듈 불러오기"
      ]
    },
    {
      "cell_type": "markdown",
      "metadata": {
        "id": "u7eZ5hM9xFYl",
        "colab_type": "text"
      },
      "source": [
        "다른 파이썬 파일에서 이전에 만들어 놓은 \n",
        "모듈을 불러와서 사용하는 방법"
      ]
    },
    {
      "cell_type": "code",
      "metadata": {
        "id": "-kbZAt1nwzWG",
        "colab_type": "code",
        "colab": {}
      },
      "source": [
        "# modtest.py\n",
        "import mod2\n",
        "result = mod2.add(3, 4)\n",
        "print(result)"
      ],
      "execution_count": 0,
      "outputs": []
    },
    {
      "cell_type": "markdown",
      "metadata": {
        "id": "cDfooRcExNz1",
        "colab_type": "text"
      },
      "source": [
        "**cmd에서 실행하시오**"
      ]
    },
    {
      "cell_type": "markdown",
      "metadata": {
        "id": "zNJMMq3FxTRO",
        "colab_type": "text"
      },
      "source": [
        "python modtest.py"
      ]
    },
    {
      "cell_type": "markdown",
      "metadata": {
        "id": "lcwMsVq_xW09",
        "colab_type": "text"
      },
      "source": [
        "참고: 현재 폴더로 경로 설정 (path)\n",
        "\n",
        "import sys\n",
        "\n",
        "sys.path.append(\"current_path\")\n",
        "\n",
        "sys.path"
      ]
    }
  ]
}