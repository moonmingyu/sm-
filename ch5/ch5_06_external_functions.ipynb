{
  "nbformat": 4,
  "nbformat_minor": 0,
  "metadata": {
    "colab": {
      "name": "ch5_06_external_functions.ipynb",
      "provenance": [],
      "collapsed_sections": [],
      "toc_visible": true,
      "include_colab_link": true
    },
    "kernelspec": {
      "name": "python3",
      "display_name": "Python 3"
    }
  },
  "cells": [
    {
      "cell_type": "markdown",
      "metadata": {
        "id": "view-in-github",
        "colab_type": "text"
      },
      "source": [
        "<a href=\"https://colab.research.google.com/github/moonmingyu/sm-/blob/master/ch5/ch5_06_external_functions.ipynb\" target=\"_parent\"><img src=\"https://colab.research.google.com/assets/colab-badge.svg\" alt=\"Open In Colab\"/></a>"
      ]
    },
    {
      "cell_type": "markdown",
      "metadata": {
        "id": "0_GALjGirdnE",
        "colab_type": "text"
      },
      "source": [
        "# **외장 함수**"
      ]
    },
    {
      "cell_type": "markdown",
      "metadata": {
        "id": "a4jBP_lqrg5c",
        "colab_type": "text"
      },
      "source": [
        " 파이썬 사용자들이 만든 유용한 프로그램을 모아 놓은 것이 바로 파이썬 라이브러리\n",
        "\n",
        " 외장 모듈은 'import module_name' 형식으로 불러와서 사용"
      ]
    },
    {
      "cell_type": "markdown",
      "metadata": {
        "id": "UEmcyAsJsDZJ",
        "colab_type": "text"
      },
      "source": [
        "## **os**"
      ]
    },
    {
      "cell_type": "markdown",
      "metadata": {
        "id": "QWfY0IXPsFcF",
        "colab_type": "text"
      },
      "source": [
        "중요 ***\n",
        "\n",
        "OS 모듈은 환경 변수나 디렉터리, 파일 등의 OS 자원을 제어할 수 있게 해주는 모듈"
      ]
    },
    {
      "cell_type": "code",
      "metadata": {
        "id": "NeyEiCK3rWXD",
        "colab_type": "code",
        "colab": {
          "base_uri": "https://localhost:8080/",
          "height": 34
        },
        "outputId": "e8359a27-66e0-49a3-ed07-bdd07e136c7a"
      },
      "source": [
        "# 내 시스템의 환경 변수값을 알고 싶을 때 - os.environ\n",
        "import os\n",
        "os.environ"
      ],
      "execution_count": 1,
      "outputs": [
        {
          "output_type": "stream",
          "text": [
            "os\n"
          ],
          "name": "stdout"
        }
      ]
    },
    {
      "cell_type": "code",
      "metadata": {
        "id": "FpUERSQKrt4Q",
        "colab_type": "code",
        "colab": {
          "base_uri": "https://localhost:8080/",
          "height": 34
        },
        "outputId": "816dee89-12fa-41e7-bf6a-a79054b7d6d8"
      },
      "source": [
        "# 시스템의 PATH 환경 변수 내용\n",
        "os.environ[\"PATH\"]"
      ],
      "execution_count": 7,
      "outputs": [
        {
          "output_type": "execute_result",
          "data": {
            "text/plain": [
              "'/usr/local/nvidia/bin:/usr/local/cuda/bin:/usr/local/sbin:/usr/local/bin:/usr/sbin:/usr/bin:/sbin:/bin:/tools/node/bin:/tools/google-cloud-sdk/bin:/opt/bin'"
            ]
          },
          "metadata": {
            "tags": []
          },
          "execution_count": 7
        }
      ]
    },
    {
      "cell_type": "code",
      "metadata": {
        "id": "58G32_y7ryEV",
        "colab_type": "code",
        "colab": {
          "base_uri": "https://localhost:8080/",
          "height": 34
        },
        "outputId": "7237630d-4628-43f9-8be2-cd1385998b92"
      },
      "source": [
        "# 현재 디렉터리 위치 확인 - os.getcwd()\n",
        "os.getcwd()"
      ],
      "execution_count": 6,
      "outputs": [
        {
          "output_type": "execute_result",
          "data": {
            "text/plain": [
              "'/content'"
            ]
          },
          "metadata": {
            "tags": []
          },
          "execution_count": 6
        }
      ]
    },
    {
      "cell_type": "code",
      "metadata": {
        "id": "cuqj5Aeyryq-",
        "colab_type": "code",
        "colab": {
          "base_uri": "https://localhost:8080/",
          "height": 34
        },
        "outputId": "289c02d4-b346-4a34-b891-9e3b625d9029"
      },
      "source": [
        "# 시스템 명령어 호출하기 - os.system\n",
        "os.system(\"dir\")"
      ],
      "execution_count": 4,
      "outputs": [
        {
          "output_type": "execute_result",
          "data": {
            "text/plain": [
              "0"
            ]
          },
          "metadata": {
            "tags": []
          },
          "execution_count": 4
        }
      ]
    },
    {
      "cell_type": "code",
      "metadata": {
        "id": "RsO6rYNvr8Yl",
        "colab_type": "code",
        "colab": {
          "base_uri": "https://localhost:8080/",
          "height": 170
        },
        "outputId": "df550d99-d6f7-41e0-a778-df26d8428d1b"
      },
      "source": [
        "# 디렉터리 위치 변경하기 - os.chdir('directory')\n",
        "os.chdir(\"ch05\")"
      ],
      "execution_count": 9,
      "outputs": [
        {
          "output_type": "error",
          "ename": "FileNotFoundError",
          "evalue": "ignored",
          "traceback": [
            "\u001b[0;31m---------------------------------------------------------------------------\u001b[0m",
            "\u001b[0;31mFileNotFoundError\u001b[0m                         Traceback (most recent call last)",
            "\u001b[0;32m<ipython-input-9-296947dd1824>\u001b[0m in \u001b[0;36m<module>\u001b[0;34m()\u001b[0m\n\u001b[0;32m----> 1\u001b[0;31m \u001b[0mos\u001b[0m\u001b[0;34m.\u001b[0m\u001b[0mchdir\u001b[0m\u001b[0;34m(\u001b[0m\u001b[0;34m\"ch05\"\u001b[0m\u001b[0;34m)\u001b[0m\u001b[0;34m\u001b[0m\u001b[0;34m\u001b[0m\u001b[0m\n\u001b[0m",
            "\u001b[0;31mFileNotFoundError\u001b[0m: [Errno 2] No such file or directory: 'ch05'"
          ]
        }
      ]
    },
    {
      "cell_type": "code",
      "metadata": {
        "id": "PErrB-lor94x",
        "colab_type": "code",
        "colab": {}
      },
      "source": [
        "# 기타 유용한 os 관련 함수\n",
        "# os.mkdir(디렉터리)\n",
        "# os.rmdir(디렉터리)\n",
        "# os.rename(src, dst)"
      ],
      "execution_count": 0,
      "outputs": []
    },
    {
      "cell_type": "markdown",
      "metadata": {
        "id": "HSXgXwU2vk_V",
        "colab_type": "text"
      },
      "source": [
        "## **Run*.py in colab**"
      ]
    },
    {
      "cell_type": "code",
      "metadata": {
        "id": "gPrVBK00vtNs",
        "colab_type": "code",
        "colab": {
          "base_uri": "https://localhost:8080/",
          "height": 34
        },
        "outputId": "52649980-0b00-4c56-ebce-d60fd3ccbe4c"
      },
      "source": [
        "run argv_test.py comsi iju"
      ],
      "execution_count": 14,
      "outputs": [
        {
          "output_type": "stream",
          "text": [
            "['argv_test.py', 'comsi', 'iju']\n"
          ],
          "name": "stdout"
        }
      ]
    },
    {
      "cell_type": "code",
      "metadata": {
        "id": "t8uu_imHwgIE",
        "colab_type": "code",
        "colab": {
          "base_uri": "https://localhost:8080/",
          "height": 34
        },
        "outputId": "30d4180b-e178-4deb-e844-3b9b85c28b96"
      },
      "source": [
        "!python argv_test.py comsi kkk"
      ],
      "execution_count": 15,
      "outputs": [
        {
          "output_type": "stream",
          "text": [
            "['argv_test.py', 'comsi', 'kkk']\n"
          ],
          "name": "stdout"
        }
      ]
    },
    {
      "cell_type": "markdown",
      "metadata": {
        "id": "OVcxDnDssyf8",
        "colab_type": "text"
      },
      "source": [
        "## **sys**"
      ]
    },
    {
      "cell_type": "markdown",
      "metadata": {
        "id": "jeqkZJGcs0Ds",
        "colab_type": "text"
      },
      "source": [
        "중요 ***\n",
        "\n",
        " sys 모듈은 파이썬 인터프리터가 제공하는 변수와 함수를 직접 제어할 수 있게 해주는 모듈"
      ]
    },
    {
      "cell_type": "code",
      "metadata": {
        "id": "oV4PPT3Rrm-E",
        "colab_type": "code",
        "colab": {
          "base_uri": "https://localhost:8080/",
          "height": 34
        },
        "outputId": "87763c5c-32f7-47ce-befd-c8e84ebc5b3a"
      },
      "source": [
        "# argv_test.py\n",
        "import sys\n",
        "\n",
        "print(sys.argv)"
      ],
      "execution_count": 20,
      "outputs": [
        {
          "output_type": "stream",
          "text": [
            "['/usr/local/lib/python3.6/dist-packages/ipykernel_launcher.py', '-f', '/root/.local/share/jupyter/runtime/kernel-280fb169-d603-4dc3-8820-952b45bfa2cc.json']\n"
          ],
          "name": "stdout"
        }
      ]
    },
    {
      "cell_type": "code",
      "metadata": {
        "id": "--GM7LzhtmOg",
        "colab_type": "code",
        "colab": {
          "base_uri": "https://localhost:8080/",
          "height": 152
        },
        "outputId": "0857ab2a-0a4d-407d-eb7a-2499bbda6164"
      },
      "source": [
        "# 강제로 스크립트 종료하기 - sys.exit\n",
        "import sys\n",
        "\n",
        "sys.exit()  # ^Z"
      ],
      "execution_count": 21,
      "outputs": [
        {
          "output_type": "error",
          "ename": "SystemExit",
          "evalue": "ignored",
          "traceback": [
            "An exception has occurred, use %tb to see the full traceback.\n",
            "\u001b[0;31mSystemExit\u001b[0m\n"
          ]
        },
        {
          "output_type": "stream",
          "text": [
            "/usr/local/lib/python3.6/dist-packages/IPython/core/interactiveshell.py:2890: UserWarning: To exit: use 'exit', 'quit', or Ctrl-D.\n",
            "  warn(\"To exit: use 'exit', 'quit', or Ctrl-D.\", stacklevel=1)\n"
          ],
          "name": "stderr"
        }
      ]
    },
    {
      "cell_type": "code",
      "metadata": {
        "id": "PMZI_IYMtpWW",
        "colab_type": "code",
        "colab": {
          "base_uri": "https://localhost:8080/",
          "height": 194
        },
        "outputId": "f491ccec-bb14-445e-df92-9d2a60e06aba"
      },
      "source": [
        "import sys\n",
        "\n",
        "sys.path"
      ],
      "execution_count": 22,
      "outputs": [
        {
          "output_type": "execute_result",
          "data": {
            "text/plain": [
              "['',\n",
              " '/env/python',\n",
              " '/usr/lib/python36.zip',\n",
              " '/usr/lib/python3.6',\n",
              " '/usr/lib/python3.6/lib-dynload',\n",
              " '/usr/local/lib/python3.6/dist-packages',\n",
              " '/usr/lib/python3/dist-packages',\n",
              " '/usr/local/lib/python3.6/dist-packages/IPython/extensions',\n",
              " '/root/.ipython',\n",
              " 'C:/doit/mymod']"
            ]
          },
          "metadata": {
            "tags": []
          },
          "execution_count": 22
        }
      ]
    },
    {
      "cell_type": "code",
      "metadata": {
        "id": "KjzeBgPRtqFn",
        "colab_type": "code",
        "colab": {
          "base_uri": "https://localhost:8080/",
          "height": 34
        },
        "outputId": "97d0ac40-2a1f-414c-f262-250067828153"
      },
      "source": [
        "import os\n",
        "\n",
        "os.getcwd()"
      ],
      "execution_count": 17,
      "outputs": [
        {
          "output_type": "execute_result",
          "data": {
            "text/plain": [
              "'/content'"
            ]
          },
          "metadata": {
            "tags": []
          },
          "execution_count": 17
        }
      ]
    },
    {
      "cell_type": "code",
      "metadata": {
        "id": "MYXopioBtrI7",
        "colab_type": "code",
        "colab": {}
      },
      "source": [
        "import sys\n",
        "\n",
        "sys.path.append(\"C:/doit/mymod\")\n",
        "# C:/doit/Mymod 디렉터리에 있는 파이썬 모듈을 불러와서 사용."
      ],
      "execution_count": 0,
      "outputs": []
    },
    {
      "cell_type": "markdown",
      "metadata": {
        "id": "vRX3SW26uG0t",
        "colab_type": "text"
      },
      "source": [
        "## **pickle**"
      ]
    },
    {
      "cell_type": "markdown",
      "metadata": {
        "id": "O1n_ixTguJYs",
        "colab_type": "text"
      },
      "source": [
        " pickle은 객체의 형태를 그대로 유지하면서 파일에 저장하고 불러올 수 있게 하는 모듈"
      ]
    },
    {
      "cell_type": "code",
      "metadata": {
        "id": "iGTdMNO5s65a",
        "colab_type": "code",
        "colab": {
          "base_uri": "https://localhost:8080/",
          "height": 34
        },
        "outputId": "af37a62d-2e2e-41d2-f55f-66eaaf557724"
      },
      "source": [
        "import pickle\n",
        "\n",
        "# 객체 그대로 유지하면서 파일에 저장\n",
        "f = open(\"test.txt\", \"wb\")\n",
        "data = {1: \"python\", 2: \"you need\"}\n",
        "pickle.dump(data, f)\n",
        "f.close()\n",
        "\n",
        "\n",
        "# pickle.load를 사용해서 원래 있던 딕셔너리 객체(data) 상태 그대로 불러오기\n",
        "f = open(\"test.txt\", \"rb\")\n",
        "data = pickle.load(f)\n",
        "f.close()\n",
        "\n",
        "print(data)\n",
        "# pickle 모듈로 어떤 자료형이든 저장하고 불러올 수 있다."
      ],
      "execution_count": 12,
      "outputs": [
        {
          "output_type": "stream",
          "text": [
            "{1: 'python', 2: 'you need'}\n"
          ],
          "name": "stdout"
        }
      ]
    },
    {
      "cell_type": "markdown",
      "metadata": {
        "id": "Y1K9r_X6ysrk",
        "colab_type": "text"
      },
      "source": [
        "## **shutil**"
      ]
    },
    {
      "cell_type": "markdown",
      "metadata": {
        "id": "1B3XA89RyvD8",
        "colab_type": "text"
      },
      "source": [
        "shutil은 파일을 복사해 주는 파이썬 모듈"
      ]
    },
    {
      "cell_type": "code",
      "metadata": {
        "id": "YdP-ou0duP81",
        "colab_type": "code",
        "colab": {
          "base_uri": "https://localhost:8080/",
          "height": 34
        },
        "outputId": "13cbb2a7-e95a-461d-f80a-91eaf3bf1caf"
      },
      "source": [
        "import shutil\n",
        "\n",
        "os.system(\"dir\")\n",
        "shutil.copy(\"test.txt\", \"zest.txt\")\n",
        "os.system(\"dir\")  # 확인"
      ],
      "execution_count": 25,
      "outputs": [
        {
          "output_type": "execute_result",
          "data": {
            "text/plain": [
              "0"
            ]
          },
          "metadata": {
            "tags": []
          },
          "execution_count": 25
        }
      ]
    },
    {
      "cell_type": "markdown",
      "metadata": {
        "id": "__NYz4Lsy7lU",
        "colab_type": "text"
      },
      "source": [
        "## **glob**"
      ]
    },
    {
      "cell_type": "markdown",
      "metadata": {
        "id": "Nd7e-oP6y-fF",
        "colab_type": "text"
      },
      "source": [
        "특정 디렉터리에 있는 파일 이름 모두 확인하는 파이썬 모듈\n",
        "\n",
        " 디렉터리에 있는 파일들을 리스트로 만들기 - glob(pathname)"
      ]
    },
    {
      "cell_type": "code",
      "metadata": {
        "id": "6GoB7V4myxGt",
        "colab_type": "code",
        "colab": {
          "base_uri": "https://localhost:8080/",
          "height": 52
        },
        "outputId": "e9256e9a-e43d-4a39-ef05-98f323eb367b"
      },
      "source": [
        "import glob\n",
        "\n",
        "glob.glob(\"*.txt\")  # txt 파일 목록 확인\n",
        "# ['test.txt', 'zest.txt']"
      ],
      "execution_count": 24,
      "outputs": [
        {
          "output_type": "stream",
          "text": [
            "glob\n"
          ],
          "name": "stdout"
        },
        {
          "output_type": "execute_result",
          "data": {
            "text/plain": [
              "['test.txt']"
            ]
          },
          "metadata": {
            "tags": []
          },
          "execution_count": 24
        }
      ]
    },
    {
      "cell_type": "markdown",
      "metadata": {
        "id": "xynHeNlIzEac",
        "colab_type": "text"
      },
      "source": [
        "## **tempfile**"
      ]
    },
    {
      "cell_type": "markdown",
      "metadata": {
        "id": "41t8hps1zGOE",
        "colab_type": "text"
      },
      "source": [
        "파일을 임시로 만들어서 사용할 때 유용한 모듈"
      ]
    },
    {
      "cell_type": "code",
      "metadata": {
        "id": "hY0ux0DtyyFU",
        "colab_type": "code",
        "colab": {}
      },
      "source": [
        "import tempfile\n",
        "\n",
        "filename = tempfile.mktemp()\n",
        "filename"
      ],
      "execution_count": 0,
      "outputs": []
    },
    {
      "cell_type": "markdown",
      "metadata": {
        "id": "smUl2noqzKgV",
        "colab_type": "text"
      },
      "source": [
        " tempfile.TemporaryFile()은 임시 저장 공간으로 사용할 파일 객체를 돌려준다.\n",
        "\n",
        " 이 파일은 기본적으로 바이너리 쓰기 모드(wb)를 갖는다.\n",
        "\n",
        " f.close()가 호출되면 이 파일 객체는 자동으로 사라진다."
      ]
    },
    {
      "cell_type": "code",
      "metadata": {
        "id": "8Y-M1uxJzImW",
        "colab_type": "code",
        "colab": {}
      },
      "source": [
        "import tempfile\n",
        "\n",
        "f = tempfile.TemporaryFile()\n",
        "f.close()"
      ],
      "execution_count": 0,
      "outputs": []
    },
    {
      "cell_type": "markdown",
      "metadata": {
        "id": "UTyUXyFnzPB8",
        "colab_type": "text"
      },
      "source": [
        "## **time**"
      ]
    },
    {
      "cell_type": "markdown",
      "metadata": {
        "id": "QdbfpNqazSLs",
        "colab_type": "text"
      },
      "source": [
        "중요 ***\n",
        "\n",
        "시간과 관련된 time 모듈\n",
        "time.time()\n",
        "\n",
        " time.time()은 UTC(Universal Time Coordinated 협정 세계 표준시)를\n",
        "\n",
        " 사용하여 현재 시간을 실수 형태로 돌려주는 함수이다.\n",
        "\n",
        " 1970년 1월 1일 0시 0분 0초를 기준으로 지난 시간을 초 단위로 돌려준다."
      ]
    },
    {
      "cell_type": "code",
      "metadata": {
        "id": "ySflrz4HzBvY",
        "colab_type": "code",
        "colab": {
          "base_uri": "https://localhost:8080/",
          "height": 34
        },
        "outputId": "6e3b659b-87b4-4043-c771-9bc914826d48"
      },
      "source": [
        "import time\n",
        "\n",
        "time.time()\n"
      ],
      "execution_count": 26,
      "outputs": [
        {
          "output_type": "execute_result",
          "data": {
            "text/plain": [
              "time.struct_time(tm_year=2019, tm_mon=11, tm_mday=1, tm_hour=2, tm_min=31, tm_sec=44, tm_wday=4, tm_yday=305, tm_isdst=0)"
            ]
          },
          "metadata": {
            "tags": []
          },
          "execution_count": 26
        }
      ]
    },
    {
      "cell_type": "markdown",
      "metadata": {
        "id": "WBefKkRO5XVE",
        "colab_type": "text"
      },
      "source": [
        "### **time.localtime()**"
      ]
    },
    {
      "cell_type": "markdown",
      "metadata": {
        "id": "jojBcRi75f5j",
        "colab_type": "text"
      },
      "source": [
        "time.localtime은 time.time()이 돌려준 실수 값을 사용해서\n",
        " 연도, 월, 일, 시, 분, 초, ... 의 형태로 바꾸어 주는 함수"
      ]
    },
    {
      "cell_type": "code",
      "metadata": {
        "id": "v_ssohV45Vdh",
        "colab_type": "code",
        "colab": {
          "base_uri": "https://localhost:8080/",
          "height": 34
        },
        "outputId": "8a481e94-eb30-4c69-b530-ee2ed720e133"
      },
      "source": [
        "time.localtime(time.time())\n",
        "# time.struct_time(tm_year=2019, tm_mon=10, tm_mday=30,\n",
        "# tm_hour=21, tm_min=18, tm_sec=15, tm_wday=2, tm_yday=303, tm_isdst=0)"
      ],
      "execution_count": 41,
      "outputs": [
        {
          "output_type": "execute_result",
          "data": {
            "text/plain": [
              "time.struct_time(tm_year=2019, tm_mon=11, tm_mday=1, tm_hour=2, tm_min=58, tm_sec=18, tm_wday=4, tm_yday=305, tm_isdst=0)"
            ]
          },
          "metadata": {
            "tags": []
          },
          "execution_count": 41
        }
      ]
    },
    {
      "cell_type": "markdown",
      "metadata": {
        "id": "U7OxfUYZ5ngM",
        "colab_type": "text"
      },
      "source": [
        "### **time.asctime**"
      ]
    },
    {
      "cell_type": "markdown",
      "metadata": {
        "id": "tvRm7KYR5rsz",
        "colab_type": "text"
      },
      "source": [
        "위 time.localtime에 의해서 반환된 튜플 형태의 값을 인수로 받아서 날짜와 시간을 알아보기 쉬운 형태로 돌려주는 함수"
      ]
    },
    {
      "cell_type": "code",
      "metadata": {
        "id": "x8F8zooazxoM",
        "colab_type": "code",
        "colab": {
          "base_uri": "https://localhost:8080/",
          "height": 34
        },
        "outputId": "4274fbee-453b-4e04-e1c1-a8f85b7e4e92"
      },
      "source": [
        "time.asctime(time.localtime(time.time()))\n",
        "# 'Wed Oct 30 21:19:52 2019'"
      ],
      "execution_count": 42,
      "outputs": [
        {
          "output_type": "execute_result",
          "data": {
            "text/plain": [
              "'Fri Nov  1 02:59:01 2019'"
            ]
          },
          "metadata": {
            "tags": []
          },
          "execution_count": 42
        }
      ]
    },
    {
      "cell_type": "markdown",
      "metadata": {
        "id": "-4ZZXK2X5vtu",
        "colab_type": "text"
      },
      "source": [
        "### **time.ctime**"
      ]
    },
    {
      "cell_type": "code",
      "metadata": {
        "id": "HsJ1mWCOz0YR",
        "colab_type": "code",
        "colab": {}
      },
      "source": [
        "# time.asctime(time.localtime(time.time()))은 time.ctime()과 같다.\n",
        "time.ctime()"
      ],
      "execution_count": 0,
      "outputs": []
    },
    {
      "cell_type": "markdown",
      "metadata": {
        "id": "BkIOVzII51As",
        "colab_type": "text"
      },
      "source": [
        "### **time.strftime**"
      ]
    },
    {
      "cell_type": "markdown",
      "metadata": {
        "id": "tlVq_KES6FyY",
        "colab_type": "text"
      },
      "source": [
        "time.strftime('출력할 형식 포맷 코드', time.localtime(time.time()))\n",
        "\n",
        "strftime 함수는 여러 가지 포맷 코드로 시간에 관계된 것을 세밀하게 표현\n"
      ]
    },
    {
      "cell_type": "markdown",
      "metadata": {
        "id": "9VGZ6ORmz-Mt",
        "colab_type": "text"
      },
      "source": [
        "**시간에 관계된 것을 표현하는 포맷 코드**\n",
        "\n",
        " 포맷코드\t설명\t예\n",
        "\n",
        " %a\t요일 줄임말\tMon\n",
        "\n",
        " %A\t요일\tMonday\n",
        "\n",
        " %b\t달 줄임말\tJan\n",
        "\n",
        " %B\t달\tJanuary\n",
        "\n",
        " %c\t날짜와 시간을 출력함\t06/01/01 17:22:21\n",
        "\n",
        " %d\t날(day)\t[01,31]\n",
        "\n",
        " %H\t시간(hour)-24시간 출력 형태\t[00,23]\n",
        "\n",
        " %I\t시간(hour)-12시간 출력 형태\t[01,12]\n",
        "\n",
        " %j\t1년 중 누적 날짜\t[001,366]\n",
        "\n",
        " %m\t달\t[01,12]\n",
        "\n",
        " %M\t분\t[01,59]\n",
        "\n",
        " %p\tAM or PM\tAM\n",
        "\n",
        " %S\t초\t[00,59]\n",
        "\n",
        " %U\t1년 중 누적 주-일요일을 시작으로\t[00,53]\n",
        "\n",
        " %w\t숫자로 된 요일\t[0(일요일),6]\n",
        "\n",
        " %W\t1년 중 누적 주-월요일을 시작으로\t[00,53]\n",
        "\n",
        " %x\t현재 설정된 로케일에 기반한 날짜 출력\t06/01/01\n",
        "\n",
        " %X\t현재 설정된 로케일에 기반한 시간 출력\t17:22:21\n",
        "\n",
        " %Y\t년도 출력\t2001\n",
        "\n",
        " %z\t시간대 출력\t대한민국 표준시\n",
        "\n",
        " %y\t세기부분을 제외한 년도 출력\t01"
      ]
    },
    {
      "cell_type": "code",
      "metadata": {
        "id": "Ecn-vjgHz209",
        "colab_type": "code",
        "colab": {
          "base_uri": "https://localhost:8080/",
          "height": 34
        },
        "outputId": "9d9834a5-7970-4938-f910-0f65880f0628"
      },
      "source": [
        "import time\n",
        "\n",
        "time.strftime(\"%x\", time.localtime(time.time()))"
      ],
      "execution_count": 27,
      "outputs": [
        {
          "output_type": "execute_result",
          "data": {
            "text/plain": [
              "'11/01/19'"
            ]
          },
          "metadata": {
            "tags": []
          },
          "execution_count": 27
        }
      ]
    },
    {
      "cell_type": "code",
      "metadata": {
        "id": "hWYOjKWy0RTQ",
        "colab_type": "code",
        "colab": {
          "base_uri": "https://localhost:8080/",
          "height": 34
        },
        "outputId": "c122b255-cacb-4cfe-915e-e90424bc3f0d"
      },
      "source": [
        "time.strftime(\"%c\", time.localtime(time.time()))"
      ],
      "execution_count": 28,
      "outputs": [
        {
          "output_type": "execute_result",
          "data": {
            "text/plain": [
              "'Fri Nov  1 02:35:26 2019'"
            ]
          },
          "metadata": {
            "tags": []
          },
          "execution_count": 28
        }
      ]
    },
    {
      "cell_type": "code",
      "metadata": {
        "id": "QrOYSSGU0R2L",
        "colab_type": "code",
        "colab": {
          "base_uri": "https://localhost:8080/",
          "height": 34
        },
        "outputId": "11c73a4c-999e-4fad-8b5b-3b417bfd7d21"
      },
      "source": [
        "time.strftime(\"%z\", time.localtime(time.time()))"
      ],
      "execution_count": 29,
      "outputs": [
        {
          "output_type": "execute_result",
          "data": {
            "text/plain": [
              "'+0000'"
            ]
          },
          "metadata": {
            "tags": []
          },
          "execution_count": 29
        }
      ]
    },
    {
      "cell_type": "markdown",
      "metadata": {
        "id": "XEsbilkt6Ob8",
        "colab_type": "text"
      },
      "source": [
        "### **time.sleep**"
      ]
    },
    {
      "cell_type": "markdown",
      "metadata": {
        "id": "mLduV16L6QiO",
        "colab_type": "text"
      },
      "source": [
        "time.sleep 함수는 주로 루프 안에서 많이 사용한다.\n",
        "\n",
        "이 함수를 사용하면 일정한 시간 간격을 두고 루프를 실행"
      ]
    },
    {
      "cell_type": "code",
      "metadata": {
        "id": "XWEMm30p0Kyd",
        "colab_type": "code",
        "colab": {
          "base_uri": "https://localhost:8080/",
          "height": 241
        },
        "outputId": "b5f9aa42-4073-4ecf-d61b-a0f7220d2aa7"
      },
      "source": [
        "import time\n",
        "\n",
        "for i in range(10):\n",
        "    print(i)\n",
        "    time.sleep(1)  # delay = 1 s"
      ],
      "execution_count": 45,
      "outputs": [
        {
          "output_type": "stream",
          "text": [
            "0\n",
            "1\n"
          ],
          "name": "stdout"
        },
        {
          "output_type": "error",
          "ename": "KeyboardInterrupt",
          "evalue": "ignored",
          "traceback": [
            "\u001b[0;31m---------------------------------------------------------------------------\u001b[0m",
            "\u001b[0;31mKeyboardInterrupt\u001b[0m                         Traceback (most recent call last)",
            "\u001b[0;32m<ipython-input-45-3177d0352eab>\u001b[0m in \u001b[0;36m<module>\u001b[0;34m()\u001b[0m\n\u001b[1;32m      3\u001b[0m \u001b[0;32mfor\u001b[0m \u001b[0mi\u001b[0m \u001b[0;32min\u001b[0m \u001b[0mrange\u001b[0m\u001b[0;34m(\u001b[0m\u001b[0;36m10\u001b[0m\u001b[0;34m)\u001b[0m\u001b[0;34m:\u001b[0m\u001b[0;34m\u001b[0m\u001b[0;34m\u001b[0m\u001b[0m\n\u001b[1;32m      4\u001b[0m     \u001b[0mprint\u001b[0m\u001b[0;34m(\u001b[0m\u001b[0mi\u001b[0m\u001b[0;34m)\u001b[0m\u001b[0;34m\u001b[0m\u001b[0;34m\u001b[0m\u001b[0m\n\u001b[0;32m----> 5\u001b[0;31m     \u001b[0mtime\u001b[0m\u001b[0;34m.\u001b[0m\u001b[0msleep\u001b[0m\u001b[0;34m(\u001b[0m\u001b[0;36m1\u001b[0m\u001b[0;34m)\u001b[0m  \u001b[0;31m# delay = 1 s\u001b[0m\u001b[0;34m\u001b[0m\u001b[0;34m\u001b[0m\u001b[0m\n\u001b[0m",
            "\u001b[0;31mKeyboardInterrupt\u001b[0m: "
          ]
        }
      ]
    },
    {
      "cell_type": "markdown",
      "metadata": {
        "id": "kOSQvSbP0YT1",
        "colab_type": "text"
      },
      "source": [
        "## **calendar**"
      ]
    },
    {
      "cell_type": "markdown",
      "metadata": {
        "id": "KuHjjZlL0bWb",
        "colab_type": "text"
      },
      "source": [
        "파이썬에서 달력을 볼 수 있게 해주는 모듈"
      ]
    },
    {
      "cell_type": "code",
      "metadata": {
        "id": "6YHYiZwt0MdP",
        "colab_type": "code",
        "colab": {
          "base_uri": "https://localhost:8080/",
          "height": 656
        },
        "outputId": "d16cd005-f1e8-449c-aa3d-36d9608d6fc2"
      },
      "source": [
        "import calendar\n",
        "\n",
        "print(calendar.calendar(2019))"
      ],
      "execution_count": 30,
      "outputs": [
        {
          "output_type": "stream",
          "text": [
            "                                  2019\n",
            "\n",
            "      January                   February                   March\n",
            "Mo Tu We Th Fr Sa Su      Mo Tu We Th Fr Sa Su      Mo Tu We Th Fr Sa Su\n",
            "    1  2  3  4  5  6                   1  2  3                   1  2  3\n",
            " 7  8  9 10 11 12 13       4  5  6  7  8  9 10       4  5  6  7  8  9 10\n",
            "14 15 16 17 18 19 20      11 12 13 14 15 16 17      11 12 13 14 15 16 17\n",
            "21 22 23 24 25 26 27      18 19 20 21 22 23 24      18 19 20 21 22 23 24\n",
            "28 29 30 31               25 26 27 28               25 26 27 28 29 30 31\n",
            "\n",
            "       April                      May                       June\n",
            "Mo Tu We Th Fr Sa Su      Mo Tu We Th Fr Sa Su      Mo Tu We Th Fr Sa Su\n",
            " 1  2  3  4  5  6  7             1  2  3  4  5                      1  2\n",
            " 8  9 10 11 12 13 14       6  7  8  9 10 11 12       3  4  5  6  7  8  9\n",
            "15 16 17 18 19 20 21      13 14 15 16 17 18 19      10 11 12 13 14 15 16\n",
            "22 23 24 25 26 27 28      20 21 22 23 24 25 26      17 18 19 20 21 22 23\n",
            "29 30                     27 28 29 30 31            24 25 26 27 28 29 30\n",
            "\n",
            "        July                     August                  September\n",
            "Mo Tu We Th Fr Sa Su      Mo Tu We Th Fr Sa Su      Mo Tu We Th Fr Sa Su\n",
            " 1  2  3  4  5  6  7                1  2  3  4                         1\n",
            " 8  9 10 11 12 13 14       5  6  7  8  9 10 11       2  3  4  5  6  7  8\n",
            "15 16 17 18 19 20 21      12 13 14 15 16 17 18       9 10 11 12 13 14 15\n",
            "22 23 24 25 26 27 28      19 20 21 22 23 24 25      16 17 18 19 20 21 22\n",
            "29 30 31                  26 27 28 29 30 31         23 24 25 26 27 28 29\n",
            "                                                    30\n",
            "\n",
            "      October                   November                  December\n",
            "Mo Tu We Th Fr Sa Su      Mo Tu We Th Fr Sa Su      Mo Tu We Th Fr Sa Su\n",
            "    1  2  3  4  5  6                   1  2  3                         1\n",
            " 7  8  9 10 11 12 13       4  5  6  7  8  9 10       2  3  4  5  6  7  8\n",
            "14 15 16 17 18 19 20      11 12 13 14 15 16 17       9 10 11 12 13 14 15\n",
            "21 22 23 24 25 26 27      18 19 20 21 22 23 24      16 17 18 19 20 21 22\n",
            "28 29 30 31               25 26 27 28 29 30         23 24 25 26 27 28 29\n",
            "                                                    30 31\n",
            "\n"
          ],
          "name": "stdout"
        }
      ]
    },
    {
      "cell_type": "code",
      "metadata": {
        "id": "YjrJRCFA0fsS",
        "colab_type": "code",
        "colab": {
          "base_uri": "https://localhost:8080/",
          "height": 656
        },
        "outputId": "e2ef1713-552a-4b03-848b-3793807dc1dc"
      },
      "source": [
        "calendar.prcal(2019)"
      ],
      "execution_count": 31,
      "outputs": [
        {
          "output_type": "stream",
          "text": [
            "                                  2019\n",
            "\n",
            "      January                   February                   March\n",
            "Mo Tu We Th Fr Sa Su      Mo Tu We Th Fr Sa Su      Mo Tu We Th Fr Sa Su\n",
            "    1  2  3  4  5  6                   1  2  3                   1  2  3\n",
            " 7  8  9 10 11 12 13       4  5  6  7  8  9 10       4  5  6  7  8  9 10\n",
            "14 15 16 17 18 19 20      11 12 13 14 15 16 17      11 12 13 14 15 16 17\n",
            "21 22 23 24 25 26 27      18 19 20 21 22 23 24      18 19 20 21 22 23 24\n",
            "28 29 30 31               25 26 27 28               25 26 27 28 29 30 31\n",
            "\n",
            "       April                      May                       June\n",
            "Mo Tu We Th Fr Sa Su      Mo Tu We Th Fr Sa Su      Mo Tu We Th Fr Sa Su\n",
            " 1  2  3  4  5  6  7             1  2  3  4  5                      1  2\n",
            " 8  9 10 11 12 13 14       6  7  8  9 10 11 12       3  4  5  6  7  8  9\n",
            "15 16 17 18 19 20 21      13 14 15 16 17 18 19      10 11 12 13 14 15 16\n",
            "22 23 24 25 26 27 28      20 21 22 23 24 25 26      17 18 19 20 21 22 23\n",
            "29 30                     27 28 29 30 31            24 25 26 27 28 29 30\n",
            "\n",
            "        July                     August                  September\n",
            "Mo Tu We Th Fr Sa Su      Mo Tu We Th Fr Sa Su      Mo Tu We Th Fr Sa Su\n",
            " 1  2  3  4  5  6  7                1  2  3  4                         1\n",
            " 8  9 10 11 12 13 14       5  6  7  8  9 10 11       2  3  4  5  6  7  8\n",
            "15 16 17 18 19 20 21      12 13 14 15 16 17 18       9 10 11 12 13 14 15\n",
            "22 23 24 25 26 27 28      19 20 21 22 23 24 25      16 17 18 19 20 21 22\n",
            "29 30 31                  26 27 28 29 30 31         23 24 25 26 27 28 29\n",
            "                                                    30\n",
            "\n",
            "      October                   November                  December\n",
            "Mo Tu We Th Fr Sa Su      Mo Tu We Th Fr Sa Su      Mo Tu We Th Fr Sa Su\n",
            "    1  2  3  4  5  6                   1  2  3                         1\n",
            " 7  8  9 10 11 12 13       4  5  6  7  8  9 10       2  3  4  5  6  7  8\n",
            "14 15 16 17 18 19 20      11 12 13 14 15 16 17       9 10 11 12 13 14 15\n",
            "21 22 23 24 25 26 27      18 19 20 21 22 23 24      16 17 18 19 20 21 22\n",
            "28 29 30 31               25 26 27 28 29 30         23 24 25 26 27 28 29\n",
            "                                                    30 31\n",
            "\n"
          ],
          "name": "stdout"
        }
      ]
    },
    {
      "cell_type": "code",
      "metadata": {
        "id": "V_2wg3kP0gbx",
        "colab_type": "code",
        "colab": {
          "base_uri": "https://localhost:8080/",
          "height": 141
        },
        "outputId": "10c4725c-88c9-4cff-9cae-bfd1cbf0174c"
      },
      "source": [
        "calendar.prmonth(2019, 11)"
      ],
      "execution_count": 32,
      "outputs": [
        {
          "output_type": "stream",
          "text": [
            "   November 2019\n",
            "Mo Tu We Th Fr Sa Su\n",
            "             1  2  3\n",
            " 4  5  6  7  8  9 10\n",
            "11 12 13 14 15 16 17\n",
            "18 19 20 21 22 23 24\n",
            "25 26 27 28 29 30\n"
          ],
          "name": "stdout"
        }
      ]
    },
    {
      "cell_type": "code",
      "metadata": {
        "id": "oKiA-V_d0g-5",
        "colab_type": "code",
        "colab": {
          "base_uri": "https://localhost:8080/",
          "height": 34
        },
        "outputId": "fd79bbfc-eb9c-4880-8bfe-d836de082132"
      },
      "source": [
        "# calendar.weekday\n",
        "# calendar 모듈의 또 다른 유용한 함수를 보자.\n",
        "# weekday(연도, 월, 일) 함수는 그 날짜에 해당하는 요일 정보를 돌려준다.\n",
        "# 월요일은 0, 화요일은 1, 수요일은 2, 목요일은 3, 금요일은 4,\n",
        "# 토요일은 5, 일요일은 6이라는 값을 돌려준다.\n",
        "calendar.weekday(2019, 12, 25)"
      ],
      "execution_count": 33,
      "outputs": [
        {
          "output_type": "execute_result",
          "data": {
            "text/plain": [
              "2"
            ]
          },
          "metadata": {
            "tags": []
          },
          "execution_count": 33
        }
      ]
    },
    {
      "cell_type": "code",
      "metadata": {
        "id": "7SJHoXZO0nn9",
        "colab_type": "code",
        "colab": {
          "base_uri": "https://localhost:8080/",
          "height": 34
        },
        "outputId": "7b6bf8c4-550a-43f5-c094-87de5aaf8316"
      },
      "source": [
        "# calendar.monthrange\n",
        "# monthrange(연도, 월) 함수는 입력받은 달의 1일이 무슨 요일인지와\n",
        "# 그 달이 며칠까지 있는지를 튜플 형태로 돌려준다.\n",
        "calendar.monthrange(2019, 12)"
      ],
      "execution_count": 34,
      "outputs": [
        {
          "output_type": "execute_result",
          "data": {
            "text/plain": [
              "(6, 31)"
            ]
          },
          "metadata": {
            "tags": []
          },
          "execution_count": 34
        }
      ]
    },
    {
      "cell_type": "markdown",
      "metadata": {
        "id": "J6PEPzfV02wF",
        "colab_type": "text"
      },
      "source": [
        "## **random**"
      ]
    },
    {
      "cell_type": "markdown",
      "metadata": {
        "id": "XZFG170m05dz",
        "colab_type": "text"
      },
      "source": [
        "난수(규칙이 없는 임의의 수)를 발생시키는 모듈\n",
        "\n",
        " 마구잡이 수 발생\n",
        " \n",
        " random(), randint()"
      ]
    },
    {
      "cell_type": "code",
      "metadata": {
        "id": "5BapEi6U0pus",
        "colab_type": "code",
        "colab": {}
      },
      "source": [
        "import random"
      ],
      "execution_count": 0,
      "outputs": []
    },
    {
      "cell_type": "markdown",
      "metadata": {
        "id": "JNNPo_xtATMc",
        "colab_type": "text"
      },
      "source": [
        "**random() : 0.0에서 1.0 사이의 실수 중에서 난수 값을 생성**"
      ]
    },
    {
      "cell_type": "code",
      "metadata": {
        "id": "C5Ep88syARsE",
        "colab_type": "code",
        "colab": {}
      },
      "source": [
        "random.random()"
      ],
      "execution_count": 0,
      "outputs": []
    },
    {
      "cell_type": "markdown",
      "metadata": {
        "id": "vIquRcnfAPI0",
        "colab_type": "text"
      },
      "source": [
        "**randint(start, end) : start에서 end 사이의 정수 중에서 난수 값을 생성**"
      ]
    },
    {
      "cell_type": "code",
      "metadata": {
        "id": "MbCAuYh8AJk4",
        "colab_type": "code",
        "colab": {
          "base_uri": "https://localhost:8080/",
          "height": 34
        },
        "outputId": "c095068c-55e8-4c81-c973-e6d638f9bbbe"
      },
      "source": [
        "random.randint(1, 10)"
      ],
      "execution_count": 47,
      "outputs": [
        {
          "output_type": "execute_result",
          "data": {
            "text/plain": [
              "5"
            ]
          },
          "metadata": {
            "tags": []
          },
          "execution_count": 47
        }
      ]
    },
    {
      "cell_type": "code",
      "metadata": {
        "id": "2ldcerKQAKlg",
        "colab_type": "code",
        "colab": {
          "base_uri": "https://localhost:8080/",
          "height": 34
        },
        "outputId": "728ca7f1-2439-4722-dfbe-26c6fc04faae"
      },
      "source": [
        "for i in range(6):\n",
        "    print(random.randint(1, 45), end=\",\")\n",
        "\n",
        "print()\n"
      ],
      "execution_count": 48,
      "outputs": [
        {
          "output_type": "stream",
          "text": [
            "31,13,12,34,23,42,\n"
          ],
          "name": "stdout"
        }
      ]
    },
    {
      "cell_type": "markdown",
      "metadata": {
        "id": "BSYFdYDa40rl",
        "colab_type": "text"
      },
      "source": [
        "**random 모듈을 사용해서 재미있는 함수**"
      ]
    },
    {
      "cell_type": "code",
      "metadata": {
        "id": "xnKzpk_p3t6x",
        "colab_type": "code",
        "colab": {
          "base_uri": "https://localhost:8080/",
          "height": 34
        },
        "outputId": "6e1d252d-5610-4659-8df0-42a56bab548d"
      },
      "source": [
        "import random\n",
        "\n",
        "\n",
        "def random_pop(data):\n",
        "    number = random.randint(0, len(data) - 1)\n",
        "    return data.pop(number)\n",
        "\n",
        "\n",
        "if __name__ == \"__main__\":\n",
        "    data = list(range(1, 10))  # [1, 2, 3, 4, 5]\n",
        "    while data:\n",
        "        print(random_pop(data), end=\" \")\n",
        "    print()\n",
        "\n",
        "# 리스트의 요소 중에서 무작위로 하나를 선택하여 꺼낸 다음 그 값을 돌려준다.\n",
        "# 물론 꺼낸 요소는 pop 메서드에 의해 사라진다."
      ],
      "execution_count": 37,
      "outputs": [
        {
          "output_type": "stream",
          "text": [
            "6 8 7 3 1 2 5 4 9 \n"
          ],
          "name": "stdout"
        }
      ]
    },
    {
      "cell_type": "markdown",
      "metadata": {
        "id": "rmx5YgxV4pk8",
        "colab_type": "text"
      },
      "source": [
        "random_pop 함수는 random 모듈의 choice 함수를 사용하여\n",
        " 다음과 같이 좀 더 직관적으로 만들 수도 있다."
      ]
    },
    {
      "cell_type": "code",
      "metadata": {
        "id": "VV18o8rG3yJO",
        "colab_type": "code",
        "colab": {
          "base_uri": "https://localhost:8080/",
          "height": 34
        },
        "outputId": "69e3132f-a750-4491-97c2-eca3e7d45f3f"
      },
      "source": [
        "def random_pop(data):\n",
        "    number = random.choice(data)\n",
        "    data.remove(number)\n",
        "    return number\n",
        "\n",
        "\n",
        "random_pop([1, 2, 3, 4, 5])\n",
        "\n",
        "if __name__ == \"__main__\":\n",
        "    data = list(range(1, 10))  # [1, 2, 3, 4, 5]\n",
        "    while data:\n",
        "        print(random_pop(data), end=\" \")\n",
        "    print()"
      ],
      "execution_count": 38,
      "outputs": [
        {
          "output_type": "stream",
          "text": [
            "6 5 9 2 4 7 3 8 1 \n"
          ],
          "name": "stdout"
        }
      ]
    },
    {
      "cell_type": "code",
      "metadata": {
        "id": "RV-Gq1Oa36Ap",
        "colab_type": "code",
        "colab": {}
      },
      "source": [
        "#####################################################\n",
        "# 다음의 의미\n",
        "# if __name__ == \"__main__\":\n",
        "# https://pinocc.tistory.com/175\n",
        "#\n",
        "# Filename: using_name.py\n",
        "\"\"\"\n",
        "if __name__ == '__main__':\n",
        "\tprint 'This program is being run by itself'\n",
        "else:\n",
        "\tprint 'I am being imported from another module'\n",
        "\"\"\"\n",
        "# 직접 실행\n",
        "# python using_name.py\n",
        "# This program is being run by itself\n",
        "\n",
        "# 모듈로 import 되어 실행\n",
        "# >>> import using_name\n",
        "# >>> I am being imported from another module\n",
        "#####################################################"
      ],
      "execution_count": 0,
      "outputs": []
    },
    {
      "cell_type": "markdown",
      "metadata": {
        "id": "iABFykgj4jQ8",
        "colab_type": "text"
      },
      "source": [
        "리스트의 항목을 무작위로 섞고 싶을 때는 random.shuffle 함수를 사용"
      ]
    },
    {
      "cell_type": "code",
      "metadata": {
        "id": "3JSpkj67389G",
        "colab_type": "code",
        "colab": {}
      },
      "source": [
        "import random\n",
        "\n",
        "data = [1, 2, 3, 4, 5]\n",
        "random.shuffle(data)\n",
        "data"
      ],
      "execution_count": 0,
      "outputs": []
    },
    {
      "cell_type": "markdown",
      "metadata": {
        "id": "C0_sKGon4DWc",
        "colab_type": "text"
      },
      "source": [
        "## **webbrowser**"
      ]
    },
    {
      "cell_type": "markdown",
      "metadata": {
        "id": "HbddvBgn4Mvr",
        "colab_type": "text"
      },
      "source": [
        "webbrowser는 자신의 시스템에서 사용하는 기본 웹 브라우저를 자동으로 실행하는 모듈"
      ]
    },
    {
      "cell_type": "code",
      "metadata": {
        "id": "Wvq1GP0D3_RR",
        "colab_type": "code",
        "colab": {
          "base_uri": "https://localhost:8080/",
          "height": 34
        },
        "outputId": "407fd67b-e046-468e-b8d8-0a3efca95c7b"
      },
      "source": [
        "import webbrowser\n",
        "\n",
        "webbrowser.open(\"http://google.com\")"
      ],
      "execution_count": 40,
      "outputs": [
        {
          "output_type": "execute_result",
          "data": {
            "text/plain": [
              "False"
            ]
          },
          "metadata": {
            "tags": []
          },
          "execution_count": 40
        }
      ]
    },
    {
      "cell_type": "markdown",
      "metadata": {
        "id": "Zhy1tYGF9Wa2",
        "colab_type": "text"
      },
      "source": [
        "**새로운 창/탭으로 열기**"
      ]
    },
    {
      "cell_type": "code",
      "metadata": {
        "id": "C9R4lcxX5FSQ",
        "colab_type": "code",
        "colab": {}
      },
      "source": [
        "webbrowser.open_new(\"http://google.com\")"
      ],
      "execution_count": 0,
      "outputs": []
    }
  ]
}