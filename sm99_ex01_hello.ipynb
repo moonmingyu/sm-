{
  "nbformat": 4,
  "nbformat_minor": 0,
  "metadata": {
    "colab": {
      "name": "sm99_ex01_hello.ipynb",
      "version": "0.3.2",
      "provenance": [],
      "collapsed_sections": [],
      "toc_visible": true,
      "include_colab_link": true
    },
    "kernelspec": {
      "name": "python3",
      "display_name": "Python 3"
    }
  },
  "cells": [
    {
      "cell_type": "markdown",
      "metadata": {
        "id": "view-in-github",
        "colab_type": "text"
      },
      "source": [
        "<a href=\"https://colab.research.google.com/github/moonmingyu/sm-/blob/master/sm99_ex01_hello.ipynb\" target=\"_parent\"><img src=\"https://colab.research.google.com/assets/colab-badge.svg\" alt=\"Open In Colab\"/></a>"
      ]
    },
    {
      "cell_type": "markdown",
      "metadata": {
        "id": "twGJ3_8OdpDI",
        "colab_type": "text"
      },
      "source": [
        "## sm01 report1"
      ]
    },
    {
      "cell_type": "code",
      "metadata": {
        "id": "0oaZmsXidkpT",
        "colab_type": "code",
        "colab": {
          "base_uri": "https://localhost:8080/",
          "height": 35
        },
        "outputId": "279b6393-fd35-45a2-9aec-16ebcdf628f7"
      },
      "source": [
        "a=1\n",
        "b=2\n",
        "c=a+b\n",
        "print(c)"
      ],
      "execution_count": 1,
      "outputs": [
        {
          "output_type": "stream",
          "text": [
            "3\n"
          ],
          "name": "stdout"
        }
      ]
    },
    {
      "cell_type": "markdown",
      "metadata": {
        "id": "mZpVfkTwe_Or",
        "colab_type": "text"
      },
      "source": [
        "#### 문자열 출력"
      ]
    },
    {
      "cell_type": "code",
      "metadata": {
        "id": "hf-4zUsceNR0",
        "colab_type": "code",
        "colab": {
          "base_uri": "https://localhost:8080/",
          "height": 35
        },
        "outputId": "5c312d3c-e2dc-45ff-f542-6bfdd8c5961e"
      },
      "source": [
        "########################################\n",
        "s1=\"Hello Python!\"\n",
        "print(s1)"
      ],
      "execution_count": 2,
      "outputs": [
        {
          "output_type": "stream",
          "text": [
            "Hello Python!\n"
          ],
          "name": "stdout"
        }
      ]
    },
    {
      "cell_type": "markdown",
      "metadata": {
        "id": "Qge0s8IgfCy7",
        "colab_type": "text"
      },
      "source": [
        "#### list 선언과 출력"
      ]
    },
    {
      "cell_type": "code",
      "metadata": {
        "id": "CB8JKL33eblc",
        "colab_type": "code",
        "colab": {
          "base_uri": "https://localhost:8080/",
          "height": 71
        },
        "outputId": "d5bfe195-60d8-4869-97bc-3dd3e3936945"
      },
      "source": [
        "#---------------------------------------\n",
        "x=[1,2,3]\n",
        "y=[7,8,9]\n",
        "print(x)\n",
        "print(x,y)\n",
        "x+y"
      ],
      "execution_count": 3,
      "outputs": [
        {
          "output_type": "stream",
          "text": [
            "[1, 2, 3]\n",
            "[1, 2, 3] [7, 8, 9]\n"
          ],
          "name": "stdout"
        },
        {
          "output_type": "execute_result",
          "data": {
            "text/plain": [
              "[1, 2, 3, 7, 8, 9]"
            ]
          },
          "metadata": {
            "tags": []
          },
          "execution_count": 3
        }
      ]
    },
    {
      "cell_type": "markdown",
      "metadata": {
        "id": "q46wf2iQfNGy",
        "colab_type": "text"
      },
      "source": [
        "#### 함수정의와 실행"
      ]
    },
    {
      "cell_type": "code",
      "metadata": {
        "id": "AehRPtRJehHj",
        "colab_type": "code",
        "colab": {
          "base_uri": "https://localhost:8080/",
          "height": 53
        },
        "outputId": "ee0678d5-4f96-4038-d450-9e9f4b3292b1"
      },
      "source": [
        "#function\n",
        "def add(a,b):\n",
        "    return a+b\n",
        "#---------------------------------------\n",
        "print(add(1,2))\n",
        "print(add(x,y))"
      ],
      "execution_count": 5,
      "outputs": [
        {
          "output_type": "stream",
          "text": [
            "3\n",
            "[1, 2, 3, 7, 8, 9]\n"
          ],
          "name": "stdout"
        }
      ]
    }
  ]
}