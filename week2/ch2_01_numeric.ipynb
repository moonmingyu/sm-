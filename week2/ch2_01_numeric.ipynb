{
  "nbformat": 4,
  "nbformat_minor": 0,
  "metadata": {
    "colab": {
      "name": "ch2_01_numeric.ipynb",
      "provenance": [],
      "collapsed_sections": [],
      "include_colab_link": true
    },
    "kernelspec": {
      "name": "python3",
      "display_name": "Python 3"
    }
  },
  "cells": [
    {
      "cell_type": "markdown",
      "metadata": {
        "id": "view-in-github",
        "colab_type": "text"
      },
      "source": [
        "<a href=\"https://colab.research.google.com/github/moonmingyu/sm-/blob/master/week2/ch2_01_numeric.ipynb\" target=\"_parent\"><img src=\"https://colab.research.google.com/assets/colab-badge.svg\" alt=\"Open In Colab\"/></a>"
      ]
    },
    {
      "cell_type": "markdown",
      "metadata": {
        "id": "9hyv15dDl9ne",
        "colab_type": "text"
      },
      "source": [
        "## **파이썬 데이터 숫자형**"
      ]
    },
    {
      "cell_type": "markdown",
      "metadata": {
        "id": "gP4jwQbcme_J",
        "colab_type": "text"
      },
      "source": [
        "**숫자형 정수**"
      ]
    },
    {
      "cell_type": "code",
      "metadata": {
        "id": "o2I52LE8k4GN",
        "colab_type": "code",
        "colab": {
          "base_uri": "https://localhost:8080/",
          "height": 54
        },
        "outputId": "c68150f5-9e72-41c0-aa3b-d605d5c629d8"
      },
      "source": [
        "# ch2_01_numeric.py\n",
        "#\n",
        "print(\"숫자형: 정수\")\n",
        "a = 123\n",
        "b = -178\n",
        "c = 0\n",
        "print(a,b,c)\n"
      ],
      "execution_count": 2,
      "outputs": [
        {
          "output_type": "stream",
          "text": [
            "숫자형: 정수\n",
            "123 -178 0\n"
          ],
          "name": "stdout"
        }
      ]
    },
    {
      "cell_type": "code",
      "metadata": {
        "id": "YEna60_hqv2_",
        "colab_type": "code",
        "colab": {}
      },
      "source": [
        ""
      ],
      "execution_count": 0,
      "outputs": []
    },
    {
      "cell_type": "markdown",
      "metadata": {
        "id": "T-OyVs_pmeFZ",
        "colab_type": "text"
      },
      "source": [
        "**숫자형 실수**"
      ]
    },
    {
      "cell_type": "code",
      "metadata": {
        "id": "tt_bYeo_mqJB",
        "colab_type": "code",
        "colab": {
          "base_uri": "https://localhost:8080/",
          "height": 54
        },
        "outputId": "ecf05359-932a-4cc7-9bac-85d05a30d80d"
      },
      "source": [
        "print(\"숫자형: 실수\")\n",
        "a = 1.2\n",
        "b = -3.48\n",
        "c = 4.24e10\n",
        "d = 4.24e-10\n",
        "a,b,c,d"
      ],
      "execution_count": 8,
      "outputs": [
        {
          "output_type": "stream",
          "text": [
            "숫자형: 실수\n"
          ],
          "name": "stdout"
        },
        {
          "output_type": "execute_result",
          "data": {
            "text/plain": [
              "(1.2, -3.48, 42400000000.0, 4.24e-10)"
            ]
          },
          "metadata": {
            "tags": []
          },
          "execution_count": 8
        }
      ]
    },
    {
      "cell_type": "markdown",
      "metadata": {
        "id": "gHOXLBiWl6dJ",
        "colab_type": "text"
      },
      "source": [
        "**숫자형 8진수와 16진수**"
      ]
    },
    {
      "cell_type": "code",
      "metadata": {
        "id": "RTMHRY7Jm0Ap",
        "colab_type": "code",
        "colab": {
          "base_uri": "https://localhost:8080/",
          "height": 54
        },
        "outputId": "f5f260e3-ad23-4f7a-ed98-0128890b2699"
      },
      "source": [
        "print(\"숫자형: 8진수와 16진수\")\n",
        "a = 0o177  # 0o -> 8진수\n",
        "b = 0x8FF  # 0x -> 16진수\n",
        "c = 0xABC\n",
        "a,b,c"
      ],
      "execution_count": 10,
      "outputs": [
        {
          "output_type": "stream",
          "text": [
            "숫자형: 8진수와 16진수\n"
          ],
          "name": "stdout"
        },
        {
          "output_type": "execute_result",
          "data": {
            "text/plain": [
              "(127, 2303, 2748)"
            ]
          },
          "metadata": {
            "tags": []
          },
          "execution_count": 10
        }
      ]
    },
    {
      "cell_type": "markdown",
      "metadata": {
        "id": "GgkyK1fTnD7J",
        "colab_type": "text"
      },
      "source": [
        "**숫자형 연산자와 연산**"
      ]
    },
    {
      "cell_type": "code",
      "metadata": {
        "id": "QVj-A9v4nJJ4",
        "colab_type": "code",
        "colab": {
          "base_uri": "https://localhost:8080/",
          "height": 54
        },
        "outputId": "ab8f0c38-b2e8-442a-fe35-63e0e1162f88"
      },
      "source": [
        "print(\"숫자형: 연산자와 연산\")\n",
        "a = 3\n",
        "b = 4\n",
        "a,b\n"
      ],
      "execution_count": 11,
      "outputs": [
        {
          "output_type": "stream",
          "text": [
            "숫자형: 연산자와 연산\n"
          ],
          "name": "stdout"
        },
        {
          "output_type": "execute_result",
          "data": {
            "text/plain": [
              "(3, 4)"
            ]
          },
          "metadata": {
            "tags": []
          },
          "execution_count": 11
        }
      ]
    },
    {
      "cell_type": "code",
      "metadata": {
        "id": "4ugvU41SpfeK",
        "colab_type": "code",
        "colab": {
          "base_uri": "https://localhost:8080/",
          "height": 54
        },
        "outputId": "74e5f0f4-68d1-4b5f-a58a-16f1d6852571"
      },
      "source": [
        "print(a + b, a * b, a / b)\n",
        "f = a ** b  #지수\n",
        "g = a % b\n",
        "h = a // b  # a를 b로나눈 몫\n",
        "f,g,h"
      ],
      "execution_count": 21,
      "outputs": [
        {
          "output_type": "stream",
          "text": [
            "7 12 0.75\n"
          ],
          "name": "stdout"
        },
        {
          "output_type": "execute_result",
          "data": {
            "text/plain": [
              "(81, 3, 0)"
            ]
          },
          "metadata": {
            "tags": []
          },
          "execution_count": 21
        }
      ]
    },
    {
      "cell_type": "code",
      "metadata": {
        "id": "uPTYHu3epqhl",
        "colab_type": "code",
        "colab": {
          "base_uri": "https://localhost:8080/",
          "height": 35
        },
        "outputId": "95d8ad11-b724-4fd5-df16-7a774bce9ccf"
      },
      "source": [
        "14 // 3\n"
      ],
      "execution_count": 24,
      "outputs": [
        {
          "output_type": "execute_result",
          "data": {
            "text/plain": [
              "4"
            ]
          },
          "metadata": {
            "tags": []
          },
          "execution_count": 24
        }
      ]
    },
    {
      "cell_type": "code",
      "metadata": {
        "id": "mE58PzOnqcZI",
        "colab_type": "code",
        "colab": {
          "base_uri": "https://localhost:8080/",
          "height": 35
        },
        "outputId": "02940ae2-2dfc-40c7-d462-3bf4ca466a96"
      },
      "source": [
        "14 % 3"
      ],
      "execution_count": 23,
      "outputs": [
        {
          "output_type": "execute_result",
          "data": {
            "text/plain": [
              "2"
            ]
          },
          "metadata": {
            "tags": []
          },
          "execution_count": 23
        }
      ]
    }
  ]
}