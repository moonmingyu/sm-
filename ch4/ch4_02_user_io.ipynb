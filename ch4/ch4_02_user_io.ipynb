{
  "nbformat": 4,
  "nbformat_minor": 0,
  "metadata": {
    "colab": {
      "name": "ch4_02_user_io.ipynb",
      "provenance": [],
      "collapsed_sections": [],
      "include_colab_link": true
    },
    "kernelspec": {
      "name": "python3",
      "display_name": "Python 3"
    }
  },
  "cells": [
    {
      "cell_type": "markdown",
      "metadata": {
        "id": "view-in-github",
        "colab_type": "text"
      },
      "source": [
        "<a href=\"https://colab.research.google.com/github/moonmingyu/sm-/blob/master/ch4/ch4_02_user_io.ipynb\" target=\"_parent\"><img src=\"https://colab.research.google.com/assets/colab-badge.svg\" alt=\"Open In Colab\"/></a>"
      ]
    },
    {
      "cell_type": "markdown",
      "metadata": {
        "id": "xr2oT2iZzO8S",
        "colab_type": "text"
      },
      "source": [
        "# 사용자 입력과 출력"
      ]
    },
    {
      "cell_type": "markdown",
      "metadata": {
        "id": "FNyDkwaPzUrm",
        "colab_type": "text"
      },
      "source": [
        "## 사용자의 입력을 받는 방법과 출력하는 방법"
      ]
    },
    {
      "cell_type": "markdown",
      "metadata": {
        "id": "kypaTCA9zg7x",
        "colab_type": "text"
      },
      "source": [
        "## 사용자 입력"
      ]
    },
    {
      "cell_type": "markdown",
      "metadata": {
        "id": "o-ZPPP1Wzjjp",
        "colab_type": "text"
      },
      "source": [
        "**사용자가 입력한 값을 어떤 변수에 대입**"
      ]
    },
    {
      "cell_type": "markdown",
      "metadata": {
        "id": "wi_tqJRazo_i",
        "colab_type": "text"
      },
      "source": [
        "### input의 사용"
      ]
    },
    {
      "cell_type": "code",
      "metadata": {
        "id": "nZOCvls7z3Id",
        "colab_type": "code",
        "colab": {
          "base_uri": "https://localhost:8080/",
          "height": 53
        },
        "outputId": "6e6935a8-b85d-4491-ada5-05f9b0a7b99a"
      },
      "source": [
        "a = input()\n",
        "a"
      ],
      "execution_count": 1,
      "outputs": [
        {
          "output_type": "stream",
          "text": [
            "Life is too short, you need python\n"
          ],
          "name": "stdout"
        },
        {
          "output_type": "execute_result",
          "data": {
            "text/plain": [
              "'Life is too short, you need python'"
            ]
          },
          "metadata": {
            "tags": []
          },
          "execution_count": 1
        }
      ]
    },
    {
      "cell_type": "markdown",
      "metadata": {
        "id": "RfIFPY9N0D1H",
        "colab_type": "text"
      },
      "source": [
        "### **입력 안내 문구를 이용한 input의 사용**"
      ]
    },
    {
      "cell_type": "markdown",
      "metadata": {
        "id": "vpgZrX1w0M0Z",
        "colab_type": "text"
      },
      "source": [
        "input(\"안내 문구\")"
      ]
    },
    {
      "cell_type": "code",
      "metadata": {
        "id": "rzYqoLFFzJRJ",
        "colab_type": "code",
        "colab": {
          "base_uri": "https://localhost:8080/",
          "height": 53
        },
        "outputId": "f2a90e73-c9ec-4073-91ae-234137ffed53"
      },
      "source": [
        "number = input(\"숫자를 입력하세요: \")\n",
        "\n",
        "print(number)"
      ],
      "execution_count": 2,
      "outputs": [
        {
          "output_type": "stream",
          "text": [
            "숫자를 입력하세요: 123\n",
            "123\n"
          ],
          "name": "stdout"
        }
      ]
    },
    {
      "cell_type": "markdown",
      "metadata": {
        "id": "jiP6xwRh0Sph",
        "colab_type": "text"
      },
      "source": [
        "### 사용자 출력: print()"
      ]
    },
    {
      "cell_type": "markdown",
      "metadata": {
        "id": "fSdj-tG-0XyZ",
        "colab_type": "text"
      },
      "source": [
        "입력한 자료형을 출력"
      ]
    },
    {
      "cell_type": "markdown",
      "metadata": {
        "id": "qjeyYQwb0ZGB",
        "colab_type": "text"
      },
      "source": [
        ""
      ]
    },
    {
      "cell_type": "markdown",
      "metadata": {
        "id": "nDW3ZokM0al6",
        "colab_type": "text"
      },
      "source": [
        "### print의 사용"
      ]
    },
    {
      "cell_type": "code",
      "metadata": {
        "id": "YzmLvsUm0Pq2",
        "colab_type": "code",
        "colab": {
          "base_uri": "https://localhost:8080/",
          "height": 35
        },
        "outputId": "f355ca0e-772c-4bab-9694-c730677b8daa"
      },
      "source": [
        "a = 123\n",
        "print(a)"
      ],
      "execution_count": 3,
      "outputs": [
        {
          "output_type": "stream",
          "text": [
            "123\n"
          ],
          "name": "stdout"
        }
      ]
    },
    {
      "cell_type": "code",
      "metadata": {
        "id": "ZjplSVW90hf1",
        "colab_type": "code",
        "colab": {
          "base_uri": "https://localhost:8080/",
          "height": 35
        },
        "outputId": "a1d07389-0527-4a3a-ae77-ef11694261bc"
      },
      "source": [
        "a = \"Python\"\n",
        "print(a)"
      ],
      "execution_count": 4,
      "outputs": [
        {
          "output_type": "stream",
          "text": [
            "Python\n"
          ],
          "name": "stdout"
        }
      ]
    },
    {
      "cell_type": "code",
      "metadata": {
        "id": "6cesnm8z0iFq",
        "colab_type": "code",
        "colab": {
          "base_uri": "https://localhost:8080/",
          "height": 35
        },
        "outputId": "388975da-8b1f-4c28-f6d3-fdcfc283fc83"
      },
      "source": [
        "a = [1, 2, 3]\n",
        "print(a)"
      ],
      "execution_count": 5,
      "outputs": [
        {
          "output_type": "stream",
          "text": [
            "[1, 2, 3]\n"
          ],
          "name": "stdout"
        }
      ]
    },
    {
      "cell_type": "markdown",
      "metadata": {
        "id": "D2-8qlW30n4p",
        "colab_type": "text"
      },
      "source": [
        "### 큰따옴표(\\\")로 둘러싸인 문자열은 + 연산과 동일"
      ]
    },
    {
      "cell_type": "code",
      "metadata": {
        "id": "MGxsJDUt0irt",
        "colab_type": "code",
        "colab": {
          "base_uri": "https://localhost:8080/",
          "height": 53
        },
        "outputId": "70b7dee5-a885-4bcc-eec1-948bfc280a3f"
      },
      "source": [
        "print(\"life\" \"is\" \"too short\")\n",
        "print(\"life\"+\"is\"+\"too short\")"
      ],
      "execution_count": 6,
      "outputs": [
        {
          "output_type": "stream",
          "text": [
            "lifeistoo short\n",
            "lifeistoo short\n"
          ],
          "name": "stdout"
        }
      ]
    },
    {
      "cell_type": "markdown",
      "metadata": {
        "id": "PASkayqp0wXZ",
        "colab_type": "text"
      },
      "source": [
        "### 문자열 띄어쓰기는 콤마로 한다"
      ]
    },
    {
      "cell_type": "code",
      "metadata": {
        "id": "QE-YP0-v0roe",
        "colab_type": "code",
        "colab": {
          "base_uri": "https://localhost:8080/",
          "height": 53
        },
        "outputId": "0198d2f9-0333-4820-d02d-2343ed9775db"
      },
      "source": [
        "print(\"life\", \"is\", \"too short\")\n",
        "print(\"life\"+\" is\" + \" too short\")"
      ],
      "execution_count": 7,
      "outputs": [
        {
          "output_type": "stream",
          "text": [
            "life is too short\n",
            "life is too short\n"
          ],
          "name": "stdout"
        }
      ]
    },
    {
      "cell_type": "markdown",
      "metadata": {
        "id": "GLmRqSUB01yR",
        "colab_type": "text"
      },
      "source": [
        "### 한 줄에 결괏값 출력하기"
      ]
    },
    {
      "cell_type": "code",
      "metadata": {
        "id": "JiX0wslz0zB9",
        "colab_type": "code",
        "colab": {
          "base_uri": "https://localhost:8080/",
          "height": 35
        },
        "outputId": "e7de83b8-0554-4995-c011-af23bb82e199"
      },
      "source": [
        "for i in range(10):\n",
        "    print(i, end=' ')  # 한칸 띄우고 한줄로 출력된다"
      ],
      "execution_count": 8,
      "outputs": [
        {
          "output_type": "stream",
          "text": [
            "0 1 2 3 4 5 6 7 8 9 "
          ],
          "name": "stdout"
        }
      ]
    }
  ]
}