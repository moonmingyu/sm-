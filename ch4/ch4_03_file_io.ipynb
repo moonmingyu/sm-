{
  "nbformat": 4,
  "nbformat_minor": 0,
  "metadata": {
    "colab": {
      "name": "ch4_03_file_io.ipynb",
      "provenance": [],
      "collapsed_sections": [],
      "include_colab_link": true
    },
    "kernelspec": {
      "name": "python3",
      "display_name": "Python 3"
    }
  },
  "cells": [
    {
      "cell_type": "markdown",
      "metadata": {
        "id": "view-in-github",
        "colab_type": "text"
      },
      "source": [
        "<a href=\"https://colab.research.google.com/github/moonmingyu/sm-/blob/master/ch4/ch4_03_file_io.ipynb\" target=\"_parent\"><img src=\"https://colab.research.google.com/assets/colab-badge.svg\" alt=\"Open In Colab\"/></a>"
      ]
    },
    {
      "cell_type": "markdown",
      "metadata": {
        "id": "T52sN-E71JiR",
        "colab_type": "text"
      },
      "source": [
        "# 파일 읽고 쓰기"
      ]
    },
    {
      "cell_type": "markdown",
      "metadata": {
        "id": "UUkkXcE91N2h",
        "colab_type": "text"
      },
      "source": [
        "**파일을 통한 입출력 방법에 대해 알아보자.**"
      ]
    },
    {
      "cell_type": "markdown",
      "metadata": {
        "id": "kDmTsiQr1XXI",
        "colab_type": "text"
      },
      "source": [
        "## 파일 쓰기(생성하기)"
      ]
    },
    {
      "cell_type": "markdown",
      "metadata": {
        "id": "7YFL2_VT1bkh",
        "colab_type": "text"
      },
      "source": [
        "파일 객체 = open(파일 이름, 파일 열기 모드)\n",
        "\n",
        "파일열기모드\n",
        "\n",
        "r\t읽기모드 - 파일을 읽기만 할 때 사용\n",
        "\n",
        "w\t쓰기모드 - 파일에 내용을 쓸 때 사용\n",
        "\n",
        "a\t추가모드 - 파일의 마지막에 새로운 내용을 추가 시킬 때 사용"
      ]
    },
    {
      "cell_type": "code",
      "metadata": {
        "id": "cKczse8l0_vR",
        "colab_type": "code",
        "colab": {}
      },
      "source": [
        "f = open(\"새파일.txt\", \"w\")  # 같은이름으로 새로운 파일이 만들어진다\n",
        "f.close()"
      ],
      "execution_count": 0,
      "outputs": []
    },
    {
      "cell_type": "markdown",
      "metadata": {
        "id": "fz2Shh4H1miJ",
        "colab_type": "text"
      },
      "source": [
        "**파일이 어디에 만들어졌는 지 확인하기**\n",
        " \n",
        " import os - >  os.system(\"dir\")"
      ]
    },
    {
      "cell_type": "markdown",
      "metadata": {
        "id": "e6zcwA8611UQ",
        "colab_type": "text"
      },
      "source": [
        "### 다른 폴더에 파일 생성"
      ]
    },
    {
      "cell_type": "code",
      "metadata": {
        "id": "i73SKeoS15Jt",
        "colab_type": "code",
        "colab": {}
      },
      "source": [
        "f = open(\"C:/doit/새파일.txt\", 'w')\n",
        "f.close()"
      ],
      "execution_count": 0,
      "outputs": []
    },
    {
      "cell_type": "markdown",
      "metadata": {
        "id": "PDHJPcSe1-h_",
        "colab_type": "text"
      },
      "source": [
        "## 파일을 쓰기 모드로 열어 출력값 적기"
      ]
    },
    {
      "cell_type": "markdown",
      "metadata": {
        "id": "QDenSdI12FQv",
        "colab_type": "text"
      },
      "source": [
        "**프로그램의 출력값을 파일에 직접 써 보자.**"
      ]
    },
    {
      "cell_type": "markdown",
      "metadata": {
        "id": "TSqUMxXv2J0A",
        "colab_type": "text"
      },
      "source": [
        "### 모니터에 출력"
      ]
    },
    {
      "cell_type": "code",
      "metadata": {
        "id": "BxMDW_-r1kIA",
        "colab_type": "code",
        "colab": {}
      },
      "source": [
        "for i in range(1, 11):\n",
        "    data = \"%d번째 줄입니다.\\n\" % i\n",
        "    print(data)"
      ],
      "execution_count": 0,
      "outputs": []
    },
    {
      "cell_type": "markdown",
      "metadata": {
        "id": "etbDN_712RBH",
        "colab_type": "text"
      },
      "source": [
        "### 파일에 기록(출력)"
      ]
    },
    {
      "cell_type": "code",
      "metadata": {
        "id": "uDWjsPs42OU8",
        "colab_type": "code",
        "colab": {}
      },
      "source": [
        "f = open(\"./새파일.txt\", \"w\")\n",
        "for i in range(1, 11):\n",
        "    data = \"%d번째 줄입니다.\\n\" % i\n",
        "    f.write(data)\n",
        "\n",
        "\n",
        "f.close()"
      ],
      "execution_count": 0,
      "outputs": []
    },
    {
      "cell_type": "markdown",
      "metadata": {
        "id": "quRvd0Hq2aqv",
        "colab_type": "text"
      },
      "source": [
        " 출력 파일의 한글이 깨지면\n",
        " \n",
        " 파일 > 기본설정 > 설정 > Files: Auto Guess Encoding 을 지정(check)"
      ]
    },
    {
      "cell_type": "markdown",
      "metadata": {
        "id": "jm8j9ieH2gSX",
        "colab_type": "text"
      },
      "source": [
        "### 파일 읽기"
      ]
    },
    {
      "cell_type": "markdown",
      "metadata": {
        "id": "P-WEed392rOw",
        "colab_type": "text"
      },
      "source": [
        "파일 객체 = open(파일 이름, 파일 열기 모드)\n",
        "\n",
        "파일읽기\n",
        "\n",
        "readline() 함수 이용하기\n",
        "\n",
        "readlines 함수 사용하기\n",
        "\n",
        "read 함수 사용하기"
      ]
    },
    {
      "cell_type": "markdown",
      "metadata": {
        "id": "h5Ra3HQl213g",
        "colab_type": "text"
      },
      "source": [
        "## 1. readline() 함수"
      ]
    },
    {
      "cell_type": "code",
      "metadata": {
        "id": "ItiKzlqI2XKW",
        "colab_type": "code",
        "colab": {
          "base_uri": "https://localhost:8080/",
          "height": 226
        },
        "outputId": "d5fec00b-5e2f-4529-9e0d-92926ecd33e8"
      },
      "source": [
        "f = open(\"새파일.txt\", \"r\")\n",
        "line = f.readline() # 한줄을 읽는다\n",
        "print(line)\n",
        "f.close()"
      ],
      "execution_count": 1,
      "outputs": [
        {
          "output_type": "error",
          "ename": "FileNotFoundError",
          "evalue": "ignored",
          "traceback": [
            "\u001b[0;31m---------------------------------------------------------------------------\u001b[0m",
            "\u001b[0;31mFileNotFoundError\u001b[0m                         Traceback (most recent call last)",
            "\u001b[0;32m<ipython-input-1-33f808c73148>\u001b[0m in \u001b[0;36m<module>\u001b[0;34m()\u001b[0m\n\u001b[0;32m----> 1\u001b[0;31m \u001b[0mf\u001b[0m \u001b[0;34m=\u001b[0m \u001b[0mopen\u001b[0m\u001b[0;34m(\u001b[0m\u001b[0;34m\"새파일.txt\"\u001b[0m\u001b[0;34m,\u001b[0m \u001b[0;34m\"r\"\u001b[0m\u001b[0;34m)\u001b[0m\u001b[0;34m\u001b[0m\u001b[0;34m\u001b[0m\u001b[0m\n\u001b[0m\u001b[1;32m      2\u001b[0m \u001b[0mline\u001b[0m \u001b[0;34m=\u001b[0m \u001b[0mf\u001b[0m\u001b[0;34m.\u001b[0m\u001b[0mreadline\u001b[0m\u001b[0;34m(\u001b[0m\u001b[0;34m)\u001b[0m \u001b[0;31m# 한줄을 읽는다\u001b[0m\u001b[0;34m\u001b[0m\u001b[0;34m\u001b[0m\u001b[0m\n\u001b[1;32m      3\u001b[0m \u001b[0mprint\u001b[0m\u001b[0;34m(\u001b[0m\u001b[0mline\u001b[0m\u001b[0;34m)\u001b[0m\u001b[0;34m\u001b[0m\u001b[0;34m\u001b[0m\u001b[0m\n\u001b[1;32m      4\u001b[0m \u001b[0mf\u001b[0m\u001b[0;34m.\u001b[0m\u001b[0mclose\u001b[0m\u001b[0;34m(\u001b[0m\u001b[0;34m)\u001b[0m\u001b[0;34m\u001b[0m\u001b[0;34m\u001b[0m\u001b[0m\n",
            "\u001b[0;31mFileNotFoundError\u001b[0m: [Errno 2] No such file or directory: '새파일.txt'"
          ]
        }
      ]
    },
    {
      "cell_type": "code",
      "metadata": {
        "id": "mFWKdzbj26BK",
        "colab_type": "code",
        "colab": {}
      },
      "source": [
        "f = open(\"새파일.txt\", \"r\")\n",
        "while True:\n",
        "    line = f.readline()\n",
        "    if not line: # 글자가 하나도없으면 not line가 true가된다\n",
        "        break\n",
        "    print(line)\n",
        "f.close()"
      ],
      "execution_count": 0,
      "outputs": []
    },
    {
      "cell_type": "markdown",
      "metadata": {
        "id": "EzkC0Xd23Co4",
        "colab_type": "text"
      },
      "source": [
        "**사용자 입력을 이용한 화면 출력**"
      ]
    },
    {
      "cell_type": "code",
      "metadata": {
        "id": "XSScpDox2-Mx",
        "colab_type": "code",
        "colab": {}
      },
      "source": [
        "while 1:\n",
        "    data = input()\n",
        "    if not data:\n",
        "        break\n",
        "    print(data)\n"
      ],
      "execution_count": 0,
      "outputs": []
    },
    {
      "cell_type": "markdown",
      "metadata": {
        "id": "rrVeuDqJ3NnP",
        "colab_type": "text"
      },
      "source": [
        "## 2. readlines() 함수"
      ]
    },
    {
      "cell_type": "code",
      "metadata": {
        "id": "viUFa62s3KC7",
        "colab_type": "code",
        "colab": {}
      },
      "source": [
        "f = open(\"새파일.txt\", \"r\")\n",
        "lines = f.readlines()\n",
        "for line in lines:\n",
        "    print(line)  # , end=\"\")\n",
        "f.close()"
      ],
      "execution_count": 0,
      "outputs": []
    },
    {
      "cell_type": "markdown",
      "metadata": {
        "id": "FB58yvHm3RuQ",
        "colab_type": "text"
      },
      "source": [
        "## 3. read() 함수"
      ]
    },
    {
      "cell_type": "code",
      "metadata": {
        "id": "p-DAVoSN3Qjb",
        "colab_type": "code",
        "colab": {}
      },
      "source": [
        "f = open(\"새파일.txt\", \"r\")\n",
        "data = f.read()\n",
        "print(data)\n",
        "f.close()"
      ],
      "execution_count": 0,
      "outputs": []
    },
    {
      "cell_type": "markdown",
      "metadata": {
        "id": "aV7I5S4z3ZTn",
        "colab_type": "text"
      },
      "source": [
        "# 파일에 새로운 내용 추가하기"
      ]
    },
    {
      "cell_type": "markdown",
      "metadata": {
        "id": "krJ36ruJ3gmv",
        "colab_type": "text"
      },
      "source": [
        "파일에 원래 있던 값을 유지하면서 단지 새로운 값만 추가\n",
        "\n",
        "파일을 추가 모드('a')로 열고 쓴다."
      ]
    },
    {
      "cell_type": "code",
      "metadata": {
        "id": "xKxC0T3B3WLi",
        "colab_type": "code",
        "colab": {}
      },
      "source": [
        "f = open(\"새파일.txt\", \"a\")\n",
        "for i in range(11, 20):\n",
        "    data = \"%d번째 줄입니다.\\n\" % i\n",
        "    f.write(data)\n",
        "f.close()"
      ],
      "execution_count": 0,
      "outputs": []
    },
    {
      "cell_type": "markdown",
      "metadata": {
        "id": "DyyDEHV23obn",
        "colab_type": "text"
      },
      "source": [
        "\n",
        "### 수정된 파일 확인"
      ]
    },
    {
      "cell_type": "code",
      "metadata": {
        "id": "hWsz0B7B3mdU",
        "colab_type": "code",
        "colab": {}
      },
      "source": [
        "\n",
        "f = open(\"새파일.txt\", \"r\")\n",
        "data = f.read()\n",
        "print(data)\n",
        "f.close()"
      ],
      "execution_count": 0,
      "outputs": []
    },
    {
      "cell_type": "markdown",
      "metadata": {
        "id": "p5LVw_Lc3x3H",
        "colab_type": "text"
      },
      "source": [
        "## with문과 함께 사용하기"
      ]
    },
    {
      "cell_type": "markdown",
      "metadata": {
        "id": "t6uiPj5j32q_",
        "colab_type": "text"
      },
      "source": [
        "with문을 사용하면 with 블록을 벗어나는 순간\n",
        "\n",
        "열린 파일 객체 f가 자동으로 close 된다."
      ]
    },
    {
      "cell_type": "code",
      "metadata": {
        "id": "tFUUriXe3uLk",
        "colab_type": "code",
        "colab": {}
      },
      "source": [
        "f = open(\"foo.txt\", \"w\")\n",
        "f.write(\"Life is too short, you need python\")\n",
        "f.close()"
      ],
      "execution_count": 0,
      "outputs": []
    },
    {
      "cell_type": "code",
      "metadata": {
        "id": "mgWmgaF5389V",
        "colab_type": "code",
        "colab": {}
      },
      "source": [
        "with open(\"foo1.txt\", \"w\") as f: #with .... as ... => with 로열린 파일을 f라고한다\n",
        "    f.write(\"Life is too short, you need python\")"
      ],
      "execution_count": 0,
      "outputs": []
    },
    {
      "cell_type": "code",
      "metadata": {
        "id": "CT5I_Rff391x",
        "colab_type": "code",
        "colab": {}
      },
      "source": [
        "with open(\"foo2.txt\", \"w\") as f: \n",
        "    f.write(\"Life is too short, you need python\")"
      ],
      "execution_count": 0,
      "outputs": []
    },
    {
      "cell_type": "markdown",
      "metadata": {
        "id": "yVxtIy7Q4HR3",
        "colab_type": "text"
      },
      "source": [
        "## sys 모듈로 매개변수 주기"
      ]
    },
    {
      "cell_type": "code",
      "metadata": {
        "id": "9VXHaQEQ4EkG",
        "colab_type": "code",
        "colab": {}
      },
      "source": [
        "import sys\n",
        "\n",
        "args = sys.argv[1:]\n",
        "for i in args:\n",
        "    print(i)"
      ],
      "execution_count": 0,
      "outputs": []
    },
    {
      "cell_type": "code",
      "metadata": {
        "id": "ietdRrHJ4K6M",
        "colab_type": "code",
        "colab": {}
      },
      "source": [
        "import sys\n",
        "args = sys.argv[1:]\n",
        "for i in args:\n",
        "    print(i.upper(), end=' ')"
      ],
      "execution_count": 0,
      "outputs": []
    }
  ]
}